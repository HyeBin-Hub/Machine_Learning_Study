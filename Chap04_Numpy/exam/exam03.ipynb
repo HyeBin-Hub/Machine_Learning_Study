{
 "cells": [
  {
   "cell_type": "code",
   "execution_count": null,
   "metadata": {},
   "outputs": [],
   "source": [
    "'''\n",
    "step03_reshape 관련문제\n",
    "문) 다음과 같이  단계별로 자료구조를 생성하시오.\n",
    "    단계1 : 1~84 정수를  이용하여 벡터 생성\n",
    "    단계2 : 벡터를 대상으로 7x3x4 구조의 3차원 배열로 모양 변경\n",
    "    단계3 : 3차원 배열을 대상으로 (행,면,열) 축의 순서로 구조 변경\n",
    "'''"
   ]
  },
  {
   "cell_type": "code",
   "execution_count": 1,
   "metadata": {},
   "outputs": [
    {
     "data": {
      "text/plain": [
       "array([ 1,  2,  3,  4,  5,  6,  7,  8,  9, 10, 11, 12, 13, 14, 15, 16, 17,\n",
       "       18, 19, 20, 21, 22, 23, 24, 25, 26, 27, 28, 29, 30, 31, 32, 33, 34,\n",
       "       35, 36, 37, 38, 39, 40, 41, 42, 43, 44, 45, 46, 47, 48, 49, 50, 51,\n",
       "       52, 53, 54, 55, 56, 57, 58, 59, 60, 61, 62, 63, 64, 65, 66, 67, 68,\n",
       "       69, 70, 71, 72, 73, 74, 75, 76, 77, 78, 79, 80, 81, 82, 83, 84])"
      ]
     },
     "execution_count": 1,
     "metadata": {},
     "output_type": "execute_result"
    }
   ],
   "source": [
    "import numpy as np\n",
    "\n",
    "# 1. vector 생성 \n",
    "arr1d = np.arange(1, 85)\n",
    "arr1d"
   ]
  },
  {
   "cell_type": "code",
   "execution_count": 2,
   "metadata": {},
   "outputs": [
    {
     "data": {
      "text/plain": [
       "(7, 3, 4)"
      ]
     },
     "execution_count": 2,
     "metadata": {},
     "output_type": "execute_result"
    }
   ],
   "source": [
    "# 2. 3차원 배열 \n",
    "arr3d = arr1d.reshape(7, 3, 4)\n",
    "arr3d.shape "
   ]
  },
  {
   "cell_type": "code",
   "execution_count": 3,
   "metadata": {},
   "outputs": [
    {
     "name": "stdout",
     "output_type": "stream",
     "text": [
      "[[[ 1  2  3  4]\n",
      "  [13 14 15 16]\n",
      "  [25 26 27 28]\n",
      "  [37 38 39 40]\n",
      "  [49 50 51 52]\n",
      "  [61 62 63 64]\n",
      "  [73 74 75 76]]\n",
      "\n",
      " [[ 5  6  7  8]\n",
      "  [17 18 19 20]\n",
      "  [29 30 31 32]\n",
      "  [41 42 43 44]\n",
      "  [53 54 55 56]\n",
      "  [65 66 67 68]\n",
      "  [77 78 79 80]]\n",
      "\n",
      " [[ 9 10 11 12]\n",
      "  [21 22 23 24]\n",
      "  [33 34 35 36]\n",
      "  [45 46 47 48]\n",
      "  [57 58 59 60]\n",
      "  [69 70 71 72]\n",
      "  [81 82 83 84]]]\n"
     ]
    },
    {
     "data": {
      "text/plain": [
       "(3, 7, 4)"
      ]
     },
     "execution_count": 3,
     "metadata": {},
     "output_type": "execute_result"
    }
   ],
   "source": [
    "# 3. transpose(행,면,열)\n",
    "arr3d_tran = arr3d.transpose(1,0,2)\n",
    "print(arr3d_tran)\n",
    "arr3d_tran.shape # (3, 7, 4)"
   ]
  },
  {
   "cell_type": "code",
   "execution_count": null,
   "metadata": {},
   "outputs": [],
   "source": []
  }
 ],
 "metadata": {
  "kernelspec": {
   "display_name": "Python 3",
   "language": "python",
   "name": "python3"
  },
  "language_info": {
   "codemirror_mode": {
    "name": "ipython",
    "version": 3
   },
   "file_extension": ".py",
   "mimetype": "text/x-python",
   "name": "python",
   "nbconvert_exporter": "python",
   "pygments_lexer": "ipython3",
   "version": "3.8.5"
  }
 },
 "nbformat": 4,
 "nbformat_minor": 4
}
