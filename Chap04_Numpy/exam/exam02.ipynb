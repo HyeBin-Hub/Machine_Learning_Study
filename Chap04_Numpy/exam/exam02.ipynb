{
 "cells": [
  {
   "cell_type": "code",
   "execution_count": null,
   "metadata": {},
   "outputs": [],
   "source": [
    "'''\n",
    " step02_indexing 관련문제\n",
    " 문) 6행6열의 다차원 zero 행렬 객체를 생성한 후 다음과 같이  단계별로 indexing 하시오.\n",
    "   단계1 : 36개의 셀에 1~36까지 정수 채우기\n",
    "   단계2 : 2번째 행 전체 원소 출력하기  \n",
    "              출력 결과 : 7.   8.   9.  10.  11.  12.\n",
    "   단계3 : 5번째 열 전체 원소 출력하기 \n",
    "              출력결과 : 5. 11. 17. 23. 29. 35.            \n",
    "   단계4 : 15~29까지 블럭으로 출력하기\n",
    "              출력결과 :  \n",
    "       15.  16.  17.\n",
    "       21.  22.  23\n",
    "       27.  28.  29. \n",
    " \n",
    "<<출력 예시>>\n",
    "단계1 : 36개의 셀에 1~36까지 정수 채우기 \n",
    "[[  1.   2.   3.   4.   5.   6.]\n",
    " [  7.   8.   9.  10.  11.  12.]\n",
    " [ 13.  14.  15.  16.  17.  18.]\n",
    " [ 19.  20.  21.  22.  23.  24.]\n",
    " [ 25.  26.  27.  28.  29.  30.]\n",
    " [ 31.  32.  33.  34.  35.  36.]]\n",
    " \n",
    "단계2 :첫번째 행 전체 원소 출력\n",
    "[ 1.  2.  3.  4.  5.  6.]\n",
    "\n",
    "단계3 :5번째 열 전체 원소 출력하기 \n",
    "[  5.  11.  17.  23.  29.  35.]\n",
    "\n",
    "단계4 :15~29까지 블럭으로 출력하기\n",
    "[[ 15.  16.  17.]\n",
    " [ 21.  22.  23.]\n",
    " [ 27.  28.  29.]]\n",
    "'''"
   ]
  },
  {
   "cell_type": "code",
   "execution_count": 2,
   "metadata": {},
   "outputs": [
    {
     "data": {
      "text/plain": [
       "array([[0., 0., 0., 0., 0., 0.],\n",
       "       [0., 0., 0., 0., 0., 0.],\n",
       "       [0., 0., 0., 0., 0., 0.],\n",
       "       [0., 0., 0., 0., 0., 0.],\n",
       "       [0., 0., 0., 0., 0., 0.],\n",
       "       [0., 0., 0., 0., 0., 0.]])"
      ]
     },
     "execution_count": 2,
     "metadata": {},
     "output_type": "execute_result"
    }
   ],
   "source": [
    "import numpy as np\n",
    "\n",
    "zarr = np.zeros( (6, 6)  ) \n",
    "\n",
    "zarr"
   ]
  },
  {
   "cell_type": "code",
   "execution_count": 3,
   "metadata": {},
   "outputs": [
    {
     "name": "stdout",
     "output_type": "stream",
     "text": [
      "[[ 1.  2.  3.  4.  5.  6.]\n",
      " [ 7.  8.  9. 10. 11. 12.]\n",
      " [13. 14. 15. 16. 17. 18.]\n",
      " [19. 20. 21. 22. 23. 24.]\n",
      " [25. 26. 27. 28. 29. 30.]\n",
      " [31. 32. 33. 34. 35. 36.]]\n"
     ]
    }
   ],
   "source": [
    "# 단계1 : 36개의 셀에 1~36까지 정수 채우기 \n",
    "cnt = 0\n",
    "for i in np.arange(6) : # 행 index\n",
    "    for j in np.arange(6) : # 열 index\n",
    "        cnt += 1\n",
    "        zarr[i, j] = cnt\n",
    "    \n",
    "print(zarr)  "
   ]
  },
  {
   "cell_type": "code",
   "execution_count": 4,
   "metadata": {},
   "outputs": [
    {
     "data": {
      "text/plain": [
       "array([1., 2., 3., 4., 5., 6.])"
      ]
     },
     "execution_count": 4,
     "metadata": {},
     "output_type": "execute_result"
    }
   ],
   "source": [
    "\n",
    "# 단계2 :첫번째 행 전체 원소 출력   \n",
    "zarr[0]    "
   ]
  },
  {
   "cell_type": "code",
   "execution_count": 5,
   "metadata": {},
   "outputs": [
    {
     "data": {
      "text/plain": [
       "array([ 5., 11., 17., 23., 29., 35.])"
      ]
     },
     "execution_count": 5,
     "metadata": {},
     "output_type": "execute_result"
    }
   ],
   "source": [
    "    \n",
    "# 단계3 :5번째 열 전체 원소 출력하기    \n",
    "zarr[:,4]"
   ]
  },
  {
   "cell_type": "code",
   "execution_count": 6,
   "metadata": {},
   "outputs": [
    {
     "data": {
      "text/plain": [
       "array([[15., 16., 17.],\n",
       "       [21., 22., 23.],\n",
       "       [27., 28., 29.]])"
      ]
     },
     "execution_count": 6,
     "metadata": {},
     "output_type": "execute_result"
    }
   ],
   "source": [
    "# 단계4 :15~29까지 블럭으로 출력하기    \n",
    "zarr[2:5, 2:5]    \n",
    "    "
   ]
  },
  {
   "cell_type": "code",
   "execution_count": null,
   "metadata": {},
   "outputs": [],
   "source": []
  }
 ],
 "metadata": {
  "kernelspec": {
   "display_name": "Python 3",
   "language": "python",
   "name": "python3"
  },
  "language_info": {
   "codemirror_mode": {
    "name": "ipython",
    "version": 3
   },
   "file_extension": ".py",
   "mimetype": "text/x-python",
   "name": "python",
   "nbconvert_exporter": "python",
   "pygments_lexer": "ipython3",
   "version": "3.8.5"
  }
 },
 "nbformat": 4,
 "nbformat_minor": 4
}
