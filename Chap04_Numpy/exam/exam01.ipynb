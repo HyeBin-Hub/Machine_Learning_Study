{
 "cells": [
  {
   "cell_type": "code",
   "execution_count": null,
   "metadata": {},
   "outputs": [],
   "source": [
    "'''\n",
    "step01_array 관련 문제 \n",
    " 문제) 정규분포를 따르는 난수를 이용하여 5행 4열 구조의 다차원 배열 객체를 생성하고,\n",
    "       각 행 단위로 합계, 최댓값, 최솟값을 구하시오.\n",
    "\n",
    "  << 출력 결과 예시>>\n",
    "1 행 합계 :  -1.2126122901\n",
    "1 행 최댓값 :  1.13798453455\n",
    "1 행 최솟값 :  -1.5068942376\n",
    "2 행 합계 :  1.54051825695\n",
    "2 행 최댓값 :  2.29973856355\n",
    "2 행 최솟값 :  -1.29798198518\n",
    "3 행 합계 :  -2.7021834762\n",
    "3 행 최댓값 :  0.914392834242\n",
    "3 행 최솟값 :  -2.1954633708\n",
    "4 행 합계 :  2.35515059667\n",
    "4 행 최댓값 :  3.01882725644\n",
    "4 행 최솟값 :  -0.420709089935\n",
    "5 행 합계 :  1.14825745061\n",
    "5 행 최댓값 :  1.81204331436\n",
    "5 행 최솟값 :  -1.5605324754\n",
    "'''    "
   ]
  },
  {
   "cell_type": "code",
   "execution_count": 1,
   "metadata": {},
   "outputs": [
    {
     "data": {
      "text/plain": [
       "(5, 4)"
      ]
     },
     "execution_count": 1,
     "metadata": {},
     "output_type": "execute_result"
    }
   ],
   "source": [
    "import numpy as np\n",
    "\n",
    "# 정규분포를 따르는 난수 생성 \n",
    "narr = np.random.randn(5, 4)\n",
    "narr.shape # (5, 4)"
   ]
  },
  {
   "cell_type": "code",
   "execution_count": 2,
   "metadata": {},
   "outputs": [
    {
     "name": "stdout",
     "output_type": "stream",
     "text": [
      "1 행 합계 : -0.02965605072757871\n",
      "1 행 최댓값 : 1.9829132443637911\n",
      "1 행 최솟값 : -1.8571712030481615\n",
      "2 행 합계 : 0.8897137723547974\n",
      "2 행 최댓값 : 1.5809036998555706\n",
      "2 행 최솟값 : -0.8448938078262745\n",
      "3 행 합계 : 1.2220331952113757\n",
      "3 행 최댓값 : 1.4767605947984714\n",
      "3 행 최솟값 : -0.6115315330888155\n",
      "4 행 합계 : 2.1137654209267147\n",
      "4 행 최댓값 : 2.137234429021967\n",
      "4 행 최솟값 : -1.1360646254797078\n",
      "5 행 합계 : 2.605597516799472\n",
      "5 행 최댓값 : 1.4207317058473827\n",
      "5 행 최솟값 : -0.36222971336143944\n"
     ]
    }
   ],
   "source": [
    "# for문 이용 \n",
    "cnt = 0 \n",
    "for row in narr :\n",
    "    cnt += 1\n",
    "    print(cnt, '행 합계 :', row.sum())\n",
    "    print(cnt, '행 최댓값 :', row.max())\n",
    "    print(cnt, '행 최솟값 :', row.min())"
   ]
  },
  {
   "cell_type": "code",
   "execution_count": 3,
   "metadata": {},
   "outputs": [
    {
     "name": "stdout",
     "output_type": "stream",
     "text": [
      "5 행 합계 : [-0.02965605  0.88971377  1.2220332   2.11376542  2.60559752]\n",
      "5 행 최댓값 : [1.98291324 1.5809037  1.47676059 2.13723443 1.42073171]\n",
      "5 행 최솟값 : [-1.8571712  -0.84489381 -0.61153153 -1.13606463 -0.36222971]\n"
     ]
    }
   ],
   "source": [
    "# 축(axis) 이용 \n",
    "print(cnt, '행 합계 :', narr.sum(axis=1))\n",
    "print(cnt, '행 최댓값 :', narr.max(axis=1))\n",
    "print(cnt, '행 최솟값 :', narr.min(axis=1))    \n"
   ]
  },
  {
   "cell_type": "code",
   "execution_count": null,
   "metadata": {},
   "outputs": [],
   "source": []
  }
 ],
 "metadata": {
  "kernelspec": {
   "display_name": "Python 3",
   "language": "python",
   "name": "python3"
  },
  "language_info": {
   "codemirror_mode": {
    "name": "ipython",
    "version": 3
   },
   "file_extension": ".py",
   "mimetype": "text/x-python",
   "name": "python",
   "nbconvert_exporter": "python",
   "pygments_lexer": "ipython3",
   "version": "3.8.5"
  }
 },
 "nbformat": 4,
 "nbformat_minor": 4
}
