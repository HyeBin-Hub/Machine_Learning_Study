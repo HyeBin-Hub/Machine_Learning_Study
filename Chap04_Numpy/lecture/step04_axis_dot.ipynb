{
 "cells": [
  {
   "cell_type": "code",
   "execution_count": 1,
   "metadata": {},
   "outputs": [
    {
     "name": "stdout",
     "output_type": "stream",
     "text": [
      "[[ 1  2  3  4]\n",
      " [ 5  6  7  8]\n",
      " [ 9 10 11 12]\n",
      " [13 14 15 16]\n",
      " [17 18 19 20]]\n"
     ]
    }
   ],
   "source": [
    "\"\"\"\n",
    "1. 축(axis) : 행축, 열축 \n",
    "# 행축은 동일한 열들의 모임(첫번째 행축의 평균은 첫번째 열의 평균이 된다)\n",
    "# 열축은 동일한 행들의 모임(첫번째 열축의 평균은 첫번째 행의 평균이 된다)\n",
    "2. 행렬곱 연산 : dot(x, y)\n",
    "\n",
    " 회귀분석에서 행렬곱 예 \n",
    "  - 예측치(y) = [입력(x) * 기울기(a)] + 절편(b)\n",
    " 신경망에서 행렬곱 예\n",
    "  - 은닉층(h) = [입력(x) * 가중치(w)] + 편향(b)\n",
    "\"\"\"\n",
    "import numpy as np\n",
    "\n",
    "# 1. 축(axis) : 행축, 열축 : ppt(56)\n",
    "'''\n",
    "행축 : 동일한 열들의 모음(열 단위)\n",
    "열축 : 동일한 행들의 모음(행 단위)\n",
    "'''\n",
    "\n",
    "arr = np.arange(1,21).reshape(5,4)\n",
    "print(arr)"
   ]
  },
  {
   "cell_type": "code",
   "execution_count": 2,
   "metadata": {},
   "outputs": [
    {
     "name": "stdout",
     "output_type": "stream",
     "text": [
      "행축 합계 =  [45 50 55 60]\n",
      "열축 합계 = [10 26 42 58 74]\n",
      "전체 합계 = 210\n"
     ]
    }
   ],
   "source": [
    "print('행축 합계 = ', arr.sum(axis = 0)) # 열 단위 \n",
    "print('열축 합계 =', arr.sum(axis = 1)) # 행 단위 \n",
    "print('전체 합계 =', arr.sum()) # 전체 합계  = 210\n",
    "#=> 판다스는 axis를 생략하면 axis=0가 디폴트 기본값이 된다"
   ]
  },
  {
   "cell_type": "code",
   "execution_count": 3,
   "metadata": {},
   "outputs": [
    {
     "name": "stdout",
     "output_type": "stream",
     "text": [
      "(2, 2)\n",
      "(2, 2)\n"
     ]
    }
   ],
   "source": [
    "# 2. 행렬곱 : np.dot(x, y) : ppt(57)\n",
    "x = np.array([[1,1], [0,1]])\n",
    "y = np.array([[2,3], [1,5]])\n",
    "print(x.shape) # (2, 2)\n",
    "print(y.shape) # (2, 2)"
   ]
  },
  {
   "cell_type": "code",
   "execution_count": 4,
   "metadata": {},
   "outputs": [
    {
     "name": "stdout",
     "output_type": "stream",
     "text": [
      "[[3 8]\n",
      " [1 5]]\n"
     ]
    }
   ],
   "source": [
    "'''\n",
    "행렬곱 연산 전제조건 \n",
    "1. x,y 모두 행렬\n",
    "2. 수 일치 : x(열) = y(행)\n",
    "'''\n",
    "# 수 일치 : x(열) = y(행)\n",
    "z = np.dot(x, y)\n",
    "print(z) # 3 = (1*2) + (1*1)"
   ]
  },
  {
   "cell_type": "code",
   "execution_count": 5,
   "metadata": {},
   "outputs": [
    {
     "data": {
      "text/plain": [
       "(1, 2)"
      ]
     },
     "execution_count": 5,
     "metadata": {},
     "output_type": "execute_result"
    }
   ],
   "source": [
    "# [실습1] 신경망(ppt.30) 입력의 열 가중치 행 값 같아야댐\n",
    "x = np.array([[0.1, 0.2]])\n",
    "x.shape # (1, 2)- > 2차원 데이터"
   ]
  },
  {
   "cell_type": "code",
   "execution_count": 6,
   "metadata": {},
   "outputs": [
    {
     "data": {
      "text/plain": [
       "(2, 2)"
      ]
     },
     "execution_count": 6,
     "metadata": {},
     "output_type": "execute_result"
    }
   ],
   "source": [
    "w = np.array([[1,2], [2,3]])\n",
    "w.shape # (2, 2)- > 2차원 데이터"
   ]
  },
  {
   "cell_type": "code",
   "execution_count": 7,
   "metadata": {},
   "outputs": [
    {
     "name": "stdout",
     "output_type": "stream",
     "text": [
      "[[0.5 0.8]]\n"
     ]
    },
    {
     "data": {
      "text/plain": [
       "(1, 2)"
      ]
     },
     "execution_count": 7,
     "metadata": {},
     "output_type": "execute_result"
    }
   ],
   "source": [
    "h = np.dot(x, w)\n",
    "print(h) # [[0.5, 0.8]]\n",
    "h.shape # (1, 2)"
   ]
  },
  {
   "cell_type": "code",
   "execution_count": 8,
   "metadata": {},
   "outputs": [
    {
     "name": "stdout",
     "output_type": "stream",
     "text": [
      "(2, 2)\n"
     ]
    },
    {
     "data": {
      "text/plain": [
       "(2, 3)"
      ]
     },
     "execution_count": 8,
     "metadata": {},
     "output_type": "execute_result"
    }
   ],
   "source": [
    "# [실습2]\n",
    "x = np.array([[0.1,0.2], [0.3,0.4]])\n",
    "w = np.array([[1,2,3], [2,3,4]])\n",
    "print(x.shape) # (2, 2)\n",
    "w.shape # (2, 3)"
   ]
  },
  {
   "cell_type": "code",
   "execution_count": 9,
   "metadata": {},
   "outputs": [
    {
     "name": "stdout",
     "output_type": "stream",
     "text": [
      "(2, 3)\n"
     ]
    },
    {
     "data": {
      "text/plain": [
       "array([[0.5, 0.8, 1.1],\n",
       "       [1.1, 1.8, 2.5]])"
      ]
     },
     "execution_count": 9,
     "metadata": {},
     "output_type": "execute_result"
    }
   ],
   "source": [
    "h = np.dot(x, w)\n",
    "print(h.shape) # (2, 3)\n",
    "h"
   ]
  },
  {
   "cell_type": "code",
   "execution_count": null,
   "metadata": {},
   "outputs": [],
   "source": []
  }
 ],
 "metadata": {
  "kernelspec": {
   "display_name": "Python 3",
   "language": "python",
   "name": "python3"
  },
  "language_info": {
   "codemirror_mode": {
    "name": "ipython",
    "version": 3
   },
   "file_extension": ".py",
   "mimetype": "text/x-python",
   "name": "python",
   "nbconvert_exporter": "python",
   "pygments_lexer": "ipython3",
   "version": "3.8.5"
  }
 },
 "nbformat": 4,
 "nbformat_minor": 4
}
