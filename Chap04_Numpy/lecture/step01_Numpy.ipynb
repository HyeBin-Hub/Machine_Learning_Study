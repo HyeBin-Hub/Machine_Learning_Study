{
 "cells": [
  {
   "cell_type": "code",
   "execution_count": 1,
   "metadata": {},
   "outputs": [],
   "source": [
    "\"\"\"\n",
    "Numpy 패키지 특징\n",
    " - 선형대수(벡터,행렬) 연산에 효과적인 함수 제공\n",
    " - list보다 이점 : N차원 배열, 선형대수 연산 제공, 고속처리 가능\n",
    " - Series 공통점 \n",
    "     -> 수학/통계함수 제공\n",
    "     -> 범위수정 / 블럭연산\n",
    "     -> indexing/slicing가능\n",
    " - 주요 모듈\n",
    "     1. random : 난수를 생성해주는 역할\n",
    "     2. array : N차원의 배열 생성해주는 역할\n",
    "     3. sampling : 임의 추출해주는 역할\n",
    "     4. arange : range와 역할 유사함\n",
    "\"\"\"\n",
    "import numpy as np\n"
   ]
  },
  {
   "cell_type": "code",
   "execution_count": 2,
   "metadata": {},
   "outputs": [
    {
     "name": "stdout",
     "output_type": "stream",
     "text": [
      "[1, 2, 3]\n"
     ]
    },
    {
     "ename": "TypeError",
     "evalue": "unsupported operand type(s) for ** or pow(): 'list' and 'int'",
     "output_type": "error",
     "traceback": [
      "\u001b[1;31m---------------------------------------------------------------------------\u001b[0m",
      "\u001b[1;31mTypeError\u001b[0m                                 Traceback (most recent call last)",
      "\u001b[1;32m<ipython-input-2-fd28d587f3d9>\u001b[0m in \u001b[0;36m<module>\u001b[1;34m\u001b[0m\n\u001b[0;32m      2\u001b[0m \u001b[0mlst\u001b[0m \u001b[1;33m=\u001b[0m \u001b[1;33m[\u001b[0m\u001b[1;36m1\u001b[0m\u001b[1;33m,\u001b[0m\u001b[1;36m2\u001b[0m\u001b[1;33m,\u001b[0m\u001b[1;36m3\u001b[0m\u001b[1;33m]\u001b[0m\u001b[1;33m\u001b[0m\u001b[1;33m\u001b[0m\u001b[0m\n\u001b[0;32m      3\u001b[0m \u001b[0mprint\u001b[0m\u001b[1;33m(\u001b[0m\u001b[0mlst\u001b[0m\u001b[1;33m)\u001b[0m \u001b[1;31m#[1, 2, 3]\u001b[0m\u001b[1;33m\u001b[0m\u001b[1;33m\u001b[0m\u001b[0m\n\u001b[1;32m----> 4\u001b[1;33m \u001b[0mlst\u001b[0m \u001b[1;33m**\u001b[0m \u001b[1;36m2\u001b[0m \u001b[1;31m# 각 변량에 제곱 - error\u001b[0m\u001b[1;33m\u001b[0m\u001b[1;33m\u001b[0m\u001b[0m\n\u001b[0m",
      "\u001b[1;31mTypeError\u001b[0m: unsupported operand type(s) for ** or pow(): 'list' and 'int'"
     ]
    }
   ],
   "source": [
    "# numpy 1 차원 자료구조\n",
    "lst = [1,2,3]\n",
    "print(lst) #[1, 2, 3]\n",
    "lst ** 2 # 각 변량에 제곱 - error\n"
   ]
  },
  {
   "cell_type": "code",
   "execution_count": 4,
   "metadata": {},
   "outputs": [
    {
     "name": "stdout",
     "output_type": "stream",
     "text": [
      "[1 2 3]\n"
     ]
    },
    {
     "data": {
      "text/plain": [
       "array([1, 4, 9], dtype=int32)"
      ]
     },
     "execution_count": 4,
     "metadata": {},
     "output_type": "execute_result"
    }
   ],
   "source": [
    "# list -> numpy 형 변환\n",
    "arr = np.array(lst)\n",
    "print(arr) # [1 2 3]\n",
    "arr ** 2  # array([1, 4, 9], dtype=int32)\n",
    "\n",
    " # => , 가 있고 없고 의 차이, list는 제곱이 안되고 넘파이 제곱은 가능"
   ]
  },
  {
   "cell_type": "code",
   "execution_count": 5,
   "metadata": {},
   "outputs": [
    {
     "name": "stdout",
     "output_type": "stream",
     "text": [
      "[1, 'two', 3]\n"
     ]
    }
   ],
   "source": [
    "lst2 = [1,\"two\",3] # 서로 다른 자료형\n",
    "print(lst2) # [1, 'two', 3]"
   ]
  },
  {
   "cell_type": "code",
   "execution_count": 6,
   "metadata": {},
   "outputs": [
    {
     "name": "stdout",
     "output_type": "stream",
     "text": [
      "['1' 'two' '3']\n"
     ]
    }
   ],
   "source": [
    "# list -> numpy 형 변환 \n",
    "arr2 = np.array(lst2) #  동일 자료형 제공\n",
    "print(arr2) #['1' 'two' '3'] \n",
    " # =>  리스트느 서로 다른 자료형을 제공하고 넘파이는 하나의 자료형만 제공한다."
   ]
  },
  {
   "cell_type": "code",
   "execution_count": 7,
   "metadata": {},
   "outputs": [
    {
     "name": "stdout",
     "output_type": "stream",
     "text": [
      "[[-0.34366436  1.32148683 -1.19354432 -0.14749918]\n",
      " [-0.2320028   1.63111841  0.58249336  1.17189754]\n",
      " [ 1.0173412   1.63650371  0.62494811  0.27098195]]\n",
      "(3, 4)\n",
      "행 단위 합계 :  -0.3632210223877445\n",
      "행 단위 평균 :  -0.09080525559693613\n",
      "행 단위 합계 :  3.1535065018903694\n",
      "행 단위 평균 :  0.7883766254725924\n",
      "행 단위 합계 :  3.5497749724550647\n",
      "행 단위 평균 :  0.8874437431137662\n"
     ]
    }
   ],
   "source": [
    "# 1. random : 난수 생성 모듈\n",
    "\n",
    "from numpy import random  # 패키지.모듈 \n",
    "\n",
    "data = random.randn(3,4) # 3행 4열 (3x4)\n",
    "print(data)\n",
    "print(data.shape) # (3, 4) \n",
    "\n",
    "for row in data: # 행 단위로 반복을 수행한다\n",
    "    print(\"행 단위 합계 : \",row.sum())\n",
    "    print(\"행 단위 평균 : \",row.mean())"
   ]
  },
  {
   "cell_type": "code",
   "execution_count": 8,
   "metadata": {},
   "outputs": [
    {
     "name": "stdout",
     "output_type": "stream",
     "text": [
      "전체 합계 :  6.340060451957689\n",
      "전체 평균 :  0.5283383709964741\n",
      "전체 분산 :  0.7137644396760016\n",
      "전체 표준편차 :  0.8448458082253836\n",
      "전체 최댓값 :  1.6365037087343837\n",
      "전체 최솟값 :  -1.193544323189685\n"
     ]
    }
   ],
   "source": [
    "# 1) 수학 / 통계 함수\n",
    "print(\"전체 합계 : \",data.sum())\n",
    "print(\"전체 평균 : \",data.mean())\n",
    "print(\"전체 분산 : \",data.var())\n",
    "print(\"전체 표준편차 : \",data.std())\n",
    "print(\"전체 최댓값 : \",data.max())\n",
    "print(\"전체 최솟값 : \",data.min())"
   ]
  },
  {
   "cell_type": "code",
   "execution_count": 9,
   "metadata": {},
   "outputs": [
    {
     "name": "stdout",
     "output_type": "stream",
     "text": [
      "[[-0.68732871  2.64297367 -2.38708865 -0.29499835]\n",
      " [-0.46400561  3.26223683  1.16498671  2.34379507]\n",
      " [ 2.03468239  3.27300742  1.24989623  0.54196391]]\n",
      "[[0. 0. 0. 0.]\n",
      " [0. 0. 0. 0.]\n",
      " [0. 0. 0. 0.]]\n"
     ]
    }
   ],
   "source": [
    "# 2) 블럭연산\n",
    "print(data + data)\n",
    "print(data - data)"
   ]
  },
  {
   "cell_type": "code",
   "execution_count": 10,
   "metadata": {},
   "outputs": [
    {
     "data": {
      "text/plain": [
       "(4,)"
      ]
     },
     "execution_count": 10,
     "metadata": {},
     "output_type": "execute_result"
    }
   ],
   "source": [
    "# 3) broadcast 연산 (넘파이에서도 broadcast 연산가능)\n",
    "data2 = data[1] # 1행 전체 [행 index :열 index]\n",
    "data2.shape # (4,)"
   ]
  },
  {
   "cell_type": "code",
   "execution_count": 11,
   "metadata": {},
   "outputs": [
    {
     "name": "stdout",
     "output_type": "stream",
     "text": [
      "[[-0.57566716  2.95260525 -0.61105097  1.02439836]\n",
      " [-0.46400561  3.26223683  1.16498671  2.34379507]\n",
      " [ 0.78533839  3.26762212  1.20744147  1.44287949]]\n"
     ]
    }
   ],
   "source": [
    "print(data2 + data)  # 1차원 + 2차원 차원이 달라도 연산 가능"
   ]
  },
  {
   "cell_type": "code",
   "execution_count": 12,
   "metadata": {},
   "outputs": [
    {
     "name": "stdout",
     "output_type": "stream",
     "text": [
      "[3.  5.6 4.  7.  8. ]\n"
     ]
    }
   ],
   "source": [
    "# 2. array : n차원 배열 생성\n",
    "# array([list]) : 1차원 배열\n",
    "# array([[list]]) : 2차원 배열 (리스트가 중첩되면 2차원 배열)\n",
    "\n",
    "# 1) 단일list -> 1차원 배열\n",
    "lst1 = [3,5.6,4,7,8]\n",
    "arr1 = np.array(lst1)\n",
    "print(arr1) #[3.  5.6 4.  7.  8. ] 정수랑 실수랑 섞여서 실수형으로 다 바뀜"
   ]
  },
  {
   "cell_type": "code",
   "execution_count": 14,
   "metadata": {},
   "outputs": [
    {
     "name": "stdout",
     "output_type": "stream",
     "text": [
      "3.4016000000000006\n",
      "1.8443427013437608\n"
     ]
    }
   ],
   "source": [
    "print(arr1.var()) # 3.4016000000000006\n",
    "print(arr1.std()) # 1.8443427013437608"
   ]
  },
  {
   "cell_type": "code",
   "execution_count": 16,
   "metadata": {},
   "outputs": [
    {
     "name": "stdout",
     "output_type": "stream",
     "text": [
      "(2, 5)\n",
      "[[ 1  2  3  4  5]\n",
      " [ 6  7  8  9 10]]\n"
     ]
    }
   ],
   "source": [
    "# 2) 중첩 list -> 2차원 배열\n",
    "\n",
    "lst2 = [[1,2,3,4,5],[6,7,8,9,10]] #list측면으로보면 1차원\n",
    "arr2 = np.array(lst2) # 2차원\n",
    "print(arr2.shape) # (2, 5)\n",
    "print(arr2)\n",
    "\"\"\"\n",
    "array([[ 1,  2,  3,  4,  5], ->1행\n",
    "       [ 6,  7,  8,  9, 10]]) ->2행\n",
    "\"\"\""
   ]
  },
  {
   "cell_type": "code",
   "execution_count": 17,
   "metadata": {},
   "outputs": [
    {
     "name": "stdout",
     "output_type": "stream",
     "text": [
      "[ 6  7  8  9 10]\n",
      "[3 8]\n",
      "8\n",
      "[[2 3 4]\n",
      " [7 8 9]]\n"
     ]
    },
    {
     "data": {
      "text/plain": [
       "'\\n[[2 3 4]\\n [7 8 9]]\\n'"
      ]
     },
     "execution_count": 17,
     "metadata": {},
     "output_type": "execute_result"
    }
   ],
   "source": [
    "# index[행index,열index] \n",
    "print(arr2[1,:]) # : 은 전체를 듯함(2번째 행 전체) - [ 6  7  8  9 10]\n",
    "print(arr2[:,2]) # 3 열 전체를 보겠당 - [3 8]\n",
    "print(arr2[1,2]) # 2행의 3열 의 원소 하나만 출력하고 싶을때 - 8\n",
    "print(arr2[:,1:4]) # box형태로 출력할때 ,1행의 특정 원소랑 2행의 특정 원소를 출력하고 싶을떄\n",
    "\"\"\"\n",
    "[[2 3 4]\n",
    " [7 8 9]]\n",
    "\"\"\""
   ]
  },
  {
   "cell_type": "code",
   "execution_count": 19,
   "metadata": {},
   "outputs": [
    {
     "name": "stdout",
     "output_type": "stream",
     "text": [
      "<class 'pandas.core.frame.DataFrame'>\n",
      "RangeIndex: 150 entries, 0 to 149\n",
      "Data columns (total 6 columns):\n",
      " #   Column   Non-Null Count  Dtype\n",
      "---  ------   --------------  -----\n",
      " 0   sid      150 non-null    int64\n",
      " 1   score    150 non-null    int64\n",
      " 2   iq       150 non-null    int64\n",
      " 3   academy  150 non-null    int64\n",
      " 4   game     150 non-null    int64\n",
      " 5   tv       150 non-null    int64\n",
      "dtypes: int64(6)\n",
      "memory usage: 7.2 KB\n"
     ]
    }
   ],
   "source": [
    "# 3. sampling : 임의 추출해주는 역할\n",
    "\n",
    "# 1) choice : 관측치의 행번호를 임의 추출해줌\n",
    "import pandas as pd\n",
    "score = pd.read_csv(\"C:/Users/hyebin/Desktop/올리기/python_ML/data/score_iq.csv\")\n",
    "score.info()"
   ]
  },
  {
   "cell_type": "code",
   "execution_count": 21,
   "metadata": {},
   "outputs": [
    {
     "name": "stdout",
     "output_type": "stream",
     "text": [
      "[120 141 104  31  97 133  58  91 102 116  74  15   8 135 146  64  82  26\n",
      "  20 110  55  96  72  51 136  61  54 142   5 129  70 112 115  11  39 114\n",
      "  29  36  23   7  18  42   1 132 149  86  33  32 118  94 140  89  44  67\n",
      "  85 103  73  93   9  40  99   0  14  80 121  28 134  65  12 131  53 138\n",
      " 107  98 130  34   3 109  13  37  43 128   2  30 143  56   4  49 123  66\n",
      " 111  16  45  21  25 119  78  24 113 117  87  77 101 108  41]\n"
     ]
    },
    {
     "data": {
      "text/plain": [
       "105"
      ]
     },
     "execution_count": 21,
     "metadata": {},
     "output_type": "execute_result"
    }
   ],
   "source": [
    "n = len(score)  # 150\n",
    "\n",
    "idx = random.choice(a=n, size= int(n*0.7) ,replace = False) # 실수를 정수로 만들어줘야함\n",
    "print(idx)\n",
    "len(idx) # 105\n"
   ]
  },
  {
   "cell_type": "code",
   "execution_count": 22,
   "metadata": {},
   "outputs": [
    {
     "name": "stdout",
     "output_type": "stream",
     "text": [
      "(150, 6)\n"
     ]
    }
   ],
   "source": [
    "#pandas object - > numpy object\n",
    "arr_score = np.array(score)\n",
    "print(arr_score.shape) #(150, 6) 150개의 행가 6개의 열로 2차원 배열을 만들어줌"
   ]
  },
  {
   "cell_type": "code",
   "execution_count": 23,
   "metadata": {},
   "outputs": [
    {
     "data": {
      "text/plain": [
       "array([[10121,    83,   132,     3,     4,     1],\n",
       "       [10142,    87,   128,     4,     0,     0],\n",
       "       [10105,    83,   132,     3,     4,     1],\n",
       "       [10032,    80,   123,     3,     1,     1],\n",
       "       [10098,    75,   125,     1,     3,     3],\n",
       "       [10134,    77,   120,     1,     0,     4],\n",
       "       [10059,    77,   120,     1,     0,     4],\n",
       "       [10092,    79,   131,     2,     2,     3],\n",
       "       [10103,    65,   105,     0,     4,     4],\n",
       "       [10117,    65,   105,     0,     4,     4],\n",
       "       [10075,    77,   120,     1,     0,     4],\n",
       "       [10016,    65,   105,     0,     4,     4],\n",
       "       [10009,    87,   128,     4,     0,     0],\n",
       "       [10136,    77,   120,     1,     0,     4],\n",
       "       [10147,    65,   105,     0,     4,     4],\n",
       "       [10065,    83,   132,     3,     4,     1],\n",
       "       [10083,    83,   132,     3,     4,     1],\n",
       "       [10027,    79,   131,     2,     2,     3],\n",
       "       [10021,    79,   131,     2,     2,     3],\n",
       "       [10111,    70,   115,     1,     1,     3],\n",
       "       [10056,    87,   128,     4,     0,     0],\n",
       "       [10097,    79,   131,     2,     2,     3],\n",
       "       [10073,    79,   131,     2,     2,     3],\n",
       "       [10052,    65,   105,     0,     4,     4],\n",
       "       [10137,    83,   135,     2,     3,     2],\n",
       "       [10062,    80,   123,     3,     1,     1],\n",
       "       [10055,    70,   115,     1,     1,     3],\n",
       "       [10143,    79,   131,     2,     2,     3],\n",
       "       [10006,    80,   123,     3,     1,     1],\n",
       "       [10130,    70,   115,     1,     1,     3],\n",
       "       [10071,    70,   115,     1,     1,     3],\n",
       "       [10113,    79,   131,     2,     2,     3],\n",
       "       [10116,    83,   135,     2,     3,     2],\n",
       "       [10012,    77,   120,     1,     0,     4],\n",
       "       [10040,    79,   131,     2,     2,     3],\n",
       "       [10115,    77,   120,     1,     0,     4],\n",
       "       [10030,    83,   135,     2,     3,     2],\n",
       "       [10037,    83,   132,     3,     4,     1],\n",
       "       [10024,    83,   132,     3,     4,     1],\n",
       "       [10008,    70,   115,     1,     1,     3],\n",
       "       [10019,    70,   115,     1,     1,     3],\n",
       "       [10043,    83,   132,     3,     4,     1],\n",
       "       [10002,    75,   125,     1,     3,     3],\n",
       "       [10133,    75,   125,     1,     3,     3],\n",
       "       [10150,    83,   135,     2,     3,     2],\n",
       "       [10087,    75,   125,     1,     3,     3],\n",
       "       [10034,    80,   123,     3,     1,     1],\n",
       "       [10033,    65,   105,     0,     4,     4],\n",
       "       [10119,    65,   105,     0,     4,     4],\n",
       "       [10095,    70,   115,     1,     1,     3],\n",
       "       [10141,    70,   115,     1,     1,     3],\n",
       "       [10090,    70,   115,     1,     1,     3],\n",
       "       [10045,    87,   128,     4,     0,     0],\n",
       "       [10068,    79,   131,     2,     2,     3],\n",
       "       [10086,    79,   131,     2,     2,     3],\n",
       "       [10104,    80,   123,     3,     1,     1],\n",
       "       [10074,    75,   125,     1,     3,     3],\n",
       "       [10094,    83,   132,     3,     4,     1],\n",
       "       [10010,    79,   131,     2,     2,     3],\n",
       "       [10041,    75,   125,     1,     3,     3],\n",
       "       [10100,    83,   135,     2,     3,     2],\n",
       "       [10001,    90,   140,     2,     1,     0],\n",
       "       [10015,    80,   123,     3,     1,     1],\n",
       "       [10081,    83,   132,     3,     4,     1],\n",
       "       [10122,    80,   123,     3,     1,     1],\n",
       "       [10029,    77,   120,     1,     0,     4],\n",
       "       [10135,    83,   135,     2,     3,     2],\n",
       "       [10066,    70,   115,     1,     1,     3],\n",
       "       [10013,    83,   135,     2,     3,     2],\n",
       "       [10132,    79,   131,     2,     2,     3],\n",
       "       [10054,    83,   132,     3,     4,     1],\n",
       "       [10139,    80,   123,     3,     1,     1],\n",
       "       [10108,    79,   131,     2,     2,     3],\n",
       "       [10099,    77,   120,     1,     0,     4],\n",
       "       [10131,    87,   128,     4,     0,     0],\n",
       "       [10035,    83,   132,     3,     4,     1],\n",
       "       [10004,    83,   135,     2,     3,     2],\n",
       "       [10110,    83,   132,     3,     4,     1],\n",
       "       [10014,    65,   105,     0,     4,     4],\n",
       "       [10038,    70,   115,     1,     1,     3],\n",
       "       [10044,    70,   115,     1,     1,     3],\n",
       "       [10129,    83,   132,     3,     4,     1],\n",
       "       [10003,    77,   120,     1,     0,     4],\n",
       "       [10031,    65,   105,     0,     4,     4],\n",
       "       [10144,    75,   125,     1,     3,     3],\n",
       "       [10057,    79,   131,     2,     2,     3],\n",
       "       [10005,    65,   105,     0,     4,     4],\n",
       "       [10050,    77,   120,     1,     0,     4],\n",
       "       [10124,    70,   115,     1,     1,     3],\n",
       "       [10067,    87,   128,     4,     0,     0],\n",
       "       [10112,    87,   128,     4,     0,     0],\n",
       "       [10017,    80,   123,     3,     1,     1],\n",
       "       [10046,    79,   131,     2,     2,     3],\n",
       "       [10022,    75,   125,     1,     3,     3],\n",
       "       [10026,    87,   128,     4,     0,     0],\n",
       "       [10120,    80,   123,     3,     1,     1],\n",
       "       [10079,    65,   105,     0,     4,     4],\n",
       "       [10025,    70,   115,     1,     1,     3],\n",
       "       [10114,    75,   125,     1,     3,     3],\n",
       "       [10118,    80,   123,     3,     1,     1],\n",
       "       [10088,    80,   123,     3,     1,     1],\n",
       "       [10078,    80,   123,     3,     1,     1],\n",
       "       [10102,    80,   123,     3,     1,     1],\n",
       "       [10109,    75,   125,     1,     3,     3],\n",
       "       [10042,    80,   123,     3,     1,     1]], dtype=int64)"
      ]
     },
     "execution_count": 23,
     "metadata": {},
     "output_type": "execute_result"
    }
   ],
   "source": [
    "#train_data : 105\n",
    "train_data = arr_score[idx,:]\n",
    "train_data.shape #(105, 6) 105개만 훈련데이터로 만듬\n",
    "train_data"
   ]
  },
  {
   "cell_type": "code",
   "execution_count": 24,
   "metadata": {},
   "outputs": [
    {
     "data": {
      "text/plain": [
       "(45, 6)"
      ]
     },
     "execution_count": 24,
     "metadata": {},
     "output_type": "execute_result"
    }
   ],
   "source": [
    "# test_data : 45\n",
    "test_idx = [i for i in range(150) if i not in idx] #  이미 선정되지 않은 idx를 test_idx로만들겠다\n",
    "test_data = arr_score[test_idx,:]\n",
    "test_data.shape # (45, 6) "
   ]
  },
  {
   "cell_type": "code",
   "execution_count": 25,
   "metadata": {},
   "outputs": [
    {
     "data": {
      "text/plain": [
       "array([[10099,    77,   120,     1,     0,     4],\n",
       "       [10116,    83,   135,     2,     3,     2],\n",
       "       [10128,    80,   123,     3,     1,     1],\n",
       "       [10071,    70,   115,     1,     1,     3],\n",
       "       [10144,    75,   125,     1,     3,     3]], dtype=int64)"
      ]
     },
     "execution_count": 25,
     "metadata": {},
     "output_type": "execute_result"
    }
   ],
   "source": [
    "# 2) shuffle - data 자체를 랜덤하게 섞는 역할\n",
    "arr_score[:5] #5개의 행만 보겠다\n",
    "random.shuffle(arr_score) \n",
    "arr_score[:5]\n"
   ]
  },
  {
   "cell_type": "code",
   "execution_count": 28,
   "metadata": {},
   "outputs": [
    {
     "name": "stdout",
     "output_type": "stream",
     "text": [
      "[[0. 0. 0. 0. 0.]\n",
      " [0. 0. 0. 0. 0.]\n",
      " [0. 0. 0. 0. 0.]]\n"
     ]
    },
    {
     "data": {
      "text/plain": [
       "'\\n[[0. 0. 0. 0. 0.]\\n [0. 0. 0. 0. 0.]\\n [0. 0. 0. 0. 0.]]\\n'"
      ]
     },
     "execution_count": 28,
     "metadata": {},
     "output_type": "execute_result"
    }
   ],
   "source": [
    "# 4. zerros() :  0을 베이스로 행렬을 만들어줌\n",
    " \n",
    "zarr = np.zeros( (3,5) )# 3행 5열shape은 tuple형태로 꼭 만들어 줘야함 shape = ()\n",
    "print(zarr)\n",
    "\"\"\"\n",
    "[[0. 0. 0. 0. 0.]\n",
    " [0. 0. 0. 0. 0.]\n",
    " [0. 0. 0. 0. 0.]]\n",
    "\"\"\""
   ]
  },
  {
   "cell_type": "code",
   "execution_count": 29,
   "metadata": {},
   "outputs": [
    {
     "name": "stdout",
     "output_type": "stream",
     "text": [
      "[[ 1.  2.  3.  4.  5.]\n",
      " [ 6.  7.  8.  9. 10.]\n",
      " [11. 12. 13. 14. 15.]]\n"
     ]
    }
   ],
   "source": [
    "# 5. arange() : range와 역할 유사함  실수 형이 가능함\n",
    "# range(5) # 0 ~ 4 일열의 정수리스트 0~n-1실수형이 불가능함(정수형 데이터만 가능)\n",
    "\n",
    "cnt = 0\n",
    "for i in np.arange(3): # 0 ~ 2 - i는 행의 index\n",
    "    for j in np.arange(5): # 0 ~ 4 - j는 열의 index\n",
    "        cnt += 1 # cnt = cnt + 1\n",
    "        zarr[i,j] = cnt\n",
    "\n",
    "print(zarr)"
   ]
  },
  {
   "cell_type": "code",
   "execution_count": 30,
   "metadata": {},
   "outputs": [
    {
     "data": {
      "image/png": "[encoded data removed]",
      "text/plain": [
       "<Figure size 432x288 with 1 Axes>"
      ]
     },
     "metadata": {
      "needs_background": "light"
     },
     "output_type": "display_data"
    }
   ],
   "source": [
    "x = np.arange(-1.0 ,2 ,0.1)# start ,stop, step (실수형이 가능함)\n",
    "y = x**2 + 2*x + 3\n",
    "\n",
    "import matplotlib.pyplot as plt\n",
    "plt.plot(x,y)\n",
    "plt.show()\n",
    "\n",
    "# eaxm 01"
   ]
  },
  {
   "cell_type": "code",
   "execution_count": null,
   "metadata": {},
   "outputs": [],
   "source": []
  }
 ],
 "metadata": {
  "kernelspec": {
   "display_name": "Python 3",
   "language": "python",
   "name": "python3"
  },
  "language_info": {
   "codemirror_mode": {
    "name": "ipython",
    "version": 3
   },
   "file_extension": ".py",
   "mimetype": "text/x-python",
   "name": "python",
   "nbconvert_exporter": "python",
   "pygments_lexer": "ipython3",
   "version": "3.8.5"
  }
 },
 "nbformat": 4,
 "nbformat_minor": 4
}
