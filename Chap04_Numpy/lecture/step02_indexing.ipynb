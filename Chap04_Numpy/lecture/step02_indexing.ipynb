{
 "cells": [
  {
   "cell_type": "code",
   "execution_count": 1,
   "metadata": {},
   "outputs": [
    {
     "name": "stdout",
     "output_type": "stream",
     "text": [
      "3\n",
      "[0, 1, 2, 3, 4, 5]\n",
      "[0, 1, 2]\n"
     ]
    }
   ],
   "source": [
    "\"\"\"\n",
    "numpy indexing\n",
    " - indexing/slicing\n",
    " - 1차원 indexing : list 동일 \n",
    " - 2, 3차원 indexing \n",
    " - boolean indexing\n",
    "\"\"\"\n",
    "import numpy as np\n",
    "'''\n",
    "1차원 : obj[index]\n",
    "2차원 : obj[행index, 열index] - 행 index : default\n",
    "3차원 : obj[면index, 행index, 열index] - 면index : default\n",
    "'''\n",
    "\n",
    "# 1. indexing \n",
    "\n",
    "# 1) list 객체 \n",
    "lst = [0,1,2,3,4,5]\n",
    "print(lst[3]) # 4번째 원소 \n",
    "print(lst[:]) # 전체 원소 \n",
    "print(lst[:3]) # 범위 "
   ]
  },
  {
   "cell_type": "code",
   "execution_count": 2,
   "metadata": {},
   "outputs": [
    {
     "name": "stdout",
     "output_type": "stream",
     "text": [
      "[0 1 2 3 4 5 6 7 8 9]\n",
      "3\n",
      "[0 1 2 3 4 5 6 7 8 9]\n",
      "[0 1 2]\n"
     ]
    }
   ],
   "source": [
    "# 2) numpy 객체 \n",
    "arr = np.arange(10) # 0 ~ 9\n",
    "print(arr) \n",
    "print(arr[3])\n",
    "print(arr[:])\n",
    "print(arr[:3])"
   ]
  },
  {
   "cell_type": "code",
   "execution_count": 3,
   "metadata": {},
   "outputs": [
    {
     "data": {
      "text/plain": [
       "array([5, 6, 7])"
      ]
     },
     "execution_count": 3,
     "metadata": {},
     "output_type": "execute_result"
    }
   ],
   "source": [
    "# 2. slicing\n",
    "arr_sl = arr[5:8]\n",
    "arr_sl "
   ]
  },
  {
   "cell_type": "code",
   "execution_count": 4,
   "metadata": {},
   "outputs": [
    {
     "data": {
      "text/plain": [
       "array([500, 500, 500])"
      ]
     },
     "execution_count": 4,
     "metadata": {},
     "output_type": "execute_result"
    }
   ],
   "source": [
    "# 블록 수정 : list 불가능 \n",
    "arr_sl[:] = 500 # 사본 수정 \n",
    "arr_sl "
   ]
  },
  {
   "cell_type": "code",
   "execution_count": 5,
   "metadata": {},
   "outputs": [
    {
     "data": {
      "text/plain": [
       "array([  0,   1,   2,   3,   4, 500, 500, 500,   8,   9])"
      ]
     },
     "execution_count": 5,
     "metadata": {},
     "output_type": "execute_result"
    }
   ],
   "source": [
    "# 원본도 수정 \n",
    "arr "
   ]
  },
  {
   "cell_type": "code",
   "execution_count": 6,
   "metadata": {},
   "outputs": [
    {
     "data": {
      "text/plain": [
       "array([[1, 2, 3],\n",
       "       [4, 5, 6],\n",
       "       [7, 8, 9]])"
      ]
     },
     "execution_count": 6,
     "metadata": {},
     "output_type": "execute_result"
    }
   ],
   "source": [
    "# 3. 2차원, 3차원 indexing \n",
    "arr2d = np.array([[1,2,3], [4,5,6], [7,8,9]])\n",
    "arr2d.shape #  (3, 3)\n",
    "arr2d"
   ]
  },
  {
   "cell_type": "code",
   "execution_count": 8,
   "metadata": {},
   "outputs": [
    {
     "name": "stdout",
     "output_type": "stream",
     "text": [
      "[1 2 3]\n",
      "[2 5 8]\n"
     ]
    },
    {
     "data": {
      "text/plain": [
       "array([[5, 6],\n",
       "       [8, 9]])"
      ]
     },
     "execution_count": 8,
     "metadata": {},
     "output_type": "execute_result"
    }
   ],
   "source": [
    "# 행 접근 : obj[행index]\n",
    "print(arr2d[0]) # [1,2,3]\n",
    "# 열 접근 : obj[행index, 열index]\n",
    "print(arr2d[:, 1]) # [2, 5, 8]\n",
    "# box 참조 \n",
    "arr2d[1:,1:]"
   ]
  },
  {
   "cell_type": "code",
   "execution_count": 9,
   "metadata": {},
   "outputs": [
    {
     "data": {
      "text/plain": [
       "array([[[ 1,  2,  3],\n",
       "        [ 4,  5,  6]],\n",
       "\n",
       "       [[ 7,  8,  9],\n",
       "        [10, 11, 12]]])"
      ]
     },
     "execution_count": 9,
     "metadata": {},
     "output_type": "execute_result"
    }
   ],
   "source": [
    "arr3d = np.array([ [[1,2,3], [4,5,6]], [[7,8,9], [10,11,12]] ])\n",
    "arr3d"
   ]
  },
  {
   "cell_type": "code",
   "execution_count": 10,
   "metadata": {},
   "outputs": [
    {
     "data": {
      "text/plain": [
       "(2, 2, 3)"
      ]
     },
     "execution_count": 10,
     "metadata": {},
     "output_type": "execute_result"
    }
   ],
   "source": [
    "arr3d.shape # (2, 2, 3) : 2면2행3열"
   ]
  },
  {
   "cell_type": "code",
   "execution_count": 11,
   "metadata": {},
   "outputs": [
    {
     "name": "stdout",
     "output_type": "stream",
     "text": [
      "[[ 7  8  9]\n",
      " [10 11 12]]\n",
      "[10 11 12]\n",
      "11\n"
     ]
    }
   ],
   "source": [
    "# 면 접근 \n",
    "print(arr3d[1]) # 2면 참조 \n",
    "# 행 접근 \n",
    "print(arr3d[1,1]) # 2면2행 참조 \n",
    "# 열 접근 \n",
    "print(arr3d[1,1,1]) # 2면2행2열 참조 : 11"
   ]
  },
  {
   "cell_type": "code",
   "execution_count": 12,
   "metadata": {},
   "outputs": [
    {
     "name": "stdout",
     "output_type": "stream",
     "text": [
      "[[-0.4648679  -1.30138658  0.65556144  0.2824092 ]\n",
      " [ 0.54541069  0.57685875 -0.10184915  0.8465687 ]\n",
      " [ 0.28774385 -1.10812228  0.36303934  0.48374005]]\n"
     ]
    }
   ],
   "source": [
    "# 4. boolean indexing : obj[조건식]\n",
    "data = np.random.randn(3, 4)\n",
    "print(data)\n"
   ]
  },
  {
   "cell_type": "code",
   "execution_count": 13,
   "metadata": {},
   "outputs": [
    {
     "data": {
      "text/plain": [
       "array([0.65556144, 0.54541069, 0.57685875, 0.8465687 ])"
      ]
     },
     "execution_count": 13,
     "metadata": {},
     "output_type": "execute_result"
    }
   ],
   "source": [
    "# 0.5이상 \n",
    "data2 = data[data >= 0.5]\n",
    "data2 # [1.58643286, 1.66472975]"
   ]
  },
  {
   "cell_type": "code",
   "execution_count": 14,
   "metadata": {},
   "outputs": [
    {
     "data": {
      "text/plain": [
       "array([0.2824092 , 0.28774385, 0.36303934, 0.48374005])"
      ]
     },
     "execution_count": 14,
     "metadata": {},
     "output_type": "execute_result"
    }
   ],
   "source": [
    "# 0.1 ~ 0.5 : 범위 \n",
    "#data3 = data[data >= 0.1 and data <= 0.5] # Error \n",
    "# logical_and() 이용 \n",
    "data[np.logical_and(data >= 0.1, data <= 0.5)]"
   ]
  },
  {
   "cell_type": "code",
   "execution_count": null,
   "metadata": {},
   "outputs": [],
   "source": [
    "'''\n",
    "numpy 논리식 함수 \n",
    "np.logical_and() : and \n",
    "np.logical_or() : or\n",
    "np.logical_xor() : xor\n",
    "np.logical_not() : not\n",
    "'''"
   ]
  }
 ],
 "metadata": {
  "kernelspec": {
   "display_name": "Python 3",
   "language": "python",
   "name": "python3"
  },
  "language_info": {
   "codemirror_mode": {
    "name": "ipython",
    "version": 3
   },
   "file_extension": ".py",
   "mimetype": "text/x-python",
   "name": "python",
   "nbconvert_exporter": "python",
   "pygments_lexer": "ipython3",
   "version": "3.8.5"
  }
 },
 "nbformat": 4,
 "nbformat_minor": 4
}
