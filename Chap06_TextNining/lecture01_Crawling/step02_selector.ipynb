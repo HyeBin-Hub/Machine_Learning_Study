{
 "cells": [
  {
   "cell_type": "code",
   "execution_count": 1,
   "metadata": {},
   "outputs": [
    {
     "name": "stdout",
     "output_type": "stream",
     "text": [
      "<!DOCTYPE html PUBLIC \"-//W3C//DTD HTML 4.01 Transitional//EN\" \"http://www.w3.org/TR/html4/loose.dtd\">\n",
      "<html>\n",
      "<head>\n",
      "<meta http-equiv=\"Content-Type\" content=\"text/html; charset=UTF-8\">\n",
      "<title>id/class 선택자, 표 꾸미기</title>\n",
      "<style type=\"text/css\">\n",
      "  table{\n",
      "     border-collapse : collapse; /* 중복 테두리 제거 */\n",
      "     border : 3px solid black; /* 테두리 굵기 실선 색 */\n",
      "     width: 80%; /* 화면 전체 폭 */\n",
      "     text-align: center;  /* 텍스트 정렬 방식 */\n",
      "  }\n",
      "  tr{\n",
      "     height: 24px;  /* 줄 간격 */\n",
      "     font-size: 13px; /* 글자 크기 */\n",
      "  }\n",
      "  /* 행 위에 마우스 오버 시 */\n",
      "  tr:hover{\n",
      "     color: #ffffff; /* 글자색 흰색 */\n",
      "     font-weight: bold; /* 굵게 */\n",
      "     background-color: #00ccff; /* 배경색 : 하늘색 계열 */\n",
      "     cursor: pointer;  /* 커서 모양 변경 */   \n",
      "  }\n",
      "  /* 표 제목 열 스타일 적용 */\n",
      "  th{\n",
      "     height: 25px;\n",
      "     font-size: 14px;\n",
      "     background-color: #e0bbd2; /* RGB 색상표 - NAVER */  \n",
      "  }\n",
      "  /* 형식 : #id이름{ 속성 : 값; } - 이름 중복 불가능 */\n",
      "  #id{width : 15%}\n",
      "  #name{width: 10%}\n",
      "  #major{width: 25%}\n",
      "  #email{width: 60%}\n",
      "  /* 형식 : .class이름{ 속성 : 값;} - 이름 중복 가능 */\n",
      "  .odd{background-color: #F2FF9D;} /* 홀수행 배경색 적용 */\n",
      "</style>\n",
      "</head>\n",
      "\n",
      "<body>\n",
      "   <table border = 1 id=\"tab\">\n",
      "     <tr> <!-- 1행 -->\n",
      "       <!-- 제목 열 : th -->\n",
      "       <th id=\"id\"> 학번 </th> \n",
      "       <th id=\"name\"> 이름 </th>\n",
      "       <th id=\"major\"> 학과 </th>\n",
      "       <th id=\"email\"> 이메일 </th>\n",
      "     </tr>\n",
      "     <tr> <!-- 2행 -->\n",
      "       <td> 201601 </td>\n",
      "       <td> 홍길동 </td>\n",
      "       <td> 체육학과 </td>\n",
      "       <td> hong@naver.com </td>\n",
      "     </tr>  \n",
      "     <tr class=\"odd\"> <!-- 3행(홀수) -->\n",
      "       <td> 201602 </td>\n",
      "       <td> 이순신 </td>\n",
      "       <td> 해양학과 </td>\n",
      "       <td> lee@naver.com </td>\n",
      "     </tr>  \n",
      "     <tr> <!-- 4행 -->\n",
      "       <td> 201603 </td>\n",
      "       <td> 강감찬 </td>\n",
      "       <td> 정치외교 </td>\n",
      "       <td> kang@naver.com </td>\n",
      "     </tr>  \n",
      "     <tr class=\"odd\"> <!-- 5행 -->\n",
      "       <td> 201604 </td>\n",
      "       <td> 유관순 </td>\n",
      "       <td> 유아교육 </td>\n",
      "       <td> you@naver.com </td>\n",
      "     </tr>  \n",
      "   </table>\n",
      "</body>\n",
      "</html>\n",
      "\n"
     ]
    }
   ],
   "source": [
    "\"\"\"\n",
    "1. 선택자(selector) 이용한 내용 추출 \n",
    " -> 웹문서 디자인 용으로 사용 \n",
    " -> 유형 : id(#), class(.)\n",
    " -> html.select_one(#id) : 하나의 요소 추출 \n",
    " -> html.select(.class) : 여러 개 요소 추출 \n",
    "\n",
    "2. tag명으로 내용 추출 \n",
    "  -> html.find('tag') : 하나의 요소 추출\n",
    "  -> html.find_all('tag') : 여러 개 요소 추출 \n",
    "\"\"\"\n",
    "\n",
    "from bs4 import BeautifulSoup # html 파싱 \n",
    "\n",
    "# 1. html 문서 가져오기 \n",
    "file = open('C:/Users/hyebin/Desktop/study/python_ML/data/textMining_data/selector.html', mode='r', encoding='utf-8')\n",
    "scr = file.read() # text 파일 읽기 \n",
    "print(scr)"
   ]
  },
  {
   "cell_type": "code",
   "execution_count": 2,
   "metadata": {},
   "outputs": [
    {
     "name": "stdout",
     "output_type": "stream",
     "text": [
      "<!DOCTYPE html PUBLIC \"-//W3C//DTD HTML 4.01 Transitional//EN\" \"http://www.w3.org/TR/html4/loose.dtd\">\n",
      "\n",
      "<html>\n",
      "<head>\n",
      "<meta content=\"text/html; charset=utf-8\" http-equiv=\"Content-Type\"/>\n",
      "<title>id/class 선택자, 표 꾸미기</title>\n",
      "<style type=\"text/css\">\n",
      "  table{\n",
      "     border-collapse : collapse; /* 중복 테두리 제거 */\n",
      "     border : 3px solid black; /* 테두리 굵기 실선 색 */\n",
      "     width: 80%; /* 화면 전체 폭 */\n",
      "     text-align: center;  /* 텍스트 정렬 방식 */\n",
      "  }\n",
      "  tr{\n",
      "     height: 24px;  /* 줄 간격 */\n",
      "     font-size: 13px; /* 글자 크기 */\n",
      "  }\n",
      "  /* 행 위에 마우스 오버 시 */\n",
      "  tr:hover{\n",
      "     color: #ffffff; /* 글자색 흰색 */\n",
      "     font-weight: bold; /* 굵게 */\n",
      "     background-color: #00ccff; /* 배경색 : 하늘색 계열 */\n",
      "     cursor: pointer;  /* 커서 모양 변경 */   \n",
      "  }\n",
      "  /* 표 제목 열 스타일 적용 */\n",
      "  th{\n",
      "     height: 25px;\n",
      "     font-size: 14px;\n",
      "     background-color: #e0bbd2; /* RGB 색상표 - NAVER */  \n",
      "  }\n",
      "  /* 형식 : #id이름{ 속성 : 값; } - 이름 중복 불가능 */\n",
      "  #id{width : 15%}\n",
      "  #name{width: 10%}\n",
      "  #major{width: 25%}\n",
      "  #email{width: 60%}\n",
      "  /* 형식 : .class이름{ 속성 : 값;} - 이름 중복 가능 */\n",
      "  .odd{background-color: #F2FF9D;} /* 홀수행 배경색 적용 */\n",
      "</style>\n",
      "</head>\n",
      "<body>\n",
      "<table border=\"1\" id=\"tab\">\n",
      "<tr> <!-- 1행 -->\n",
      "<!-- 제목 열 : th -->\n",
      "<th id=\"id\"> 학번 </th>\n",
      "<th id=\"name\"> 이름 </th>\n",
      "<th id=\"major\"> 학과 </th>\n",
      "<th id=\"email\"> 이메일 </th>\n",
      "</tr>\n",
      "<tr> <!-- 2행 -->\n",
      "<td> 201601 </td>\n",
      "<td> 홍길동 </td>\n",
      "<td> 체육학과 </td>\n",
      "<td> hong@naver.com </td>\n",
      "</tr>\n",
      "<tr class=\"odd\"> <!-- 3행(홀수) -->\n",
      "<td> 201602 </td>\n",
      "<td> 이순신 </td>\n",
      "<td> 해양학과 </td>\n",
      "<td> lee@naver.com </td>\n",
      "</tr>\n",
      "<tr> <!-- 4행 -->\n",
      "<td> 201603 </td>\n",
      "<td> 강감찬 </td>\n",
      "<td> 정치외교 </td>\n",
      "<td> kang@naver.com </td>\n",
      "</tr>\n",
      "<tr class=\"odd\"> <!-- 5행 -->\n",
      "<td> 201604 </td>\n",
      "<td> 유관순 </td>\n",
      "<td> 유아교육 </td>\n",
      "<td> you@naver.com </td>\n",
      "</tr>\n",
      "</table>\n",
      "</body>\n",
      "</html>\n",
      "\n"
     ]
    }
   ],
   "source": [
    "# 2. html 파싱 \n",
    "html = BeautifulSoup(scr, 'html.parser')\n",
    "print(html)"
   ]
  },
  {
   "cell_type": "code",
   "execution_count": 3,
   "metadata": {},
   "outputs": [
    {
     "name": "stdout",
     "output_type": "stream",
     "text": [
      "<table border=\"1\" id=\"tab\">\n",
      "<tr> <!-- 1행 -->\n",
      "<!-- 제목 열 : th -->\n",
      "<th id=\"id\"> 학번 </th>\n",
      "<th id=\"name\"> 이름 </th>\n",
      "<th id=\"major\"> 학과 </th>\n",
      "<th id=\"email\"> 이메일 </th>\n",
      "</tr>\n",
      "<tr> <!-- 2행 -->\n",
      "<td> 201601 </td>\n",
      "<td> 홍길동 </td>\n",
      "<td> 체육학과 </td>\n",
      "<td> hong@naver.com </td>\n",
      "</tr>\n",
      "<tr class=\"odd\"> <!-- 3행(홀수) -->\n",
      "<td> 201602 </td>\n",
      "<td> 이순신 </td>\n",
      "<td> 해양학과 </td>\n",
      "<td> lee@naver.com </td>\n",
      "</tr>\n",
      "<tr> <!-- 4행 -->\n",
      "<td> 201603 </td>\n",
      "<td> 강감찬 </td>\n",
      "<td> 정치외교 </td>\n",
      "<td> kang@naver.com </td>\n",
      "</tr>\n",
      "<tr class=\"odd\"> <!-- 5행 -->\n",
      "<td> 201604 </td>\n",
      "<td> 유관순 </td>\n",
      "<td> 유아교육 </td>\n",
      "<td> you@naver.com </td>\n",
      "</tr>\n",
      "</table>\n"
     ]
    }
   ],
   "source": [
    "# 3. selector 이용 -> 문서 수집 \n",
    "\n",
    "# 1) id 선택자 : tag#id\n",
    "tab = html.select_one(\"table#tab\")\n",
    "print(tab)     "
   ]
  },
  {
   "cell_type": "code",
   "execution_count": 4,
   "metadata": {},
   "outputs": [
    {
     "name": "stdout",
     "output_type": "stream",
     "text": [
      "[<th id=\"id\"> 학번 </th>, <th id=\"name\"> 이름 </th>, <th id=\"major\"> 학과 </th>, <th id=\"email\"> 이메일 </th>]\n"
     ]
    }
   ],
   "source": [
    "\n",
    "# 2) id 선택자 > 하위 태그  \n",
    "ths = html.select(\"table#tab > tr > th\" )               \n",
    "print(ths)    "
   ]
  },
  {
   "cell_type": "code",
   "execution_count": 5,
   "metadata": {},
   "outputs": [
    {
     "name": "stdout",
     "output_type": "stream",
     "text": [
      " 학번 \n",
      " 이름 \n",
      " 학과 \n",
      " 이메일 \n"
     ]
    }
   ],
   "source": [
    "for th in ths :\n",
    "    print(th.string) # tag 내용 출력 "
   ]
  },
  {
   "cell_type": "code",
   "execution_count": 6,
   "metadata": {},
   "outputs": [
    {
     "name": "stdout",
     "output_type": "stream",
     "text": [
      "[<tr class=\"odd\"> <!-- 3행(홀수) -->\n",
      "<td> 201602 </td>\n",
      "<td> 이순신 </td>\n",
      "<td> 해양학과 </td>\n",
      "<td> lee@naver.com </td>\n",
      "</tr>, <tr class=\"odd\"> <!-- 5행 -->\n",
      "<td> 201604 </td>\n",
      "<td> 유관순 </td>\n",
      "<td> 유아교육 </td>\n",
      "<td> you@naver.com </td>\n",
      "</tr>]\n"
     ]
    }
   ],
   "source": [
    "# 4) tag[속성='값']\n",
    "trs = html.select(\"tr[class='odd']\")\n",
    "print(trs)"
   ]
  },
  {
   "cell_type": "code",
   "execution_count": 7,
   "metadata": {},
   "outputs": [
    {
     "name": "stdout",
     "output_type": "stream",
     "text": [
      " 201602 \n",
      " 이순신 \n",
      " 해양학과 \n",
      " lee@naver.com \n",
      " 201604 \n",
      " 유관순 \n",
      " 유아교육 \n",
      " you@naver.com \n"
     ]
    }
   ],
   "source": [
    "for tr in trs :\n",
    "    tds = tr.find_all('td') # td 태그 찾기 \n",
    "    for td in tds :\n",
    "        print(td.string) # tag 내용 출력 "
   ]
  },
  {
   "cell_type": "code",
   "execution_count": 8,
   "metadata": {},
   "outputs": [
    {
     "name": "stdout",
     "output_type": "stream",
     "text": [
      " 201601 \n",
      " 홍길동 \n",
      " 체육학과 \n",
      " hong@naver.com \n",
      " 201602 \n",
      " 이순신 \n",
      " 해양학과 \n",
      " lee@naver.com \n",
      " 201603 \n",
      " 강감찬 \n",
      " 정치외교 \n",
      " kang@naver.com \n",
      " 201604 \n",
      " 유관순 \n",
      " 유아교육 \n",
      " you@naver.com \n"
     ]
    }
   ],
   "source": [
    "# 5) tag명으로 찾기 \n",
    "tds = html.find_all('td')        \n",
    "for td in tds :\n",
    "    print(td.string) # tag 내용 출력 "
   ]
  },
  {
   "cell_type": "code",
   "execution_count": null,
   "metadata": {},
   "outputs": [],
   "source": []
  }
 ],
 "metadata": {
  "kernelspec": {
   "display_name": "Python 3",
   "language": "python",
   "name": "python3"
  },
  "language_info": {
   "codemirror_mode": {
    "name": "ipython",
    "version": 3
   },
   "file_extension": ".py",
   "mimetype": "text/x-python",
   "name": "python",
   "nbconvert_exporter": "python",
   "pygments_lexer": "ipython3",
   "version": "3.8.5"
  }
 },
 "nbformat": 4,
 "nbformat_minor": 4
}
