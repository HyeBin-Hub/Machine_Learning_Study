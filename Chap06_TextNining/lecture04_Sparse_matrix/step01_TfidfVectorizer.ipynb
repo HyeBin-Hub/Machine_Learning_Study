{
 "cells": [
  {
   "cell_type": "code",
   "execution_count": 1,
   "metadata": {},
   "outputs": [],
   "source": [
    "\"\"\"\n",
    "TFiDF 단어 생성기 : TfidfVectorizer  \n",
    "  1. 단어 생성기[word tokenizer] : 문장(sentences) -> 단어(word) 생성\n",
    "  2. 단어 사전[word dictionary] : (word, 고유수치)\n",
    "  3. 희소행렬[sparse matrix] : 단어 출현 비율에 의해서 가중치 적용[type-TF, TFiDF]\n",
    "    1] TF : 가중치 설정 - 단어 출현 빈도수\n",
    "    2] TFiDF : 가중치 설정 - 단어 출현 빈도수 x 문서 출현빈도수의 역수            \n",
    "    - tf-idf(d,t) = tf(d,t) x idf(t) [d(document), t(term)]\n",
    "    - tf(d,t) : term frequency - 특정 단어 빈도수 \n",
    "    - idf(t) : inverse document frequency - 특정 단어가 들어 있는 문서 출현빈도수의 역수\n",
    "       -> TFiDF = tf(d, t) x log( n/df(t) ) : 문서 출현빈도수의 역수(n/df(t))\n",
    "\"\"\"#  로그해주는 이유느 정규화해주기 위한것\n",
    "\n",
    "from sklearn.feature_extraction.text import TfidfVectorizer # class"
   ]
  },
  {
   "cell_type": "code",
   "execution_count": 2,
   "metadata": {},
   "outputs": [],
   "source": [
    "# 문장 \n",
    "sentences = [\n",
    "    \"Mr. Green killed Colonel Mustard in the study with the candlestick. Mr. Green is not a very nice fellow.\",\n",
    "    \"Professor Plum has a green plant in his study.\",\n",
    "    \"Miss Scarlett watered Professor Plum's green plant while he was away from his office last week.\"\n",
    "]"
   ]
  },
  {
   "cell_type": "code",
   "execution_count": 3,
   "metadata": {},
   "outputs": [
    {
     "name": "stdout",
     "output_type": "stream",
     "text": [
      "TfidfVectorizer()\n"
     ]
    }
   ],
   "source": [
    "# 1. 단어 생성기 : 문장 -> 단어(word) \n",
    "tfidf = TfidfVectorizer() # object 생성 \n",
    "tfidf_fit = tfidf.fit(sentences) # 문장 적용 -> object 생성 \n",
    "print(tfidf_fit) # object info "
   ]
  },
  {
   "cell_type": "code",
   "execution_count": 4,
   "metadata": {},
   "outputs": [
    {
     "name": "stdout",
     "output_type": "stream",
     "text": [
      "word size= 31\n",
      "{'mr': 14, 'green': 5, 'killed': 11, 'colonel': 2, 'mustard': 15, 'in': 9, 'the': 24, 'study': 23, 'with': 30, 'candlestick': 1, 'is': 10, 'not': 17, 'very': 25, 'nice': 16, 'fellow': 3, 'professor': 21, 'plum': 20, 'has': 6, 'plant': 19, 'his': 8, 'miss': 13, 'scarlett': 22, 'watered': 27, 'while': 29, 'he': 7, 'was': 26, 'away': 0, 'from': 4, 'office': 18, 'last': 12, 'week': 28}\n"
     ]
    }
   ],
   "source": [
    "# 2. 단어 사전(word dict) - {'word': 고유번호} - 영문자 오름차순\n",
    "voca = tfidf_fit.vocabulary_\n",
    "print('word size=', len(voca)) # word size= 31\n",
    "print(voca) # {'word':고유숫자}"
   ]
  },
  {
   "cell_type": "code",
   "execution_count": 5,
   "metadata": {},
   "outputs": [
    {
     "data": {
      "text/plain": [
       "scipy.sparse.csr.csr_matrix"
      ]
     },
     "execution_count": 5,
     "metadata": {},
     "output_type": "execute_result"
    }
   ],
   "source": [
    "# 3. 희소행렬(sparse matrix) : text 분석 - DTM(행:doc, 열:term)\n",
    "spart_tfidf = tfidf.fit_transform(sentences)\n",
    "type(spart_tfidf) # scipy.sparse.csr.csr_matrix"
   ]
  },
  {
   "cell_type": "code",
   "execution_count": 6,
   "metadata": {},
   "outputs": [
    {
     "name": "stdout",
     "output_type": "stream",
     "text": [
      "  (0, 3)\t0.2205828828763741\n",
      "  (0, 16)\t0.2205828828763741\n",
      "  (0, 25)\t0.2205828828763741\n",
      "  (0, 17)\t0.2205828828763741\n",
      "  (0, 10)\t0.2205828828763741\n",
      "  (0, 1)\t0.2205828828763741\n",
      "  (0, 30)\t0.2205828828763741\n",
      "  (0, 23)\t0.1677589680512606\n",
      "  (0, 24)\t0.4411657657527482\n",
      "  (0, 9)\t0.1677589680512606\n",
      "  (0, 15)\t0.2205828828763741\n",
      "  (0, 2)\t0.2205828828763741\n",
      "  (0, 11)\t0.2205828828763741\n",
      "  (0, 5)\t0.26055960805891015\n",
      "  (0, 14)\t0.4411657657527482\n",
      "  (1, 8)\t0.3464378827197198\n",
      "  (1, 19)\t0.3464378827197198\n",
      "  (1, 6)\t0.4555241832708016\n",
      "  (1, 20)\t0.3464378827197198\n",
      "  (1, 21)\t0.3464378827197198\n",
      "  (1, 23)\t0.3464378827197198\n",
      "  (1, 9)\t0.3464378827197198\n",
      "  (1, 5)\t0.2690399207469689\n",
      "  (2, 28)\t0.27054287522550385\n",
      "  (2, 12)\t0.27054287522550385\n",
      "  (2, 18)\t0.27054287522550385\n",
      "  (2, 4)\t0.27054287522550385\n",
      "  (2, 0)\t0.27054287522550385\n",
      "  (2, 26)\t0.27054287522550385\n",
      "  (2, 7)\t0.27054287522550385\n",
      "  (2, 29)\t0.27054287522550385\n",
      "  (2, 27)\t0.27054287522550385\n",
      "  (2, 22)\t0.27054287522550385\n",
      "  (2, 13)\t0.27054287522550385\n",
      "  (2, 8)\t0.2057548299742193\n",
      "  (2, 19)\t0.2057548299742193\n",
      "  (2, 20)\t0.2057548299742193\n",
      "  (2, 21)\t0.2057548299742193\n",
      "  (2, 5)\t0.15978698032384395\n"
     ]
    }
   ],
   "source": [
    "spart_tfidf.shape # (3, 31) - (Docs, Term)\n",
    "print(spart_tfidf)"
   ]
  },
  {
   "cell_type": "code",
   "execution_count": 7,
   "metadata": {},
   "outputs": [
    {
     "data": {
      "text/plain": [
       "numpy.ndarray"
      ]
     },
     "execution_count": 7,
     "metadata": {},
     "output_type": "execute_result"
    }
   ],
   "source": [
    "# scipy matrix -> numpy matrix\n",
    "arr_sparse = spart_tfidf.toarray()\n",
    "type(arr_sparse) # numpy.ndarray"
   ]
  },
  {
   "cell_type": "code",
   "execution_count": 9,
   "metadata": {},
   "outputs": [
    {
     "name": "stdout",
     "output_type": "stream",
     "text": [
      "[[0.         0.22058288 0.22058288 0.22058288 0.         0.26055961\n",
      "  0.         0.         0.         0.16775897 0.22058288 0.22058288\n",
      "  0.         0.         0.44116577 0.22058288 0.22058288 0.22058288\n",
      "  0.         0.         0.         0.         0.         0.16775897\n",
      "  0.44116577 0.22058288 0.         0.         0.         0.\n",
      "  0.22058288]\n",
      " [0.         0.         0.         0.         0.         0.26903992\n",
      "  0.45552418 0.         0.34643788 0.34643788 0.         0.\n",
      "  0.         0.         0.         0.         0.         0.\n",
      "  0.         0.34643788 0.34643788 0.34643788 0.         0.34643788\n",
      "  0.         0.         0.         0.         0.         0.\n",
      "  0.        ]\n",
      " [0.27054288 0.         0.         0.         0.27054288 0.15978698\n",
      "  0.         0.27054288 0.20575483 0.         0.         0.\n",
      "  0.27054288 0.27054288 0.         0.         0.         0.\n",
      "  0.27054288 0.20575483 0.20575483 0.20575483 0.27054288 0.\n",
      "  0.         0.         0.27054288 0.27054288 0.27054288 0.27054288\n",
      "  0.        ]]\n"
     ]
    },
    {
     "data": {
      "text/plain": [
       "(3, 31)"
      ]
     },
     "execution_count": 9,
     "metadata": {},
     "output_type": "execute_result"
    }
   ],
   "source": [
    "print(arr_sparse)\n",
    "arr_sparse.shape #  (3, 31) : x -> model -> y'\n"
   ]
  },
  {
   "cell_type": "code",
   "execution_count": null,
   "metadata": {},
   "outputs": [],
   "source": []
  }
 ],
 "metadata": {
  "kernelspec": {
   "display_name": "Python 3",
   "language": "python",
   "name": "python3"
  },
  "language_info": {
   "codemirror_mode": {
    "name": "ipython",
    "version": 3
   },
   "file_extension": ".py",
   "mimetype": "text/x-python",
   "name": "python",
   "nbconvert_exporter": "python",
   "pygments_lexer": "ipython3",
   "version": "3.8.5"
  }
 },
 "nbformat": 4,
 "nbformat_minor": 4
}
