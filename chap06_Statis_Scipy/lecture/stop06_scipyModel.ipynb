{
 "cells": [
  {
   "cell_type": "code",
   "execution_count": 2,
   "metadata": {},
   "outputs": [
    {
     "data": {
      "text/html": [
       "<div>\n",
       "<style scoped>\n",
       "    .dataframe tbody tr th:only-of-type {\n",
       "        vertical-align: middle;\n",
       "    }\n",
       "\n",
       "    .dataframe tbody tr th {\n",
       "        vertical-align: top;\n",
       "    }\n",
       "\n",
       "    .dataframe thead th {\n",
       "        text-align: right;\n",
       "    }\n",
       "</style>\n",
       "<table border=\"1\" class=\"dataframe\">\n",
       "  <thead>\n",
       "    <tr style=\"text-align: right;\">\n",
       "      <th></th>\n",
       "      <th>resident</th>\n",
       "      <th>gender</th>\n",
       "      <th>job</th>\n",
       "      <th>age</th>\n",
       "      <th>position</th>\n",
       "      <th>price</th>\n",
       "      <th>survey</th>\n",
       "    </tr>\n",
       "  </thead>\n",
       "  <tbody>\n",
       "    <tr>\n",
       "      <th>0</th>\n",
       "      <td>1</td>\n",
       "      <td>1</td>\n",
       "      <td>1.0</td>\n",
       "      <td>46</td>\n",
       "      <td>4.0</td>\n",
       "      <td>4.1</td>\n",
       "      <td>1</td>\n",
       "    </tr>\n",
       "    <tr>\n",
       "      <th>1</th>\n",
       "      <td>2</td>\n",
       "      <td>1</td>\n",
       "      <td>2.0</td>\n",
       "      <td>54</td>\n",
       "      <td>1.0</td>\n",
       "      <td>4.2</td>\n",
       "      <td>2</td>\n",
       "    </tr>\n",
       "    <tr>\n",
       "      <th>2</th>\n",
       "      <td>4</td>\n",
       "      <td>2</td>\n",
       "      <td>NaN</td>\n",
       "      <td>45</td>\n",
       "      <td>2.0</td>\n",
       "      <td>3.5</td>\n",
       "      <td>2</td>\n",
       "    </tr>\n",
       "    <tr>\n",
       "      <th>3</th>\n",
       "      <td>5</td>\n",
       "      <td>1</td>\n",
       "      <td>3.0</td>\n",
       "      <td>62</td>\n",
       "      <td>1.0</td>\n",
       "      <td>5.0</td>\n",
       "      <td>1</td>\n",
       "    </tr>\n",
       "    <tr>\n",
       "      <th>4</th>\n",
       "      <td>3</td>\n",
       "      <td>1</td>\n",
       "      <td>2.0</td>\n",
       "      <td>57</td>\n",
       "      <td>NaN</td>\n",
       "      <td>5.4</td>\n",
       "      <td>2</td>\n",
       "    </tr>\n",
       "  </tbody>\n",
       "</table>\n",
       "</div>"
      ],
      "text/plain": [
       "   resident  gender  job  age  position  price  survey\n",
       "0         1       1  1.0   46       4.0    4.1       1\n",
       "1         2       1  2.0   54       1.0    4.2       2\n",
       "2         4       2  NaN   45       2.0    3.5       2\n",
       "3         5       1  3.0   62       1.0    5.0       1\n",
       "4         3       1  2.0   57       NaN    5.4       2"
      ]
     },
     "execution_count": 2,
     "metadata": {},
     "output_type": "execute_result"
    }
   ],
   "source": [
    "'''\n",
    "고차항 모델 생성과 시각화  \n",
    "  - 1차항 : 직선(1차 함수) -> y = a.x + b  \n",
    "  - 2차항 : u자 곡선(2차 함수) -> y = a.x^2 + a.x + b \n",
    "  - 3차항 : s자 곡선(3차 함수) -> y = a.x^3 + a.x^2 + a.x + b\n",
    "'''\n",
    "\n",
    "import pandas as pd\n",
    "import matplotlib.pyplot as plt\n",
    "import scipy as sp\n",
    "\n",
    "#########################\n",
    "## 1. 고차항 모델 생성 \n",
    "#########################\n",
    "\n",
    "datas = pd.read_csv('C:/Users/hyebin/Desktop/Python_ML/data/dataset.csv')\n",
    "datas.head()"
   ]
  },
  {
   "cell_type": "code",
   "execution_count": 4,
   "metadata": {},
   "outputs": [
    {
     "data": {
      "image/png": "[encoded data removed]",
      "text/plain": [
       "<Figure size 432x288 with 1 Axes>"
      ]
     },
     "metadata": {
      "needs_background": "light"
     },
     "output_type": "display_data"
    }
   ],
   "source": [
    "data_col = datas[['age',  'price']]\n",
    "\n",
    "# age vs price 산점도 \n",
    "plt.scatter(data_col['age'], data_col['price'])\n",
    "plt.xlabel('age')\n",
    "plt.ylabel('price')\n",
    "plt.show()"
   ]
  },
  {
   "cell_type": "code",
   "execution_count": 6,
   "metadata": {},
   "outputs": [],
   "source": [
    "x = data_col['age']\n",
    "y = data_col['price']"
   ]
  },
  {
   "cell_type": "code",
   "execution_count": 7,
   "metadata": {},
   "outputs": [
    {
     "name": "stdout",
     "output_type": "stream",
     "text": [
      "1차항 기울기와 절편 : [0.05455689 1.96116237]\n",
      "1차항 잔차 : [257.18303728]\n"
     ]
    },
    {
     "name": "stderr",
     "output_type": "stream",
     "text": [
      "<ipython-input-7-a8e0b082dfee>:2: DeprecationWarning: scipy.polyfit is deprecated and will be removed in SciPy 2.0.0, use numpy.polyfit instead\n",
      "  pf1, res1, a, b, c = sp.polyfit(x, y, 1, full = True)\n"
     ]
    }
   ],
   "source": [
    "# 1차항 회귀계수 생성 \n",
    "pf1, res1, a, b, c = sp.polyfit(x, y, 1, full = True)\n",
    "print('1차항 기울기와 절편 : %s'%pf1) \n",
    "print('1차항 잔차 : %s'%res1) "
   ]
  },
  {
   "cell_type": "code",
   "execution_count": 8,
   "metadata": {},
   "outputs": [
    {
     "name": "stdout",
     "output_type": "stream",
     "text": [
      " \n",
      "0.05456 x + 1.961\n"
     ]
    }
   ],
   "source": [
    "# 1차항 회귀모델 생성(회귀방정식) \n",
    "p1 = sp.poly1d(pf1) # 고차항 모델 \n",
    "print(p1) # 0.05456 x + 1.961    "
   ]
  },
  {
   "cell_type": "code",
   "execution_count": 9,
   "metadata": {},
   "outputs": [
    {
     "name": "stdout",
     "output_type": "stream",
     "text": [
      "y의 예측치 :  4.470779190270146\n"
     ]
    }
   ],
   "source": [
    "# [실습] x : age=46 -> price(4.47) 예측치 / 4.1 관측치 \n",
    "print('y의 예측치 : ', p1(46)) # 0.05456 * x + 1.961 "
   ]
  },
  {
   "cell_type": "code",
   "execution_count": 10,
   "metadata": {},
   "outputs": [
    {
     "name": "stdout",
     "output_type": "stream",
     "text": [
      "2차항 기울기와 절편 : [ 8.33372646e-04 -1.86892455e-02  3.40254480e+00]\n",
      "2차항 잔차 : [251.93685793]\n"
     ]
    },
    {
     "name": "stderr",
     "output_type": "stream",
     "text": [
      "<ipython-input-10-b94aec25788a>:2: DeprecationWarning: scipy.polyfit is deprecated and will be removed in SciPy 2.0.0, use numpy.polyfit instead\n",
      "  pf2, res2, a, b, c = sp.polyfit(x, y, 2, full = True)\n"
     ]
    }
   ],
   "source": [
    "# 2차항 회귀계수 생성 \n",
    "pf2, res2, a, b, c = sp.polyfit(x, y, 2, full = True)\n",
    "print('2차항 기울기와 절편 : %s'%pf2) \n",
    "print('2차항 잔차 : %s'%res2) "
   ]
  },
  {
   "cell_type": "code",
   "execution_count": 12,
   "metadata": {},
   "outputs": [
    {
     "name": "stdout",
     "output_type": "stream",
     "text": [
      "           2\n",
      "0.0008334 x - 0.01869 x + 3.403\n"
     ]
    }
   ],
   "source": [
    "# 2차항 회귀모델 생성(회귀방정식) \n",
    "p2 = sp.poly1d(pf2) # 고차항 모델 \n",
    "print(p2) # 0.05456 x + 1.961\n"
   ]
  },
  {
   "cell_type": "code",
   "execution_count": 13,
   "metadata": {},
   "outputs": [
    {
     "name": "stdout",
     "output_type": "stream",
     "text": [
      "y의 예측치 :  4.306256023664981\n"
     ]
    }
   ],
   "source": [
    "# [실습] x : age=46 -> price(4.30) 예측치 / 4.1 관측치  \n",
    "print('y의 예측치 : ', p2(46))"
   ]
  },
  {
   "cell_type": "code",
   "execution_count": 14,
   "metadata": {},
   "outputs": [
    {
     "name": "stdout",
     "output_type": "stream",
     "text": [
      "3차항 기울기와 절편 : [ 2.17130289e-05 -2.01987108e-03  9.81605624e-02  1.93394974e+00]\n",
      "3차항 잔차 : [251.48447764]\n"
     ]
    },
    {
     "name": "stderr",
     "output_type": "stream",
     "text": [
      "<ipython-input-14-40fca662c7ed>:2: DeprecationWarning: scipy.polyfit is deprecated and will be removed in SciPy 2.0.0, use numpy.polyfit instead\n",
      "  pf3, res3, a, b, c = sp.polyfit(x, y, 3, full = True)\n"
     ]
    }
   ],
   "source": [
    "# 3차항 회귀계수 생성 \n",
    "pf3, res3, a, b, c = sp.polyfit(x, y, 3, full = True)\n",
    "print('3차항 기울기와 절편 : %s'%pf3) \n",
    "print('3차항 잔차 : %s'%res3) "
   ]
  },
  {
   "cell_type": "code",
   "execution_count": 15,
   "metadata": {},
   "outputs": [
    {
     "name": "stdout",
     "output_type": "stream",
     "text": [
      "           3           2\n",
      "2.171e-05 x - 0.00202 x + 0.09816 x + 1.934\n"
     ]
    }
   ],
   "source": [
    "# 3차항 회귀모델 생성(회귀방정식) \n",
    "p3 = sp.poly1d(pf3) # 고차항 모델 \n",
    "print(p3)"
   ]
  },
  {
   "cell_type": "code",
   "execution_count": 16,
   "metadata": {},
   "outputs": [
    {
     "name": "stdout",
     "output_type": "stream",
     "text": [
      "y의 예측치 :  4.288747790298787\n"
     ]
    }
   ],
   "source": [
    "# [실습] x : age=46 -> price(4.28) 예측치 / 4.1 관측치  \n",
    "print('y의 예측치 : ', p3(46))"
   ]
  },
  {
   "cell_type": "code",
   "execution_count": 17,
   "metadata": {},
   "outputs": [],
   "source": [
    "#########################\n",
    "## 2. 고차항 모델 시각화 \n",
    "#########################\n",
    "\n",
    "# 고차항에 따른 색, 선 스타일 지정 \n",
    "colors = ['g', 'r', 'b'] \n",
    "linestyles = ['-', '-.', '--']"
   ]
  },
  {
   "cell_type": "code",
   "execution_count": 18,
   "metadata": {},
   "outputs": [],
   "source": [
    "# 고차항 모델 시각화 함수 \n",
    "def plot_model(x, y, models=None):\n",
    "    plt.scatter(x, y) # 산점도 \n",
    "    plt.axis([0, 80, 0, 9]) # x, y축 범위 \n",
    "    \n",
    "    if models :\n",
    "        x = sp.linspace(0, 90, num=50) # 회귀선 x축  vector   \n",
    "        # zip : model 수 만큼 차트 생성 \n",
    "        # model : [p1-직선, p2-U자, p3-S자]    \n",
    "        for model, color, line in zip(models, colors, linestyles) :             \n",
    "            # 회귀선 : plt.plot(x(벡터), y(고차항모델), c, linestyle)\n",
    "            plt.plot(x, model(x), c=color, linestyle=line)\n",
    "        \n",
    "        # 범례 표시 : m.order(항수) -> d=1, d=2, d=3\n",
    "        plt.legend( [\"d=%i\" %m.order for m in models], loc='upper left' )  \n",
    "    plt.show()"
   ]
  },
  {
   "cell_type": "code",
   "execution_count": 19,
   "metadata": {},
   "outputs": [
    {
     "name": "stderr",
     "output_type": "stream",
     "text": [
      "<ipython-input-18-b89bbea348b2>:7: DeprecationWarning: scipy.linspace is deprecated and will be removed in SciPy 2.0.0, use numpy.linspace instead\n",
      "  x = sp.linspace(0, 90, num=50) # 회귀선 x축  vector\n"
     ]
    },
    {
     "data": {
      "image/png": "[encoded data removed]",
      "text/plain": [
       "<Figure size 432x288 with 1 Axes>"
      ]
     },
     "metadata": {
      "needs_background": "light"
     },
     "output_type": "display_data"
    },
    {
     "name": "stderr",
     "output_type": "stream",
     "text": [
      "<ipython-input-18-b89bbea348b2>:7: DeprecationWarning: scipy.linspace is deprecated and will be removed in SciPy 2.0.0, use numpy.linspace instead\n",
      "  x = sp.linspace(0, 90, num=50) # 회귀선 x축  vector\n"
     ]
    },
    {
     "data": {
      "image/png": "[encoded data removed]",
      "text/plain": [
       "<Figure size 432x288 with 1 Axes>"
      ]
     },
     "metadata": {
      "needs_background": "light"
     },
     "output_type": "display_data"
    },
    {
     "name": "stderr",
     "output_type": "stream",
     "text": [
      "<ipython-input-18-b89bbea348b2>:7: DeprecationWarning: scipy.linspace is deprecated and will be removed in SciPy 2.0.0, use numpy.linspace instead\n",
      "  x = sp.linspace(0, 90, num=50) # 회귀선 x축  vector\n"
     ]
    },
    {
     "data": {
      "image/png": "[encoded data removed]",
      "text/plain": [
       "<Figure size 432x288 with 1 Axes>"
      ]
     },
     "metadata": {
      "needs_background": "light"
     },
     "output_type": "display_data"
    }
   ],
   "source": [
    "# 고차항 모델이 있는 경우 \n",
    "plot_model(x, y, [p1]) # 1차항 모델 - 직선 \n",
    "plot_model(x, y, [p1, p2]) # 1차항, 2차항 모델- 직선,U자 \n",
    "plot_model(x, y, [p1, p2, p3]) # 1,2,3차항 모델-직선/U/S자 "
   ]
  },
  {
   "cell_type": "code",
   "execution_count": 20,
   "metadata": {},
   "outputs": [
    {
     "name": "stdout",
     "output_type": "stream",
     "text": [
      "<zip object at 0x0000020A9A042640>\n",
      "[(1, 4), (2, 5), (3, 6)]\n"
     ]
    }
   ],
   "source": [
    "'''\n",
    "[실습]\n",
    "zip(), linspace()\n",
    "'''\n",
    "\n",
    "# 1. zip() : 1:1 원소 묶음 \n",
    "z = zip([1,2,3], [4,5,6])\n",
    "print(z) # <zip object>\n",
    "print(list(z)) # [(1, 4), (2, 5), (3, 6)]"
   ]
  },
  {
   "cell_type": "code",
   "execution_count": 21,
   "metadata": {},
   "outputs": [
    {
     "name": "stdout",
     "output_type": "stream",
     "text": [
      "[(1, 'r', '-'), (2, 'g', '-.'), (3, 'b', '--')]\n"
     ]
    }
   ],
   "source": [
    "# model 갯수에 묶음 원소가 다름  \n",
    "model = [1, 2, 3]\n",
    "z = zip(model, ['r','g','b'], ['-', '-.','--'])\n",
    "print( list(z) )\n",
    "'''\n",
    "[(1, 'r', '-')] -> model[1] \n",
    "[(1, 'r', '-'), (2, 'g', '-.')] -> model[1,2]\n",
    "[(1, 'r', '-'), (2, 'g', '-.'), (3, 'b', '--')] -> model[1,2,3]\n",
    "'''"
   ]
  },
  {
   "cell_type": "code",
   "execution_count": 22,
   "metadata": {},
   "outputs": [
    {
     "name": "stdout",
     "output_type": "stream",
     "text": [
      "22.5\n",
      "[ 0.  22.5 45.  67.5 90. ]\n"
     ]
    },
    {
     "name": "stderr",
     "output_type": "stream",
     "text": [
      "<ipython-input-22-b05a66dc9518>:5: DeprecationWarning: scipy.linspace is deprecated and will be removed in SciPy 2.0.0, use numpy.linspace instead\n",
      "  spl = sp.linspace(0, 90, num=5) # endpoint=True\n"
     ]
    }
   ],
   "source": [
    "# 2. sp.linspace : 특정 범위 내에서 지정한 갯수 만큼 vector 생성    \n",
    "#help(sp.linspace) # endpoint=True : 끝 점 stop 기준 \n",
    "\n",
    "# 0~90범위 내에서 5개 원소 생성\n",
    "spl = sp.linspace(0, 90, num=5) # endpoint=True \n",
    "print(90/4) # 22.5\n",
    "print(spl) # [  0.   22.5  45.   67.5  90. ]"
   ]
  },
  {
   "cell_type": "code",
   "execution_count": 23,
   "metadata": {},
   "outputs": [
    {
     "name": "stdout",
     "output_type": "stream",
     "text": [
      "18.0\n",
      "[ 0. 18. 36. 54. 72.]\n"
     ]
    },
    {
     "name": "stderr",
     "output_type": "stream",
     "text": [
      "<ipython-input-23-e1feb9ee0fbd>:2: DeprecationWarning: scipy.linspace is deprecated and will be removed in SciPy 2.0.0, use numpy.linspace instead\n",
      "  spl2 = sp.linspace(0, 90, num=5, endpoint=False)\n"
     ]
    }
   ],
   "source": [
    "# endpoint=False\n",
    "spl2 = sp.linspace(0, 90, num=5, endpoint=False)\n",
    "print(90/5) # 18.0\n",
    "print(spl2) # [  0.  18.  36.  54.  72.]"
   ]
  },
  {
   "cell_type": "code",
   "execution_count": 24,
   "metadata": {},
   "outputs": [
    {
     "name": "stdout",
     "output_type": "stream",
     "text": [
      "4.470779190270146\n",
      "[1.96116237 3.18869234 4.4162223  5.64375227 6.87128223]\n"
     ]
    }
   ],
   "source": [
    "# 1차항 회귀모델의 예측치 \n",
    "x = 46\n",
    "print(p1(x)) # p1(x) -> y 예측치 : 4.47077919027\n",
    "print(p1(spl)) # p1(spl) -> y 예측치 : vector 예측치 \n",
    "'''\n",
    "x : [  0.   22.5  45.   67.5  90. ]\n",
    "y : [ 1.96116237  3.18869234  4.4162223   5.64375227  6.87128223]\n",
    "'''"
   ]
  },
  {
   "cell_type": "code",
   "execution_count": 25,
   "metadata": {},
   "outputs": [
    {
     "name": "stdout",
     "output_type": "stream",
     "text": [
      "1\n",
      "2\n",
      "3\n"
     ]
    },
    {
     "data": {
      "text/plain": [
       "[None, None, None]"
      ]
     },
     "execution_count": 25,
     "metadata": {},
     "output_type": "execute_result"
    }
   ],
   "source": [
    "# 3. 범례의 항수 출력 \n",
    "models = [p1, p2, p3]\n",
    "[print(m.order) for m in models] # 1 2 3"
   ]
  },
  {
   "cell_type": "code",
   "execution_count": null,
   "metadata": {},
   "outputs": [],
   "source": []
  }
 ],
 "metadata": {
  "kernelspec": {
   "display_name": "Python 3",
   "language": "python",
   "name": "python3"
  },
  "language_info": {
   "codemirror_mode": {
    "name": "ipython",
    "version": 3
   },
   "file_extension": ".py",
   "mimetype": "text/x-python",
   "name": "python",
   "nbconvert_exporter": "python",
   "pygments_lexer": "ipython3",
   "version": "3.8.5"
  }
 },
 "nbformat": 4,
 "nbformat_minor": 4
}
