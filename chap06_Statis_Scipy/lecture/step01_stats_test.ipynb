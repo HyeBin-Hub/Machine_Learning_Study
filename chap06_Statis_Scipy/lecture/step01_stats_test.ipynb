{
 "cells": [
  {
   "cell_type": "code",
   "execution_count": 1,
   "metadata": {},
   "outputs": [],
   "source": [
    "'''\n",
    "scipy 패키지의 확률분포 검정\n",
    " 1. 정규분포 검정 \n",
    "    - 연속확률분포 : 정규분포, 균등분포, 카이제곱, T/Z/F분포 \n",
    " 2. 이항분포 검정(binominal test)\n",
    "    - 이산확률분포 : 베루누이분포, 이항분포, 포아송분포\n",
    " 3. 카이제곱 검정(chisquare test) \n",
    "'''\n",
    "\n",
    "from scipy import stats # 확률분포 검정 \n",
    "import numpy as np\n",
    "import matplotlib.pyplot as plt "
   ]
  },
  {
   "cell_type": "code",
   "execution_count": 2,
   "metadata": {},
   "outputs": [],
   "source": [
    "# 차트에서 한글 지원 \n",
    "from matplotlib import font_manager, rc\n",
    "font_name = font_manager.FontProperties(fname=\"c:/Windows/Fonts/malgun.ttf\").get_name()\n",
    "rc('font', family=font_name)"
   ]
  },
  {
   "cell_type": "code",
   "execution_count": 3,
   "metadata": {},
   "outputs": [],
   "source": [
    "# 음수 부호 지원 \n",
    "import matplotlib\n",
    "matplotlib.rcParams['axes.unicode_minus'] = False\n",
    "import pandas as pd"
   ]
  },
  {
   "cell_type": "code",
   "execution_count": 4,
   "metadata": {},
   "outputs": [
    {
     "name": "stdout",
     "output_type": "stream",
     "text": [
      "<scipy.stats._distn_infrastructure.rv_frozen object at 0x000002EF6AF44850>\n"
     ]
    }
   ],
   "source": [
    "# 1. 정규분포 검정 : 연속확률 분포, 평균 중심 좌우 대칭성 검정  \n",
    "mu = 0; std = 1; N = 1000\n",
    "std_norm = stats.norm(mu, std) # 표준 정규분포\n",
    "print(std_norm) # object info "
   ]
  },
  {
   "cell_type": "code",
   "execution_count": 5,
   "metadata": {},
   "outputs": [],
   "source": [
    "# 1) 정규분포확률변수 \n",
    "std_norm_data = std_norm.rvs(N) # 시뮬레이션 : 모집단 -> 1000개 sampling"
   ]
  },
  {
   "cell_type": "code",
   "execution_count": 6,
   "metadata": {},
   "outputs": [
    {
     "data": {
      "text/plain": [
       "array([-2.84762292, -2.78852279, -2.72942267, -2.67032254, -2.61122241,\n",
       "       -2.55212228, -2.49302216, -2.43392203, -2.3748219 , -2.31572177,\n",
       "       -2.25662164, -2.19752152, -2.13842139, -2.07932126, -2.02022113,\n",
       "       -1.96112101, -1.90202088, -1.84292075, -1.78382062, -1.7247205 ,\n",
       "       -1.66562037, -1.60652024, -1.54742011, -1.48831999, -1.42921986,\n",
       "       -1.37011973, -1.3110196 , -1.25191948, -1.19281935, -1.13371922,\n",
       "       -1.07461909, -1.01551897, -0.95641884, -0.89731871, -0.83821858,\n",
       "       -0.77911846, -0.72001833, -0.6609182 , -0.60181807, -0.54271794,\n",
       "       -0.48361782, -0.42451769, -0.36541756, -0.30631743, -0.24721731,\n",
       "       -0.18811718, -0.12901705, -0.06991692, -0.0108168 ,  0.04828333,\n",
       "        0.10738346,  0.16648359,  0.22558371,  0.28468384,  0.34378397,\n",
       "        0.4028841 ,  0.46198422,  0.52108435,  0.58018448,  0.63928461,\n",
       "        0.69838473,  0.75748486,  0.81658499,  0.87568512,  0.93478524,\n",
       "        0.99388537,  1.0529855 ,  1.11208563,  1.17118575,  1.23028588,\n",
       "        1.28938601,  1.34848614,  1.40758627,  1.46668639,  1.52578652,\n",
       "        1.58488665,  1.64398678,  1.7030869 ,  1.76218703,  1.82128716,\n",
       "        1.88038729,  1.93948741,  1.99858754,  2.05768767,  2.1167878 ,\n",
       "        2.17588792,  2.23498805,  2.29408818,  2.35318831,  2.41228843,\n",
       "        2.47138856,  2.53048869,  2.58958882,  2.64868894,  2.70778907,\n",
       "        2.7668892 ,  2.82598933,  2.88508945,  2.94418958,  3.00328971])"
      ]
     },
     "execution_count": 6,
     "metadata": {},
     "output_type": "execute_result"
    }
   ],
   "source": [
    "# 분포곡선 vector data\n",
    "x = np.linspace(min(std_norm_data), max(std_norm_data), 100)\n",
    "x # 100개 vector data 생성 "
   ]
  },
  {
   "cell_type": "code",
   "execution_count": 8,
   "metadata": {},
   "outputs": [
    {
     "data": {
      "image/png": "[encoded data removed]",
      "text/plain": [
       "<Figure size 432x288 with 1 Axes>"
      ]
     },
     "metadata": {
      "needs_background": "light"
     },
     "output_type": "display_data"
    },
    {
     "data": {
      "image/png": "[encoded data removed]",
      "text/plain": [
       "<Figure size 432x288 with 1 Axes>"
      ]
     },
     "metadata": {
      "needs_background": "light"
     },
     "output_type": "display_data"
    }
   ],
   "source": [
    "# 2) 히스토그램 : 확률밀도분포 곡선 시각화 \n",
    "plt.hist(std_norm_data) # y축 : 빈도수 기준   \n",
    "plt.show()\n",
    "\n",
    "plt.hist(std_norm_data, bins=\"auto\") # y축 : 밀도 기준   \n",
    "plt.show()"
   ]
  },
  {
   "cell_type": "code",
   "execution_count": 10,
   "metadata": {},
   "outputs": [
    {
     "data": {
      "image/png": "[encoded data removed]",
      "text/plain": [
       "<Figure size 432x288 with 1 Axes>"
      ]
     },
     "metadata": {
      "needs_background": "light"
     },
     "output_type": "display_data"
    }
   ],
   "source": [
    "# 3) 정규분포곡선 : 확률밀도분포\n",
    "from scipy.stats import norm # 확률 밀도(density) 함수\n",
    "\n",
    "plt.hist(std_norm_data, bins=\"auto\") # y축 : 밀도 기준\n",
    "plt.plot(x, norm.pdf(x, mu, std), color='red') \n",
    "plt.xlabel(\"표준편차\") \n",
    "plt.ylabel(\"확률 밀도\")\n",
    "plt.title(\"표준 정규분포곡선\")\n",
    "plt.show() # 평균 0 기준으로 -3 ~ +3 편차 "
   ]
  },
  {
   "cell_type": "code",
   "execution_count": 11,
   "metadata": {},
   "outputs": [
    {
     "name": "stdout",
     "output_type": "stream",
     "text": [
      "test_stat = 0.99823, pvalue = 0.39313\n",
      "정규분포와 차이가 없다.\n"
     ]
    }
   ],
   "source": [
    "# 4) 정규성 검정 \n",
    "# 귀무가설 : 정규분포와 차이가 없다.\n",
    "test_stat, pvalue = stats.shapiro(std_norm_data) # sample data \n",
    "print(\"test_stat = %.5f, pvalue = %.5f\"%(test_stat, pvalue))\n",
    "if pvalue >= 0.05 :\n",
    "    print('정규분포와 차이가 없다.')\n",
    "else :\n",
    "    print('정규분포와 차이가 있다.') "
   ]
  },
  {
   "cell_type": "code",
   "execution_count": 12,
   "metadata": {},
   "outputs": [
    {
     "name": "stdout",
     "output_type": "stream",
     "text": [
      "x= [0 1 0 1 1 0 0 0 1 0 0 1 1 0 0 1 1 0 0 1 1 0 1 0 1 0 0 0 0 1 0 0 0 0 0 0 1\n",
      " 1 0 0 1 1 1 1 1 0 0 0 0 1 0 0 1 1 1 0 1 1 0 1 0 1 1 0 1 1 1 0 1 0 0 1 1 0\n",
      " 0 0 1 1 0 0 0 1 0 1 1 0 0 1 0 0 0 1 0 1 0 0 0 1 0 0]\n"
     ]
    }
   ],
   "source": [
    "# 2. 이항 검정(binominal test) : 이항분포(2가지 범주)를 이용한 가설검정\n",
    "# - 베르누이 분포 : 이항변수(성공 or실패)에서 성공(1)이 나올 확률분포(모수 : 성공)\n",
    "# - 이항분포 : 베르누이 분포에서 시행횟수 n을 적용한 확률분포(모수 : N(시행횟수), P)\n",
    "  \n",
    "# ex) 게임에 이길 확률 : 50%, 시행횟수 : 100, 성공횟수 : ?  \n",
    "\n",
    "N = 100 # 시행횟수\n",
    "P = 0.5 # 모수 성공확률(이길 확률)\n",
    "#np.random.seed(0)\n",
    "\n",
    "# 1) 베르누이 분포 -> 이항분포 \n",
    "x = stats.bernoulli(P).rvs(N) # rvs(N) : 성공확률,시행횟수 : N번 시뮬레이션\n",
    "print('x=', x) # x= [1 1 1 1 0 1 0 1 1 0] -> 성공(1), 실패(0)"
   ]
  },
  {
   "cell_type": "code",
   "execution_count": 13,
   "metadata": {},
   "outputs": [
    {
     "name": "stdout",
     "output_type": "stream",
     "text": [
      "n= 44\n"
     ]
    }
   ],
   "source": [
    "# 2) 이항분포에서 성공 횟수 반환(1인 경우 반환) \n",
    "x = np.count_nonzero(x)  \n",
    "print('n=',x) # 성공횟수 : n= 47 ~ 53(편차 : 3)"
   ]
  },
  {
   "cell_type": "code",
   "execution_count": 14,
   "metadata": {},
   "outputs": [
    {
     "name": "stdout",
     "output_type": "stream",
     "text": [
      "Help on function binom_test in module scipy.stats.morestats:\n",
      "\n",
      "binom_test(x, n=None, p=0.5, alternative='two-sided')\n",
      "    Perform a test that the probability of success is p.\n",
      "    \n",
      "    This is an exact, two-sided test of the null hypothesis\n",
      "    that the probability of success in a Bernoulli experiment\n",
      "    is `p`.\n",
      "    \n",
      "    Parameters\n",
      "    ----------\n",
      "    x : int or array_like\n",
      "        The number of successes, or if x has length 2, it is the\n",
      "        number of successes and the number of failures.\n",
      "    n : int\n",
      "        The number of trials.  This is ignored if x gives both the\n",
      "        number of successes and failures.\n",
      "    p : float, optional\n",
      "        The hypothesized probability of success.  ``0 <= p <= 1``. The\n",
      "        default value is ``p = 0.5``.\n",
      "    alternative : {'two-sided', 'greater', 'less'}, optional\n",
      "        Indicates the alternative hypothesis. The default value is\n",
      "        'two-sided'.\n",
      "    \n",
      "    Returns\n",
      "    -------\n",
      "    p-value : float\n",
      "        The p-value of the hypothesis test.\n",
      "    \n",
      "    References\n",
      "    ----------\n",
      "    .. [1] https://en.wikipedia.org/wiki/Binomial_test\n",
      "    \n",
      "    Examples\n",
      "    --------\n",
      "    >>> from scipy import stats\n",
      "    \n",
      "    A car manufacturer claims that no more than 10% of their cars are unsafe.\n",
      "    15 cars are inspected for safety, 3 were found to be unsafe. Test the\n",
      "    manufacturer's claim:\n",
      "    \n",
      "    >>> stats.binom_test(3, n=15, p=0.1, alternative='greater')\n",
      "    0.18406106910639114\n",
      "    \n",
      "    The null hypothesis cannot be rejected at the 5% level of significance\n",
      "    because the returned p-value is greater than the critical value of 5%.\n",
      "\n",
      "x = 44, pvalue= 0.27125\n"
     ]
    }
   ],
   "source": [
    "# 3) 이항검정 : 이항분포 이용 가설검정 : 베르누이 확률 분포의 모수(P)에 대한 가설 검정  \n",
    "\n",
    "# [귀무가설] : 게임에 이길 확률 P = 0.5 다르지 않다. - default\n",
    "\n",
    "# (1) 유의확률\n",
    "help(stats.binom_test)\n",
    "'''\n",
    "binom_test(x, n=None, p=0.5, alternative='two-sided')\n",
    " x : 성공횟수, n : 시행횟수, p : 귀무가설 확률(0.5), alternative='two-sided' : 양측검정 \n",
    "''' \n",
    "#print('## 유의확률 ##')\n",
    "pvalue = stats.binom_test(x=x, n=N, p=0.5, alternative='two-sided') # 성공횟수, 시행횟수 \n",
    "print('x = %d, pvalue= %.5f'%(x, pvalue)) "
   ]
  },
  {
   "cell_type": "code",
   "execution_count": 16,
   "metadata": {},
   "outputs": [
    {
     "name": "stdout",
     "output_type": "stream",
     "text": [
      "## 이항 검정 ##\n",
      "p-value(0.2712530240738342) >= 0.05 : 기존 성공률 50%와 다르다고 할 수 없다.\n"
     ]
    },
    {
     "data": {
      "text/plain": [
       "'\\n[해설] 시행횟수 100회, 성공횟수 51회 일때 유의확률 : 92%\\n       이때 유의확률은 게임에 이길 확률 50% 가정하에 나온 확률이다.\\n       따라서 모집단의 확률모수(P)는 0.5와 차이가 없다고 볼 수 있다.(귀무가설 채택) \\n'"
      ]
     },
     "execution_count": 16,
     "metadata": {},
     "output_type": "execute_result"
    }
   ],
   "source": [
    "# (2) 이항검정 : 유의확률 vs 유의수준 \n",
    "print('## 이항 검정 ##')\n",
    "if pvalue > 0.05 : # 유의확률 > 유의수준 \n",
    "    print(f\"p-value({pvalue}) >= 0.05 : 기존 성공률 50%와 다르다고 할 수 없다.\")\n",
    "else:\n",
    "    print(f\"p-value({pvalue}) < 0.05 이므로 기존 성공률 50%와 다르다고 할 수 있다.\")\n",
    "'''\n",
    "[해설] 시행횟수 100회, 성공횟수 51회 일때 유의확률 : 92%\n",
    "       이때 유의확률은 게임에 이길 확률 50% 가정하에 나온 확률이다.\n",
    "       따라서 모집단의 확률모수(P)는 0.5와 차이가 없다고 볼 수 있다.(귀무가설 채택) \n",
    "'''"
   ]
  },
  {
   "cell_type": "code",
   "execution_count": 17,
   "metadata": {},
   "outputs": [
    {
     "name": "stdout",
     "output_type": "stream",
     "text": [
      "귀무가설 : 남여 합격률에 차이가 없다. p=0.3\n",
      "## 유의확률 ##\n",
      "n = 45, pvalue= 0.36820\n"
     ]
    }
   ],
   "source": [
    "# [이항검정 적용] \n",
    "# 100명의 응시자 중에서 45명이 남자라고 가정할 때 \n",
    "# 남자가 여자 보다 합격률이 높다고 할수 있는가?\n",
    "\n",
    "# 귀무가설 : 남여 합격률에 차이가 없다.(P=0.5)\n",
    "\n",
    "print('귀무가설 : 남여 합격률에 차이가 없다. p=0.3')\n",
    "print('## 유의확률 ##')\n",
    "n = 45      \n",
    "pvalue = stats.binom_test(x=n, n=100, p=0.5, alternative='two-sided') # 성공횟수, 시행횟수 \n",
    "print('n = %d, pvalue= %.5f'%(n, pvalue)) "
   ]
  },
  {
   "cell_type": "code",
   "execution_count": 18,
   "metadata": {},
   "outputs": [
    {
     "name": "stdout",
     "output_type": "stream",
     "text": [
      "## 이항 검정 ##\n",
      "p-value(0.36820161732669654) >= 0.05 : 남여 합격률에 차이가 없다.\n"
     ]
    }
   ],
   "source": [
    "# (2) 이항검정 \n",
    "print('## 이항 검정 ##')\n",
    "if pvalue > 0.05 : # 유의확률 > 유의수준 \n",
    "    print(f\"p-value({pvalue}) >= 0.05 : 남여 합격률에 차이가 없다.\")\n",
    "else:\n",
    "    print(f\"p-value({pvalue}) < 0.05 : 남여 합격률에 차이가 없다고 볼 수 있다.\")\n",
    "'''    \n",
    "## 유의확률 ##\n",
    "n = 45, pvalue= 0.36820\n",
    "## 이항 검정 ##\n",
    "p-value(0.36820161732669654) >= 0.05 : 남여 합격률에 차이가 없다.\n",
    "\n",
    "[해설] 시행횟수 100회, 성공횟수 45회 일때 유의확률 : 36.8%       \n",
    "       따라서 유의확률이 유의수준 0.05보다 크기 때문에 남여 합격률에 차이가 없다.\n",
    "''' "
   ]
  },
  {
   "cell_type": "code",
   "execution_count": 19,
   "metadata": {},
   "outputs": [
    {
     "name": "stdout",
     "output_type": "stream",
     "text": [
      "statistic = 14.200, pvalue = 0.014\n"
     ]
    }
   ],
   "source": [
    "\n",
    "# 3. 카이제곱 검정(chisquare test) \n",
    "# 기대비율(검정통계량) = sum( (관측값 - 기댓값)**2 / 기댓값)\n",
    "# 검정통계량 채택역 : -1.9 ~ +1.9 :  \n",
    "\n",
    "# 1) 일원 chi-square(1개 변수 이용) : 적합성 검정 \n",
    "# 귀무가설 : 관측치와 기대치는 차이가 없다.(게임에 적합하다.)\n",
    "# 대립가설 : 관측치와 기대치는 차이가 있다.(게임에 적합하지 않다.) \n",
    "real_data = [4, 6, 17, 16, 8, 9] # 관측치 \n",
    "exp_data = [10,10,10,10,10,10] # 기대치 \n",
    "chis = stats.chisquare(real_data, exp_data)\n",
    "print('statistic = %.3f, pvalue = %.3f'%(chis)) "
   ]
  },
  {
   "cell_type": "code",
   "execution_count": 20,
   "metadata": {},
   "outputs": [],
   "source": [
    "# 검정 통계량 = 기대비율\n",
    "real_arr = np.array(real_data)\n",
    "exp_arr = np.array(exp_data)"
   ]
  },
  {
   "cell_type": "code",
   "execution_count": 21,
   "metadata": {},
   "outputs": [
    {
     "name": "stdout",
     "output_type": "stream",
     "text": [
      "statistic = 14.200\n"
     ]
    }
   ],
   "source": [
    "# 기대비율 = sum((관측치 - 기대치)^2 / 기대치)\n",
    " \n",
    "stat = sum((real_arr - exp_arr)**2 / exp_arr)\n",
    "print('statistic = %.3f'%stat) # statistic = 14.200\n",
    "# pvalue >= 0.05 : 귀무가설(부정적 진술 : ~ 차이가 없다.) 채택 \n",
    "# pvalue < 0.05 : 대립가설(긍정적 진술 : ~ 차이가 있다.) 채택 "
   ]
  },
  {
   "cell_type": "code",
   "execution_count": 23,
   "metadata": {},
   "outputs": [
    {
     "name": "stdout",
     "output_type": "stream",
     "text": [
      "statistic = 347.667, pvalue = 0.585\n"
     ]
    }
   ],
   "source": [
    "# 2) 이원 chi-square(2개 변수 이용)\n",
    "# 교육수준과 흡연 간의 독립성 검정\n",
    "#귀무가설 : 교육수준과 흡연율 간에 관련성이 없다.(채택)\n",
    "#연구가설 : 교육수준과 흡연율 간에 관련성이 있다.(기각)\n",
    "\n",
    "#<단계 1> 파일 가져오기\n",
    "smoke = pd.read_csv(\"C:/Users/hyebin/Desktop/Python_ML/data/smoke.csv\")\n",
    "# 변수 보기\n",
    "# print(smoke)# education, smoking 변수\n",
    "education = smoke.education\n",
    "smoking = smoke.smoking\n",
    "\n",
    "chis = stats.chisquare(education, smoking)\n",
    "print('statistic = %.3f, pvalue = %.3f'%(chis))"
   ]
  },
  {
   "cell_type": "code",
   "execution_count": 24,
   "metadata": {},
   "outputs": [
    {
     "data": {
      "text/html": [
       "<div>\n",
       "<style scoped>\n",
       "    .dataframe tbody tr th:only-of-type {\n",
       "        vertical-align: middle;\n",
       "    }\n",
       "\n",
       "    .dataframe tbody tr th {\n",
       "        vertical-align: top;\n",
       "    }\n",
       "\n",
       "    .dataframe thead th {\n",
       "        text-align: right;\n",
       "    }\n",
       "</style>\n",
       "<table border=\"1\" class=\"dataframe\">\n",
       "  <thead>\n",
       "    <tr style=\"text-align: right;\">\n",
       "      <th></th>\n",
       "      <th>total_bill</th>\n",
       "      <th>tip</th>\n",
       "      <th>sex</th>\n",
       "      <th>smoker</th>\n",
       "      <th>day</th>\n",
       "      <th>time</th>\n",
       "      <th>size</th>\n",
       "    </tr>\n",
       "  </thead>\n",
       "  <tbody>\n",
       "    <tr>\n",
       "      <th>0</th>\n",
       "      <td>16.99</td>\n",
       "      <td>1.01</td>\n",
       "      <td>Female</td>\n",
       "      <td>No</td>\n",
       "      <td>Sun</td>\n",
       "      <td>Dinner</td>\n",
       "      <td>2</td>\n",
       "    </tr>\n",
       "    <tr>\n",
       "      <th>1</th>\n",
       "      <td>10.34</td>\n",
       "      <td>1.66</td>\n",
       "      <td>Male</td>\n",
       "      <td>No</td>\n",
       "      <td>Sun</td>\n",
       "      <td>Dinner</td>\n",
       "      <td>3</td>\n",
       "    </tr>\n",
       "    <tr>\n",
       "      <th>2</th>\n",
       "      <td>21.01</td>\n",
       "      <td>3.50</td>\n",
       "      <td>Male</td>\n",
       "      <td>No</td>\n",
       "      <td>Sun</td>\n",
       "      <td>Dinner</td>\n",
       "      <td>3</td>\n",
       "    </tr>\n",
       "    <tr>\n",
       "      <th>3</th>\n",
       "      <td>23.68</td>\n",
       "      <td>3.31</td>\n",
       "      <td>Male</td>\n",
       "      <td>No</td>\n",
       "      <td>Sun</td>\n",
       "      <td>Dinner</td>\n",
       "      <td>2</td>\n",
       "    </tr>\n",
       "    <tr>\n",
       "      <th>4</th>\n",
       "      <td>24.59</td>\n",
       "      <td>3.61</td>\n",
       "      <td>Female</td>\n",
       "      <td>No</td>\n",
       "      <td>Sun</td>\n",
       "      <td>Dinner</td>\n",
       "      <td>4</td>\n",
       "    </tr>\n",
       "  </tbody>\n",
       "</table>\n",
       "</div>"
      ],
      "text/plain": [
       "   total_bill   tip     sex smoker  day    time  size\n",
       "0       16.99  1.01  Female     No  Sun  Dinner     2\n",
       "1       10.34  1.66    Male     No  Sun  Dinner     3\n",
       "2       21.01  3.50    Male     No  Sun  Dinner     3\n",
       "3       23.68  3.31    Male     No  Sun  Dinner     2\n",
       "4       24.59  3.61  Female     No  Sun  Dinner     4"
      ]
     },
     "execution_count": 24,
     "metadata": {},
     "output_type": "execute_result"
    }
   ],
   "source": [
    "# 성별과 흡연 간의 독립성 검정 \n",
    "#귀무가설 : 성별과 흡연율 간에 관련성이 없다.(채택)\n",
    "#연구가설 : 성별과 흡연율 간에 관련성이 있다.(기각)\n",
    "\n",
    "tips = pd.read_csv(\"C:/Users/hyebin/Desktop/Python_ML/data/tips.csv\")\n",
    "#print(tips.info())\n",
    "tips.head()\n",
    "#print(tips.describe())"
   ]
  },
  {
   "cell_type": "code",
   "execution_count": 25,
   "metadata": {},
   "outputs": [
    {
     "data": {
      "text/html": [
       "<div>\n",
       "<style scoped>\n",
       "    .dataframe tbody tr th:only-of-type {\n",
       "        vertical-align: middle;\n",
       "    }\n",
       "\n",
       "    .dataframe tbody tr th {\n",
       "        vertical-align: top;\n",
       "    }\n",
       "\n",
       "    .dataframe thead th {\n",
       "        text-align: right;\n",
       "    }\n",
       "</style>\n",
       "<table border=\"1\" class=\"dataframe\">\n",
       "  <thead>\n",
       "    <tr style=\"text-align: right;\">\n",
       "      <th>smoker</th>\n",
       "      <th>No</th>\n",
       "      <th>Yes</th>\n",
       "    </tr>\n",
       "    <tr>\n",
       "      <th>sex</th>\n",
       "      <th></th>\n",
       "      <th></th>\n",
       "    </tr>\n",
       "  </thead>\n",
       "  <tbody>\n",
       "    <tr>\n",
       "      <th>Female</th>\n",
       "      <td>54</td>\n",
       "      <td>33</td>\n",
       "    </tr>\n",
       "    <tr>\n",
       "      <th>Male</th>\n",
       "      <td>97</td>\n",
       "      <td>60</td>\n",
       "    </tr>\n",
       "  </tbody>\n",
       "</table>\n",
       "</div>"
      ],
      "text/plain": [
       "smoker  No  Yes\n",
       "sex            \n",
       "Female  54   33\n",
       "Male    97   60"
      ]
     },
     "execution_count": 25,
     "metadata": {},
     "output_type": "execute_result"
    }
   ],
   "source": [
    "# 1) 교차분할표 \n",
    "# table = pd.crosstab(gender2, smoker2) # Error\n",
    "\n",
    "table = pd.crosstab(tips.sex, tips.smoker)\n",
    "table"
   ]
  },
  {
   "cell_type": "code",
   "execution_count": 26,
   "metadata": {},
   "outputs": [],
   "source": [
    "# 2) dummy 변수 : Female -> 1, Male -> 2(주의 : dummy 0은 안됨)\n",
    "#chis = stats.chisquare(tips.sex, f_exp=tips.smoker) # error 발생\n",
    "gender = tips.sex\n",
    "gender2 = [1 if g == 'Female' else 2 for g in gender ]\n",
    "smoker = tips.smoker\n",
    "smoker2 = [1 if s == 'No' else 2 for s in smoker ]"
   ]
  },
  {
   "cell_type": "code",
   "execution_count": 27,
   "metadata": {},
   "outputs": [
    {
     "name": "stdout",
     "output_type": "stream",
     "text": [
      "Power_divergenceResult(statistic=113.5, pvalue=0.99999999999994)\n",
      "statistic = 113.500, pvalue = 1.000\n"
     ]
    }
   ],
   "source": [
    "# 3) chisquare test \n",
    "chis = stats.chisquare(gender2, f_exp=smoker2)\n",
    "print(chis)\n",
    "print('statistic = %.3f, pvalue = %.3f'%(chis))"
   ]
  },
  {
   "cell_type": "code",
   "execution_count": null,
   "metadata": {},
   "outputs": [],
   "source": []
  }
 ],
 "metadata": {
  "kernelspec": {
   "display_name": "Python 3",
   "language": "python",
   "name": "python3"
  },
  "language_info": {
   "codemirror_mode": {
    "name": "ipython",
    "version": 3
   },
   "file_extension": ".py",
   "mimetype": "text/x-python",
   "name": "python",
   "nbconvert_exporter": "python",
   "pygments_lexer": "ipython3",
   "version": "3.8.5"
  }
 },
 "nbformat": 4,
 "nbformat_minor": 4
}
