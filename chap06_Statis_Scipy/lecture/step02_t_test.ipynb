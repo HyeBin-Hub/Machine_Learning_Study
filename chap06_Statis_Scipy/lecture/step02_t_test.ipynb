{
 "cells": [
  {
   "cell_type": "code",
   "execution_count": 1,
   "metadata": {},
   "outputs": [],
   "source": [
    "'''\n",
    "집단 간 평균차이 검정(t test)\n",
    "  1. 한 집단 평균 검정\n",
    "  2. 두 집단 평균 검정\n",
    "  3. 대응 두 집단\n",
    "'''\n",
    "\n",
    "import pandas as pd\n",
    "from scipy import stats\n",
    "from numpy import mean"
   ]
  },
  {
   "cell_type": "code",
   "execution_count": 2,
   "metadata": {},
   "outputs": [
    {
     "name": "stdout",
     "output_type": "stream",
     "text": [
      "[172.6271235230286, 175.39232620958364, 179.9207078997212, 177.18029589809368, 183.551845410232, 174.58616325562758, 181.48572937215653, 174.84106540280575, 174.58351058414488, 177.2500390762792, 182.409444213982, 176.29046714422404, 177.79066677185313, 172.60740107022576, 179.97813259955598, 176.49030914610032, 177.5586943621343, 182.94692237444366, 180.20226626903244, 179.3852955200176, 184.50293595091293, 176.91756860129038, 172.93730107958237, 172.44253467144125, 178.34489559349112, 179.21869444997327, 183.89305131693501, 177.29651321673163, 182.91978274886756, 172.69908030480642]\n",
      "30 명\n"
     ]
    }
   ],
   "source": [
    "# 1. 한 집단 평균 검정\n",
    "import random\n",
    "\n",
    "# 모집단 -> 10명 키 sample(172~185)\n",
    "sample_data = [random.uniform(172, 185) for i in range(30)] # 10 or 30\n",
    "print(sample_data)\n",
    "print(len(sample_data),'명') # 100 명"
   ]
  },
  {
   "cell_type": "code",
   "execution_count": 3,
   "metadata": {},
   "outputs": [
    {
     "name": "stdout",
     "output_type": "stream",
     "text": [
      "avg height = 177.94169213457587\n",
      "t검정 통계량 = 3.921, pvalue = 0.000\n"
     ]
    }
   ],
   "source": [
    "print('avg height =', mean(sample_data)) # np.mean\n",
    "one_group_test = stats.ttest_1samp(sample_data, 175.3)\n",
    "print('t검정 통계량 = %.3f, pvalue = %.3f'%(one_group_test))\n",
    "'''\n",
    "10 명\n",
    "avg height = 177.1834799029495\n",
    "t검정 통계량 = 2.491, pvalue = 0.034\n",
    "\n",
    "30 명 : 중심의 극한의 정리 \n",
    "avg height = 178.60497131359486\n",
    "t검정 통계량 = 5.014, pvalue = 0.000\n",
    "'''"
   ]
  },
  {
   "cell_type": "code",
   "execution_count": 4,
   "metadata": {},
   "outputs": [
    {
     "name": "stdout",
     "output_type": "stream",
     "text": [
      "Ttest_indResult(statistic=1.602968309036178, pvalue=0.11437421639500957)\n",
      "두 집단 평균 차이 검정 = 1.603, pvalue = 0.114\n"
     ]
    }
   ],
   "source": [
    "# 2. 두 집단 평균 검정 \n",
    "female_score = [random.uniform(50, 100) for i in range(30)] # \n",
    "# [63.8, 56.4, 55.2, 58.5, 64.0, 51.6, 54.6, 71.0]\n",
    "male_score = [random.uniform(45, 95) for i in range(30)] #\n",
    "two_sample = stats.ttest_ind(female_score, male_score)\n",
    "print(two_sample)\n",
    "print('두 집단 평균 차이 검정 = %.3f, pvalue = %.3f'%(two_sample))"
   ]
  },
  {
   "cell_type": "code",
   "execution_count": 5,
   "metadata": {},
   "outputs": [
    {
     "name": "stdout",
     "output_type": "stream",
     "text": [
      "<class 'pandas.core.frame.DataFrame'>\n",
      "RangeIndex: 240 entries, 0 to 239\n",
      "Data columns (total 5 columns):\n",
      " #   Column  Non-Null Count  Dtype  \n",
      "---  ------  --------------  -----  \n",
      " 0   no      240 non-null    int64  \n",
      " 1   gender  240 non-null    int64  \n",
      " 2   method  240 non-null    int64  \n",
      " 3   score   180 non-null    float64\n",
      " 4   survey  240 non-null    int64  \n",
      "dtypes: float64(1), int64(4)\n",
      "memory usage: 9.5 KB\n",
      "None\n"
     ]
    }
   ],
   "source": [
    "# file 데이터 이용 두집단 평균 검정 \n",
    "# file 데이터 이용 두집단 평균 검정 \n",
    "two_sample = pd.read_csv('C:/Users/hyebin/Desktop/Python_ML/data/two_sample.csv')\n",
    "print(two_sample.info())"
   ]
  },
  {
   "cell_type": "code",
   "execution_count": 6,
   "metadata": {},
   "outputs": [],
   "source": [
    "# 2개 칼럼만 추출\n",
    "result = two_sample[['method', 'score']]"
   ]
  },
  {
   "cell_type": "code",
   "execution_count": 7,
   "metadata": {},
   "outputs": [],
   "source": [
    "# 데이터 분리\n",
    "# (1) 교육방법 별 subset(부울식 이용)\n",
    "method1 = result[result['method'] == 1] # 방법1 \n",
    "method2 = result[result['method'] == 2] # 방법2 "
   ]
  },
  {
   "cell_type": "code",
   "execution_count": 8,
   "metadata": {},
   "outputs": [
    {
     "name": "stdout",
     "output_type": "stream",
     "text": [
      "0    5.1\n",
      "1    5.2\n",
      "2    4.7\n",
      "3    NaN\n",
      "4    5.0\n",
      "5    5.4\n",
      "6    5.0\n",
      "7    NaN\n",
      "8    4.9\n",
      "9    5.2\n",
      "Name: score, dtype: float64\n"
     ]
    }
   ],
   "source": [
    "# (2) 교육방법에서 '점수' 칼럼 선택(vector)\n",
    "score1 = method1['score'] # 방법1 -> 점수 \n",
    "score2 = method2['score'] # 방법2 -> 점수 \n",
    "print(score1[:10]) # NaN 확인 "
   ]
  },
  {
   "cell_type": "code",
   "execution_count": 9,
   "metadata": {},
   "outputs": [
    {
     "name": "stdout",
     "output_type": "stream",
     "text": [
      "0.6612519098548512\n",
      "0.5394373401534526\n"
     ]
    }
   ],
   "source": [
    "# (3) NaN -> 0 대체 \n",
    "score1 = score1.fillna(score1.mean())\n",
    "score2 = score2.fillna(score2.mean())\n",
    "\n",
    "print(score1.var())\n",
    "print(score2.var())\n"
   ]
  },
  {
   "cell_type": "code",
   "execution_count": 10,
   "metadata": {},
   "outputs": [
    {
     "name": "stdout",
     "output_type": "stream",
     "text": [
      "Ttest_indResult(statistic=-0.9468624993102985, pvalue=0.34466920341921115)\n",
      "t검정 통계량 = -0.947, pvalue = 0.345\n"
     ]
    }
   ],
   "source": [
    "# score1, score2에 NA가 있으면 Error 발생 \n",
    "result = stats.ttest_ind(score1, score2, equal_var=True) # tuple 타입 리턴 \n",
    "print(result)\n",
    "print('t검정 통계량 = %.3f, pvalue = %.3f'%result)"
   ]
  },
  {
   "cell_type": "code",
   "execution_count": 11,
   "metadata": {},
   "outputs": [
    {
     "name": "stdout",
     "output_type": "stream",
     "text": [
      "두 집단 평균 \n",
      "5.496590909090908 5.591304347826086\n"
     ]
    }
   ],
   "source": [
    "\n",
    "# [실습] 두 집단 평균 : 유의미한 수준에서 차이 없음 \n",
    "print('두 집단 평균 ')\n",
    "print(mean(score1), mean(score2))"
   ]
  },
  {
   "cell_type": "code",
   "execution_count": 12,
   "metadata": {},
   "outputs": [
    {
     "name": "stdout",
     "output_type": "stream",
     "text": [
      "Ttest_relResult(statistic=2.9967323363231486, pvalue=0.015035828072680951)\n",
      "t검정 통계량 = 2.997, pvalue = 0.015\n"
     ]
    }
   ],
   "source": [
    "# 3. 대응 두 집단 : 복부 수술전 10명의 몸무게와 복부 수술후 몸무게 변화 \n",
    "baseline = [67.2, 67.4, 71.5, 64, 75.6, 86.0, 85.1, 55.5, 81.9, 105.5]\n",
    "follow_up = [62.4, 64.6, 70.4, 65, 62.6, 80.1, 73.2, 58.2, 71.0, 101.0]\n",
    "paired_sample = stats.ttest_rel(baseline, follow_up)\n",
    "print(paired_sample)\n",
    "print('t검정 통계량 = %.3f, pvalue = %.3f'%paired_sample)"
   ]
  },
  {
   "cell_type": "code",
   "execution_count": 13,
   "metadata": {},
   "outputs": [
    {
     "name": "stdout",
     "output_type": "stream",
     "text": [
      "75.97 70.85\n"
     ]
    }
   ],
   "source": [
    "# [실습] 두 집단 평균 \n",
    "print(mean(baseline), mean(follow_up))"
   ]
  },
  {
   "cell_type": "code",
   "execution_count": null,
   "metadata": {},
   "outputs": [],
   "source": []
  }
 ],
 "metadata": {
  "kernelspec": {
   "display_name": "Python 3",
   "language": "python",
   "name": "python3"
  },
  "language_info": {
   "codemirror_mode": {
    "name": "ipython",
    "version": 3
   },
   "file_extension": ".py",
   "mimetype": "text/x-python",
   "name": "python",
   "nbconvert_exporter": "python",
   "pygments_lexer": "ipython3",
   "version": "3.8.5"
  }
 },
 "nbformat": 4,
 "nbformat_minor": 4
}
