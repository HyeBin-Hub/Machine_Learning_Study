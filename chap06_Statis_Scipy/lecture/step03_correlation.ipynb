{
 "cells": [
  {
   "cell_type": "code",
   "execution_count": 2,
   "metadata": {},
   "outputs": [],
   "source": [
    "'''\n",
    "공분산 vs 상관계수 \n",
    "- 공통점 : 변수 간의 상관성 분석\n",
    " \n",
    "1. 공분산 : 평균을 중심으로 자료의 분포를 나타내는 통계\n",
    " - 확률변수 : X, Y -> X 표본평균 : ux, Y 표본평균 : uy\n",
    " - 식 : Cov(X,Y) = 1/N * sum( (X-ux) * (Y-uy) )\n",
    " \n",
    " - Cov(X, Y) > 0 : X가 증가할 때 Y도 증가\n",
    " - Cov(X, Y) < 0 : X가 증가할 때 Y는 감소\n",
    " - Cov(X, Y) = 0 : 두 변수는 선형관계 아님(서로 독립적 관계)\n",
    " - 문제점 : 변량의 값이 클 수록 변수의 상관성이 높게 나타남(iq 큰 이유) \n",
    "    \n",
    "2. 상관계수 : 공분산을 각각의 분산으로 나눈어 정규화한 통계(공분산 문제 해결)\n",
    " - 부호는 공분산과 동일, 값은 절대값 1을 넘지 않음(-1 ~ 1)    \n",
    " - 식 : Corr(X, Y) = Cov(X,Y) / sqrt( var(X) * var(Y) )\n",
    "       Corr(X, Y) = Cov(X,Y) / std(X) * std(Y)\n",
    "'''\n",
    "\n",
    "# 패키지에 대한 별칭 지정 \n",
    "import pandas as pd \n",
    "\n",
    "# csv 파일 가져오기 \n",
    "score_iq = pd.read_csv('C:/Users/hyebin/Desktop/Python_ML/data/score_iq.csv')"
   ]
  },
  {
   "cell_type": "code",
   "execution_count": 5,
   "metadata": {},
   "outputs": [
    {
     "data": {
      "text/html": [
       "<div>\n",
       "<style scoped>\n",
       "    .dataframe tbody tr th:only-of-type {\n",
       "        vertical-align: middle;\n",
       "    }\n",
       "\n",
       "    .dataframe tbody tr th {\n",
       "        vertical-align: top;\n",
       "    }\n",
       "\n",
       "    .dataframe thead th {\n",
       "        text-align: right;\n",
       "    }\n",
       "</style>\n",
       "<table border=\"1\" class=\"dataframe\">\n",
       "  <thead>\n",
       "    <tr style=\"text-align: right;\">\n",
       "      <th></th>\n",
       "      <th>sid</th>\n",
       "      <th>score</th>\n",
       "      <th>iq</th>\n",
       "      <th>academy</th>\n",
       "      <th>game</th>\n",
       "      <th>tv</th>\n",
       "    </tr>\n",
       "  </thead>\n",
       "  <tbody>\n",
       "    <tr>\n",
       "      <th>0</th>\n",
       "      <td>10001</td>\n",
       "      <td>90</td>\n",
       "      <td>140</td>\n",
       "      <td>2</td>\n",
       "      <td>1</td>\n",
       "      <td>0</td>\n",
       "    </tr>\n",
       "    <tr>\n",
       "      <th>1</th>\n",
       "      <td>10002</td>\n",
       "      <td>75</td>\n",
       "      <td>125</td>\n",
       "      <td>1</td>\n",
       "      <td>3</td>\n",
       "      <td>3</td>\n",
       "    </tr>\n",
       "    <tr>\n",
       "      <th>2</th>\n",
       "      <td>10003</td>\n",
       "      <td>77</td>\n",
       "      <td>120</td>\n",
       "      <td>1</td>\n",
       "      <td>0</td>\n",
       "      <td>4</td>\n",
       "    </tr>\n",
       "    <tr>\n",
       "      <th>3</th>\n",
       "      <td>10004</td>\n",
       "      <td>83</td>\n",
       "      <td>135</td>\n",
       "      <td>2</td>\n",
       "      <td>3</td>\n",
       "      <td>2</td>\n",
       "    </tr>\n",
       "    <tr>\n",
       "      <th>4</th>\n",
       "      <td>10005</td>\n",
       "      <td>65</td>\n",
       "      <td>105</td>\n",
       "      <td>0</td>\n",
       "      <td>4</td>\n",
       "      <td>4</td>\n",
       "    </tr>\n",
       "  </tbody>\n",
       "</table>\n",
       "</div>"
      ],
      "text/plain": [
       "     sid  score   iq  academy  game  tv\n",
       "0  10001     90  140        2     1   0\n",
       "1  10002     75  125        1     3   3\n",
       "2  10003     77  120        1     0   4\n",
       "3  10004     83  135        2     3   2\n",
       "4  10005     65  105        0     4   4"
      ]
     },
     "execution_count": 5,
     "metadata": {},
     "output_type": "execute_result"
    }
   ],
   "source": [
    "score_iq.head() # 앞부분 5줄 보기"
   ]
  },
  {
   "cell_type": "code",
   "execution_count": 8,
   "metadata": {},
   "outputs": [
    {
     "name": "stdout",
     "output_type": "stream",
     "text": [
      "\n",
      "상관계수\n"
     ]
    },
    {
     "data": {
      "text/html": [
       "<div>\n",
       "<style scoped>\n",
       "    .dataframe tbody tr th:only-of-type {\n",
       "        vertical-align: middle;\n",
       "    }\n",
       "\n",
       "    .dataframe tbody tr th {\n",
       "        vertical-align: top;\n",
       "    }\n",
       "\n",
       "    .dataframe thead th {\n",
       "        text-align: right;\n",
       "    }\n",
       "</style>\n",
       "<table border=\"1\" class=\"dataframe\">\n",
       "  <thead>\n",
       "    <tr style=\"text-align: right;\">\n",
       "      <th></th>\n",
       "      <th>sid</th>\n",
       "      <th>score</th>\n",
       "      <th>iq</th>\n",
       "      <th>academy</th>\n",
       "      <th>game</th>\n",
       "      <th>tv</th>\n",
       "    </tr>\n",
       "  </thead>\n",
       "  <tbody>\n",
       "    <tr>\n",
       "      <th>sid</th>\n",
       "      <td>1.000000</td>\n",
       "      <td>-0.014399</td>\n",
       "      <td>-0.007048</td>\n",
       "      <td>-0.004398</td>\n",
       "      <td>0.018806</td>\n",
       "      <td>0.024565</td>\n",
       "    </tr>\n",
       "    <tr>\n",
       "      <th>score</th>\n",
       "      <td>-0.014399</td>\n",
       "      <td>1.000000</td>\n",
       "      <td>0.882220</td>\n",
       "      <td>0.896265</td>\n",
       "      <td>-0.298193</td>\n",
       "      <td>-0.819752</td>\n",
       "    </tr>\n",
       "    <tr>\n",
       "      <th>iq</th>\n",
       "      <td>-0.007048</td>\n",
       "      <td>0.882220</td>\n",
       "      <td>1.000000</td>\n",
       "      <td>0.671783</td>\n",
       "      <td>-0.031516</td>\n",
       "      <td>-0.585033</td>\n",
       "    </tr>\n",
       "    <tr>\n",
       "      <th>academy</th>\n",
       "      <td>-0.004398</td>\n",
       "      <td>0.896265</td>\n",
       "      <td>0.671783</td>\n",
       "      <td>1.000000</td>\n",
       "      <td>-0.351315</td>\n",
       "      <td>-0.948551</td>\n",
       "    </tr>\n",
       "    <tr>\n",
       "      <th>game</th>\n",
       "      <td>0.018806</td>\n",
       "      <td>-0.298193</td>\n",
       "      <td>-0.031516</td>\n",
       "      <td>-0.351315</td>\n",
       "      <td>1.000000</td>\n",
       "      <td>0.239217</td>\n",
       "    </tr>\n",
       "    <tr>\n",
       "      <th>tv</th>\n",
       "      <td>0.024565</td>\n",
       "      <td>-0.819752</td>\n",
       "      <td>-0.585033</td>\n",
       "      <td>-0.948551</td>\n",
       "      <td>0.239217</td>\n",
       "      <td>1.000000</td>\n",
       "    </tr>\n",
       "  </tbody>\n",
       "</table>\n",
       "</div>"
      ],
      "text/plain": [
       "              sid     score        iq   academy      game        tv\n",
       "sid      1.000000 -0.014399 -0.007048 -0.004398  0.018806  0.024565\n",
       "score   -0.014399  1.000000  0.882220  0.896265 -0.298193 -0.819752\n",
       "iq      -0.007048  0.882220  1.000000  0.671783 -0.031516 -0.585033\n",
       "academy -0.004398  0.896265  0.671783  1.000000 -0.351315 -0.948551\n",
       "game     0.018806 -0.298193 -0.031516 -0.351315  1.000000  0.239217\n",
       "tv       0.024565 -0.819752 -0.585033 -0.948551  0.239217  1.000000"
      ]
     },
     "execution_count": 8,
     "metadata": {},
     "output_type": "execute_result"
    }
   ],
   "source": [
    "print('\\n상관계수')\n",
    "corr = score_iq.corr(method='pearson')\n",
    "corr # score vs iq   academy 상관계수가 가장높다."
   ]
  },
  {
   "cell_type": "code",
   "execution_count": 10,
   "metadata": {},
   "outputs": [
    {
     "name": "stdout",
     "output_type": "stream",
     "text": [
      "\n",
      "공분산\n"
     ]
    },
    {
     "data": {
      "text/html": [
       "<div>\n",
       "<style scoped>\n",
       "    .dataframe tbody tr th:only-of-type {\n",
       "        vertical-align: middle;\n",
       "    }\n",
       "\n",
       "    .dataframe tbody tr th {\n",
       "        vertical-align: top;\n",
       "    }\n",
       "\n",
       "    .dataframe thead th {\n",
       "        text-align: right;\n",
       "    }\n",
       "</style>\n",
       "<table border=\"1\" class=\"dataframe\">\n",
       "  <thead>\n",
       "    <tr style=\"text-align: right;\">\n",
       "      <th></th>\n",
       "      <th>sid</th>\n",
       "      <th>score</th>\n",
       "      <th>iq</th>\n",
       "      <th>academy</th>\n",
       "      <th>game</th>\n",
       "      <th>tv</th>\n",
       "    </tr>\n",
       "  </thead>\n",
       "  <tbody>\n",
       "    <tr>\n",
       "      <th>sid</th>\n",
       "      <td>1887.500000</td>\n",
       "      <td>-4.100671</td>\n",
       "      <td>-2.718121</td>\n",
       "      <td>-0.231544</td>\n",
       "      <td>1.208054</td>\n",
       "      <td>1.432886</td>\n",
       "    </tr>\n",
       "    <tr>\n",
       "      <th>score</th>\n",
       "      <td>-4.100671</td>\n",
       "      <td>42.968412</td>\n",
       "      <td>51.337539</td>\n",
       "      <td>7.119911</td>\n",
       "      <td>-2.890201</td>\n",
       "      <td>-7.214586</td>\n",
       "    </tr>\n",
       "    <tr>\n",
       "      <th>iq</th>\n",
       "      <td>-2.718121</td>\n",
       "      <td>51.337539</td>\n",
       "      <td>78.807338</td>\n",
       "      <td>7.227293</td>\n",
       "      <td>-0.413691</td>\n",
       "      <td>-6.972975</td>\n",
       "    </tr>\n",
       "    <tr>\n",
       "      <th>academy</th>\n",
       "      <td>-0.231544</td>\n",
       "      <td>7.119911</td>\n",
       "      <td>7.227293</td>\n",
       "      <td>1.468680</td>\n",
       "      <td>-0.629530</td>\n",
       "      <td>-1.543400</td>\n",
       "    </tr>\n",
       "    <tr>\n",
       "      <th>game</th>\n",
       "      <td>1.208054</td>\n",
       "      <td>-2.890201</td>\n",
       "      <td>-0.413691</td>\n",
       "      <td>-0.629530</td>\n",
       "      <td>2.186309</td>\n",
       "      <td>0.474899</td>\n",
       "    </tr>\n",
       "    <tr>\n",
       "      <th>tv</th>\n",
       "      <td>1.432886</td>\n",
       "      <td>-7.214586</td>\n",
       "      <td>-6.972975</td>\n",
       "      <td>-1.543400</td>\n",
       "      <td>0.474899</td>\n",
       "      <td>1.802640</td>\n",
       "    </tr>\n",
       "  </tbody>\n",
       "</table>\n",
       "</div>"
      ],
      "text/plain": [
       "                 sid      score         iq   academy      game        tv\n",
       "sid      1887.500000  -4.100671  -2.718121 -0.231544  1.208054  1.432886\n",
       "score      -4.100671  42.968412  51.337539  7.119911 -2.890201 -7.214586\n",
       "iq         -2.718121  51.337539  78.807338  7.227293 -0.413691 -6.972975\n",
       "academy    -0.231544   7.119911   7.227293  1.468680 -0.629530 -1.543400\n",
       "game        1.208054  -2.890201  -0.413691 -0.629530  2.186309  0.474899\n",
       "tv          1.432886  -7.214586  -6.972975 -1.543400  0.474899  1.802640"
      ]
     },
     "execution_count": 10,
     "metadata": {},
     "output_type": "execute_result"
    }
   ],
   "source": [
    "print('\\n공분산')\n",
    "cov = score_iq.cov()\n",
    "cov"
   ]
  },
  {
   "cell_type": "code",
   "execution_count": 11,
   "metadata": {},
   "outputs": [
    {
     "name": "stdout",
     "output_type": "stream",
     "text": [
      "score vs iq 상관관계: 0.8822203446134705\n"
     ]
    }
   ],
   "source": [
    "# [해설] 상관성이 낮아도 변량의 값이 크면(score) 공분산 크게 나타난다. \n",
    "\n",
    "# 칼럼 간 상관관계\n",
    "corr = score_iq['score'].corr(score_iq['iq'])\n",
    "print('score vs iq 상관관계:', corr)"
   ]
  },
  {
   "cell_type": "code",
   "execution_count": 12,
   "metadata": {},
   "outputs": [
    {
     "name": "stdout",
     "output_type": "stream",
     "text": [
      "score vs academy 상관관계: 0.8962646792534942\n"
     ]
    }
   ],
   "source": [
    "corr2 = score_iq['score'].corr(score_iq['academy'])\n",
    "print('score vs academy 상관관계:', corr2)"
   ]
  },
  {
   "cell_type": "code",
   "execution_count": 13,
   "metadata": {},
   "outputs": [
    {
     "name": "stdout",
     "output_type": "stream",
     "text": [
      "score vs iq 공분산 :  51.337539149888144\n"
     ]
    }
   ],
   "source": [
    "# 칼럼 간 공분산 \n",
    "cov = score_iq['score'].cov(score_iq['iq'])\n",
    "print('score vs iq 공분산 : ', cov)"
   ]
  },
  {
   "cell_type": "code",
   "execution_count": 14,
   "metadata": {},
   "outputs": [
    {
     "name": "stdout",
     "output_type": "stream",
     "text": [
      "score vs academy 공분산 :  7.119910514541386\n"
     ]
    }
   ],
   "source": [
    "cov = score_iq['score'].cov(score_iq['academy'])\n",
    "print('score vs academy 공분산 : ', cov)\n",
    "# [해설] iq가 academy에 비해서 공분산이 매우 큰 이유 "
   ]
  },
  {
   "cell_type": "code",
   "execution_count": 15,
   "metadata": {},
   "outputs": [
    {
     "name": "stdout",
     "output_type": "stream",
     "text": [
      "mean\n",
      "123.77333333333333 1.9666666666666666\n"
     ]
    }
   ],
   "source": [
    "X = score_iq['score']\n",
    "Y1 = score_iq['iq']\n",
    "Y2 = score_iq['academy']\n",
    "\n",
    "uy1 = Y1.mean()\n",
    "uy2 = Y2.mean()\n",
    "print('mean')\n",
    "print(uy1, uy2)\n",
    "# [해설] iq가 academy에 비해서 변량의 값이 크다.\n",
    "# 상관성이 낮아도 변량의 값이 크면 공분산 크게 나타난다. "
   ]
  },
  {
   "cell_type": "code",
   "execution_count": 16,
   "metadata": {},
   "outputs": [
    {
     "name": "stdout",
     "output_type": "stream",
     "text": [
      "cov : 50.99528888888886 7.0724444444444385\n"
     ]
    }
   ],
   "source": [
    "X = score_iq['score']\n",
    "Y1 = score_iq['iq']\n",
    "Y2 = score_iq['academy']\n",
    "\n",
    "# 식 : Cov(X,Y) = 1/N * sum((X-ux)*(Y-uy))\n",
    "def Cov(X, Y):\n",
    "    ux = X.mean()\n",
    "    uy = Y.mean() \n",
    "    cov_re = 1/len(X) * sum( (X-ux) * (Y-uy) )\n",
    "    return cov_re\n",
    "    \n",
    "cov1 = Cov(X, Y1)\n",
    "cov2 = Cov(X, Y2)\n",
    "print('cov :', cov1, cov2)"
   ]
  },
  {
   "cell_type": "code",
   "execution_count": 17,
   "metadata": {},
   "outputs": [
    {
     "name": "stdout",
     "output_type": "stream",
     "text": [
      "corr : 0.8763388756493801 0.8902895813918038\n"
     ]
    }
   ],
   "source": [
    "import numpy as np\n",
    "\n",
    "# 식 : Corr(X, Y) = Cov(X,Y) / sqrt(var(X)*var(Y))\n",
    "def Corr(cov, X, Y):    \n",
    "    var_x = X.var()\n",
    "    var_y = Y.var()\n",
    "    corr_re = cov / np.sqrt(var_x * var_y)\n",
    "    #corr_re = cov / (X.std() * Y.std())\n",
    "    return corr_re\n",
    "\n",
    "corr1 = Corr(cov1, X, Y1)\n",
    "corr2 = Corr(cov2, X, Y2)\n",
    "print('corr :', corr1, corr2)"
   ]
  },
  {
   "cell_type": "code",
   "execution_count": null,
   "metadata": {},
   "outputs": [],
   "source": []
  }
 ],
 "metadata": {
  "kernelspec": {
   "display_name": "Python 3",
   "language": "python",
   "name": "python3"
  },
  "language_info": {
   "codemirror_mode": {
    "name": "ipython",
    "version": 3
   },
   "file_extension": ".py",
   "mimetype": "text/x-python",
   "name": "python",
   "nbconvert_exporter": "python",
   "pygments_lexer": "ipython3",
   "version": "3.8.5"
  }
 },
 "nbformat": 4,
 "nbformat_minor": 4
}
