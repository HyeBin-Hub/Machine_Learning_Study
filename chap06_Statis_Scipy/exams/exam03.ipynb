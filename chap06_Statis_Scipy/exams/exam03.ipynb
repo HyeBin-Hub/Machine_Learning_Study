{
 "cells": [
  {
   "cell_type": "code",
   "execution_count": 2,
   "metadata": {},
   "outputs": [
    {
     "data": {
      "text/plain": [
       "'\\n귀무가설 : academy는 score에 영향을 미치지 않는다.\\n대립가설 : academy는 score에 영향을 미친다.\\n'"
      ]
     },
     "execution_count": 2,
     "metadata": {},
     "output_type": "execute_result"
    }
   ],
   "source": [
    "'''\n",
    "step05_regress 관련 문제 \n",
    "문1) score_iq.csv 데이터셋을 이용하여 단순선형회귀모델을 생성하시오.\n",
    "   <조건1> y변수 : score, x변수 : academy      \n",
    "   <조건2> 회귀모델 생성과 결과확인(회귀계수, 설명력, pvalue, 표준오차) \n",
    "   <조건3> 회귀선 적용 시각화 \n",
    "   \n",
    "문2) irsi.csv 데이터셋을 이용하여 다중선형회귀모델을 생성하시오.\n",
    "   <조건1> 칼럼명에 포함된 '.' 을 '_'로 수정\n",
    "   <조건2> y변수 : 1번째 칼럼, x변수 : 2~4번째 칼럼    \n",
    "   <조건3> 회귀계수 확인 \n",
    "   <조건4> 회귀모델 세부 결과 확인  : summary()함수 이용  \n",
    "'''\n",
    "\n",
    "from scipy import stats\n",
    "import pandas as pd\n",
    "import statsmodels.formula.api as sm\n",
    "\n",
    "# 문1) score_iq.csv 파일의 academy와 score 칼럼을 대상으로 회귀모델을 생성하시오.\n",
    "'''\n",
    "귀무가설 : academy는 score에 영향을 미치지 않는다.\n",
    "대립가설 : academy는 score에 영향을 미친다.\n",
    "'''"
   ]
  },
  {
   "cell_type": "code",
   "execution_count": 6,
   "metadata": {},
   "outputs": [
    {
     "data": {
      "text/html": [
       "<div>\n",
       "<style scoped>\n",
       "    .dataframe tbody tr th:only-of-type {\n",
       "        vertical-align: middle;\n",
       "    }\n",
       "\n",
       "    .dataframe tbody tr th {\n",
       "        vertical-align: top;\n",
       "    }\n",
       "\n",
       "    .dataframe thead th {\n",
       "        text-align: right;\n",
       "    }\n",
       "</style>\n",
       "<table border=\"1\" class=\"dataframe\">\n",
       "  <thead>\n",
       "    <tr style=\"text-align: right;\">\n",
       "      <th></th>\n",
       "      <th>sid</th>\n",
       "      <th>score</th>\n",
       "      <th>iq</th>\n",
       "      <th>academy</th>\n",
       "      <th>game</th>\n",
       "      <th>tv</th>\n",
       "    </tr>\n",
       "  </thead>\n",
       "  <tbody>\n",
       "    <tr>\n",
       "      <th>0</th>\n",
       "      <td>10001</td>\n",
       "      <td>90</td>\n",
       "      <td>140</td>\n",
       "      <td>2</td>\n",
       "      <td>1</td>\n",
       "      <td>0</td>\n",
       "    </tr>\n",
       "    <tr>\n",
       "      <th>1</th>\n",
       "      <td>10002</td>\n",
       "      <td>75</td>\n",
       "      <td>125</td>\n",
       "      <td>1</td>\n",
       "      <td>3</td>\n",
       "      <td>3</td>\n",
       "    </tr>\n",
       "    <tr>\n",
       "      <th>2</th>\n",
       "      <td>10003</td>\n",
       "      <td>77</td>\n",
       "      <td>120</td>\n",
       "      <td>1</td>\n",
       "      <td>0</td>\n",
       "      <td>4</td>\n",
       "    </tr>\n",
       "    <tr>\n",
       "      <th>3</th>\n",
       "      <td>10004</td>\n",
       "      <td>83</td>\n",
       "      <td>135</td>\n",
       "      <td>2</td>\n",
       "      <td>3</td>\n",
       "      <td>2</td>\n",
       "    </tr>\n",
       "    <tr>\n",
       "      <th>4</th>\n",
       "      <td>10005</td>\n",
       "      <td>65</td>\n",
       "      <td>105</td>\n",
       "      <td>0</td>\n",
       "      <td>4</td>\n",
       "      <td>4</td>\n",
       "    </tr>\n",
       "  </tbody>\n",
       "</table>\n",
       "</div>"
      ],
      "text/plain": [
       "     sid  score   iq  academy  game  tv\n",
       "0  10001     90  140        2     1   0\n",
       "1  10002     75  125        1     3   3\n",
       "2  10003     77  120        1     0   4\n",
       "3  10004     83  135        2     3   2\n",
       "4  10005     65  105        0     4   4"
      ]
     },
     "execution_count": 6,
     "metadata": {},
     "output_type": "execute_result"
    }
   ],
   "source": [
    "\n",
    "# 1. 단순 선형회귀분석(stats)\n",
    "\n",
    "score = pd.read_csv('C:/Users/hyebin/Desktop/Python_ML/data/score_iq.csv')\n",
    "\n",
    "x = score.academy # 독립변수  \n",
    "y = score.score # 종속변수\n",
    "\n",
    "score.head()"
   ]
  },
  {
   "cell_type": "code",
   "execution_count": 7,
   "metadata": {},
   "outputs": [
    {
     "name": "stdout",
     "output_type": "stream",
     "text": [
      "LinregressResult(slope=4.847829398324448, intercept=68.23926884996192, rvalue=0.8962646792534941, pvalue=4.036716755167245e-54, stderr=0.19719368077532995)\n",
      "x 기울기 :  4.847829398324448\n",
      "y 절편 : 68.23926884996192\n",
      "설명력 :  0.8962646792534941\n",
      "p값 :  4.036716755167245e-54\n",
      "x 표준오차 : 0.19719368077532995\n"
     ]
    }
   ],
   "source": [
    "model = stats.linregress(x, y)\n",
    "print(model)\n",
    "print('x 기울기 : ', model.slope) \n",
    "print('y 절편 :', model.intercept)\n",
    "print('설명력 : ', model.rvalue)\n",
    "print('p값 : ', model.pvalue) # F검정 통계량 \n",
    "print('x 표준오차 :' , model.stderr)"
   ]
  },
  {
   "cell_type": "code",
   "execution_count": 8,
   "metadata": {},
   "outputs": [
    {
     "name": "stdout",
     "output_type": "stream",
     "text": [
      "[77.93492765 73.08709825 73.08709825 77.93492765 68.23926885 82.78275704\n",
      " 82.78275704 73.08709825 87.63058644 77.93492765 73.08709825 73.08709825\n",
      " 77.93492765 68.23926885 82.78275704 68.23926885 82.78275704 82.78275704\n",
      " 73.08709825 87.63058644 77.93492765 73.08709825 82.78275704 82.78275704\n",
      " 73.08709825 87.63058644 77.93492765 73.08709825 73.08709825 77.93492765\n",
      " 68.23926885 82.78275704 68.23926885 82.78275704 82.78275704 82.78275704\n",
      " 82.78275704 73.08709825 87.63058644 77.93492765 73.08709825 82.78275704\n",
      " 82.78275704 73.08709825 87.63058644 77.93492765 73.08709825 73.08709825\n",
      " 77.93492765 73.08709825 77.93492765 68.23926885 82.78275704 82.78275704\n",
      " 73.08709825 87.63058644 77.93492765 73.08709825 73.08709825 77.93492765\n",
      " 68.23926885 82.78275704 68.23926885 82.78275704 82.78275704 73.08709825\n",
      " 87.63058644 77.93492765 73.08709825 82.78275704 73.08709825 87.63058644\n",
      " 77.93492765 73.08709825 73.08709825 77.93492765 68.23926885 82.78275704\n",
      " 68.23926885 82.78275704 82.78275704 82.78275704 82.78275704 73.08709825\n",
      " 87.63058644 77.93492765 73.08709825 82.78275704 82.78275704 73.08709825\n",
      " 87.63058644 77.93492765 73.08709825 82.78275704 73.08709825 87.63058644\n",
      " 77.93492765 73.08709825 73.08709825 77.93492765 68.23926885 82.78275704\n",
      " 68.23926885 82.78275704 82.78275704 73.08709825 87.63058644 77.93492765\n",
      " 73.08709825 82.78275704 73.08709825 87.63058644 77.93492765 73.08709825\n",
      " 73.08709825 77.93492765 68.23926885 82.78275704 68.23926885 82.78275704\n",
      " 82.78275704 82.78275704 82.78275704 73.08709825 87.63058644 77.93492765\n",
      " 73.08709825 82.78275704 82.78275704 73.08709825 87.63058644 77.93492765\n",
      " 73.08709825 73.08709825 77.93492765 73.08709825 77.93492765 68.23926885\n",
      " 82.78275704 82.78275704 73.08709825 87.63058644 77.93492765 73.08709825\n",
      " 73.08709825 77.93492765 68.23926885 82.78275704 68.23926885 77.93492765]\n"
     ]
    },
    {
     "name": "stderr",
     "output_type": "stream",
     "text": [
      "<ipython-input-8-95ebcb71fbc6>:6: DeprecationWarning: scipy.polyval is deprecated and will be removed in SciPy 2.0.0, use numpy.polyval instead\n",
      "  reg_line = polyval([model.slope, model.intercept], score['academy'])\n"
     ]
    }
   ],
   "source": [
    "# 2. 회귀방정식 관련 함수 \n",
    "from scipy import polyval\n",
    "\n",
    "# y = x기울기*x + 절편 \n",
    "# polyval([x기울기, 절편], x변량)\n",
    "reg_line = polyval([model.slope, model.intercept], score['academy']) \n",
    "print(reg_line) # 예측치(fitted value)"
   ]
  },
  {
   "cell_type": "code",
   "execution_count": 9,
   "metadata": {},
   "outputs": [
    {
     "data": {
      "image/png": "[encoded data removed]",
      "text/plain": [
       "<Figure size 432x288 with 1 Axes>"
      ]
     },
     "metadata": {
      "needs_background": "light"
     },
     "output_type": "display_data"
    }
   ],
   "source": [
    "# 회귀모델 관련 시각화 \n",
    "from pylab import plot, title, legend, show\n",
    "# plot : 산점도\n",
    "# title, legend : 제목, 범례\n",
    "# show : 차트 출력 \n",
    "\n",
    "# 산점도 \n",
    "plot(score['academy'], score['score'], 'b.') # 파랑색 \n",
    "plot(score['academy'], reg_line, 'r.-') # 빨강색 \n",
    "title('regression plotting') # 제목 \n",
    "legend(['x y scatter', 'regression line']) # 범례 \n",
    "show()"
   ]
  },
  {
   "cell_type": "code",
   "execution_count": 10,
   "metadata": {},
   "outputs": [
    {
     "data": {
      "text/html": [
       "<div>\n",
       "<style scoped>\n",
       "    .dataframe tbody tr th:only-of-type {\n",
       "        vertical-align: middle;\n",
       "    }\n",
       "\n",
       "    .dataframe tbody tr th {\n",
       "        vertical-align: top;\n",
       "    }\n",
       "\n",
       "    .dataframe thead th {\n",
       "        text-align: right;\n",
       "    }\n",
       "</style>\n",
       "<table border=\"1\" class=\"dataframe\">\n",
       "  <thead>\n",
       "    <tr style=\"text-align: right;\">\n",
       "      <th></th>\n",
       "      <th>Sepal.Length</th>\n",
       "      <th>Sepal.Width</th>\n",
       "      <th>Petal.Length</th>\n",
       "      <th>Petal.Width</th>\n",
       "      <th>Species</th>\n",
       "    </tr>\n",
       "  </thead>\n",
       "  <tbody>\n",
       "    <tr>\n",
       "      <th>0</th>\n",
       "      <td>5.1</td>\n",
       "      <td>3.5</td>\n",
       "      <td>1.4</td>\n",
       "      <td>0.2</td>\n",
       "      <td>setosa</td>\n",
       "    </tr>\n",
       "    <tr>\n",
       "      <th>1</th>\n",
       "      <td>4.9</td>\n",
       "      <td>3.0</td>\n",
       "      <td>1.4</td>\n",
       "      <td>0.2</td>\n",
       "      <td>setosa</td>\n",
       "    </tr>\n",
       "    <tr>\n",
       "      <th>2</th>\n",
       "      <td>4.7</td>\n",
       "      <td>3.2</td>\n",
       "      <td>1.3</td>\n",
       "      <td>0.2</td>\n",
       "      <td>setosa</td>\n",
       "    </tr>\n",
       "    <tr>\n",
       "      <th>3</th>\n",
       "      <td>4.6</td>\n",
       "      <td>3.1</td>\n",
       "      <td>1.5</td>\n",
       "      <td>0.2</td>\n",
       "      <td>setosa</td>\n",
       "    </tr>\n",
       "    <tr>\n",
       "      <th>4</th>\n",
       "      <td>5.0</td>\n",
       "      <td>3.6</td>\n",
       "      <td>1.4</td>\n",
       "      <td>0.2</td>\n",
       "      <td>setosa</td>\n",
       "    </tr>\n",
       "  </tbody>\n",
       "</table>\n",
       "</div>"
      ],
      "text/plain": [
       "   Sepal.Length  Sepal.Width  Petal.Length  Petal.Width Species\n",
       "0           5.1          3.5           1.4          0.2  setosa\n",
       "1           4.9          3.0           1.4          0.2  setosa\n",
       "2           4.7          3.2           1.3          0.2  setosa\n",
       "3           4.6          3.1           1.5          0.2  setosa\n",
       "4           5.0          3.6           1.4          0.2  setosa"
      ]
     },
     "execution_count": 10,
     "metadata": {},
     "output_type": "execute_result"
    }
   ],
   "source": [
    "# 문2) irsi.csv 데이터셋을 이용하여 다중선형회귀모델을 생성하시오.\n",
    "# formula 형식의 회귀모델 생성 \n",
    "\n",
    "# 다중 선형회귀모델 \n",
    "iris = pd.read_csv('C:/Users/hyebin/Desktop/Python_ML/data/iris.csv')\n",
    "iris.head()"
   ]
  },
  {
   "cell_type": "code",
   "execution_count": 12,
   "metadata": {},
   "outputs": [
    {
     "data": {
      "text/html": [
       "<div>\n",
       "<style scoped>\n",
       "    .dataframe tbody tr th:only-of-type {\n",
       "        vertical-align: middle;\n",
       "    }\n",
       "\n",
       "    .dataframe tbody tr th {\n",
       "        vertical-align: top;\n",
       "    }\n",
       "\n",
       "    .dataframe thead th {\n",
       "        text-align: right;\n",
       "    }\n",
       "</style>\n",
       "<table border=\"1\" class=\"dataframe\">\n",
       "  <thead>\n",
       "    <tr style=\"text-align: right;\">\n",
       "      <th></th>\n",
       "      <th>one</th>\n",
       "      <th>two</th>\n",
       "      <th>three</th>\n",
       "      <th>four</th>\n",
       "      <th>five</th>\n",
       "    </tr>\n",
       "  </thead>\n",
       "  <tbody>\n",
       "    <tr>\n",
       "      <th>0</th>\n",
       "      <td>5.1</td>\n",
       "      <td>3.5</td>\n",
       "      <td>1.4</td>\n",
       "      <td>0.2</td>\n",
       "      <td>setosa</td>\n",
       "    </tr>\n",
       "    <tr>\n",
       "      <th>1</th>\n",
       "      <td>4.9</td>\n",
       "      <td>3.0</td>\n",
       "      <td>1.4</td>\n",
       "      <td>0.2</td>\n",
       "      <td>setosa</td>\n",
       "    </tr>\n",
       "    <tr>\n",
       "      <th>2</th>\n",
       "      <td>4.7</td>\n",
       "      <td>3.2</td>\n",
       "      <td>1.3</td>\n",
       "      <td>0.2</td>\n",
       "      <td>setosa</td>\n",
       "    </tr>\n",
       "    <tr>\n",
       "      <th>3</th>\n",
       "      <td>4.6</td>\n",
       "      <td>3.1</td>\n",
       "      <td>1.5</td>\n",
       "      <td>0.2</td>\n",
       "      <td>setosa</td>\n",
       "    </tr>\n",
       "    <tr>\n",
       "      <th>4</th>\n",
       "      <td>5.0</td>\n",
       "      <td>3.6</td>\n",
       "      <td>1.4</td>\n",
       "      <td>0.2</td>\n",
       "      <td>setosa</td>\n",
       "    </tr>\n",
       "  </tbody>\n",
       "</table>\n",
       "</div>"
      ],
      "text/plain": [
       "   one  two  three  four    five\n",
       "0  5.1  3.5    1.4   0.2  setosa\n",
       "1  4.9  3.0    1.4   0.2  setosa\n",
       "2  4.7  3.2    1.3   0.2  setosa\n",
       "3  4.6  3.1    1.5   0.2  setosa\n",
       "4  5.0  3.6    1.4   0.2  setosa"
      ]
     },
     "execution_count": 12,
     "metadata": {},
     "output_type": "execute_result"
    }
   ],
   "source": [
    "# iris 칼럼명 수정 \n",
    "iris.columns = ['one','two','three', 'four', 'five']\n",
    "iris.head()"
   ]
  },
  {
   "cell_type": "code",
   "execution_count": 15,
   "metadata": {},
   "outputs": [
    {
     "name": "stdout",
     "output_type": "stream",
     "text": [
      "Intercept    1.855997\n",
      "two          0.650837\n",
      "three        0.709132\n",
      "four        -0.556483\n",
      "dtype: float64\n"
     ]
    }
   ],
   "source": [
    "# formula 구성 : 칼럼에 . 제거 \n",
    "iris_model = sm.ols(formula=\"one ~ two+three+four\", data=iris).fit()\n",
    "\n",
    "# 회귀계수\n",
    "print(iris_model.params)"
   ]
  },
  {
   "cell_type": "code",
   "execution_count": 17,
   "metadata": {},
   "outputs": [
    {
     "name": "stdout",
     "output_type": "stream",
     "text": [
      "                            OLS Regression Results                            \n",
      "==============================================================================\n",
      "Dep. Variable:                    one   R-squared:                       0.859\n",
      "Model:                            OLS   Adj. R-squared:                  0.856\n",
      "Method:                 Least Squares   F-statistic:                     295.5\n",
      "Date:                Tue, 06 Jul 2021   Prob (F-statistic):           8.59e-62\n",
      "Time:                        23:14:38   Log-Likelihood:                -37.321\n",
      "No. Observations:                 150   AIC:                             82.64\n",
      "Df Residuals:                     146   BIC:                             94.69\n",
      "Df Model:                           3                                         \n",
      "Covariance Type:            nonrobust                                         \n",
      "==============================================================================\n",
      "                 coef    std err          t      P>|t|      [0.025      0.975]\n",
      "------------------------------------------------------------------------------\n",
      "Intercept      1.8560      0.251      7.401      0.000       1.360       2.352\n",
      "two            0.6508      0.067      9.765      0.000       0.519       0.783\n",
      "three          0.7091      0.057     12.502      0.000       0.597       0.821\n",
      "four          -0.5565      0.128     -4.363      0.000      -0.809      -0.304\n",
      "==============================================================================\n",
      "Omnibus:                        0.345   Durbin-Watson:                   2.060\n",
      "Prob(Omnibus):                  0.842   Jarque-Bera (JB):                0.504\n",
      "Skew:                           0.007   Prob(JB):                        0.777\n",
      "Kurtosis:                       2.716   Cond. No.                         54.7\n",
      "==============================================================================\n",
      "\n",
      "Notes:\n",
      "[1] Standard Errors assume that the covariance matrix of the errors is correctly specified.\n"
     ]
    }
   ],
   "source": [
    "\n",
    "print(iris_model.summary()) "
   ]
  },
  {
   "cell_type": "code",
   "execution_count": null,
   "metadata": {},
   "outputs": [],
   "source": []
  }
 ],
 "metadata": {
  "kernelspec": {
   "display_name": "Python 3",
   "language": "python",
   "name": "python3"
  },
  "language_info": {
   "codemirror_mode": {
    "name": "ipython",
    "version": 3
   },
   "file_extension": ".py",
   "mimetype": "text/x-python",
   "name": "python",
   "nbconvert_exporter": "python",
   "pygments_lexer": "ipython3",
   "version": "3.8.5"
  }
 },
 "nbformat": 4,
 "nbformat_minor": 4
}
