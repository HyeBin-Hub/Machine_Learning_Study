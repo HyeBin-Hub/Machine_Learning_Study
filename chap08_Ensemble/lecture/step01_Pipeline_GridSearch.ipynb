{
 "cells": [
  {
   "cell_type": "code",
   "execution_count": 1,
   "metadata": {},
   "outputs": [
    {
     "name": "stdout",
     "output_type": "stream",
     "text": [
      "(569, 30) \n",
      "\n",
      "[1.41272917e+01 1.92896485e+01 9.19690334e+01 6.54889104e+02\n",
      " 9.63602812e-02 1.04340984e-01 8.87993158e-02 4.89191459e-02\n",
      " 1.81161863e-01 6.27976098e-02 4.05172056e-01 1.21685343e+00\n",
      " 2.86605923e+00 4.03370791e+01 7.04097891e-03 2.54781388e-02\n",
      " 3.18937163e-02 1.17961371e-02 2.05422988e-02 3.79490387e-03\n",
      " 1.62691898e+01 2.56772232e+01 1.07261213e+02 8.80583128e+02\n",
      " 1.32368594e-01 2.54265044e-01 2.72188483e-01 1.14606223e-01\n",
      " 2.90075571e-01 8.39458172e-02] \n",
      "\n"
     ]
    }
   ],
   "source": [
    "\"\"\"\n",
    "Pipeline & GridSearch\n",
    " 1. SVM Model\n",
    " 2. Pipeline : model workflow(dataset 전처리 -> model -> test)\n",
    " 3. GridSearch : Model turning  \n",
    "  - 가능한 모든 조합을 시도하여 최적의 매개변수를 찾는 방법\n",
    "  - 매개변수를 튜닝하여 일반화 성능을 개선\n",
    "\"\"\"\n",
    "from sklearn.datasets import load_breast_cancer # dataset \n",
    "from sklearn.svm import SVC # svm model \n",
    "from sklearn.model_selection import train_test_split # dataset split\n",
    "from sklearn.preprocessing import MinMaxScaler#, StandardScaler # scaling\n",
    "from sklearn.pipeline import Pipeline # pipeline model\n",
    "from sklearn.model_selection import GridSearchCV # gridSearch model(model tuning)\n",
    "\n",
    "###############################\n",
    "## 1. SVM Model\n",
    "###############################\n",
    "# 1) data load\n",
    "cancer = load_breast_cancer()\n",
    "X = cancer.data\n",
    "print(X.shape,\"\\n\") # (569, 30)\n",
    "\n",
    "print(X.mean(axis=0) ,\"\\n\")#  열 단위 평균 -> 정규화 필요 \n",
    "\n",
    "\n",
    "y = cancer.target"
   ]
  },
  {
   "cell_type": "code",
   "execution_count": 2,
   "metadata": {},
   "outputs": [],
   "source": [
    "# 2) train/test split\n",
    "x_train, x_test, y_train, y_test = train_test_split(X, y, random_state=0)"
   ]
  },
  {
   "cell_type": "code",
   "execution_count": 5,
   "metadata": {},
   "outputs": [
    {
     "name": "stdout",
     "output_type": "stream",
     "text": [
      "[0.33973077 0.32204953 0.33414344 0.2184157  0.39483602 0.2585412\n",
      " 0.20770883 0.24425478 0.37612747 0.2665753  0.10620861 0.18830163\n",
      " 0.09819438 0.06330557 0.179273   0.17143324 0.08004879 0.22166197\n",
      " 0.17665835 0.09735464 0.29835706 0.36295259 0.28412337 0.17264252\n",
      " 0.40502809 0.21882619 0.21524051 0.39614895 0.26246658 0.18693597]\n",
      "\n",
      "[0.33372718 0.32967168 0.3293353  0.21246461 0.3946311  0.26673532\n",
      " 0.20909967 0.23980675 0.38996609 0.28171155 0.1067518  0.19236982\n",
      " 0.10289651 0.06064053 0.18661846 0.18339128 0.08200208 0.22879254\n",
      " 0.18256759 0.10864818 0.29161536 0.36711423 0.28020125 0.16573365\n",
      " 0.40148579 0.22434166 0.22384487 0.38694495 0.26581008 0.19752057]\n"
     ]
    }
   ],
   "source": [
    "# 3) x변수 scaling \n",
    "scaler = MinMaxScaler().fit(X)\n",
    "x_train_nor = scaler.transform(x_train)\n",
    "print(x_train_nor.mean(axis=0))\n",
    "print()\n",
    "x_test_nor = scaler.transform(x_test)\n",
    "print(x_test_nor.mean(axis=0))"
   ]
  },
  {
   "cell_type": "code",
   "execution_count": 6,
   "metadata": {},
   "outputs": [],
   "source": [
    "# 4) svm model\n",
    "svc=SVC(gamma = \"auto\", random_state = 1) # gamma 생략 시 warning\n",
    "model=svc.fit(x_train_nor,y_train) # x변수는 정규화한걸로"
   ]
  },
  {
   "cell_type": "code",
   "execution_count": 7,
   "metadata": {},
   "outputs": [
    {
     "name": "stdout",
     "output_type": "stream",
     "text": [
      "Accuracy(tuning before) = 0.958041958041958\n"
     ]
    }
   ],
   "source": [
    "# 5) model 평가 \n",
    "acc = model.score(x_test_nor, y_test)\n",
    "print('Accuracy(tuning before) =', acc)"
   ]
  },
  {
   "cell_type": "code",
   "execution_count": 11,
   "metadata": {},
   "outputs": [
    {
     "name": "stdout",
     "output_type": "stream",
     "text": [
      "Accuracy= 0.951048951048951\n"
     ]
    }
   ],
   "source": [
    "###############################\n",
    "# 2. Pipeline model\n",
    "###############################\n",
    "\n",
    "# 1) pipeline object : [ ('object', class), ('object', class) ] - [ tuple ]\n",
    "pipe_svc = Pipeline([ ('scaler', MinMaxScaler()), ('svc', SVC(gamma='auto')) ])\n",
    "#MinMaxScaler() or StandardScaler()\n",
    "# 2) pipeline model\n",
    "pipe_model = pipe_svc.fit(x_train, y_train) # raw data(none scaling)\n",
    "\n",
    "# 3) pipeline model test\n",
    "acc = pipe_model.score(x_test, y_test) # raw data(none scaling)\n",
    "\n",
    "print('Accuracy=', acc)\n",
    "# [해설] SVM 모델 결과와 동일함"
   ]
  },
  {
   "cell_type": "code",
   "execution_count": 12,
   "metadata": {},
   "outputs": [
    {
     "name": "stdout",
     "output_type": "stream",
     "text": [
      "{'svc__C': 1.0, 'svc__gamma': 1.0, 'svc__kernel': 'rbf'}\n",
      "Accuracy(tuning afterr) 0.972027972027972\n"
     ]
    }
   ],
   "source": [
    "#############################################\n",
    "# 3. pipeling model + GridSearch -> Turning\n",
    "#############################################\n",
    "\n",
    "# SVM 매개변수 튜닝 \n",
    "'''\n",
    " SVC(C=1.0, kernel='rbf', degree=3, gamma='auto_deprecated'\n",
    " SVC parameter : PPT 참고 \n",
    " C : 오분류 조절(값이 클 수록 오분류 적고, 과적합 증가)\n",
    " kernel : rbf:radial basis func(비선형), linear(선형)\n",
    " gamma : 비선형 결정경계 조절(값이 클 수록 원 크기 작고, 찌그러짐)  \n",
    "'''\n",
    "\n",
    "\n",
    "# 1) C, gamma 파라미터값 범위 : 10e-3 ~ 10e+3  \n",
    "params = [0.001, 0.01, 0.1, 1.0, 100.0, 1000.0] # 주의 : 0 제외 \n",
    "\n",
    "# dict 형식 : {'pipelineOjbect__C' : params_range}\n",
    "param_grid = [\n",
    "    {'svc__C': params, 'svc__kernel': ['linear']}, # 선형\n",
    "    {'svc__C': params, 'svc__gamma': params, 'svc__kernel': ['rbf']}] # 비선형 \n",
    "\n",
    "# 2) GridSearch model : Pipeline model 이용 \n",
    "# estimator = pipeline object, param_grid = params,     \n",
    "gs = GridSearchCV(estimator = pipe_svc, param_grid=param_grid, \n",
    "             scoring='accuracy', cv = 10, n_jobs=-1) \n",
    "# scoring='평가방법', cv=교차검정, n_jobs = CPU 코어 수\n",
    "\n",
    "grid_model = gs.fit(x_train, y_train)\n",
    "\n",
    "# 3) best params, score\n",
    "print(grid_model.best_params_)\n",
    "# {'svm__C': 1.0, 'svm__gamma': 1.0, 'svm__kernel': 'rbf'}\n",
    "\n",
    "acc = grid_model.score(x_test, y_test)\n",
    "print('Accuracy(tuning afterr)', acc)"
   ]
  },
  {
   "cell_type": "code",
   "execution_count": null,
   "metadata": {},
   "outputs": [],
   "source": []
  }
 ],
 "metadata": {
  "kernelspec": {
   "display_name": "Python 3",
   "language": "python",
   "name": "python3"
  },
  "language_info": {
   "codemirror_mode": {
    "name": "ipython",
    "version": 3
   },
   "file_extension": ".py",
   "mimetype": "text/x-python",
   "name": "python",
   "nbconvert_exporter": "python",
   "pygments_lexer": "ipython3",
   "version": "3.8.5"
  }
 },
 "nbformat": 4,
 "nbformat_minor": 4
}
