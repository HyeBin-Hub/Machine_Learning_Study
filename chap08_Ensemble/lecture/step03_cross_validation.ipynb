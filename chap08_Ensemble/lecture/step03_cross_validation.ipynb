{
 "cells": [
  {
   "cell_type": "code",
   "execution_count": 3,
   "metadata": {},
   "outputs": [
    {
     "data": {
      "text/html": [
       "<div>\n",
       "<style scoped>\n",
       "    .dataframe tbody tr th:only-of-type {\n",
       "        vertical-align: middle;\n",
       "    }\n",
       "\n",
       "    .dataframe tbody tr th {\n",
       "        vertical-align: top;\n",
       "    }\n",
       "\n",
       "    .dataframe thead th {\n",
       "        text-align: right;\n",
       "    }\n",
       "</style>\n",
       "<table border=\"1\" class=\"dataframe\">\n",
       "  <thead>\n",
       "    <tr style=\"text-align: right;\">\n",
       "      <th></th>\n",
       "      <th>Sepal.Length</th>\n",
       "      <th>Sepal.Width</th>\n",
       "      <th>Petal.Length</th>\n",
       "      <th>Petal.Width</th>\n",
       "      <th>Species</th>\n",
       "    </tr>\n",
       "  </thead>\n",
       "  <tbody>\n",
       "    <tr>\n",
       "      <th>0</th>\n",
       "      <td>5.1</td>\n",
       "      <td>3.5</td>\n",
       "      <td>1.4</td>\n",
       "      <td>0.2</td>\n",
       "      <td>setosa</td>\n",
       "    </tr>\n",
       "    <tr>\n",
       "      <th>1</th>\n",
       "      <td>4.9</td>\n",
       "      <td>3.0</td>\n",
       "      <td>1.4</td>\n",
       "      <td>0.2</td>\n",
       "      <td>setosa</td>\n",
       "    </tr>\n",
       "    <tr>\n",
       "      <th>2</th>\n",
       "      <td>4.7</td>\n",
       "      <td>3.2</td>\n",
       "      <td>1.3</td>\n",
       "      <td>0.2</td>\n",
       "      <td>setosa</td>\n",
       "    </tr>\n",
       "    <tr>\n",
       "      <th>3</th>\n",
       "      <td>4.6</td>\n",
       "      <td>3.1</td>\n",
       "      <td>1.5</td>\n",
       "      <td>0.2</td>\n",
       "      <td>setosa</td>\n",
       "    </tr>\n",
       "    <tr>\n",
       "      <th>4</th>\n",
       "      <td>5.0</td>\n",
       "      <td>3.6</td>\n",
       "      <td>1.4</td>\n",
       "      <td>0.2</td>\n",
       "      <td>setosa</td>\n",
       "    </tr>\n",
       "  </tbody>\n",
       "</table>\n",
       "</div>"
      ],
      "text/plain": [
       "   Sepal.Length  Sepal.Width  Petal.Length  Petal.Width Species\n",
       "0           5.1          3.5           1.4          0.2  setosa\n",
       "1           4.9          3.0           1.4          0.2  setosa\n",
       "2           4.7          3.2           1.3          0.2  setosa\n",
       "3           4.6          3.1           1.5          0.2  setosa\n",
       "4           5.0          3.6           1.4          0.2  setosa"
      ]
     },
     "execution_count": 3,
     "metadata": {},
     "output_type": "execute_result"
    }
   ],
   "source": [
    "'''\n",
    "교차검정(cross validation)\n",
    "'''\n",
    "\n",
    "import pandas as pd\n",
    "from sklearn.model_selection import cross_validate# cross validation \n",
    "from sklearn.ensemble import RandomForestClassifier # RM\n",
    "import matplotlib.pyplot as plt # 중요변수 시각화 \n",
    "\n",
    "iris = pd.read_csv('C:/Users/hyebin/Desktop/Python_ML//data/iris.csv')\n",
    "\n",
    "\n",
    "cols = list(iris.columns)\n",
    "\n",
    "x_data = iris[cols[:4]] # 1~4칼럼 \n",
    "y_data = iris[cols[-1]] # 5번째 칼럼\n",
    "iris.head()"
   ]
  },
  {
   "cell_type": "code",
   "execution_count": 5,
   "metadata": {},
   "outputs": [
    {
     "name": "stdout",
     "output_type": "stream",
     "text": [
      "{'fit_time': array([0.08001781, 0.08001781, 0.08001804, 0.08001804, 0.08001804]), 'score_time': array([0.00500154, 0.00600123, 0.00600147, 0.00600123, 0.00600171]), 'test_score': array([0.96666667, 0.96666667, 0.93333333, 0.93333333, 1.        ])} \n",
      "\n",
      "[0.96666667 0.96666667 0.93333333 0.93333333 1.        ]\n"
     ]
    }
   ],
   "source": [
    "# 1. model 생성 \n",
    "rfc = RandomForestClassifier()\n",
    "model = rfc.fit(x_data, y_data)\n",
    "\n",
    "\n",
    "# 2. 교차검정 : cv=5(30,30,30,30,30)\n",
    "score = cross_validate(model, x_data, y_data, cv=5)\n",
    "print(score,\"\\n\")\n",
    "print(score['test_score'])"
   ]
  },
  {
   "cell_type": "code",
   "execution_count": 6,
   "metadata": {},
   "outputs": [
    {
     "name": "stdout",
     "output_type": "stream",
     "text": [
      "0.96\n"
     ]
    }
   ],
   "source": [
    "# 각 모델의 산술평균 \n",
    "print(score['test_score'].mean())"
   ]
  },
  {
   "cell_type": "code",
   "execution_count": 7,
   "metadata": {},
   "outputs": [
    {
     "name": "stdout",
     "output_type": "stream",
     "text": [
      "특징 중요도 : \n",
      "[0.10762158 0.02292933 0.42456257 0.44488652]\n"
     ]
    }
   ],
   "source": [
    "# 3. 중요변수 시각화\n",
    "print(\"특징 중요도 : \\n{}\".format(model.feature_importances_))\n",
    "# [해설] 13개 x변수의 중요점수 -> x변수 이름 확인 불가  "
   ]
  },
  {
   "cell_type": "code",
   "execution_count": 8,
   "metadata": {},
   "outputs": [
    {
     "data": {
      "image/png": "[encoded data removed]",
      "text/plain": [
       "<Figure size 432x288 with 1 Axes>"
      ]
     },
     "metadata": {
      "needs_background": "light"
     },
     "output_type": "display_data"
    }
   ],
   "source": [
    "# 중요 변수 시각화\n",
    "def plot_feature_importances(model):\n",
    "    x_size = x_data.shape[1] # 13 : x변수 개수 \n",
    "    # 가로막대 차트 \n",
    "    plt.barh(range(x_size), model.feature_importances_) # y, width(x)\n",
    "    # y 축눈금\n",
    "    plt.yticks(range(x_size), cols[:4]) # size, name \n",
    "    plt.xlabel(\"importances\")\n",
    "    plt.show()\n",
    "\n",
    "plot_feature_importances(model)"
   ]
  },
  {
   "cell_type": "code",
   "execution_count": 9,
   "metadata": {},
   "outputs": [
    {
     "name": "stdout",
     "output_type": "stream",
     "text": [
      "RandomForestClassifier()\n"
     ]
    }
   ],
   "source": [
    "# 2. model 생성\n",
    "obj = RandomForestClassifier()  \n",
    "model= obj.fit(x_data,y_data) # raw dataset\n",
    "print(model)"
   ]
  },
  {
   "cell_type": "code",
   "execution_count": 10,
   "metadata": {},
   "outputs": [
    {
     "name": "stdout",
     "output_type": "stream",
     "text": [
      "{'fit_time': array([0.08701038, 0.08001828, 0.07952213, 0.08001781, 0.08001709]), 'score_time': array([0.00600147, 0.006001  , 0.00600147, 0.00500107, 0.00600195]), 'test_score': array([0.96666667, 0.96666667, 0.93333333, 0.93333333, 1.        ])}\n"
     ]
    }
   ],
   "source": [
    "# 3. model 평가 : 5겹(5등분 쪼개서 그중 하나를 테스트하고 나머지는 트레이닝 다섯번걸쳐서 하겠ㄷ)\n",
    "score = cross_validate(model,x_data,y_data,cv=5) # 5겹 교차검정\n",
    "print(score)"
   ]
  },
  {
   "cell_type": "code",
   "execution_count": 11,
   "metadata": {},
   "outputs": [
    {
     "name": "stdout",
     "output_type": "stream",
     "text": [
      "[0.96666667 0.96666667 0.93333333 0.93333333 1.        ]\n"
     ]
    }
   ],
   "source": [
    "test_score = score[\"test_score\"] # key를 통해 value값을 반환\n",
    "print(test_score)"
   ]
  },
  {
   "cell_type": "code",
   "execution_count": 12,
   "metadata": {},
   "outputs": [
    {
     "name": "stdout",
     "output_type": "stream",
     "text": [
      "0.96\n"
     ]
    }
   ],
   "source": [
    "# 각점수의대한 산술평균\n",
    "acc=score[\"test_score\"].mean()\n",
    "print(acc) "
   ]
  },
  {
   "cell_type": "code",
   "execution_count": 14,
   "metadata": {},
   "outputs": [
    {
     "data": {
      "image/png": "[encoded data removed]",
      "text/plain": [
       "<Figure size 432x288 with 1 Axes>"
      ]
     },
     "metadata": {
      "needs_background": "light"
     },
     "output_type": "display_data"
    }
   ],
   "source": [
    "# 4. 중요변수 시각화\n",
    "col_names = list(iris.columns)\n",
    "def plot_featur_impo(model):\n",
    "    x_size = 4 # 13(x변수 개수)\n",
    "    # 가로막대차트\n",
    "    plt.barh(range(x_size),model.feature_importances_)# (y축,x축(width))\n",
    "    # y 축눈금\n",
    "    plt.yticks(range(x_size),col_names[:4])\n",
    "    plt.xlabel(\"importances\")\n",
    "    plt.show()\n",
    "\n",
    "plot_featur_impo(model)\n"
   ]
  },
  {
   "cell_type": "code",
   "execution_count": null,
   "metadata": {},
   "outputs": [],
   "source": []
  }
 ],
 "metadata": {
  "kernelspec": {
   "display_name": "Python 3",
   "language": "python",
   "name": "python3"
  },
  "language_info": {
   "codemirror_mode": {
    "name": "ipython",
    "version": 3
   },
   "file_extension": ".py",
   "mimetype": "text/x-python",
   "name": "python",
   "nbconvert_exporter": "python",
   "pygments_lexer": "ipython3",
   "version": "3.8.5"
  }
 },
 "nbformat": 4,
 "nbformat_minor": 4
}
