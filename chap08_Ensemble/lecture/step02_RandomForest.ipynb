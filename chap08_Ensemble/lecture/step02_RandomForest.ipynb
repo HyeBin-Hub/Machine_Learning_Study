{
 "cells": [
  {
   "cell_type": "code",
   "execution_count": 4,
   "metadata": {},
   "outputs": [
    {
     "name": "stdout",
     "output_type": "stream",
     "text": [
      "['alcohol', 'malic_acid', 'ash', 'alcalinity_of_ash', 'magnesium', 'total_phenols', 'flavanoids', 'nonflavanoid_phenols', 'proanthocyanins', 'color_intensity', 'hue', 'od280/od315_of_diluted_wines', 'proline'] \n",
      "\n",
      "[[1.423e+01 1.710e+00 2.430e+00 1.560e+01 1.270e+02 2.800e+00 3.060e+00\n",
      "  2.800e-01 2.290e+00 5.640e+00 1.040e+00 3.920e+00 1.065e+03]\n",
      " [1.320e+01 1.780e+00 2.140e+00 1.120e+01 1.000e+02 2.650e+00 2.760e+00\n",
      "  2.600e-01 1.280e+00 4.380e+00 1.050e+00 3.400e+00 1.050e+03]\n",
      " [1.316e+01 2.360e+00 2.670e+00 1.860e+01 1.010e+02 2.800e+00 3.240e+00\n",
      "  3.000e-01 2.810e+00 5.680e+00 1.030e+00 3.170e+00 1.185e+03]\n",
      " [1.437e+01 1.950e+00 2.500e+00 1.680e+01 1.130e+02 3.850e+00 3.490e+00\n",
      "  2.400e-01 2.180e+00 7.800e+00 8.600e-01 3.450e+00 1.480e+03]\n",
      " [1.324e+01 2.590e+00 2.870e+00 2.100e+01 1.180e+02 2.800e+00 2.690e+00\n",
      "  3.900e-01 1.820e+00 4.320e+00 1.040e+00 2.930e+00 7.350e+02]] \n",
      "\n",
      "[[1.371e+01 5.650e+00 2.450e+00 2.050e+01 9.500e+01 1.680e+00 6.100e-01\n",
      "  5.200e-01 1.060e+00 7.700e+00 6.400e-01 1.740e+00 7.400e+02]\n",
      " [1.340e+01 3.910e+00 2.480e+00 2.300e+01 1.020e+02 1.800e+00 7.500e-01\n",
      "  4.300e-01 1.410e+00 7.300e+00 7.000e-01 1.560e+00 7.500e+02]\n",
      " [1.327e+01 4.280e+00 2.260e+00 2.000e+01 1.200e+02 1.590e+00 6.900e-01\n",
      "  4.300e-01 1.350e+00 1.020e+01 5.900e-01 1.560e+00 8.350e+02]\n",
      " [1.317e+01 2.590e+00 2.370e+00 2.000e+01 1.200e+02 1.650e+00 6.800e-01\n",
      "  5.300e-01 1.460e+00 9.300e+00 6.000e-01 1.620e+00 8.400e+02]\n",
      " [1.413e+01 4.100e+00 2.740e+00 2.450e+01 9.600e+01 2.050e+00 7.600e-01\n",
      "  5.600e-01 1.350e+00 9.200e+00 6.100e-01 1.600e+00 5.600e+02]] \n",
      "\n",
      "[0 0 0 0 0] [2 2 2 2 2]\n"
     ]
    }
   ],
   "source": [
    "'''\n",
    "RandomForestClassifier\n",
    "'''\n",
    "\n",
    "from sklearn.ensemble import RandomForestClassifier # RM object\n",
    "from sklearn.model_selection import train_test_split # train/test set \n",
    "from sklearn.datasets import load_wine # data set\n",
    "from sklearn import metrics # 분류정확도, 평가 report\n",
    "import matplotlib.pyplot as plt # 중요변수 시각화 \n",
    "\n",
    "# 1. dataset load\n",
    "wine=load_wine()\n",
    "print(wine.feature_names,\"\\n\") # x변수명\n",
    "\n",
    "X,y=wine.data,wine.target\n",
    "X.shape\n",
    "y.shape\n",
    "\n",
    "# data 보기 \n",
    "print(X[:5,:],\"\\n\")   # 앞부분 5개 관측치\n",
    "print(X[-5:,:],\"\\n\")  # 뒷부분 5개 관측치\n",
    "print(y[:5],y[-5:]) # [0 0 0 0 0] [2 2 2 2 2] class3(0,1,2)"
   ]
  },
  {
   "cell_type": "code",
   "execution_count": 6,
   "metadata": {},
   "outputs": [
    {
     "data": {
      "text/plain": [
       "RandomForestClassifier()"
      ]
     },
     "execution_count": 6,
     "metadata": {},
     "output_type": "execute_result"
    }
   ],
   "source": [
    "# 2. RM model\n",
    "rfc = RandomForestClassifier() # default\n",
    "model = rfc.fit(X,y) # full dataset 적용 \n",
    "model\n",
    "'''\n",
    "criterion='gini' : 노드 불순도 - 중요변수 선정기준 \n",
    "max_features='auto' : 최대 사용할 x변수 개수 \n",
    "n_estimators=10 : 트리 개수 \n",
    "min_samples_split=2 : : node 분할을 위한 최소한의 sample 수 \n",
    "'''"
   ]
  },
  {
   "cell_type": "code",
   "execution_count": 7,
   "metadata": {},
   "outputs": [
    {
     "name": "stdout",
     "output_type": "stream",
     "text": [
      "(100, 13)\n",
      "(100,)\n"
     ]
    }
   ],
   "source": [
    "# 3. test set\n",
    "import numpy as np\n",
    "idx = np.random.choice(a=len(X), size=100, replace=False)\n",
    "x_test, y_test = X[idx], y[idx]\n",
    "print(x_test.shape) # (100, 13)\n",
    "print(y_test.shape) # (100,)"
   ]
  },
  {
   "cell_type": "code",
   "execution_count": 10,
   "metadata": {},
   "outputs": [
    {
     "data": {
      "text/plain": [
       "array([[31,  0,  0],\n",
       "       [ 0, 41,  0],\n",
       "       [ 0,  0, 28]], dtype=int64)"
      ]
     },
     "execution_count": 10,
     "metadata": {},
     "output_type": "execute_result"
    }
   ],
   "source": [
    "# 4. 예측치 \n",
    "y_pred = model.predict(x_test)\n",
    "\n",
    "# 5. model 평가 \n",
    "con_max = metrics.confusion_matrix(y_test, y_pred)\n",
    "con_max"
   ]
  },
  {
   "cell_type": "code",
   "execution_count": 12,
   "metadata": {},
   "outputs": [
    {
     "name": "stdout",
     "output_type": "stream",
     "text": [
      "accuracy =  1.0 \n",
      "\n",
      "model report :\n",
      "              precision    recall  f1-score   support\n",
      "\n",
      "           0       1.00      1.00      1.00        31\n",
      "           1       1.00      1.00      1.00        41\n",
      "           2       1.00      1.00      1.00        28\n",
      "\n",
      "    accuracy                           1.00       100\n",
      "   macro avg       1.00      1.00      1.00       100\n",
      "weighted avg       1.00      1.00      1.00       100\n",
      "\n"
     ]
    }
   ],
   "source": [
    "acc = metrics.accuracy_score(y_test, y_pred)\n",
    "print('accuracy = ', acc,\"\\n\")\n",
    "\n",
    "report = metrics.classification_report(y_test, y_pred)\n",
    "print('model report :')\n",
    "print(report)"
   ]
  },
  {
   "cell_type": "code",
   "execution_count": 13,
   "metadata": {},
   "outputs": [
    {
     "name": "stdout",
     "output_type": "stream",
     "text": [
      "특징 중요도 : \n",
      "[0.10990169 0.02437433 0.01163532 0.0318283  0.03385624 0.05081357\n",
      " 0.15114204 0.00944625 0.01905842 0.19120153 0.08384486 0.11722968\n",
      " 0.16566779]\n"
     ]
    }
   ],
   "source": [
    "# 6. 중요변수 시각화\n",
    "print(\"특징 중요도 : \\n{}\".format(model.feature_importances_))\n",
    "# [해설] 13개 x변수의 중요점수 -> x변수 이름 확인 불가  "
   ]
  },
  {
   "cell_type": "code",
   "execution_count": 14,
   "metadata": {},
   "outputs": [
    {
     "data": {
      "image/png": "[encoded data removed]",
      "text/plain": [
       "<Figure size 432x288 with 1 Axes>"
      ]
     },
     "metadata": {
      "needs_background": "light"
     },
     "output_type": "display_data"
    }
   ],
   "source": [
    "# 중요 변수 시각화\n",
    "def plot_feature_importances(model):\n",
    "    x_size = wine.data.shape[1] # 13 : x변수 개수 \n",
    "    # 가로막대 차트 \n",
    "    plt.barh(range(x_size), model.feature_importances_) # y, width(x)\n",
    "    # y 축눈금\n",
    "    plt.yticks(range(x_size), wine.feature_names) # size, name \n",
    "    plt.xlabel(\"importances\")\n",
    "    plt.show()\n",
    "# 막대가 가장 높은게 y에 가장 영향을 많이 미치는 변수다\n",
    "plot_feature_importances(model)"
   ]
  },
  {
   "cell_type": "code",
   "execution_count": null,
   "metadata": {},
   "outputs": [],
   "source": []
  }
 ],
 "metadata": {
  "kernelspec": {
   "display_name": "Python 3",
   "language": "python",
   "name": "python3"
  },
  "language_info": {
   "codemirror_mode": {
    "name": "ipython",
    "version": 3
   },
   "file_extension": ".py",
   "mimetype": "text/x-python",
   "name": "python",
   "nbconvert_exporter": "python",
   "pygments_lexer": "ipython3",
   "version": "3.8.5"
  }
 },
 "nbformat": 4,
 "nbformat_minor": 4
}
