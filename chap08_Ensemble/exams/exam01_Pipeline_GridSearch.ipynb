{
 "cells": [
  {
   "cell_type": "code",
   "execution_count": 2,
   "metadata": {},
   "outputs": [
    {
     "name": "stdout",
     "output_type": "stream",
     "text": [
      "16.0\n",
      "0.0\n"
     ]
    }
   ],
   "source": [
    "'''\n",
    " 문) digits 데이터 셋을 이용하여 다음과 단계로 Pipeline 모델을 생성하시오.\n",
    "  <단계1> dataset load\n",
    "  <단계2> Pipeline model 생성\n",
    "          - scaling : StndardScaler 클래스, modeing : SVC 클래스    \n",
    "  <단계3> GridSearch model 생성\n",
    "          - params : 10e-4~10e+3, 평가방법 : accuracy, 교차검정 : 5겹\n",
    "          - CPU 코어 수 : 2개 \n",
    "  <단계4> best score, best params 출력 \n",
    "'''\n",
    "\n",
    "from sklearn.datasets import load_digits # dataset \n",
    "from sklearn.svm import SVC # model\n",
    "from sklearn.model_selection import GridSearchCV # gride search model\n",
    "from sklearn.pipeline import Pipeline # pipeline\n",
    "from sklearn.preprocessing import StandardScaler # dataset scaling\n",
    "\n",
    "# 1. dataset load\n",
    "digits = load_digits()\n",
    "X, y = digits.data, digits.target\n",
    "# data 확인 \n",
    "print(X.max()) # 16\n",
    "print(X.min()) # 0"
   ]
  },
  {
   "cell_type": "code",
   "execution_count": 4,
   "metadata": {},
   "outputs": [
    {
     "name": "stdout",
     "output_type": "stream",
     "text": [
      "best score= 0.956032188177035\n",
      "best params= {'svc__C': 10.0, 'svc__gamma': 0.01, 'svc__kernel': 'rbf'}\n"
     ]
    }
   ],
   "source": [
    "# 2. pipeline model : data 표준화 -> model \n",
    "pipe_model = Pipeline([('scal', StandardScaler()), ('svc', SVC(random_state=1))])\n",
    "\n",
    "\n",
    "# parameter rage : 10e-4 ~ 10e+3\n",
    "params = [0.0001, 0.001, 0.01, 0.1, 1.0, 10.0, 100.0, 1000.0]\n",
    "# 선형/비선형 params\n",
    "param_grid = [\n",
    "    {'svc__C': params, 'svc__kernel': ['linear']}, \n",
    "    {'svc__C': params, 'svc__gamma': params, 'svc__kernel': ['rbf']}]\n",
    "\n",
    "# 3. gride search model : pipeline model, 평가방법(validation), crossvalidation=5\n",
    "gs = GridSearchCV(estimator=pipe_model, param_grid = param_grid,\n",
    "                  scoring='accuracy', cv=5, n_jobs=-1) # n_jobs = CPU 코어 수\n",
    "gs_model = gs.fit(X, y)\n",
    "gs_model.cv_results_[\"mean_test_score\"]\n",
    "\n",
    "# 4. best score, best params\n",
    "print('best score=', gs_model.best_score_)\n",
    "print('best params=', gs_model.best_params_)"
   ]
  },
  {
   "cell_type": "code",
   "execution_count": null,
   "metadata": {},
   "outputs": [],
   "source": []
  }
 ],
 "metadata": {
  "kernelspec": {
   "display_name": "Python 3",
   "language": "python",
   "name": "python3"
  },
  "language_info": {
   "codemirror_mode": {
    "name": "ipython",
    "version": 3
   },
   "file_extension": ".py",
   "mimetype": "text/x-python",
   "name": "python",
   "nbconvert_exporter": "python",
   "pygments_lexer": "ipython3",
   "version": "3.8.5"
  }
 },
 "nbformat": 4,
 "nbformat_minor": 4
}
