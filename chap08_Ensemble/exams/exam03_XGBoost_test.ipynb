{
 "cells": [
  {
   "cell_type": "code",
   "execution_count": 1,
   "metadata": {},
   "outputs": [
    {
     "name": "stdout",
     "output_type": "stream",
     "text": [
      "y변수 :  Species\n",
      "x변수 개수: 4\n"
     ]
    }
   ],
   "source": [
    "'''\n",
    " 문) iris dataset 이용하여 다음과 같은 단계로 XGBoost model을 생성하시오.\n",
    "'''\n",
    "\n",
    "import pandas as pd\n",
    "from xgboost import XGBClassifier # model\n",
    "from xgboost import plot_importance # 중요변수(x) 시각화  \n",
    "\n",
    "from sklearn.model_selection import train_test_split\n",
    "from sklearn.metrics import confusion_matrix, accuracy_score,classification_report \n",
    "import matplotlib.pyplot as plt\n",
    "\n",
    "# 1. data set load \n",
    "iris = pd.read_csv(\"C:/Users/hyebin/Desktop/Python_ML/data/iris.csv\")\n",
    "\n",
    "cols=list(iris.columns)\n",
    "col_x=cols[:4] # 1칼럼 추출(제거)\n",
    "col_y=cols[-1] \n",
    "\n",
    "print('y변수 : ', col_y) # y변수   \n",
    "print(\"x변수 개수:\",len(col_x)) # x변수 "
   ]
  },
  {
   "cell_type": "code",
   "execution_count": 2,
   "metadata": {},
   "outputs": [],
   "source": [
    "# 2. 훈련/검정 데이터셋 생성\n",
    "train_set, test_set = train_test_split(iris, test_size=0.25)"
   ]
  },
  {
   "cell_type": "code",
   "execution_count": 4,
   "metadata": {},
   "outputs": [
    {
     "name": "stdout",
     "output_type": "stream",
     "text": [
      "[02:21:40] WARNING: C:/Users/Administrator/workspace/xgboost-win64_release_1.4.0/src/learner.cc:1095: Starting in XGBoost 1.3.0, the default evaluation metric used with the objective 'multi:softprob' was changed from 'merror' to 'mlogloss'. Explicitly set eval_metric if you'd like to restore the old behavior.\n"
     ]
    }
   ],
   "source": [
    "# XGBOOST\n",
    "#help(XGBClassifier) # objective='binary:logistic'\n",
    "'''\n",
    "binary:logistic: 이진 분류, 출력 확률에 대한 로지스틱 회귀\n",
    "multi:softmax: softmax 사용하여 여러 클래스 분류(num_class (클래스 수) 설정해야 함)\n",
    "'''\n",
    "\n",
    "# 3. model 생성 \n",
    "XGB = XGBClassifier()\n",
    "# train data 이용 model 생성 \n",
    "model = XGB.fit(train_set[col_x], train_set[col_y])\n",
    "#print('XGB model =',model) # refined_XGB= XGBClassifier()"
   ]
  },
  {
   "cell_type": "code",
   "execution_count": 6,
   "metadata": {},
   "outputs": [
    {
     "name": "stdout",
     "output_type": "stream",
     "text": [
      "fscore: {'Petal.Length': 121, 'Sepal.Width': 34, 'Petal.Width': 70, 'Sepal.Length': 80}\n",
      "len = 4\n"
     ]
    }
   ],
   "source": [
    "# 4. 예측치 생성 : test data 이용  \n",
    "pred = model.predict(test_set[col_x]) # 검증데이터\n",
    "\n",
    "# 5. fscore 중요변수 확인 & 시각화  \n",
    "fscore = model.get_booster().get_fscore()\n",
    "print(\"fscore:\",fscore) \n",
    "# fscore: {'Petal.Length': 285, 'Petal.Width': 92, 'Sepal.Length': 64, 'Sepal.Width': 38}\n",
    "print('len =', len(fscore)) "
   ]
  },
  {
   "cell_type": "code",
   "execution_count": 7,
   "metadata": {},
   "outputs": [
    {
     "data": {
      "image/png": "[encoded data removed]",
      "text/plain": [
       "<Figure size 432x288 with 1 Axes>"
      ]
     },
     "metadata": {
      "needs_background": "light"
     },
     "output_type": "display_data"
    }
   ],
   "source": [
    "# 중요변수 시각화\n",
    "plot_importance(model) # fscore 기준  내림차순 52변수 시각화 \n",
    "plt.show()\n"
   ]
  },
  {
   "cell_type": "code",
   "execution_count": 9,
   "metadata": {},
   "outputs": [
    {
     "name": "stdout",
     "output_type": "stream",
     "text": [
      "[[15  0  0]\n",
      " [ 0  9  1]\n",
      " [ 0  1 12]]\n",
      "\n",
      "분류정확도 = 0.9473684210526315\n",
      "모델 평가 결과\n",
      "              precision    recall  f1-score   support\n",
      "\n",
      "      setosa       1.00      1.00      1.00        15\n",
      "  versicolor       0.90      0.90      0.90        10\n",
      "   virginica       0.92      0.92      0.92        13\n",
      "\n",
      "    accuracy                           0.95        38\n",
      "   macro avg       0.94      0.94      0.94        38\n",
      "weighted avg       0.95      0.95      0.95        38\n",
      "\n"
     ]
    }
   ],
   "source": [
    "# 6. model 평가 : confusion matrix, accuracy, report\n",
    "mat = confusion_matrix(test_set[col_y], pred)\n",
    "print(mat)\n",
    "print()\n",
    "# 모델 평가 \n",
    "acc = accuracy_score(test_set[col_y], pred)\n",
    "print('분류정확도 =', acc)\n",
    "\n",
    "report = classification_report(test_set[col_y], pred)\n",
    "print('모델 평가 결과')\n",
    "print(report)"
   ]
  },
  {
   "cell_type": "code",
   "execution_count": null,
   "metadata": {},
   "outputs": [],
   "source": []
  }
 ],
 "metadata": {
  "kernelspec": {
   "display_name": "Python 3",
   "language": "python",
   "name": "python3"
  },
  "language_info": {
   "codemirror_mode": {
    "name": "ipython",
    "version": 3
   },
   "file_extension": ".py",
   "mimetype": "text/x-python",
   "name": "python",
   "nbconvert_exporter": "python",
   "pygments_lexer": "ipython3",
   "version": "3.8.5"
  }
 },
 "nbformat": 4,
 "nbformat_minor": 4
}
