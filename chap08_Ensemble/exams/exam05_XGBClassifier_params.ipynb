{
 "cells": [
  {
   "cell_type": "code",
   "execution_count": 1,
   "metadata": {},
   "outputs": [
    {
     "name": "stdout",
     "output_type": "stream",
     "text": [
      "['alcohol', 'malic_acid', 'ash', 'alcalinity_of_ash', 'magnesium', 'total_phenols', 'flavanoids', 'nonflavanoid_phenols', 'proanthocyanins', 'color_intensity', 'hue', 'od280/od315_of_diluted_wines', 'proline']\n",
      "['class_0' 'class_1' 'class_2']\n"
     ]
    }
   ],
   "source": [
    "\"\"\"\n",
    "문) wine dataset을 이용하여 다음과 같이 다항분류 모델을 생성하시오. \n",
    " <조건1> tree model 200개 학습\n",
    " <조건2> tree model 학습과정에서 조기 종료 100회 지정\n",
    " <조건3> model의 분류정확도와 리포트 출력   \n",
    "\"\"\"\n",
    "from xgboost import XGBClassifier # model\n",
    "from sklearn.model_selection import train_test_split\n",
    "from sklearn.datasets import load_wine # 다항분류\n",
    "from sklearn.metrics import accuracy_score, classification_report\n",
    "\n",
    "\n",
    "#################################\n",
    "## 1. XGBoost Hyper Parameter\n",
    "#################################\n",
    "\n",
    "# 1. dataset load\n",
    "wine = load_wine()\n",
    "print(wine.feature_names) # 13개 \n",
    "print(wine.target_names) # ['class_0' 'class_1' 'class_2']\n",
    "\n",
    "X, y = load_wine(return_X_y=True)"
   ]
  },
  {
   "cell_type": "code",
   "execution_count": 2,
   "metadata": {},
   "outputs": [
    {
     "data": {
      "text/plain": [
       "numpy.ndarray"
      ]
     },
     "execution_count": 2,
     "metadata": {},
     "output_type": "execute_result"
    }
   ],
   "source": [
    "# 2. train/test 생성  \n",
    "X_train, X_test, y_train, y_test = train_test_split(X, y, test_size=0.3)\n",
    "type(X_train) # numpy.ndarray"
   ]
  },
  {
   "cell_type": "code",
   "execution_count": 3,
   "metadata": {},
   "outputs": [
    {
     "name": "stdout",
     "output_type": "stream",
     "text": [
      "XGBClassifier(base_score=None, booster=None, colsample_bylevel=None,\n",
      "              colsample_bynode=None, colsample_bytree=None, gamma=None,\n",
      "              gpu_id=None, importance_type='gain', interaction_constraints=None,\n",
      "              learning_rate=None, max_delta_step=None, max_depth=None,\n",
      "              min_child_weight=None, missing=nan, monotone_constraints=None,\n",
      "              n_estimators=100, n_jobs=None, num_parallel_tree=None,\n",
      "              random_state=None, reg_alpha=None, reg_lambda=None,\n",
      "              scale_pos_weight=None, subsample=None, tree_method=None,\n",
      "              validate_parameters=None, verbosity=None)\n"
     ]
    }
   ],
   "source": [
    "# 3. model 객체 생성\n",
    "obj = XGBClassifier()\n",
    "print(obj) # parameter 확인 \n",
    "obj = XGBClassifier(colsample_bytree=1,\n",
    "                    learning_rate=0.1, max_depth=3, \n",
    "                    min_child_weight=1,\n",
    "                    n_estimators=200, \n",
    "                    objective=\"multi:softmax\",\n",
    "                    num_class=3)\n"
   ]
  },
  {
   "cell_type": "code",
   "execution_count": 4,
   "metadata": {},
   "outputs": [
    {
     "name": "stdout",
     "output_type": "stream",
     "text": [
      "[0]\tvalidation_0-merror:0.03704\n",
      "[1]\tvalidation_0-merror:0.05556\n",
      "[2]\tvalidation_0-merror:0.05556\n",
      "[3]\tvalidation_0-merror:0.05556\n",
      "[4]\tvalidation_0-merror:0.03704\n",
      "[5]\tvalidation_0-merror:0.05556\n",
      "[6]\tvalidation_0-merror:0.03704\n",
      "[7]\tvalidation_0-merror:0.03704\n",
      "[8]\tvalidation_0-merror:0.03704\n",
      "[9]\tvalidation_0-merror:0.03704\n",
      "[10]\tvalidation_0-merror:0.03704\n",
      "[11]\tvalidation_0-merror:0.03704\n",
      "[12]\tvalidation_0-merror:0.03704\n",
      "[13]\tvalidation_0-merror:0.03704\n",
      "[14]\tvalidation_0-merror:0.03704\n",
      "[15]\tvalidation_0-merror:0.03704\n",
      "[16]\tvalidation_0-merror:0.03704\n",
      "[17]\tvalidation_0-merror:0.03704\n",
      "[18]\tvalidation_0-merror:0.01852\n",
      "[19]\tvalidation_0-merror:0.01852\n",
      "[20]\tvalidation_0-merror:0.01852\n",
      "[21]\tvalidation_0-merror:0.01852\n",
      "[22]\tvalidation_0-merror:0.01852\n",
      "[23]\tvalidation_0-merror:0.01852\n",
      "[24]\tvalidation_0-merror:0.01852\n",
      "[25]\tvalidation_0-merror:0.01852\n",
      "[26]\tvalidation_0-merror:0.01852\n",
      "[27]\tvalidation_0-merror:0.01852\n",
      "[28]\tvalidation_0-merror:0.01852\n",
      "[29]\tvalidation_0-merror:0.01852\n",
      "[30]\tvalidation_0-merror:0.01852\n",
      "[31]\tvalidation_0-merror:0.01852\n",
      "[32]\tvalidation_0-merror:0.01852\n",
      "[33]\tvalidation_0-merror:0.01852\n",
      "[34]\tvalidation_0-merror:0.01852\n",
      "[35]\tvalidation_0-merror:0.01852\n",
      "[36]\tvalidation_0-merror:0.01852\n",
      "[37]\tvalidation_0-merror:0.01852\n",
      "[38]\tvalidation_0-merror:0.01852\n",
      "[39]\tvalidation_0-merror:0.01852\n",
      "[40]\tvalidation_0-merror:0.01852\n",
      "[41]\tvalidation_0-merror:0.01852\n",
      "[42]\tvalidation_0-merror:0.01852\n",
      "[43]\tvalidation_0-merror:0.01852\n",
      "[44]\tvalidation_0-merror:0.01852\n",
      "[45]\tvalidation_0-merror:0.01852\n",
      "[46]\tvalidation_0-merror:0.01852\n",
      "[47]\tvalidation_0-merror:0.01852\n",
      "[48]\tvalidation_0-merror:0.01852\n",
      "[49]\tvalidation_0-merror:0.01852\n",
      "[50]\tvalidation_0-merror:0.01852\n",
      "[51]\tvalidation_0-merror:0.01852\n",
      "[52]\tvalidation_0-merror:0.01852\n",
      "[53]\tvalidation_0-merror:0.01852\n",
      "[54]\tvalidation_0-merror:0.01852\n",
      "[55]\tvalidation_0-merror:0.01852\n",
      "[56]\tvalidation_0-merror:0.01852\n",
      "[57]\tvalidation_0-merror:0.01852\n",
      "[58]\tvalidation_0-merror:0.01852\n",
      "[59]\tvalidation_0-merror:0.01852\n",
      "[60]\tvalidation_0-merror:0.01852\n",
      "[61]\tvalidation_0-merror:0.01852\n",
      "[62]\tvalidation_0-merror:0.01852\n",
      "[63]\tvalidation_0-merror:0.01852\n",
      "[64]\tvalidation_0-merror:0.01852\n",
      "[65]\tvalidation_0-merror:0.01852\n",
      "[66]\tvalidation_0-merror:0.01852\n",
      "[67]\tvalidation_0-merror:0.01852\n",
      "[68]\tvalidation_0-merror:0.01852\n",
      "[69]\tvalidation_0-merror:0.01852\n",
      "[70]\tvalidation_0-merror:0.01852\n",
      "[71]\tvalidation_0-merror:0.01852\n",
      "[72]\tvalidation_0-merror:0.01852\n",
      "[73]\tvalidation_0-merror:0.01852\n",
      "[74]\tvalidation_0-merror:0.01852\n",
      "[75]\tvalidation_0-merror:0.01852\n",
      "[76]\tvalidation_0-merror:0.01852\n",
      "[77]\tvalidation_0-merror:0.01852\n",
      "[78]\tvalidation_0-merror:0.01852\n",
      "[79]\tvalidation_0-merror:0.01852\n",
      "[80]\tvalidation_0-merror:0.01852\n",
      "[81]\tvalidation_0-merror:0.01852\n",
      "[82]\tvalidation_0-merror:0.01852\n",
      "[83]\tvalidation_0-merror:0.01852\n",
      "[84]\tvalidation_0-merror:0.01852\n",
      "[85]\tvalidation_0-merror:0.01852\n",
      "[86]\tvalidation_0-merror:0.01852\n",
      "[87]\tvalidation_0-merror:0.01852\n",
      "[88]\tvalidation_0-merror:0.01852\n",
      "[89]\tvalidation_0-merror:0.01852\n",
      "[90]\tvalidation_0-merror:0.01852\n",
      "[91]\tvalidation_0-merror:0.01852\n",
      "[92]\tvalidation_0-merror:0.01852\n",
      "[93]\tvalidation_0-merror:0.01852\n",
      "[94]\tvalidation_0-merror:0.01852\n",
      "[95]\tvalidation_0-merror:0.01852\n",
      "[96]\tvalidation_0-merror:0.01852\n",
      "[97]\tvalidation_0-merror:0.01852\n",
      "[98]\tvalidation_0-merror:0.01852\n",
      "[99]\tvalidation_0-merror:0.01852\n",
      "[100]\tvalidation_0-merror:0.01852\n",
      "[101]\tvalidation_0-merror:0.01852\n",
      "[102]\tvalidation_0-merror:0.01852\n",
      "[103]\tvalidation_0-merror:0.01852\n",
      "[104]\tvalidation_0-merror:0.01852\n",
      "[105]\tvalidation_0-merror:0.01852\n",
      "[106]\tvalidation_0-merror:0.01852\n",
      "[107]\tvalidation_0-merror:0.01852\n",
      "[108]\tvalidation_0-merror:0.01852\n",
      "[109]\tvalidation_0-merror:0.01852\n",
      "[110]\tvalidation_0-merror:0.01852\n",
      "[111]\tvalidation_0-merror:0.01852\n",
      "[112]\tvalidation_0-merror:0.01852\n",
      "[113]\tvalidation_0-merror:0.01852\n",
      "[114]\tvalidation_0-merror:0.01852\n",
      "[115]\tvalidation_0-merror:0.01852\n",
      "[116]\tvalidation_0-merror:0.01852\n",
      "[117]\tvalidation_0-merror:0.01852\n"
     ]
    },
    {
     "name": "stderr",
     "output_type": "stream",
     "text": [
      "C:\\Users\\hyebin\\anaconda3\\lib\\site-packages\\xgboost\\sklearn.py:1146: UserWarning: The use of label encoder in XGBClassifier is deprecated and will be removed in a future release. To remove this warning, do the following: 1) Pass option use_label_encoder=False when constructing XGBClassifier object; and 2) Encode your labels (y) as integers starting with 0, i.e. 0, 1, 2, ..., [num_class - 1].\n",
      "  warnings.warn(label_encoder_deprecation_msg, UserWarning)\n"
     ]
    }
   ],
   "source": [
    "# 4. model 학습 조기종료 \n",
    "evals = [(X_test, y_test)]\n",
    "model = obj.fit(X_train, y_train, eval_metric='merror',\n",
    "                early_stopping_rounds=100, eval_set=evals, verbose=True)"
   ]
  },
  {
   "cell_type": "code",
   "execution_count": 5,
   "metadata": {},
   "outputs": [
    {
     "name": "stdout",
     "output_type": "stream",
     "text": [
      "accuracy = 0.9814814814814815\n",
      "              precision    recall  f1-score   support\n",
      "\n",
      "           0       1.00      1.00      1.00        16\n",
      "           1       0.96      1.00      0.98        22\n",
      "           2       1.00      0.94      0.97        16\n",
      "\n",
      "    accuracy                           0.98        54\n",
      "   macro avg       0.99      0.98      0.98        54\n",
      "weighted avg       0.98      0.98      0.98        54\n",
      "\n"
     ]
    }
   ],
   "source": [
    "# 5. model 평가 \n",
    "y_pred = model.predict(X_test)\n",
    "acc = accuracy_score(y_test, y_pred)\n",
    "print('accuracy =', acc) # accuracy = 0.944444444444444444\n",
    "\n",
    "report = classification_report(y_test, y_pred)\n",
    "print(report)"
   ]
  },
  {
   "cell_type": "code",
   "execution_count": null,
   "metadata": {},
   "outputs": [],
   "source": []
  }
 ],
 "metadata": {
  "kernelspec": {
   "display_name": "Python 3",
   "language": "python",
   "name": "python3"
  },
  "language_info": {
   "codemirror_mode": {
    "name": "ipython",
    "version": 3
   },
   "file_extension": ".py",
   "mimetype": "text/x-python",
   "name": "python",
   "nbconvert_exporter": "python",
   "pygments_lexer": "ipython3",
   "version": "3.8.5"
  }
 },
 "nbformat": 4,
 "nbformat_minor": 4
}
