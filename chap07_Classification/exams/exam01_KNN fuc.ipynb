{
 "cells": [
  {
   "cell_type": "code",
   "execution_count": 1,
   "metadata": {},
   "outputs": [],
   "source": [
    "'''\n",
    "문) 다음과 같은 3개의 범주를 갖는 6개의 데이터 셋을 대상으로 kNN 알고리즘을 적용하여 \n",
    "      특정 품목을 분류하시오.\n",
    "   (단계1 : 함수 구현 )  \n",
    "      \n",
    "    <조건1> 데이터 셋  \n",
    "    -------------------------\n",
    "        품목      단맛   아삭거림  분류 범주\n",
    "    -------------------------\n",
    "    grape   8   5     과일\n",
    "    fish    2   3     단백질 \n",
    "    carrot  7   10    채소\n",
    "    orange  7   3     과일 \n",
    "    celery  3   8     채소\n",
    "    cheese  1   1     단백질 \n",
    "    ------------------------\n",
    "    \n",
    "   <조건2> 분류 대상과 k값은 키보드 입력\n",
    "   \n",
    "   \n",
    "  <<출력 예시 1>> k=3인 경우\n",
    "  -----------------------------------\n",
    "     단맛 입력(1~10) : 8\n",
    "     아삭거림 입력(1~10) : 4\n",
    "   k값 입력(1~3) : 3\n",
    "  -----------------------------------\n",
    "   calssCount: {'과일': 2, '단백질': 1}\n",
    "     분류결과: 과일\n",
    "  -----------------------------------\n",
    "\n",
    "  <<출력 예시 2>> k=2인 경우\n",
    "  -----------------------------------\n",
    "     단맛 입력(1~10) : 5\n",
    "     아삭거림 입력(1~10) :8\n",
    "   k값 입력(1~3) : 2\n",
    "  -----------------------------------\n",
    "   calssCount: {'채소': 2}\n",
    "     분류결과 : 채소\n",
    "  -----------------------------------\n",
    "\n",
    "  <<출력 예시 3>> k=1인 경우\n",
    "  -----------------------------------\n",
    "     단맛 입력(1~10) : 2\n",
    "     아삭거림 입력(1~10) :3\n",
    "   k값 입력(1~3) : 1\n",
    "  -----------------------------------\n",
    "   calssCount: {'단백질': 1}\n",
    "     분류결과 : 단백질\n",
    "  -----------------------------------\n",
    "'''\n",
    "import numpy as np\n",
    "grape = [8, 5]\n",
    "fish = [2, 3]\n",
    "carrot = [7, 10]\n",
    "orange = [7, 3]\n",
    "celery = [3, 8]\n",
    "cheese = [1, 1]\n",
    "class_category = ['과일', '단백질', '채소', '과일', '채소', '단백질']"
   ]
  },
  {
   "cell_type": "code",
   "execution_count": 2,
   "metadata": {},
   "outputs": [
    {
     "name": "stdout",
     "output_type": "stream",
     "text": [
      "----------------------------------------\n",
      "단맛 입력(1~10) : 2\n",
      "아삭거림 입력(1~10) : 2\n",
      "k값 입력(1~3) : 2\n"
     ]
    }
   ],
   "source": [
    "print('-'*40)\n",
    "x = int(input('단맛 입력(1~10) : '))\n",
    "y = int(input('아삭거림 입력(1~10) : '))\n",
    "p5 = [x, y]\n",
    "k = int(input('k값 입력(1~3) : '))"
   ]
  },
  {
   "cell_type": "code",
   "execution_count": 3,
   "metadata": {},
   "outputs": [],
   "source": [
    "def data_set():\n",
    "    dataset = np.array([grape, fish, carrot, orange, celery, cheese])\n",
    "    cvalue = np.array(class_category) \n",
    "    size = len(dataset)\n",
    "    cdata = np.tile(p5, (size, 1))\n",
    "    return dataset, cvalue, cdata\n",
    "\n",
    "dataset, cvalue, cdata = data_set()"
   ]
  },
  {
   "cell_type": "code",
   "execution_count": 4,
   "metadata": {},
   "outputs": [],
   "source": [
    "def classify(cdata, dataset, cvalue, k):\n",
    "    # 단계 1: 유클리드안 거리계산식\n",
    "    diffMet = cdata - dataset\n",
    "    sqDiffMet = diffMet ** 2\n",
    "    row_sum = sqDiffMet.sum(axis = 1)\n",
    "    distance = np.sqrt(row_sum)\n",
    "    # 단계 2: 가까운 거리 대상 정렬 -> index\n",
    "    sortDist = distance.argsort()\n",
    "    # 단계 3: 이웃한 k개 선정하여 리턴\n",
    "    classResult = {} # 빈 set/dict\n",
    "    for i in range(k) :\n",
    "        k = cvalue[sortDist[i]]\n",
    "        classResult[k] = classResult.get(k, 0) + 1\n",
    "    return classResult\n",
    " \n",
    "classResult = classify(cdata, dataset, cvalue, k)"
   ]
  },
  {
   "cell_type": "code",
   "execution_count": 5,
   "metadata": {},
   "outputs": [
    {
     "name": "stdout",
     "output_type": "stream",
     "text": [
      "----------------------------------------\n",
      "classCount: {'단백질': 2}\n",
      "분류결과 : 단백질\n",
      "----------------------------------------\n"
     ]
    }
   ],
   "source": [
    "print('-'*40)\n",
    "print('classCount: {}'.format(classResult))\n",
    "\n",
    "print('분류결과 :', max(classResult, key=classResult.get) ) \n",
    "\n",
    "print('-'*40)"
   ]
  },
  {
   "cell_type": "code",
   "execution_count": null,
   "metadata": {},
   "outputs": [],
   "source": []
  }
 ],
 "metadata": {
  "kernelspec": {
   "display_name": "Python 3",
   "language": "python",
   "name": "python3"
  },
  "language_info": {
   "codemirror_mode": {
    "name": "ipython",
    "version": 3
   },
   "file_extension": ".py",
   "mimetype": "text/x-python",
   "name": "python",
   "nbconvert_exporter": "python",
   "pygments_lexer": "ipython3",
   "version": "3.8.5"
  }
 },
 "nbformat": 4,
 "nbformat_minor": 4
}
