{
 "cells": [
  {
   "cell_type": "code",
   "execution_count": 1,
   "metadata": {},
   "outputs": [
    {
     "name": "stdout",
     "output_type": "stream",
     "text": [
      "단맛 입력(1~10) : 5\n",
      "아삭거림 입력(1~10) :3\n",
      "k값 입력(1~3) :4\n"
     ]
    }
   ],
   "source": [
    "'''\n",
    "문) 다음과 같은 3개의 범주를 갖는 6개의 데이터 셋을 대상으로 kNN 알고리즘을 적용하여 \n",
    "      특정 품목을 분류하시오.(단계2 : 클래스 구현) \n",
    "      \n",
    "    <조건1> 데이터 셋  \n",
    "    -------------------------\n",
    "        품목      단맛   아삭거림  분류 범주\n",
    "    -------------------------\n",
    "    grape   8   5     과일\n",
    "    fish    2   3     단백질 \n",
    "    carrot  7   10    채소\n",
    "    orange  7   3     과일 \n",
    "    celery  3   8     채소\n",
    "    cheese  1   1     단백질 \n",
    "    ------------------------\n",
    "   <조건2> 분류 대상과 k값은 키보드 입력\n",
    "   \n",
    "  <<출력 예시 1 : k=3인 경우 >>\n",
    "     단맛 입력(1~10) : 8\n",
    "     아삭거림 입력(1~10) : 4\n",
    "   k값 입력(1~3) : 3\n",
    "   calssCount: {'과일': 2, '단백질': 1}\n",
    "     분류결과: 과일\n",
    "\n",
    "  <<출력 예시 2 : k=2인 경우>>\n",
    "     단맛 입력(1~10) : 5\n",
    "     아삭거림 입력(1~10) :8\n",
    "   k값 입력(1~3) : 2\n",
    "   calssCount: {'채소': 2}\n",
    "     분류결과 : 채소\n",
    "\n",
    "  <<출력 예시 3 : k=1인 경우>>\n",
    "     단맛 입력(1~10) : 2\n",
    "     아삭거림 입력(1~10) :3\n",
    "   k값 입력(1~3) : 1\n",
    "   calssCount: {'단백질': 1}\n",
    "     분류결과 : 단백질\n",
    "'''\n",
    "\n",
    "import numpy as np\n",
    "\n",
    "# 1. data set 생성 \n",
    "p1 = [8, 5]\n",
    "p2 = [2, 3]\n",
    "p3 = [7, 10]\n",
    "p4 = [7, 3]\n",
    "p5 = [3, 8]\n",
    "p6 = [1, 1]\n",
    "\n",
    "x = int(input('단맛 입력(1~10) : '))\n",
    "y = int(input('아삭거림 입력(1~10) :'))\n",
    "k = int(input('k값 입력(1~3) :'))\n"
   ]
  },
  {
   "cell_type": "code",
   "execution_count": 3,
   "metadata": {},
   "outputs": [],
   "source": [
    "p7 = [x, y] # 분류 대상 \n",
    "\n",
    "# 2. 클래스 정의 \n",
    "class kNNclassify :\n",
    "    # 클래스 변수 \n",
    "    dataSet = labels = cdata = None\n",
    "    classResult = {} \n",
    "    # 생성자 \n",
    "    def __init__(self):\n",
    "        pass\n",
    "    \n",
    "    # 클래스 함수 \n",
    "    def data_set(self): # data set 생성 함수   \n",
    "        self.dataSet = np.array([p1, p2, p3, p4, p5, p6]) # 분류집단 \n",
    "        self.labels = ['과일','단백질', '채소', '과일', '채소', '단백질'] # 분류 범주 \n",
    "        size = len(self.dataSet) # 4\n",
    "        self.cdata = np.tile(p7, (size, 1)) # 분류대상  \n",
    "        return self.dataSet, self.labels, self.cdata \n",
    "    \n",
    "    def classify(self, k): # 분류 알고리즘 적용 함수  \n",
    "        print('k:', k)   \n",
    "        # 단계1 : 점 사이 거리 계산 - 유클리드안 거래 계산식 적용\n",
    "        diffMet = self.cdata - self.dataSet  \n",
    "        sqDiffMet = diffMet ** 2 # 각 원소에 제곱     \n",
    "        sqDistances = sqDiffMet.sum(axis = 1) # 행 합계  \n",
    "        distance = sqDistances ** 0.5 # 각 원소에 0.5 제곱 \n",
    "        \n",
    "        # 단계2: 거리가 짧은 순서대로 오름차순 정렬 -> index 반환  \n",
    "        sortedDist = distance.argsort() # 오름차순 정렬 -> index 리턴 \n",
    "        #classResult = {} \n",
    "    \n",
    "        # 단계3 : 가장 이웃한 k개 선택 : 거리가 가장 짧은 k개 선택      \n",
    "        for i in range(k) : # 이웃한 k개\n",
    "            label = self.labels[sortedDist[i]] # 분류범주 선택       \n",
    "            self.classResult[label] = self.classResult.get(label, 0) + 1\n",
    "            print('calssCount:', self.classResult) \n",
    "        return self.classResult\n",
    "    \n",
    "    def class_vote(self): # 분류결과 voting\n",
    "        #max(arg1, arg2, *args, *[, key=func]) -> value\n",
    "        return max(self.classResult, key=self.classResult.get)       \n",
    "        \n",
    "# 3. 클래스 객체생성 & 함수 호출  \n",
    "knn = kNNclassify() "
   ]
  },
  {
   "cell_type": "code",
   "execution_count": 4,
   "metadata": {},
   "outputs": [
    {
     "data": {
      "text/plain": [
       "(array([[ 8,  5],\n",
       "        [ 2,  3],\n",
       "        [ 7, 10],\n",
       "        [ 7,  3],\n",
       "        [ 3,  8],\n",
       "        [ 1,  1]]),\n",
       " ['과일', '단백질', '채소', '과일', '채소', '단백질'],\n",
       " array([[5, 3],\n",
       "        [5, 3],\n",
       "        [5, 3],\n",
       "        [5, 3],\n",
       "        [5, 3],\n",
       "        [5, 3]]))"
      ]
     },
     "execution_count": 4,
     "metadata": {},
     "output_type": "execute_result"
    }
   ],
   "source": [
    "# 데이터 셋 함수 호출 \n",
    "knn.data_set() "
   ]
  },
  {
   "cell_type": "code",
   "execution_count": 5,
   "metadata": {},
   "outputs": [
    {
     "name": "stdout",
     "output_type": "stream",
     "text": [
      "k: 4\n",
      "calssCount: {'과일': 1}\n",
      "calssCount: {'과일': 1, '단백질': 1}\n",
      "calssCount: {'과일': 2, '단백질': 1}\n",
      "calssCount: {'과일': 2, '단백질': 2}\n"
     ]
    }
   ],
   "source": [
    "# 분류 함수 호출  \n",
    "classResult = knn.classify(k) # 분류 data, 데이터 셋, 분류범주, k값"
   ]
  },
  {
   "cell_type": "code",
   "execution_count": 6,
   "metadata": {},
   "outputs": [
    {
     "name": "stdout",
     "output_type": "stream",
     "text": [
      "분류결과 : 과일\n"
     ]
    }
   ],
   "source": [
    "# 가장 이웃한 k개 대상 vote 방식으로 분류범주 선택 \n",
    "class_final = knn.class_vote()\n",
    "print('분류결과 :', class_final)\n"
   ]
  },
  {
   "cell_type": "code",
   "execution_count": null,
   "metadata": {},
   "outputs": [],
   "source": []
  }
 ],
 "metadata": {
  "kernelspec": {
   "display_name": "Python 3",
   "language": "python",
   "name": "python3"
  },
  "language_info": {
   "codemirror_mode": {
    "name": "ipython",
    "version": 3
   },
   "file_extension": ".py",
   "mimetype": "text/x-python",
   "name": "python",
   "nbconvert_exporter": "python",
   "pygments_lexer": "ipython3",
   "version": "3.8.5"
  }
 },
 "nbformat": 4,
 "nbformat_minor": 4
}
