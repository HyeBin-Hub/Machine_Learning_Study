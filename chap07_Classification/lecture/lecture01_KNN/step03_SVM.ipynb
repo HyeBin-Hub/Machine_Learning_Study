{
 "cells": [
  {
   "cell_type": "code",
   "execution_count": 26,
   "metadata": {},
   "outputs": [],
   "source": [
    "\"\"\"\n",
    "SVM model 생성\n",
    " - 선형 SVM(Cost), 비선형SVM(Cost, gamma)\n",
    " - Hyper parameter :  사용자가 지정하는 파라미터\n",
    "\"\"\"\n",
    "from sklearn.datasets import load_iris # dataset\n",
    "from sklearn.svm import SVC # model 생성\n",
    "from sklearn.model_selection import train_test_split # train/test set\n",
    "from sklearn.metrics import accuracy_score, confusion_matrix # model 평가\n",
    "import pandas as pd\n",
    "\n",
    "\n",
    "#  dataset load\n",
    "data = pd.read_csv(\"C:/Users/hyebin/Desktop/Python_ML/data/iris.csv\")\n",
    "#print(data)\n",
    "cols = list(data.columns)\n",
    "x_cols = cols[:4]"
   ]
  },
  {
   "cell_type": "code",
   "execution_count": 27,
   "metadata": {},
   "outputs": [
    {
     "name": "stdout",
     "output_type": "stream",
     "text": [
      "(90, 5)\n",
      "(60, 5)\n"
     ]
    }
   ],
   "source": [
    "# 6:4 비율 train/test data set 구성 \n",
    "train_set, test_set = train_test_split(data, test_size=0.4, random_state=0)\n",
    "\n",
    "print(train_set.shape) # (90, 5)\n",
    "print(test_set.shape) # (60, 5)"
   ]
  },
  {
   "cell_type": "code",
   "execution_count": 30,
   "metadata": {},
   "outputs": [],
   "source": [
    "# svm model 생성  \n",
    "obj = SVC(kernel = 'linear') # kernel : 'rbf', 'linear', 'poly'\n",
    "model = obj.fit(train_set[x_cols], train_set['Species'])\n",
    "# 커널트릭 : 비선형 -> 선형으로 분리 "
   ]
  },
  {
   "cell_type": "code",
   "execution_count": 32,
   "metadata": {},
   "outputs": [
    {
     "name": "stdout",
     "output_type": "stream",
     "text": [
      "accuracy = 0.9666666666666667\n"
     ]
    }
   ],
   "source": [
    "# model 예측치 \n",
    "preds = model.predict(test_set[x_cols])\n",
    "\n",
    "\n",
    "# model 평가 \n",
    "model_acc = accuracy_score(test_set['Species'], preds)\n",
    "print('accuracy =', model_acc)"
   ]
  },
  {
   "cell_type": "code",
   "execution_count": 33,
   "metadata": {},
   "outputs": [],
   "source": [
    "# svm model 생성  \n",
    "obj = SVC(kernel = 'rbf') # kernel : 'rbf', 'linear', 'poly'\n",
    "model = obj.fit(train_set[x_cols], train_set['Species'])\n",
    "# 커널트릭 : 비선형 -> 선형으로 분리 "
   ]
  },
  {
   "cell_type": "code",
   "execution_count": 34,
   "metadata": {},
   "outputs": [
    {
     "name": "stdout",
     "output_type": "stream",
     "text": [
      "accuracy = 0.9333333333333333\n"
     ]
    }
   ],
   "source": [
    "# model 예측치 \n",
    "preds = model.predict(test_set[x_cols])\n",
    "\n",
    "\n",
    "# model 평가 \n",
    "model_acc = accuracy_score(test_set['Species'], preds)\n",
    "print('accuracy =', model_acc)\n",
    "# [해설] iris는 비선형 보다 선형으로 결정경계를 만들어서 분리하는 더 성능 좋다.\n"
   ]
  },
  {
   "cell_type": "code",
   "execution_count": 36,
   "metadata": {},
   "outputs": [
    {
     "name": "stdout",
     "output_type": "stream",
     "text": [
      "검증 세트에서 최고 점수: 0.97\n",
      "최적 파라미터:  {'kernel': 'linear', 'C': 1, 'gamma': 0.001}\n"
     ]
    }
   ],
   "source": [
    "#################################\n",
    "## Gride Search \n",
    "#################################\n",
    "'''\n",
    "Grid Search : 최적의 매개변수를 찾는 방법, model 튜닝(일반화 성능 개선)\n",
    "'''\n",
    "params = [0.001, 0.01, 0.1, 1, 10, 100] # 10e-3~ 10e+2\n",
    "best_score = 0 # 최고 분류정확도 \n",
    "best_parameters = {}  # 최적의 파라미터 \n",
    "\n",
    "for kernel in ['linear', 'rbf'] :\n",
    "    for gamma in params: # 10e-3~ 10e+2\n",
    "        for C in params:\n",
    "            obj = SVC(kernel=kernel, gamma=gamma, C=C)# object생성 \n",
    "            obj.fit(train_set[x_cols], train_set['Species'])# 훈련\n",
    "            score=obj.score(test_set[x_cols], test_set['Species'])#평가\n",
    "            # 최적의 파라미터 선택 \n",
    "            if score > best_score:\n",
    "                best_score = score # 점수 갱신 \n",
    "                best_parameters = {'kernel':kernel,'C':C,'gamma':gamma}\n",
    "\n",
    "\n",
    "\n",
    "print(\"검증 세트에서 최고 점수: {:.2f}\".format(best_score))\n",
    "print(\"최적 파라미터: \", best_parameters)"
   ]
  },
  {
   "cell_type": "code",
   "execution_count": 37,
   "metadata": {},
   "outputs": [
    {
     "name": "stdout",
     "output_type": "stream",
     "text": [
      "최적 파라미터에서 테스트 세트 점수: 0.97\n"
     ]
    }
   ],
   "source": [
    "obj = SVC(kernel='linear', gamma=0.001, C=1) # object 생성 \n",
    "obj.fit(train_set[x_cols], train_set['Species']) # model 훈련\n",
    "test_score=obj.score(test_set[x_cols], test_set['Species'])# model 평가\n",
    "print(\"최적 파라미터에서 테스트 세트 점수: {:.2f}\".format(test_score))"
   ]
  },
  {
   "cell_type": "code",
   "execution_count": null,
   "metadata": {},
   "outputs": [],
   "source": []
  }
 ],
 "metadata": {
  "kernelspec": {
   "display_name": "Python 3",
   "language": "python",
   "name": "python3"
  },
  "language_info": {
   "codemirror_mode": {
    "name": "ipython",
    "version": 3
   },
   "file_extension": ".py",
   "mimetype": "text/x-python",
   "name": "python",
   "nbconvert_exporter": "python",
   "pygments_lexer": "ipython3",
   "version": "3.8.5"
  }
 },
 "nbformat": 4,
 "nbformat_minor": 4
}
