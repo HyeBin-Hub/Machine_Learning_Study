{
 "cells": [
  {
   "cell_type": "code",
   "execution_count": 3,
   "metadata": {},
   "outputs": [
    {
     "name": "stdout",
     "output_type": "stream",
     "text": [
      "data loading\n",
      "train set\n",
      "(4446, 6000)\n",
      "test set\n",
      "(1112, 6000)\n"
     ]
    }
   ],
   "source": [
    "'''\n",
    "NB vs SVM\n",
    " - 가중치 적용 방식 : tfidf[단어출현빈도수 x 문장 출현빈도수의 역수]가중치  \n",
    "'''\n",
    "\n",
    "from sklearn.naive_bayes import MultinomialNB\n",
    "from sklearn import svm\n",
    "import pandas as pd\n",
    "import numpy as np\n",
    "\n",
    "# 데이터 불러오기 \n",
    "print('data loading')\n",
    "X_train, X_test, y_train, y_test = np.load(\"C:/Users/hyebin/Desktop/Python_ML/chap07_Classification/data/sms_spam_data.npy\", allow_pickle=True) # spam_train_test.npy\n",
    "print('train set')\n",
    "print(X_train.shape) # (4446, 6000)\n",
    "print('test set')\n",
    "print(X_test.shape) # (1112, 6000)"
   ]
  },
  {
   "cell_type": "code",
   "execution_count": 4,
   "metadata": {},
   "outputs": [
    {
     "name": "stdout",
     "output_type": "stream",
     "text": [
      "<class 'numpy.ndarray'>\n",
      "<class 'numpy.ndarray'>\n",
      "<class 'pandas.core.series.Series'>\n",
      "<class 'pandas.core.series.Series'>\n"
     ]
    }
   ],
   "source": [
    "print(type(X_train)) # <class 'numpy.ndarray'>\n",
    "print(type(X_test)) # <class 'numpy.ndarray'>\n",
    "\n",
    "print(type(y_train)) # <class 'list'>\n",
    "print(type(y_test)) # <class 'list'>"
   ]
  },
  {
   "cell_type": "code",
   "execution_count": 6,
   "metadata": {},
   "outputs": [
    {
     "name": "stdout",
     "output_type": "stream",
     "text": [
      "(4446,)\n",
      "(1112,)\n"
     ]
    }
   ],
   "source": [
    "#list  -> numpy\n",
    "\n",
    "y_train = np.array(y_train)\n",
    "y_test = np.array(y_test)\n",
    "print(y_train.shape)\n",
    "print(y_test.shape)"
   ]
  },
  {
   "cell_type": "code",
   "execution_count": 7,
   "metadata": {},
   "outputs": [],
   "source": [
    "# NB model\n",
    "nb = MultinomialNB()\n",
    "model = nb.fit(X_train, y_train)"
   ]
  },
  {
   "cell_type": "code",
   "execution_count": 10,
   "metadata": {},
   "outputs": [
    {
     "name": "stdout",
     "output_type": "stream",
     "text": [
      "NB 분류정확도\n"
     ]
    },
    {
     "data": {
      "text/html": [
       "<div>\n",
       "<style scoped>\n",
       "    .dataframe tbody tr th:only-of-type {\n",
       "        vertical-align: middle;\n",
       "    }\n",
       "\n",
       "    .dataframe tbody tr th {\n",
       "        vertical-align: top;\n",
       "    }\n",
       "\n",
       "    .dataframe thead th {\n",
       "        text-align: right;\n",
       "    }\n",
       "</style>\n",
       "<table border=\"1\" class=\"dataframe\">\n",
       "  <thead>\n",
       "    <tr style=\"text-align: right;\">\n",
       "      <th>예측치</th>\n",
       "      <th>ham</th>\n",
       "      <th>spam</th>\n",
       "    </tr>\n",
       "    <tr>\n",
       "      <th>관측치</th>\n",
       "      <th></th>\n",
       "      <th></th>\n",
       "    </tr>\n",
       "  </thead>\n",
       "  <tbody>\n",
       "    <tr>\n",
       "      <th>ham</th>\n",
       "      <td>946</td>\n",
       "      <td>22</td>\n",
       "    </tr>\n",
       "    <tr>\n",
       "      <th>spam</th>\n",
       "      <td>10</td>\n",
       "      <td>134</td>\n",
       "    </tr>\n",
       "  </tbody>\n",
       "</table>\n",
       "</div>"
      ],
      "text/plain": [
       "예측치   ham  spam\n",
       "관측치            \n",
       "ham   946    22\n",
       "spam   10   134"
      ]
     },
     "execution_count": 10,
     "metadata": {},
     "output_type": "execute_result"
    }
   ],
   "source": [
    "pred = model.predict(X_test)\n",
    "nb_mat = pd.crosstab(y_test, pred, rownames=['관측치'],  colnames=['예측치'])\n",
    "print('NB 분류정확도')\n",
    "nb_mat"
   ]
  },
  {
   "cell_type": "code",
   "execution_count": 13,
   "metadata": {},
   "outputs": [
    {
     "name": "stdout",
     "output_type": "stream",
     "text": [
      "accuracy =  0.9712230215827338\n"
     ]
    }
   ],
   "source": [
    "# confusion matrix 평가 \n",
    "accuracy = (nb_mat.iloc[0,0] + nb_mat.iloc[1,1]) / len(y_test)\n",
    "print('accuracy = ', accuracy)"
   ]
  },
  {
   "cell_type": "code",
   "execution_count": 14,
   "metadata": {},
   "outputs": [
    {
     "name": "stdout",
     "output_type": "stream",
     "text": [
      "정확률 :  0.8589743589743589\n",
      "재현율 : 0.9305555555555556\n",
      "F1 Score : 0.8933333333333334\n"
     ]
    }
   ],
   "source": [
    "# 예측치 YES -> YES\n",
    "precision = nb_mat.iloc[1,1] / (nb_mat.iloc[1,1]+nb_mat.iloc[0,1])\n",
    "# 관측치 YES -> YES \n",
    "recall = nb_mat.iloc[1,1] / (nb_mat.iloc[1,0]+nb_mat.iloc[1,1])\n",
    "f1_score = 2 * (precision * recall) / (precision+recall)\n",
    "print('정확률 : ', precision)\n",
    "print('재현율 :', recall)\n",
    "print('F1 Score :', f1_score)"
   ]
  },
  {
   "cell_type": "code",
   "execution_count": null,
   "metadata": {},
   "outputs": [],
   "source": []
  }
 ],
 "metadata": {
  "kernelspec": {
   "display_name": "Python 3",
   "language": "python",
   "name": "python3"
  },
  "language_info": {
   "codemirror_mode": {
    "name": "ipython",
    "version": 3
   },
   "file_extension": ".py",
   "mimetype": "text/x-python",
   "name": "python",
   "nbconvert_exporter": "python",
   "pygments_lexer": "ipython3",
   "version": "3.8.5"
  }
 },
 "nbformat": 4,
 "nbformat_minor": 4
}
