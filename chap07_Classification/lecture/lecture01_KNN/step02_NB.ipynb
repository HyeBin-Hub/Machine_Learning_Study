{
 "cells": [
  {
   "cell_type": "code",
   "execution_count": 2,
   "metadata": {},
   "outputs": [
    {
     "data": {
      "text/html": [
       "<div>\n",
       "<style scoped>\n",
       "    .dataframe tbody tr th:only-of-type {\n",
       "        vertical-align: middle;\n",
       "    }\n",
       "\n",
       "    .dataframe tbody tr th {\n",
       "        vertical-align: top;\n",
       "    }\n",
       "\n",
       "    .dataframe thead th {\n",
       "        text-align: right;\n",
       "    }\n",
       "</style>\n",
       "<table border=\"1\" class=\"dataframe\">\n",
       "  <thead>\n",
       "    <tr style=\"text-align: right;\">\n",
       "      <th></th>\n",
       "      <th>Sepal.Length</th>\n",
       "      <th>Sepal.Width</th>\n",
       "      <th>Petal.Length</th>\n",
       "      <th>Petal.Width</th>\n",
       "      <th>Species</th>\n",
       "    </tr>\n",
       "  </thead>\n",
       "  <tbody>\n",
       "    <tr>\n",
       "      <th>0</th>\n",
       "      <td>5.1</td>\n",
       "      <td>3.5</td>\n",
       "      <td>1.4</td>\n",
       "      <td>0.2</td>\n",
       "      <td>setosa</td>\n",
       "    </tr>\n",
       "    <tr>\n",
       "      <th>1</th>\n",
       "      <td>4.9</td>\n",
       "      <td>3.0</td>\n",
       "      <td>1.4</td>\n",
       "      <td>0.2</td>\n",
       "      <td>setosa</td>\n",
       "    </tr>\n",
       "    <tr>\n",
       "      <th>2</th>\n",
       "      <td>4.7</td>\n",
       "      <td>3.2</td>\n",
       "      <td>1.3</td>\n",
       "      <td>0.2</td>\n",
       "      <td>setosa</td>\n",
       "    </tr>\n",
       "    <tr>\n",
       "      <th>3</th>\n",
       "      <td>4.6</td>\n",
       "      <td>3.1</td>\n",
       "      <td>1.5</td>\n",
       "      <td>0.2</td>\n",
       "      <td>setosa</td>\n",
       "    </tr>\n",
       "    <tr>\n",
       "      <th>4</th>\n",
       "      <td>5.0</td>\n",
       "      <td>3.6</td>\n",
       "      <td>1.4</td>\n",
       "      <td>0.2</td>\n",
       "      <td>setosa</td>\n",
       "    </tr>\n",
       "  </tbody>\n",
       "</table>\n",
       "</div>"
      ],
      "text/plain": [
       "   Sepal.Length  Sepal.Width  Petal.Length  Petal.Width Species\n",
       "0           5.1          3.5           1.4          0.2  setosa\n",
       "1           4.9          3.0           1.4          0.2  setosa\n",
       "2           4.7          3.2           1.3          0.2  setosa\n",
       "3           4.6          3.1           1.5          0.2  setosa\n",
       "4           5.0          3.6           1.4          0.2  setosa"
      ]
     },
     "execution_count": 2,
     "metadata": {},
     "output_type": "execute_result"
    }
   ],
   "source": [
    "'''\n",
    "Naive Bayes 이론에 근거한 통계적 분류기\n",
    " - GaussianNB : x변수가 실수이고, 정규분포 데이터에 적용   \n",
    " - BeBrnoulliNB : 베르누이 분포(이항분포) 데이터에 적용(y : 0 or 1)\n",
    " - MultinomialNB : 고차원의 텍스트 분류(tf-idf)에 적용(Sparse matrix) \n",
    "'''\n",
    "\n",
    "import pandas as pd\n",
    "from sklearn import model_selection\n",
    "from sklearn.naive_bayes import GaussianNB\n",
    "from sklearn import metrics\n",
    "from scipy import stats # 확률분포 검정 \n",
    "\n",
    "#########################\n",
    "## y변수 다항분류\n",
    "#########################\n",
    "data = pd.read_csv('C:/Users/hyebin/Desktop/Python_ML/data/iris.csv')\n",
    "data.head() # x변수 실수형 \n"
   ]
  },
  {
   "cell_type": "code",
   "execution_count": 4,
   "metadata": {},
   "outputs": [
    {
     "name": "stdout",
     "output_type": "stream",
     "text": [
      "test_stat = 0.98492, pvalue = 0.10113\n"
     ]
    }
   ],
   "source": [
    "cols = list(data.columns)\n",
    "x_cols = cols[:4]\n",
    "y_col = cols[-1]\n",
    "\n",
    "# x의 정규성 검정 \n",
    "test_stat, pvalue = stats.shapiro(data[x_cols[1]]) # sample data \n",
    "print(\"test_stat = %.5f, pvalue = %.5f\"%(test_stat, pvalue))"
   ]
  },
  {
   "cell_type": "code",
   "execution_count": 5,
   "metadata": {},
   "outputs": [
    {
     "name": "stdout",
     "output_type": "stream",
     "text": [
      "(105, 5)\n",
      "(45, 5)\n"
     ]
    }
   ],
   "source": [
    "# 1. train/test data set 구성 \n",
    "train_set, test_set = model_selection.train_test_split(\n",
    "     data, test_size=0.3, random_state=123) # seed값 \n",
    "\n",
    "print(train_set.shape) # (90, 5)\n",
    "print(test_set.shape) # (60, 5)"
   ]
  },
  {
   "cell_type": "code",
   "execution_count": 6,
   "metadata": {},
   "outputs": [],
   "source": [
    "# 2. NB model 생성 \n",
    "gnb = GaussianNB()\n",
    "model = gnb.fit(train_set[x_cols], train_set[y_col]) # y 집단변수 "
   ]
  },
  {
   "cell_type": "code",
   "execution_count": 7,
   "metadata": {},
   "outputs": [],
   "source": [
    "# 3. model 예측치 \n",
    "preds = model.predict(test_set[x_cols])"
   ]
  },
  {
   "cell_type": "code",
   "execution_count": 8,
   "metadata": {},
   "outputs": [
    {
     "name": "stdout",
     "output_type": "stream",
     "text": [
      "accuracy = 0.9555555555555556\n"
     ]
    }
   ],
   "source": [
    "# 4. model 평가 \n",
    "\n",
    "# 1) accuracy\n",
    "model_acc = metrics.accuracy_score(test_set[y_col], preds)\n",
    "print('accuracy =', model_acc) # accuracy = 0.9555555555555556"
   ]
  },
  {
   "cell_type": "code",
   "execution_count": 11,
   "metadata": {},
   "outputs": [
    {
     "data": {
      "text/html": [
       "<div>\n",
       "<style scoped>\n",
       "    .dataframe tbody tr th:only-of-type {\n",
       "        vertical-align: middle;\n",
       "    }\n",
       "\n",
       "    .dataframe tbody tr th {\n",
       "        vertical-align: top;\n",
       "    }\n",
       "\n",
       "    .dataframe thead th {\n",
       "        text-align: right;\n",
       "    }\n",
       "</style>\n",
       "<table border=\"1\" class=\"dataframe\">\n",
       "  <thead>\n",
       "    <tr style=\"text-align: right;\">\n",
       "      <th>Species</th>\n",
       "      <th>setosa</th>\n",
       "      <th>versicolor</th>\n",
       "      <th>virginica</th>\n",
       "    </tr>\n",
       "    <tr>\n",
       "      <th>row_0</th>\n",
       "      <th></th>\n",
       "      <th></th>\n",
       "      <th></th>\n",
       "    </tr>\n",
       "  </thead>\n",
       "  <tbody>\n",
       "    <tr>\n",
       "      <th>setosa</th>\n",
       "      <td>18</td>\n",
       "      <td>0</td>\n",
       "      <td>0</td>\n",
       "    </tr>\n",
       "    <tr>\n",
       "      <th>versicolor</th>\n",
       "      <td>0</td>\n",
       "      <td>10</td>\n",
       "      <td>2</td>\n",
       "    </tr>\n",
       "    <tr>\n",
       "      <th>virginica</th>\n",
       "      <td>0</td>\n",
       "      <td>0</td>\n",
       "      <td>15</td>\n",
       "    </tr>\n",
       "  </tbody>\n",
       "</table>\n",
       "</div>"
      ],
      "text/plain": [
       "Species     setosa  versicolor  virginica\n",
       "row_0                                    \n",
       "setosa          18           0          0\n",
       "versicolor       0          10          2\n",
       "virginica        0           0         15"
      ]
     },
     "execution_count": 11,
     "metadata": {},
     "output_type": "execute_result"
    }
   ],
   "source": [
    "# 2) confusion matrix\n",
    "con_mat=pd.crosstab(preds, test_set[y_col])\n",
    "con_mat"
   ]
  },
  {
   "cell_type": "code",
   "execution_count": 12,
   "metadata": {},
   "outputs": [
    {
     "name": "stdout",
     "output_type": "stream",
     "text": [
      "0.9555555555555556\n"
     ]
    }
   ],
   "source": [
    "tab = con_mat.setosa[0]+con_mat.versicolor[1]+con_mat.virginica[2]\n",
    "print(tab / len(test_set))"
   ]
  },
  {
   "cell_type": "code",
   "execution_count": 13,
   "metadata": {},
   "outputs": [
    {
     "name": "stdout",
     "output_type": "stream",
     "text": [
      "f1 score = 0.9555555555555556\n"
     ]
    }
   ],
   "source": [
    "# 3) f1 score : average=[None, 'micro', 'macro', 'weighted'].\n",
    "f1_score = metrics.f1_score(test_set[y_col], preds, average='micro') \n",
    "print('f1 score =', f1_score)"
   ]
  },
  {
   "cell_type": "code",
   "execution_count": 16,
   "metadata": {},
   "outputs": [],
   "source": [
    "###############################\n",
    "### news groups 분류 \n",
    "###############################\n",
    "\n",
    "from sklearn.naive_bayes import MultinomialNB # tfidf 문서분류 \n",
    "from sklearn.datasets import fetch_20newsgroups # news 데이터셋 \n",
    "from sklearn.feature_extraction.text import TfidfVectorizer# 희소행렬 \n",
    "\n",
    "# 1. dataset 가져오기 \n",
    "newsgroups = fetch_20newsgroups(subset='all') # train/test load "
   ]
  },
  {
   "cell_type": "code",
   "execution_count": 18,
   "metadata": {},
   "outputs": [
    {
     "name": "stdout",
     "output_type": "stream",
     "text": [
      "['alt.atheism', 'comp.graphics', 'comp.os.ms-windows.misc', 'comp.sys.ibm.pc.hardware', 'comp.sys.mac.hardware', 'comp.windows.x', 'misc.forsale', 'rec.autos', 'rec.motorcycles', 'rec.sport.baseball', 'rec.sport.hockey', 'sci.crypt', 'sci.electronics', 'sci.med', 'sci.space', 'soc.religion.christian', 'talk.politics.guns', 'talk.politics.mideast', 'talk.politics.misc', 'talk.religion.misc'] \n",
      "\n",
      "20\n"
     ]
    }
   ],
   "source": [
    "print(newsgroups.target_names,\"\\n\")\n",
    "print(len(newsgroups.target_names)) # 20개 뉴스 그룹 "
   ]
  },
  {
   "cell_type": "code",
   "execution_count": 19,
   "metadata": {},
   "outputs": [
    {
     "data": {
      "text/plain": [
       "array([3, 2, 2, ..., 0, 1, 1], dtype=int64)"
      ]
     },
     "execution_count": 19,
     "metadata": {},
     "output_type": "execute_result"
    }
   ],
   "source": [
    "'''\n",
    " 문서단어 행렬 : 희소행렬(sparse matrix)  \n",
    " 텍스트 데이터로 예측모델 또는 군집 모델을 생성하기 텍스트를 적절한 숫자 값의 벡터 생성 \n",
    "'''\n",
    "\n",
    "# 2. train set 선택 : 4개 뉴스 그룹  \n",
    "#cats = ['alt.atheism', 'talk.religion.misc','comp.graphics', 'sci.space']\n",
    "cats = list(newsgroups.target_names)[:4]\n",
    "\n",
    "news_train = fetch_20newsgroups(subset='train',categories=cats)\n",
    "news_train.data # texts\n",
    "news_train.target # 0 ~ 3"
   ]
  },
  {
   "cell_type": "code",
   "execution_count": 20,
   "metadata": {},
   "outputs": [
    {
     "data": {
      "text/plain": [
       "(2245, 62227)"
      ]
     },
     "execution_count": 20,
     "metadata": {},
     "output_type": "execute_result"
    }
   ],
   "source": [
    "# 3. sparse matrix\n",
    "vectorizer = TfidfVectorizer()\n",
    "sparse_train = vectorizer.fit_transform(news_train.data)\n",
    "sparse_train.shape # (2245, 62227)"
   ]
  },
  {
   "cell_type": "code",
   "execution_count": 22,
   "metadata": {},
   "outputs": [
    {
     "data": {
      "text/plain": [
       "MultinomialNB()"
      ]
     },
     "execution_count": 22,
     "metadata": {},
     "output_type": "execute_result"
    }
   ],
   "source": [
    "# 4. NB 모델 생성 \n",
    "model = MultinomialNB() # alpha=.01 (default=1.0)\n",
    "\n",
    "'''\n",
    "스무딩(smoothing)\n",
    "표본 데이터의 수가 적은 경우에는 베르누이 모수가 0 또는 1이라는 극단적인 \n",
    "모수 추정값이 나오는 것을 방지하기 위해서 0과 1의 가상 표본 데이터를 \n",
    "추가하여 극단적인 추정값이 0.5에 가깝게 만드는 기능의미 한다.\n",
    "alpha 속성은 스무딩의 정도를 지정하는 가중치 역할 \n",
    "'''\n",
    "\n",
    "#help(MultinomialNB)\n",
    "model.fit(sparse_train, news_train.target) # 훈련셋 적용 \n",
    "'''\n",
    "주의 :\n",
    "vectorizer.fit_transform(news_train.data)\n",
    "vectorizer.transform(news_test.data)\n",
    "'''"
   ]
  },
  {
   "cell_type": "code",
   "execution_count": 23,
   "metadata": {},
   "outputs": [
    {
     "data": {
      "text/plain": [
       "(1494, 62227)"
      ]
     },
     "execution_count": 23,
     "metadata": {},
     "output_type": "execute_result"
    }
   ],
   "source": [
    "# 5. test dataset 4개 뉴스그룹 대상 : 희소행렬\n",
    "news_test = fetch_20newsgroups(subset='test', categories=cats)\n",
    "sparse_test = vectorizer.transform(news_test.data)\n",
    "sparse_test.shape # (1494, 62227)"
   ]
  },
  {
   "cell_type": "code",
   "execution_count": 25,
   "metadata": {},
   "outputs": [
    {
     "data": {
      "text/plain": [
       "0.8520749665327979"
      ]
     },
     "execution_count": 25,
     "metadata": {},
     "output_type": "execute_result"
    }
   ],
   "source": [
    "# 6. model 예측치 \n",
    "target_pred = model.predict(sparse_test) # 예측치 \n",
    "\n",
    "# 7. model 평가 : average=[None, 'micro', 'macro', 'weighted'].\n",
    "metrics.f1_score(news_test.target, target_pred, average='micro') "
   ]
  },
  {
   "cell_type": "code",
   "execution_count": 27,
   "metadata": {},
   "outputs": [
    {
     "name": "stdout",
     "output_type": "stream",
     "text": [
      "[1 1 1 2 3 1 3 1 0 3 3 3 0 2 3 1 0 3 2 2] \n",
      "\n",
      "[1 2 1 2 3 1 3 1 0 3 1 3 0 2 3 1 0 3 0 2]\n"
     ]
    }
   ],
   "source": [
    "# real value vs predict\n",
    "print(news_test.target[:20],\"\\n\")\n",
    "print(target_pred[:20])"
   ]
  },
  {
   "cell_type": "code",
   "execution_count": null,
   "metadata": {},
   "outputs": [],
   "source": []
  }
 ],
 "metadata": {
  "kernelspec": {
   "display_name": "Python 3",
   "language": "python",
   "name": "python3"
  },
  "language_info": {
   "codemirror_mode": {
    "name": "ipython",
    "version": 3
   },
   "file_extension": ".py",
   "mimetype": "text/x-python",
   "name": "python",
   "nbconvert_exporter": "python",
   "pygments_lexer": "ipython3",
   "version": "3.8.5"
  }
 },
 "nbformat": 4,
 "nbformat_minor": 4
}
