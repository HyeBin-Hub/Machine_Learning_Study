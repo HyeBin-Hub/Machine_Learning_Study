{
 "cells": [
  {
   "cell_type": "code",
   "execution_count": 2,
   "metadata": {},
   "outputs": [
    {
     "data": {
      "image/png": "[encoded data removed]",
      "text/plain": [
       "<Figure size 432x288 with 1 Axes>"
      ]
     },
     "metadata": {
      "needs_background": "light"
     },
     "output_type": "display_data"
    }
   ],
   "source": [
    "import numpy as np # 다차원배열, 선형대수 연산 \n",
    "import matplotlib.pyplot as plt\n",
    "\n",
    "# 1. 알려진 두 집단 x,y 산점도 시각화 \n",
    "plt.scatter(1.2, 1.1) # A 집단\n",
    "plt.scatter(1.0, 1.0)\n",
    "plt.scatter(1.8, 0.8) # B 집단 \n",
    "plt.scatter(2, 0.9)\n",
    "\n",
    "# K=3 홀수로 한다 가장 가까운 탑 3를 찾아줌\n",
    "\n",
    "plt.scatter(1.6, 0.85, color='r') # 분류대상 \n",
    "plt.show()"
   ]
  },
  {
   "cell_type": "code",
   "execution_count": 3,
   "metadata": {},
   "outputs": [
    {
     "data": {
      "text/plain": [
       "\"\\n# 선형대수 연산이 불가능\\nsub = p1-p2\\nprint(sub)  #TypeError: unsupported operand type(s) for -: 'list' and 'list'\\n\""
      ]
     },
     "execution_count": 3,
     "metadata": {},
     "output_type": "execute_result"
    }
   ],
   "source": [
    "# 2. DATA 생성과 함수 정의 \n",
    "p1 = [1.2, 1.1] # A 집단 \n",
    "p2 = [1.0, 1.0]           # 알려진 그룹\n",
    "p3 = [1.8, 0.8] # B 집단\n",
    "p4 = [2, 0.9]\n",
    "category = ['A','A','B','B'] # 알려진 집단 분류범주(Y변수) 지도학습에 이용됨\n",
    "p5 = [1.6, 0.85] # 분류대상    알려지지 않음 그룹\n",
    "\n",
    "\"\"\"\n",
    "# 선형대수 연산이 불가능\n",
    "sub = p1-p2\n",
    "print(sub)  #TypeError: unsupported operand type(s) for -: 'list' and 'list'\n",
    "\"\"\""
   ]
  },
  {
   "cell_type": "code",
   "execution_count": 4,
   "metadata": {},
   "outputs": [],
   "source": [
    "# data 생성 함수 정의\n",
    "def data_set():\n",
    "    # 선형대수 연산 : numpy형 변환 \n",
    "    know_group = np.array([p1, p2, p3, p4]) # 알려진 집단   4행 2열 구조가 만들어짐\n",
    "    not_know_group = np.array(p5) # 알려지지 않은 집단\n",
    "    class_category = np.array(category) # 정답(분류범주) \n",
    "    return know_group,not_know_group,class_category "
   ]
  },
  {
   "cell_type": "code",
   "execution_count": 5,
   "metadata": {},
   "outputs": [
    {
     "name": "stdout",
     "output_type": "stream",
     "text": [
      "[[1.2 1.1]\n",
      " [1.  1. ]\n",
      " [1.8 0.8]\n",
      " [2.  0.9]]\n",
      "[1.6  0.85]\n",
      "['A' 'A' 'B' 'B']\n"
     ]
    }
   ],
   "source": [
    "# 1. data 생성 \n",
    "k_group,nk_group, cat =data_set()\n",
    "print(k_group)\n",
    "k_group.shape  #(4, 2) 2차원 데이터 4개의 벡터에 의햐 만들어짐\n",
    "print(nk_group)\n",
    "nk_group.shape #(2,) 1차원 데이터\n",
    "print(cat)  # 알려진 그룹\n",
    "# 2차원 1차원 연산이 가능: 브로드캐스팅"
   ]
  },
  {
   "cell_type": "code",
   "execution_count": 6,
   "metadata": {},
   "outputs": [
    {
     "name": "stdout",
     "output_type": "stream",
     "text": [
      "[[-0.4   0.25]\n",
      " [-0.6   0.15]\n",
      " [ 0.2  -0.05]\n",
      " [ 0.4   0.05]]\n"
     ]
    }
   ],
   "source": [
    "# 2. 유클리드안 거리 계산식 : 차(-) -> 제곱(**) -> 합(sum) -> 제곱근(sqrt)\n",
    "diff = k_group-nk_group # 차(-)\n",
    "print(diff)"
   ]
  },
  {
   "cell_type": "code",
   "execution_count": 7,
   "metadata": {},
   "outputs": [
    {
     "name": "stdout",
     "output_type": "stream",
     "text": [
      "[[0.16   0.0625]\n",
      " [0.36   0.0225]\n",
      " [0.04   0.0025]\n",
      " [0.16   0.0025]]\n"
     ]
    }
   ],
   "source": [
    "square_diff = diff**2 # 제곱(**)\n",
    "print(square_diff)"
   ]
  },
  {
   "cell_type": "code",
   "execution_count": 8,
   "metadata": {},
   "outputs": [
    {
     "name": "stdout",
     "output_type": "stream",
     "text": [
      "[0.2225 0.3825 0.0425 0.1625]\n"
     ]
    }
   ],
   "source": [
    "sum_square_diff = square_diff.sum(axis = 1)  # 행단위로 합계를 구한다\n",
    "print(sum_square_diff)"
   ]
  },
  {
   "cell_type": "code",
   "execution_count": 9,
   "metadata": {},
   "outputs": [
    {
     "name": "stdout",
     "output_type": "stream",
     "text": [
      "[0.47169906 0.61846584 0.20615528 0.40311289]\n"
     ]
    }
   ],
   "source": [
    "distance = np.sqrt(sum_square_diff)  # 유클리드안 거리 계산\n",
    "print(distance)\n",
    "# [0.47169906 0.61846584 0.20615528 0.40311289] 수치가 작은게 가장 가까운것\n",
    "#  A            A            B         B     =>   B에 가장 가까움\n",
    "# K  = 3 타 쓰리는 A A B  수치가 작은 순으로 "
   ]
  },
  {
   "cell_type": "code",
   "execution_count": 10,
   "metadata": {},
   "outputs": [
    {
     "name": "stdout",
     "output_type": "stream",
     "text": [
      "[2 3 0 1]\n"
     ]
    }
   ],
   "source": [
    "# 3. 오름 정렬 = > index반환\n",
    "sort_idx = distance.argsort() # 결과중 가장 작은순으로 인덱스 제공\n",
    "print(sort_idx) # [2 3 0 1] 결과중 값이 작은순으로 반환"
   ]
  },
  {
   "cell_type": "code",
   "execution_count": 11,
   "metadata": {},
   "outputs": [
    {
     "name": "stdout",
     "output_type": "stream",
     "text": [
      "['B' 'B' 'A' 'A']\n"
     ]
    }
   ],
   "source": [
    "result = cat[sort_idx]\n",
    "print(result)  # ['B' 'B' 'A' 'A']  \n",
    "\n"
   ]
  },
  {
   "cell_type": "code",
   "execution_count": 12,
   "metadata": {},
   "outputs": [
    {
     "name": "stdout",
     "output_type": "stream",
     "text": [
      "['B' 'B' 'A']\n"
     ]
    }
   ],
   "source": [
    "k3=result[:3]\n",
    "print(k3)   #['B' 'B' 'A'] k를 3으로 잡으면 3개 1이면 1개만 "
   ]
  },
  {
   "cell_type": "code",
   "execution_count": 17,
   "metadata": {},
   "outputs": [
    {
     "name": "stdout",
     "output_type": "stream",
     "text": [
      "['B' 'B' 'A' 'A']\n"
     ]
    }
   ],
   "source": [
    "def classfier(know, not_know, cat, k=3):\n",
    "    # 1. 유클리드안 거리 계산식\n",
    "    diff = k_group-nk_group\n",
    "    square_diff = diff**2\n",
    "    sum_square_diff = square_diff.sum(axis = 1) \n",
    "    distance = np.sqrt(sum_square_diff)  \n",
    "    # 2. 오름 차순\n",
    "    sort_idx = distance.argsort()\n",
    "    #3. 최근접 이웃(k=3)\n",
    "    class_result = {} # 빈 set - > {B:2,A:1}\n",
    "    for i in range(k):  # 0,1,2 3회 반복\n",
    "        key = cat[sort_idx[i]] # ['B' 'B' 'A' 'A'] \n",
    "        class_result[key] = class_result.get(key,0)+1\n",
    "        \n",
    "    return class_result\n",
    "\n",
    "# 함수 호출\n",
    "classfier(k_group,nk_group, cat)\n",
    "print(result) #{'B': 2, 'A': 1}"
   ]
  },
  {
   "cell_type": "code",
   "execution_count": 19,
   "metadata": {},
   "outputs": [
    {
     "name": "stdout",
     "output_type": "stream",
     "text": [
      "분류결과: B\n"
     ]
    }
   ],
   "source": [
    "vote_result = max(result)\n",
    "print(\"분류결과:\",vote_result) # 분류 결과:B"
   ]
  },
  {
   "cell_type": "code",
   "execution_count": null,
   "metadata": {},
   "outputs": [],
   "source": []
  }
 ],
 "metadata": {
  "kernelspec": {
   "display_name": "Python 3",
   "language": "python",
   "name": "python3"
  },
  "language_info": {
   "codemirror_mode": {
    "name": "ipython",
    "version": 3
   },
   "file_extension": ".py",
   "mimetype": "text/x-python",
   "name": "python",
   "nbconvert_exporter": "python",
   "pygments_lexer": "ipython3",
   "version": "3.8.5"
  }
 },
 "nbformat": 4,
 "nbformat_minor": 4
}
