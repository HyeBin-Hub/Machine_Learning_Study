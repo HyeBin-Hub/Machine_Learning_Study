{
 "cells": [
  {
   "cell_type": "code",
   "execution_count": 1,
   "metadata": {},
   "outputs": [
    {
     "name": "stdout",
     "output_type": "stream",
     "text": [
      "[[1, 1, 'yes'], [1, 1, 'yes'], [1, 0, 'no'], [0, 1, 'no'], [0, 1, 'no']]\n",
      "['dark clouds', 'gust']\n"
     ]
    }
   ],
   "source": [
    "'''\n",
    "Decision Tree 알고리즘\n",
    " \n",
    " data set\n",
    " --------------------------- \n",
    " 먹구름(x1) 돌풍(x2) 비(y) \n",
    "    1       1     yes\n",
    "    1       1     yes\n",
    "    1       0     no\n",
    "    0       1     no\n",
    "    0       1     no\n",
    "  ---------------------------\n",
    "  [해설] x1=0 -> y=0, x2=0 -> y=0, x2=1 ->     \n",
    "'''\n",
    "from math import log # 자연로그(엔트로피)\n",
    "\n",
    "# 1. data set 생성 \n",
    "def createDataSet():\n",
    "    dataSet = [[1, 1, 'yes'],\n",
    "               [1, 1, 'yes'],\n",
    "               [1, 0, 'no'],\n",
    "               [0, 1, 'no'],\n",
    "               [0, 1, 'no']]\n",
    "    columns = ['dark clouds','gust'] # dark clouds, gust, label \n",
    "    return dataSet, columns\n",
    "\n",
    "dataSet, columns = createDataSet()\n",
    "print(dataSet)\n",
    "print(columns)\n"
   ]
  },
  {
   "cell_type": "code",
   "execution_count": 2,
   "metadata": {},
   "outputs": [
    {
     "name": "stdout",
     "output_type": "stream",
     "text": [
      "전체 엔트로피 : 0.9709505944546686\n"
     ]
    }
   ],
   "source": [
    "# 2. 기준 엔트로피 계산\n",
    "def calcShannonEnt(dataSet):\n",
    "    numEntries = len(dataSet) # entry=관측치 수 : 5\n",
    "    \n",
    "    labelCounts = {} # 빈 set\n",
    "    for featVec in dataSet: # 행 단위 넘김 \n",
    "        currentLabel = featVec[-1] # 3번째 원소(label) 선택 \n",
    "        # yes/no count\n",
    "        labelCounts[currentLabel] = labelCounts.get(currentLabel, 0)+1\n",
    "        #print('labelCounts :', labelCounts)    \n",
    "    '''         \n",
    "    labelCounts : {'yes': 2, 'no': 3}\n",
    "    '''\n",
    "    shannonEnt = 0.0  # 엔트로피 초기화 \n",
    "    for key in labelCounts:\n",
    "        # label 확률 = label 빈도수 / 전체 관측치 수 \n",
    "        prob = float(labelCounts[key])/numEntries # 확률 : yes:2/5, no:3/5\n",
    "        \n",
    "        shannonEnt -= prob * log(prob,2) # 엔트로피 계산 누적 : 확률, 자연로그 이용 \n",
    "        \n",
    "    return shannonEnt\n",
    "\n",
    "baseEnt = calcShannonEnt(dataSet)  \n",
    "print('전체 엔트로피 :', baseEnt) # 0.9709505944546686 : dataset 전체 엔트로피 \n"
   ]
  },
  {
   "cell_type": "code",
   "execution_count": 3,
   "metadata": {},
   "outputs": [],
   "source": [
    "# 불확실성 증가   -> 엔트로피 증가 \n",
    "'''\n",
    "엔트로피(세년엔트로피) = 불확실성 척도 \n",
    "  - 불확실성 낮음(확률이 높은 경우) => 엔트로피 최소화  \n",
    "'''\n",
    "\n",
    "# 3. data set 분할  : 칼럼/값으로 data 분할  -> 현재 축을 제외한 나머지 축의 값 반환 \n",
    "def splitDataSet(dataSet, axis, value): #(전체data, 열축, 값)  \n",
    "    reDataSet = []\n",
    "    for subVec in dataSet: \n",
    "        if subVec[axis] == value : # 칼럼 값 == value\n",
    "            reducedFeatVec = subVec[:axis] # axis=1 : subVec[:1] -> subVec[0]\n",
    "            reducedFeatVec.extend(subVec[axis+1:]) # subVec[1+1:] -> subVec[2]=subVec[0,2]\n",
    "            reDataSet.append(reducedFeatVec) # reDataSet[[0,2], ]\n",
    "    return reDataSet"
   ]
  },
  {
   "cell_type": "code",
   "execution_count": 4,
   "metadata": {},
   "outputs": [
    {
     "name": "stdout",
     "output_type": "stream",
     "text": [
      "정보이득이 높은 속성 :  1 번째 칼럼\n"
     ]
    }
   ],
   "source": [
    "# 4. 중요도가 높은 변수 선택  : 어떤 변수를 기준으로 label을 분류할 것인가 결정    \n",
    "def chooseBestVariable(dataSet):\n",
    "    numFeatures = len(dataSet[0]) - 1  # 2=3-1\n",
    "    baseEntropy = calcShannonEnt(dataSet) # 0.9709505944546686 : 기준 엔트로피 \n",
    "    bestInfoGain = 0.0; bestFeature = -1\n",
    "    for i in range(numFeatures):  # range(2) : 0~1\n",
    "        featList = [example[i] for example in dataSet] # 0번째/1번째 요소 각각 저장 \n",
    "        uniqueVals = set(featList)  # 중복 list 제거 \n",
    "        newEntropy = 0.0\n",
    "        for value in uniqueVals: # {0, 1} \n",
    "            subDataSet = splitDataSet(dataSet, i, value) # data set 분할\n",
    "            prob = len(subDataSet)/float(len(dataSet))\n",
    "            newEntropy += prob * calcShannonEnt(subDataSet) # 각 변수/값 엔트로피 계산    \n",
    "            \n",
    "        infoGain = baseEntropy - newEntropy # 정보이득 계산(전체엔트로피-속성엔트로피)  \n",
    "        if (infoGain > bestInfoGain): # 최대값 알고리즘 \n",
    "            bestInfoGain = infoGain  \n",
    "            bestFeature = i # 칼럼 수정 : 정보이득이 가장 큰 칼럼 교체   \n",
    "    return bestFeature \n",
    "\n",
    "infoGain = chooseBestVariable(dataSet)\n",
    "print('정보이득이 높은 속성 : ', infoGain+1,'번째 칼럼')\n",
    "# 정보이득이 같은 높은 변수 :  0 -> (첫번째 칼럼)\n",
    "'''\n",
    "엔트로피 최소화 = 정보이득 최대 \n",
    " - 엔트로피가 가장 낮게 분할하는것이 정보이득를 최대화\n",
    " - 정보이득 : 전체 엔트로피 - 변수 엔트로피(x1, x2) \n",
    "'''\n"
   ]
  },
  {
   "cell_type": "code",
   "execution_count": 5,
   "metadata": {},
   "outputs": [
    {
     "name": "stdout",
     "output_type": "stream",
     "text": [
      "분류트리 결과\n",
      "{'dark clouds': {0: 'no', 1: {'gust': {0: 'no', 1: 'yes'}}}}\n"
     ]
    }
   ],
   "source": [
    "# 5. 의사결정 트리  생성 함수 \n",
    "def createTree(dataSet, columns): \n",
    "    classList = [example[-1] for example in dataSet] \n",
    "     \n",
    "    # 재귀호출 리턴 조건(list 첫번째 원소 갯수 ==전체 원소 갯수) : label 100% 분류 -> ['no', 'no']\n",
    "    if classList.count(classList[0]) == len(classList): # end 조건\n",
    "        return classList[0]  # 재귀호출 리턴 값\n",
    "    \n",
    "    bestVariable = chooseBestVariable(dataSet) # 중요도 높은 변수(0) 선택 \n",
    "    bestFeatLabel = columns[bestVariable] \n",
    "    myTree = {bestFeatLabel:{}} # { dark clouds: { } } 초기화  \n",
    "    del(columns[bestVariable]) \n",
    "    featValues = [example[bestVariable] for example in dataSet]\n",
    "    uniqueVals = set(featValues)\n",
    "\n",
    "    for value in uniqueVals: # {0, 1}\n",
    "        subcolumns = columns[:] # 중요 변수(dark clouds)의 하위 변수(gust) \n",
    "        # createTree(중요도 변수 이용 칼럼단위 data set 분할, 서브칼럼)\n",
    "        myTree[bestFeatLabel][value] = createTree(splitDataSet(dataSet, bestVariable, value),subcolumns)\n",
    "    \n",
    "    return myTree  \n",
    "    \n",
    " \n",
    "myTree = createTree(dataSet, columns) # (전체data, label)\n",
    "print('분류트리 결과')\n",
    "print(myTree)\n",
    "# {'dark clouds': {0: 'no', 1: {'gust': {0: 'no', 1: 'yes'}}}}\n",
    "# [해설] 먹구름이 0이면 no, 먹구름이 1이면서 돌풍이 1이면 yes, 돌풍이 0이면 no\n",
    "# 재귀호출방식에 의해서 처음 리턴값이 마지막에 추가된다.\n"
   ]
  },
  {
   "cell_type": "code",
   "execution_count": null,
   "metadata": {},
   "outputs": [],
   "source": []
  }
 ],
 "metadata": {
  "kernelspec": {
   "display_name": "Python 3",
   "language": "python",
   "name": "python3"
  },
  "language_info": {
   "codemirror_mode": {
    "name": "ipython",
    "version": 3
   },
   "file_extension": ".py",
   "mimetype": "text/x-python",
   "name": "python",
   "nbconvert_exporter": "python",
   "pygments_lexer": "ipython3",
   "version": "3.8.5"
  }
 },
 "nbformat": 4,
 "nbformat_minor": 4
}
