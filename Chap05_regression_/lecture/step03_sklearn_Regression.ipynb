{
 "cells": [
  {
   "cell_type": "code",
   "execution_count": 1,
   "metadata": {},
   "outputs": [
    {
     "name": "stdout",
     "output_type": "stream",
     "text": [
      "(442, 10)\n",
      "(442,)\n"
     ]
    }
   ],
   "source": [
    "\"\"\"\n",
    "기계학습 측면의 선형회귀모델\n",
    "\"\"\"\n",
    "\n",
    "from sklearn import datasets # dataset 제공 모듈 \n",
    "from sklearn.linear_model import LinearRegression # model 생성 \n",
    "from sklearn.model_selection import train_test_split # train/test split \n",
    "from sklearn.metrics import mean_squared_error, r2_score # model 평가 \n",
    "import pandas as pd\n",
    "import numpy as np\n",
    "\n",
    "###############################\n",
    "### 당료병(diabetes) dataset\n",
    "###############################\n",
    "\n",
    "#  dataset load\n",
    "diabetes = datasets.load_diabetes()\n",
    "\n",
    "dia_x = diabetes.data  # x변수 \n",
    "dia_y = diabetes.target # y변수 \n",
    "\n",
    "print(dia_x.shape) # (442, 10)\n",
    "print(dia_y.shape) # (442,)"
   ]
  },
  {
   "cell_type": "code",
   "execution_count": 2,
   "metadata": {},
   "outputs": [],
   "source": [
    "#  x,y 변수 선택 : 단순선형회귀분석 : x(bmi) -> y\n",
    "dia_x[0]\n",
    "x = dia_x[:, np.newaxis, 2] # bmi\n",
    "x.shape # (442) -> (442, 1)\n",
    "y = dia_y\n",
    "#print(x) # 표준화(o) \n",
    "#print(y) # 표준화(x)"
   ]
  },
  {
   "cell_type": "code",
   "execution_count": 3,
   "metadata": {},
   "outputs": [
    {
     "name": "stdout",
     "output_type": "stream",
     "text": [
      "(309, 1)\n",
      "(133, 1)\n",
      "(309,)\n",
      "(133,)\n"
     ]
    }
   ],
   "source": [
    "#  train(70%)/test(30%) split \n",
    "train_x, test_x, train_y, test_y = train_test_split(\n",
    "        x, y, test_size = 0.3)\n",
    "\n",
    "print(train_x.shape) # (309, 1) -> 훈련셋 \n",
    "print(test_x.shape) # (133, 1) -> 검정셋 \n",
    "print(train_y.shape) # (309,)\n",
    "print(test_y.shape) # (133,)"
   ]
  },
  {
   "cell_type": "code",
   "execution_count": 4,
   "metadata": {},
   "outputs": [
    {
     "data": {
      "text/plain": [
       "LinearRegression()"
      ]
     },
     "execution_count": 4,
     "metadata": {},
     "output_type": "execute_result"
    }
   ],
   "source": [
    "#  model 생성 \n",
    "lr_model = LinearRegression() # object 생성 \n",
    "lr_model # object info"
   ]
  },
  {
   "cell_type": "code",
   "execution_count": 5,
   "metadata": {},
   "outputs": [],
   "source": [
    "# 모델 학습 : 훈련셋 이용 \n",
    "model = lr_model.fit(X = train_x, y = train_y)"
   ]
  },
  {
   "cell_type": "code",
   "execution_count": 6,
   "metadata": {},
   "outputs": [
    {
     "name": "stdout",
     "output_type": "stream",
     "text": [
      "[909.57783359]\n"
     ]
    },
    {
     "data": {
      "text/plain": [
       "150.07799075852424"
      ]
     },
     "execution_count": 6,
     "metadata": {},
     "output_type": "execute_result"
    }
   ],
   "source": [
    "# x 1차원 경우 Error -> 해결책 : np.newaxis -> 2차원 \n",
    "print(lr_model.coef_) # 기울기 :  array([941.73947113])\n",
    "#lr_model.intercept_ # 절편 : 153.42261539898573\n",
    "lr_model.intercept_"
   ]
  },
  {
   "cell_type": "code",
   "execution_count": 7,
   "metadata": {},
   "outputs": [],
   "source": [
    "# 모델 예측치 : 검정셋 이용 \n",
    "y_pred = model.predict(X = test_x) # 검정셋 y 예측치 \n",
    "y_true = test_y"
   ]
  },
  {
   "cell_type": "code",
   "execution_count": 8,
   "metadata": {},
   "outputs": [
    {
     "name": "stdout",
     "output_type": "stream",
     "text": [
      "MSE = 3701.9347139396564\n"
     ]
    }
   ],
   "source": [
    "#  model 평가 \n",
    "\n",
    "#  MSE : mean_squared_error - (y 가 표준화가 되었을때 사용 )\n",
    "mse = mean_squared_error(y_true, y_pred)\n",
    "print('MSE =', mse) # MSE = 4116.284062372021\n",
    "# mse = np.mean((y - y_pred)**2)    = > 0에 가까울수록 좋은 모형"
   ]
  },
  {
   "cell_type": "code",
   "execution_count": 9,
   "metadata": {},
   "outputs": [
    {
     "name": "stdout",
     "output_type": "stream",
     "text": [
      "결정계수 = 0.3625773575121308\n"
     ]
    }
   ],
   "source": [
    "#  결정계수(1) : r2_score - 1인경우 좋은 예측치를 보여준다 (y 가 표준화가 안되었을때 사용 )\n",
    "r2 = r2_score(y_true, y_pred)\n",
    "print('결정계수 =', r2) # 결정계수 = 0.39175539085556677"
   ]
  },
  {
   "cell_type": "code",
   "execution_count": 10,
   "metadata": {},
   "outputs": [
    {
     "data": {
      "image/png": "[encoded data removed]",
      "text/plain": [
       "<Figure size 432x288 with 1 Axes>"
      ]
     },
     "metadata": {
      "needs_background": "light"
     },
     "output_type": "display_data"
    }
   ],
   "source": [
    "#  회귀선 시각화 : 예측치 이용 \n",
    "import matplotlib.pyplot as plt\n",
    "\n",
    "plt.scatter(x = test_x, y = test_y, color='red') # 산점도 \n",
    "plt.plot(test_x, y_pred, color='blue') # 회귀선 \n",
    "plt.show()"
   ]
  },
  {
   "cell_type": "code",
   "execution_count": 11,
   "metadata": {},
   "outputs": [
    {
     "data": {
      "text/html": [
       "<div>\n",
       "<style scoped>\n",
       "    .dataframe tbody tr th:only-of-type {\n",
       "        vertical-align: middle;\n",
       "    }\n",
       "\n",
       "    .dataframe tbody tr th {\n",
       "        vertical-align: top;\n",
       "    }\n",
       "\n",
       "    .dataframe thead th {\n",
       "        text-align: right;\n",
       "    }\n",
       "</style>\n",
       "<table border=\"1\" class=\"dataframe\">\n",
       "  <thead>\n",
       "    <tr style=\"text-align: right;\">\n",
       "      <th></th>\n",
       "      <th>Sepal.Length</th>\n",
       "      <th>Sepal.Width</th>\n",
       "      <th>Petal.Length</th>\n",
       "      <th>Petal.Width</th>\n",
       "      <th>Species</th>\n",
       "    </tr>\n",
       "  </thead>\n",
       "  <tbody>\n",
       "    <tr>\n",
       "      <th>0</th>\n",
       "      <td>5.1</td>\n",
       "      <td>3.5</td>\n",
       "      <td>1.4</td>\n",
       "      <td>0.2</td>\n",
       "      <td>setosa</td>\n",
       "    </tr>\n",
       "    <tr>\n",
       "      <th>1</th>\n",
       "      <td>4.9</td>\n",
       "      <td>3.0</td>\n",
       "      <td>1.4</td>\n",
       "      <td>0.2</td>\n",
       "      <td>setosa</td>\n",
       "    </tr>\n",
       "    <tr>\n",
       "      <th>2</th>\n",
       "      <td>4.7</td>\n",
       "      <td>3.2</td>\n",
       "      <td>1.3</td>\n",
       "      <td>0.2</td>\n",
       "      <td>setosa</td>\n",
       "    </tr>\n",
       "    <tr>\n",
       "      <th>3</th>\n",
       "      <td>4.6</td>\n",
       "      <td>3.1</td>\n",
       "      <td>1.5</td>\n",
       "      <td>0.2</td>\n",
       "      <td>setosa</td>\n",
       "    </tr>\n",
       "    <tr>\n",
       "      <th>4</th>\n",
       "      <td>5.0</td>\n",
       "      <td>3.6</td>\n",
       "      <td>1.4</td>\n",
       "      <td>0.2</td>\n",
       "      <td>setosa</td>\n",
       "    </tr>\n",
       "  </tbody>\n",
       "</table>\n",
       "</div>"
      ],
      "text/plain": [
       "   Sepal.Length  Sepal.Width  Petal.Length  Petal.Width Species\n",
       "0           5.1          3.5           1.4          0.2  setosa\n",
       "1           4.9          3.0           1.4          0.2  setosa\n",
       "2           4.7          3.2           1.3          0.2  setosa\n",
       "3           4.6          3.1           1.5          0.2  setosa\n",
       "4           5.0          3.6           1.4          0.2  setosa"
      ]
     },
     "execution_count": 11,
     "metadata": {},
     "output_type": "execute_result"
    }
   ],
   "source": [
    "#########################\n",
    "### iris.csv -> pandas 데이터 프레임으로 읽어줌\n",
    "#########################\n",
    "\n",
    "#  dataset load\n",
    "iris = pd.read_csv(\"C:/Users/hyebin/Desktop/study/python_ML/data/iris.csv\")\n",
    "iris.head()\n"
   ]
  },
  {
   "cell_type": "code",
   "execution_count": 12,
   "metadata": {},
   "outputs": [
    {
     "data": {
      "text/plain": [
       "['Sepal.Length', 'Sepal.Width', 'Petal.Length', 'Petal.Width', 'Species']"
      ]
     },
     "execution_count": 12,
     "metadata": {},
     "output_type": "execute_result"
    }
   ],
   "source": [
    "#  x,y 변수 선택 \n",
    "cols = list(iris.columns)\n",
    "cols"
   ]
  },
  {
   "cell_type": "code",
   "execution_count": 13,
   "metadata": {},
   "outputs": [],
   "source": [
    "y_col = cols[0] # 'Sepal.Length'\n",
    "x_cols = cols[1:4] # ['Sepal.Width', 'Petal.Length', 'Petal.Width']"
   ]
  },
  {
   "cell_type": "code",
   "execution_count": 14,
   "metadata": {},
   "outputs": [
    {
     "data": {
      "text/plain": [
       "(150, 4)"
      ]
     },
     "execution_count": 14,
     "metadata": {},
     "output_type": "execute_result"
    }
   ],
   "source": [
    "# subset : 5번 칼럼 제외 \n",
    "iris_df = iris[cols[:4]]\n",
    "iris_df.shape # (150, 4)"
   ]
  },
  {
   "cell_type": "code",
   "execution_count": 15,
   "metadata": {},
   "outputs": [
    {
     "name": "stdout",
     "output_type": "stream",
     "text": [
      "(105, 4)\n",
      "(45, 4)\n"
     ]
    }
   ],
   "source": [
    "#  train(70)/test(30) : 홀드아웃 방식 \n",
    "iris_train, iris_test = train_test_split(iris_df, test_size = 0.3, random_state=123)\n",
    "\n",
    "print(iris_train.shape) # (105, 4)\n",
    "print(iris_test.shape) #  (45, 4)"
   ]
  },
  {
   "cell_type": "code",
   "execution_count": 16,
   "metadata": {},
   "outputs": [],
   "source": [
    "#  model 생성 \n",
    "lr_obj = LinearRegression() # class -> object\n",
    "model = lr_obj.fit(X=iris_train[x_cols], y=iris_train[y_col])"
   ]
  },
  {
   "cell_type": "code",
   "execution_count": 17,
   "metadata": {},
   "outputs": [
    {
     "name": "stdout",
     "output_type": "stream",
     "text": [
      "기울기 = [ 0.63924286  0.75744562 -0.68796484]\n",
      "절편 = 1.860936399241175\n"
     ]
    }
   ],
   "source": [
    "# 기울기와 절편 \n",
    "print('기울기 =', model.coef_)# 부호를 보고 기울기를 알수 있다\n",
    "# [ 0.63924286  0.75744562 -0.68796484]\n",
    "print('절편 =', model.intercept_) # 절편 = 1.8609363992411687"
   ]
  },
  {
   "cell_type": "code",
   "execution_count": 18,
   "metadata": {},
   "outputs": [
    {
     "name": "stdout",
     "output_type": "stream",
     "text": [
      "model train = 0.8581515699458577\n",
      "model test = 0.8546807657451759\n"
     ]
    }
   ],
   "source": [
    "#  model 검정 : 예측력 평가, 과적합 확인 (어느정도의 예측력이있는지 평가 , 과적합이있는지 확인)\n",
    "\n",
    "# train set \n",
    "model_traint = model.score(X=iris_train[x_cols], y=iris_train[y_col])\n",
    "\n",
    "# test set\n",
    "model_test = model.score(X=iris_test[x_cols], y=iris_test[y_col])\n",
    "\n",
    "print('model train =', model_traint) # 0.8581515699458577\n",
    "print('model test =', model_test) # 0.8546807657451759\n",
    "# 둘 값이 비슷하게 나온거면 과적합이 아니고, 과적합이 없이 학습이 된다\n",
    "# 비교적 높은 예측력을 가지고있다"
   ]
  },
  {
   "cell_type": "code",
   "execution_count": 19,
   "metadata": {},
   "outputs": [
    {
     "data": {
      "text/plain": [
       "(75, 5)"
      ]
     },
     "execution_count": 19,
     "metadata": {},
     "output_type": "execute_result"
    }
   ],
   "source": [
    "#  model 적용 및 평가 : new data(업무용) 이용 \n",
    "import numpy as np\n",
    "\n",
    "idx = np.random.choice(a=150, size=int(150*0.5))\n",
    "\n",
    "# new data 생성 \n",
    "new_data = iris.iloc[idx, ]\n",
    "new_data.shape # (75, 5)"
   ]
  },
  {
   "cell_type": "code",
   "execution_count": 20,
   "metadata": {},
   "outputs": [
    {
     "data": {
      "text/plain": [
       "40     5.0\n",
       "133    6.3\n",
       "107    7.3\n",
       "106    4.9\n",
       "51     6.4\n",
       "      ... \n",
       "112    6.8\n",
       "95     5.7\n",
       "55     5.7\n",
       "43     5.0\n",
       "118    7.7\n",
       "Name: Sepal.Length, Length: 75, dtype: float64"
      ]
     },
     "execution_count": 20,
     "metadata": {},
     "output_type": "execute_result"
    }
   ],
   "source": [
    "# 예측치 vs 정답 \n",
    "y_pred = model.predict(X = new_data[x_cols])\n",
    "y_true = new_data[y_col]\n",
    "\n",
    "y_true"
   ]
  },
  {
   "cell_type": "code",
   "execution_count": 21,
   "metadata": {},
   "outputs": [
    {
     "name": "stdout",
     "output_type": "stream",
     "text": [
      "MSE = 0.11398208802371869\n"
     ]
    }
   ],
   "source": [
    "# mse : y 표준화(o) 비교적 수가 작은 경우 > -> 0에 수렴할수록 좋은 모형이고\n",
    "mse = mean_squared_error(y_true, y_pred)\n",
    "print('MSE =', mse) # MSE = 0.08017451042651559 -> 0\n"
   ]
  },
  {
   "cell_type": "code",
   "execution_count": 22,
   "metadata": {},
   "outputs": [
    {
     "name": "stdout",
     "output_type": "stream",
     "text": [
      "결정계수 = 0.8026018333948838\n"
     ]
    }
   ],
   "source": [
    "#  결정계수 ->  1에 가까울수록 좋은 모형이다\n",
    "R2 = r2_score(y_true, y_pred)\n",
    "print(\"결정계수 =\", R2 ) # 결정계수 = 0.8356696566233475 -> 1\n"
   ]
  },
  {
   "cell_type": "code",
   "execution_count": 23,
   "metadata": {},
   "outputs": [
    {
     "name": "stdout",
     "output_type": "stream",
     "text": [
      "(150, 4)\n",
      "(150,)\n"
     ]
    }
   ],
   "source": [
    "#############################\n",
    "## load_iris() -> numpy\n",
    "#############################\n",
    "from sklearn.datasets import load_iris\n",
    "\n",
    "#  dataset load\n",
    "X, y = load_iris(return_X_y=True)\n",
    "\n",
    "print(X.shape) #  (150, 4)\n",
    "print(y.shape) # (150,)"
   ]
  },
  {
   "cell_type": "code",
   "execution_count": 24,
   "metadata": {},
   "outputs": [
    {
     "data": {
      "text/plain": [
       "array([0, 0, 0, 0, 0, 0, 0, 0, 0, 0, 0, 0, 0, 0, 0, 0, 0, 0, 0, 0, 0, 0,\n",
       "       0, 0, 0, 0, 0, 0, 0, 0, 0, 0, 0, 0, 0, 0, 0, 0, 0, 0, 0, 0, 0, 0,\n",
       "       0, 0, 0, 0, 0, 0, 1, 1, 1, 1, 1, 1, 1, 1, 1, 1, 1, 1, 1, 1, 1, 1,\n",
       "       1, 1, 1, 1, 1, 1, 1, 1, 1, 1, 1, 1, 1, 1, 1, 1, 1, 1, 1, 1, 1, 1,\n",
       "       1, 1, 1, 1, 1, 1, 1, 1, 1, 1, 1, 1, 2, 2, 2, 2, 2, 2, 2, 2, 2, 2,\n",
       "       2, 2, 2, 2, 2, 2, 2, 2, 2, 2, 2, 2, 2, 2, 2, 2, 2, 2, 2, 2, 2, 2,\n",
       "       2, 2, 2, 2, 2, 2, 2, 2, 2, 2, 2, 2, 2, 2, 2, 2, 2, 2])"
      ]
     },
     "execution_count": 24,
     "metadata": {},
     "output_type": "execute_result"
    }
   ],
   "source": [
    "y # class0, class1, class2"
   ]
  },
  {
   "cell_type": "code",
   "execution_count": 25,
   "metadata": {},
   "outputs": [
    {
     "name": "stdout",
     "output_type": "stream",
     "text": [
      "(105, 4)\n",
      "(45,)\n"
     ]
    }
   ],
   "source": [
    "#  train/test split(7:3)\n",
    "train_x, test_x, train_y, test_y = train_test_split(X, y, test_size=0.3)\n",
    "\n",
    "print(train_x.shape) # (105, 4)\n",
    "print(test_y.shape) # (45,)"
   ]
  },
  {
   "cell_type": "code",
   "execution_count": 26,
   "metadata": {},
   "outputs": [],
   "source": [
    "#  model 생성/검정 : 예측력, 과적합 \n",
    "lr = LinearRegression()\n",
    "model = lr.fit(X = train_x, y = train_y)"
   ]
  },
  {
   "cell_type": "code",
   "execution_count": 27,
   "metadata": {},
   "outputs": [
    {
     "name": "stdout",
     "output_type": "stream",
     "text": [
      "train score = 0.9210301385985886\n",
      "test score= 0.9488951983867319\n"
     ]
    }
   ],
   "source": [
    "# train score vs test score\n",
    "train_score = model.score(X = train_x, y = train_y)\n",
    "test_score = model.score(X = test_x, y = test_y)\n",
    "print('train score =', train_score)\n",
    "print('test score=', test_score)\n",
    "# 90% 이상의 예측력이나온것이면 좋은 모델"
   ]
  },
  {
   "cell_type": "code",
   "execution_count": 28,
   "metadata": {},
   "outputs": [
    {
     "data": {
      "text/plain": [
       "60"
      ]
     },
     "execution_count": 28,
     "metadata": {},
     "output_type": "execute_result"
    }
   ],
   "source": [
    "#  model 적용/평가 : new data\n",
    "idx = np.random.choice(a=150, size=int(150*0.4))\n",
    "len(idx) # 60"
   ]
  },
  {
   "cell_type": "code",
   "execution_count": 29,
   "metadata": {},
   "outputs": [
    {
     "name": "stdout",
     "output_type": "stream",
     "text": [
      "(60, 4)\n",
      "(60,)\n"
     ]
    }
   ],
   "source": [
    "new_data_x = X[idx, :]\n",
    "new_data_y = y[idx]\n",
    "print(new_data_x.shape) # (60, 4)\n",
    "print(new_data_y.shape) # (60,)"
   ]
  },
  {
   "cell_type": "code",
   "execution_count": 30,
   "metadata": {},
   "outputs": [
    {
     "name": "stdout",
     "output_type": "stream",
     "text": [
      "[ 1.15977263e+00 -5.56390437e-02 -4.53650240e-02  2.14856337e+00\n",
      "  2.00719595e+00  1.17666678e+00  1.92093472e+00 -1.61895030e-01\n",
      "  1.88458174e+00  1.28341439e+00 -6.02501457e-02  2.00719595e+00\n",
      "  1.97109861e+00 -8.05094090e-02 -9.32511285e-02 -2.75136689e-02\n",
      "  9.18286410e-01  1.33916661e+00  1.28341439e+00  1.99941390e+00\n",
      "  1.24340308e+00  6.20387886e-04  1.79170463e+00  1.58326182e+00\n",
      "  1.74691489e+00  1.80809156e+00  1.59015513e+00 -4.53650240e-02\n",
      "  1.74691489e+00  2.00943210e+00 -9.32511285e-02  9.63034518e-01\n",
      "  1.84820430e+00  1.50406567e+00  2.05707106e+00 -1.17640820e-02\n",
      "  1.50406567e+00 -8.55020308e-02  2.09616759e+00 -6.81249392e-02\n",
      "  1.98456173e+00 -1.35015640e-01 -1.18893215e-01  8.83523544e-01\n",
      " -1.17640820e-02  2.00943210e+00  2.14856337e+00 -9.99969508e-02\n",
      " -1.06244240e-01  1.73504632e+00  3.96415380e-02  1.38215284e+00\n",
      " -1.34930123e-02  1.69155287e+00  1.82069890e+00 -5.11293673e-02\n",
      " -7.34990807e-02  1.10130133e+00  1.15977263e+00  1.72605567e+00]\n"
     ]
    }
   ],
   "source": [
    "y_pred = model.predict(X = new_data_x)\n",
    "print(y_pred)\n",
    "y_true = new_data_y"
   ]
  },
  {
   "cell_type": "code",
   "execution_count": 31,
   "metadata": {},
   "outputs": [
    {
     "name": "stdout",
     "output_type": "stream",
     "text": [
      "MSE =  0.0390671365306611\n"
     ]
    }
   ],
   "source": [
    "#  mse \n",
    "mse = mean_squared_error(y_true, y_pred)\n",
    "print('MSE = ', mse) # MSE =  0.04255015727153631"
   ]
  },
  {
   "cell_type": "code",
   "execution_count": 32,
   "metadata": {},
   "outputs": [
    {
     "name": "stdout",
     "output_type": "stream",
     "text": [
      "MSE =  0.0390671365306611\n"
     ]
    }
   ],
   "source": [
    "err = y_true - y_pred\n",
    "mse = np.mean(err**2)\n",
    "print('MSE = ', mse) # MSE =  0.04255015727153631"
   ]
  },
  {
   "cell_type": "code",
   "execution_count": 35,
   "metadata": {},
   "outputs": [
    {
     "name": "stdout",
     "output_type": "stream",
     "text": [
      "Coefficient of determination: 0.95\n"
     ]
    }
   ],
   "source": [
    "# 3) r2 score\n",
    "print('Coefficient of determination: %.2f'\n",
    "      % r2_score(y_true, y_pred)) # Coefficient of determination: 0.95"
   ]
  },
  {
   "cell_type": "code",
   "execution_count": null,
   "metadata": {},
   "outputs": [],
   "source": [
    "'''\n",
    "err : 오차(잔차)=정답-예측치\n",
    "square : 패널티 적용, 부호 절대값  \n",
    "mean : 전체 관측치의 오차의 평균 \n",
    "'''"
   ]
  },
  {
   "cell_type": "code",
   "execution_count": 37,
   "metadata": {},
   "outputs": [
    {
     "data": {
      "image/png": "[encoded data removed]",
      "text/plain": [
       "<Figure size 1440x360 with 1 Axes>"
      ]
     },
     "metadata": {
      "needs_background": "light"
     },
     "output_type": "display_data"
    }
   ],
   "source": [
    "#  시각화 평가 \n",
    "fig = plt.figure(figsize=(20, 5))\n",
    "chart = fig.add_subplot(1,1,1)\n",
    "chart.plot(y_pred, color='r', linestyle='--', label='pred')\n",
    "chart.plot(y_true, color='b', linestyle='-', label='Y')\n",
    "\n",
    "plt.legend(loc='best')\n",
    "plt.show()"
   ]
  },
  {
   "cell_type": "code",
   "execution_count": null,
   "metadata": {},
   "outputs": [],
   "source": []
  }
 ],
 "metadata": {
  "kernelspec": {
   "display_name": "Python 3",
   "language": "python",
   "name": "python3"
  },
  "language_info": {
   "codemirror_mode": {
    "name": "ipython",
    "version": 3
   },
   "file_extension": ".py",
   "mimetype": "text/x-python",
   "name": "python",
   "nbconvert_exporter": "python",
   "pygments_lexer": "ipython3",
   "version": "3.8.5"
  }
 },
 "nbformat": 4,
 "nbformat_minor": 4
}
