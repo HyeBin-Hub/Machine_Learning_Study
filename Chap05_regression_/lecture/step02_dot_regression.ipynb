{
 "cells": [
  {
   "cell_type": "code",
   "execution_count": 1,
   "metadata": {},
   "outputs": [
    {
     "name": "stdout",
     "output_type": "stream",
     "text": [
      "<class 'pandas.core.frame.DataFrame'>\n",
      "RangeIndex: 150 entries, 0 to 149\n",
      "Data columns (total 6 columns):\n",
      " #   Column   Non-Null Count  Dtype\n",
      "---  ------   --------------  -----\n",
      " 0   sid      150 non-null    int64\n",
      " 1   score    150 non-null    int64\n",
      " 2   iq       150 non-null    int64\n",
      " 3   academy  150 non-null    int64\n",
      " 4   game     150 non-null    int64\n",
      " 5   tv       150 non-null    int64\n",
      "dtypes: int64(6)\n",
      "memory usage: 7.2 KB\n",
      "None\n"
     ]
    }
   ],
   "source": [
    "import pandas as pd\n",
    "import numpy as np\n",
    "\n",
    "# 1. data set 가져오기 \n",
    "score = pd.read_csv('C:/Users/hyebin/Desktop/Python_ML/data/score_iq.csv')\n",
    "print(score.info())"
   ]
  },
  {
   "cell_type": "code",
   "execution_count": 2,
   "metadata": {},
   "outputs": [
    {
     "name": "stdout",
     "output_type": "stream",
     "text": [
      "              sid     score        iq   academy      game        tv\n",
      "sid      1.000000 -0.014399 -0.007048 -0.004398  0.018806  0.024565\n",
      "score   -0.014399  1.000000  0.882220  0.896265 -0.298193 -0.819752\n",
      "iq      -0.007048  0.882220  1.000000  0.671783 -0.031516 -0.585033\n",
      "academy -0.004398  0.896265  0.671783  1.000000 -0.351315 -0.948551\n",
      "game     0.018806 -0.298193 -0.031516 -0.351315  1.000000  0.239217\n",
      "tv       0.024565 -0.819752 -0.585033 -0.948551  0.239217  1.000000\n"
     ]
    }
   ],
   "source": [
    "# 2. subset 생성\n",
    "print(score.corr()) # 상관계수 "
   ]
  },
  {
   "cell_type": "code",
   "execution_count": 4,
   "metadata": {},
   "outputs": [
    {
     "data": {
      "text/html": [
       "<div>\n",
       "<style scoped>\n",
       "    .dataframe tbody tr th:only-of-type {\n",
       "        vertical-align: middle;\n",
       "    }\n",
       "\n",
       "    .dataframe tbody tr th {\n",
       "        vertical-align: top;\n",
       "    }\n",
       "\n",
       "    .dataframe thead th {\n",
       "        text-align: right;\n",
       "    }\n",
       "</style>\n",
       "<table border=\"1\" class=\"dataframe\">\n",
       "  <thead>\n",
       "    <tr style=\"text-align: right;\">\n",
       "      <th></th>\n",
       "      <th>score</th>\n",
       "      <th>iq</th>\n",
       "      <th>academy</th>\n",
       "    </tr>\n",
       "  </thead>\n",
       "  <tbody>\n",
       "    <tr>\n",
       "      <th>0</th>\n",
       "      <td>90</td>\n",
       "      <td>140</td>\n",
       "      <td>2</td>\n",
       "    </tr>\n",
       "    <tr>\n",
       "      <th>1</th>\n",
       "      <td>75</td>\n",
       "      <td>125</td>\n",
       "      <td>1</td>\n",
       "    </tr>\n",
       "    <tr>\n",
       "      <th>2</th>\n",
       "      <td>77</td>\n",
       "      <td>120</td>\n",
       "      <td>1</td>\n",
       "    </tr>\n",
       "    <tr>\n",
       "      <th>3</th>\n",
       "      <td>83</td>\n",
       "      <td>135</td>\n",
       "      <td>2</td>\n",
       "    </tr>\n",
       "    <tr>\n",
       "      <th>4</th>\n",
       "      <td>65</td>\n",
       "      <td>105</td>\n",
       "      <td>0</td>\n",
       "    </tr>\n",
       "    <tr>\n",
       "      <th>...</th>\n",
       "      <td>...</td>\n",
       "      <td>...</td>\n",
       "      <td>...</td>\n",
       "    </tr>\n",
       "    <tr>\n",
       "      <th>145</th>\n",
       "      <td>83</td>\n",
       "      <td>135</td>\n",
       "      <td>2</td>\n",
       "    </tr>\n",
       "    <tr>\n",
       "      <th>146</th>\n",
       "      <td>65</td>\n",
       "      <td>105</td>\n",
       "      <td>0</td>\n",
       "    </tr>\n",
       "    <tr>\n",
       "      <th>147</th>\n",
       "      <td>80</td>\n",
       "      <td>123</td>\n",
       "      <td>3</td>\n",
       "    </tr>\n",
       "    <tr>\n",
       "      <th>148</th>\n",
       "      <td>65</td>\n",
       "      <td>105</td>\n",
       "      <td>0</td>\n",
       "    </tr>\n",
       "    <tr>\n",
       "      <th>149</th>\n",
       "      <td>83</td>\n",
       "      <td>135</td>\n",
       "      <td>2</td>\n",
       "    </tr>\n",
       "  </tbody>\n",
       "</table>\n",
       "<p>150 rows × 3 columns</p>\n",
       "</div>"
      ],
      "text/plain": [
       "     score   iq  academy\n",
       "0       90  140        2\n",
       "1       75  125        1\n",
       "2       77  120        1\n",
       "3       83  135        2\n",
       "4       65  105        0\n",
       "..     ...  ...      ...\n",
       "145     83  135        2\n",
       "146     65  105        0\n",
       "147     80  123        3\n",
       "148     65  105        0\n",
       "149     83  135        2\n",
       "\n",
       "[150 rows x 3 columns]"
      ]
     },
     "execution_count": 4,
     "metadata": {},
     "output_type": "execute_result"
    }
   ],
   "source": [
    "# subset : 상관성 높은 변수 \n",
    "score_df = score[['score', 'iq', 'academy']]\n",
    "score_df"
   ]
  },
  {
   "cell_type": "code",
   "execution_count": 6,
   "metadata": {},
   "outputs": [
    {
     "name": "stdout",
     "output_type": "stream",
     "text": [
      "(150, 3)\n"
     ]
    }
   ],
   "source": [
    "print(score_df.shape) "
   ]
  },
  {
   "cell_type": "code",
   "execution_count": 7,
   "metadata": {},
   "outputs": [
    {
     "name": "stdout",
     "output_type": "stream",
     "text": [
      "(150, 2)\n",
      "(150,)\n"
     ]
    }
   ],
   "source": [
    "# 3. X, Y변수 생성 \n",
    "X = score_df.iloc[:, 1:] # iq, academy\n",
    "Y = score_df.iloc[:, 0] # score[정답, 관측치]\n",
    "print(X.shape) # 2차원 : (150, 2)\n",
    "print(Y.shape) # 1차원 : (150,)"
   ]
  },
  {
   "cell_type": "code",
   "execution_count": 8,
   "metadata": {},
   "outputs": [
    {
     "name": "stdout",
     "output_type": "stream",
     "text": [
      "(2, 1)\n"
     ]
    }
   ],
   "source": [
    "# 4. 기울기와 절편 변수 \n",
    "'''\n",
    "Intercept    25.229141 : y절편 \n",
    "iq            0.376966 : x1 기울기 \n",
    "academy       2.992800 : x2 기울기 \n",
    "'''\n",
    "a = np.array([[0.376966], [2.992800]])\n",
    "print(a.shape) # (2, 1)\n",
    "b = 25.229141"
   ]
  },
  {
   "cell_type": "code",
   "execution_count": 9,
   "metadata": {},
   "outputs": [
    {
     "name": "stdout",
     "output_type": "stream",
     "text": [
      "(150, 1)\n"
     ]
    }
   ],
   "source": [
    "# 5. 행렬곱(dot) 적용 = dot(X, a)\n",
    "matmul = np.dot(X, a) # (150, 2)*(2, 1)=(150,1)\n",
    "print(matmul.shape) # (150, 1)v"
   ]
  },
  {
   "cell_type": "code",
   "execution_count": 10,
   "metadata": {},
   "outputs": [
    {
     "name": "stdout",
     "output_type": "stream",
     "text": [
      "(150, 1)\n"
     ]
    }
   ],
   "source": [
    "# Y = X.a + b \n",
    "fit_value = matmul + b\n",
    "print(fit_value.shape) # (150, 1)"
   ]
  },
  {
   "cell_type": "code",
   "execution_count": 11,
   "metadata": {},
   "outputs": [
    {
     "name": "stdout",
     "output_type": "stream",
     "text": [
      "(150,)\n"
     ]
    }
   ],
   "source": [
    "# 6. model 평가(정답=예측치)\n",
    "# Y = X*a + b \n",
    "fitted_value1d = fit_value.reshape(150) \n",
    "print(fitted_value1d.shape) # (150,)\n"
   ]
  },
  {
   "cell_type": "code",
   "execution_count": 12,
   "metadata": {},
   "outputs": [
    {
     "name": "stdout",
     "output_type": "stream",
     "text": [
      "corr= 0.972779206959475\n"
     ]
    }
   ],
   "source": [
    "# 상관계수 평가 : 정답과 예측치 간의 상관성 \n",
    "df = pd.DataFrame({'fitted' : fitted_value1d, 'Y' : Y}) \n",
    "corr = df.fitted.corr(df.Y)\n",
    "print('corr=', corr) # corr= 0.9727792069594755- 정답과 예측치 간의 상관성 "
   ]
  },
  {
   "cell_type": "code",
   "execution_count": 14,
   "metadata": {},
   "outputs": [
    {
     "name": "stdout",
     "output_type": "stream",
     "text": [
      "0    83.989981\n",
      "1    75.342691\n",
      "2    73.457861\n",
      "3    82.105151\n",
      "4    64.810571\n",
      "Name: fitted, dtype: float64 \n",
      "\n",
      "0    90\n",
      "1    75\n",
      "2    77\n",
      "3    83\n",
      "4    65\n",
      "Name: Y, dtype: int64\n"
     ]
    }
   ],
   "source": [
    "print(df.fitted[:5],\"\\n\") # 예측치 \n",
    "print(df.Y[:5])\n"
   ]
  },
  {
   "cell_type": "code",
   "execution_count": null,
   "metadata": {},
   "outputs": [],
   "source": []
  }
 ],
 "metadata": {
  "kernelspec": {
   "display_name": "Python 3",
   "language": "python",
   "name": "python3"
  },
  "language_info": {
   "codemirror_mode": {
    "name": "ipython",
    "version": 3
   },
   "file_extension": ".py",
   "mimetype": "text/x-python",
   "name": "python",
   "nbconvert_exporter": "python",
   "pygments_lexer": "ipython3",
   "version": "3.8.5"
  }
 },
 "nbformat": 4,
 "nbformat_minor": 4
}
