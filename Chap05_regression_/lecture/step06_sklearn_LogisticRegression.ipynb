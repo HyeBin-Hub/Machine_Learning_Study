{
 "cells": [
  {
   "cell_type": "code",
   "execution_count": 1,
   "metadata": {},
   "outputs": [],
   "source": [
    "\"\"\"\n",
    "step06_sklearn_LogisticRegression.py\n",
    "sklearn 로지스틱 회귀모델 생성 \n",
    " - y 변수가 범주형(집단변수) 경우\n",
    "\"\"\"\n",
    "\n",
    "from sklearn.datasets import load_breast_cancer, load_iris # dataset\n",
    "from sklearn.linear_model import LogisticRegression # model \n",
    "from sklearn import metrics\n",
    "import pandas as pd "
   ]
  },
  {
   "cell_type": "code",
   "execution_count": 2,
   "metadata": {},
   "outputs": [
    {
     "name": "stdout",
     "output_type": "stream",
     "text": [
      "(569, 30)\n",
      "(569,)\n"
     ]
    }
   ],
   "source": [
    "################################\n",
    "### breast_cancer\n",
    "################################\n",
    "# - 이항분류기(binary class) : sigmoid function 적용\n",
    "\n",
    "# 1. dataset load\n",
    "X, y = load_breast_cancer(return_X_y=True)\n",
    "print(X.shape) # (569, 30)\n",
    "print(y.shape) # (569,)\n"
   ]
  },
  {
   "cell_type": "code",
   "execution_count": 3,
   "metadata": {},
   "outputs": [
    {
     "name": "stderr",
     "output_type": "stream",
     "text": [
      "C:\\Users\\hyebin\\anaconda3\\lib\\site-packages\\sklearn\\linear_model\\_logistic.py:762: ConvergenceWarning: lbfgs failed to converge (status=1):\n",
      "STOP: TOTAL NO. of ITERATIONS REACHED LIMIT.\n",
      "\n",
      "Increase the number of iterations (max_iter) or scale the data as shown in:\n",
      "    https://scikit-learn.org/stable/modules/preprocessing.html\n",
      "Please also refer to the documentation for alternative solver options:\n",
      "    https://scikit-learn.org/stable/modules/linear_model.html#logistic-regression\n",
      "  n_iter_i = _check_optimize_result(\n"
     ]
    }
   ],
   "source": [
    "# 2. model 생성 \n",
    "lr = LogisticRegression() # defualt\n",
    "model = lr.fit(X, y)"
   ]
  },
  {
   "cell_type": "code",
   "execution_count": 4,
   "metadata": {},
   "outputs": [
    {
     "name": "stdout",
     "output_type": "stream",
     "text": [
      "accuracy =  0.9472759226713533\n"
     ]
    }
   ],
   "source": [
    "# 3. model 평가 : 분류정확도(accuracy)\n",
    "\n",
    "# 1) score()\n",
    "score = model.score(X, y)\n",
    "\n",
    "print('accuracy = ', score) # accuracy =  0.9595782073813708"
   ]
  },
  {
   "cell_type": "code",
   "execution_count": 5,
   "metadata": {},
   "outputs": [
    {
     "data": {
      "text/plain": [
       "array([0, 0, 0, 1, 0, 0, 0, 0, 0, 0, 0, 0, 0, 1, 1, 0, 0, 0, 0, 1, 1, 1,\n",
       "       0, 0, 0, 0, 0, 0, 0, 0, 0, 0, 0, 0, 0, 0, 0, 1, 1, 1, 1, 0, 0, 0,\n",
       "       1, 0, 1, 0, 1, 1, 1, 1, 1, 0, 0, 1, 0, 0, 1, 1, 1, 1, 0, 1, 0, 0,\n",
       "       1, 1, 1, 1, 0, 1, 0, 1, 1, 0, 1, 0, 0, 1, 1, 1, 0, 0, 1, 0, 0, 0,\n",
       "       1, 1, 1, 1, 0, 1, 0, 0, 1, 1, 1, 0, 0, 1, 1, 1, 1, 0, 1, 1, 0, 1,\n",
       "       1, 1, 1, 1, 1, 1, 1, 0, 0, 0, 1, 0, 0, 1, 1, 1, 0, 0, 1, 0, 1, 0,\n",
       "       0, 1, 0, 1, 1, 1, 0, 1, 1, 0, 1, 1, 1, 1, 1, 1, 1, 1, 1, 1, 1, 1,\n",
       "       1, 1, 0, 0, 1, 1, 1, 0, 0, 1, 0, 1, 1, 0, 0, 1, 1, 0, 0, 1, 1, 1,\n",
       "       1, 0, 1, 1, 0, 0, 0, 1, 1, 1, 0, 1, 1, 1, 0, 1, 1, 0, 1, 1, 0, 0,\n",
       "       0, 0, 1, 0, 0, 0, 1, 0, 1, 0, 1, 1, 0, 1, 0, 0, 0, 1, 1, 1, 0, 0,\n",
       "       1, 1, 1, 0, 1, 0, 1, 1, 1, 0, 0, 1, 1, 0, 1, 1, 0, 0, 0, 0, 1, 1,\n",
       "       1, 1, 0, 1, 1, 1, 1, 1, 0, 1, 0, 0, 0, 1, 0, 0, 0, 0, 0, 0, 0, 0,\n",
       "       0, 0, 1, 1, 1, 1, 1, 1, 0, 1, 0, 1, 1, 0, 1, 1, 0, 1, 0, 0, 1, 1,\n",
       "       1, 1, 1, 1, 1, 1, 1, 1, 1, 1, 1, 1, 1, 1, 0, 1, 0, 1, 1, 1, 1, 1,\n",
       "       1, 1, 1, 1, 1, 1, 1, 1, 1, 0, 1, 1, 1, 0, 1, 0, 1, 1, 1, 1, 0, 0,\n",
       "       0, 1, 1, 1, 1, 0, 1, 0, 1, 0, 1, 1, 1, 0, 1, 1, 1, 1, 1, 1, 1, 0,\n",
       "       0, 0, 1, 1, 1, 1, 1, 1, 1, 1, 1, 0, 1, 0, 0, 1, 0, 0, 0, 1, 0, 0,\n",
       "       1, 1, 1, 1, 1, 0, 1, 1, 1, 1, 1, 1, 1, 1, 1, 0, 1, 1, 0, 0, 1, 1,\n",
       "       1, 1, 1, 1, 0, 1, 1, 1, 1, 1, 1, 1, 0, 1, 0, 1, 1, 0, 0, 1, 1, 0,\n",
       "       1, 1, 1, 1, 1, 1, 1, 1, 1, 1, 1, 1, 0, 1, 0, 0, 1, 0, 1, 1, 1, 1,\n",
       "       1, 0, 1, 1, 0, 1, 0, 1, 0, 0, 1, 0, 1, 1, 1, 1, 1, 1, 1, 1, 0, 0,\n",
       "       1, 1, 1, 0, 1, 1, 0, 1, 1, 1, 1, 1, 1, 1, 0, 1, 1, 1, 1, 1, 1, 1,\n",
       "       1, 1, 1, 0, 1, 0, 1, 0, 0, 1, 1, 1, 1, 1, 0, 0, 1, 0, 1, 0, 1, 1,\n",
       "       1, 1, 1, 0, 1, 1, 0, 1, 0, 1, 0, 0, 1, 1, 1, 0, 1, 1, 1, 1, 1, 1,\n",
       "       1, 1, 1, 1, 1, 0, 1, 0, 1, 1, 1, 1, 1, 1, 1, 1, 1, 1, 1, 1, 1, 1,\n",
       "       1, 1, 1, 1, 1, 1, 1, 1, 1, 1, 1, 1, 0, 0, 0, 0, 0, 0, 1])"
      ]
     },
     "execution_count": 5,
     "metadata": {},
     "output_type": "execute_result"
    }
   ],
   "source": [
    "# y 예측치 \n",
    "y_pred = model.predict(X)\n",
    "y_pred"
   ]
  },
  {
   "cell_type": "code",
   "execution_count": 6,
   "metadata": {},
   "outputs": [
    {
     "name": "stdout",
     "output_type": "stream",
     "text": [
      "col_0    0    1\n",
      "row_0          \n",
      "0      193   19\n",
      "1       11  346\n"
     ]
    }
   ],
   "source": [
    "# 2) 교차분할표 \n",
    "tab = pd.crosstab(y, y_pred) # (정답:행, 예측치:열)\n",
    "print(tab)"
   ]
  },
  {
   "cell_type": "code",
   "execution_count": 7,
   "metadata": {},
   "outputs": [
    {
     "name": "stdout",
     "output_type": "stream",
     "text": [
      "acc = 0.9472759226713533\n"
     ]
    }
   ],
   "source": [
    "acc = (tab.iloc[0,0]+tab.iloc[1,1]) / len(y)\n",
    "print('acc =', acc) # acc = 0.9595782073813708"
   ]
  },
  {
   "cell_type": "code",
   "execution_count": 8,
   "metadata": {},
   "outputs": [
    {
     "name": "stdout",
     "output_type": "stream",
     "text": [
      "[[5.1 3.5 1.4 0.2]\n",
      " [4.9 3.  1.4 0.2]\n",
      " [4.7 3.2 1.3 0.2]\n",
      " [4.6 3.1 1.5 0.2]\n",
      " [5.  3.6 1.4 0.2]\n",
      " [5.4 3.9 1.7 0.4]\n",
      " [4.6 3.4 1.4 0.3]\n",
      " [5.  3.4 1.5 0.2]\n",
      " [4.4 2.9 1.4 0.2]\n",
      " [4.9 3.1 1.5 0.1]\n",
      " [5.4 3.7 1.5 0.2]\n",
      " [4.8 3.4 1.6 0.2]\n",
      " [4.8 3.  1.4 0.1]\n",
      " [4.3 3.  1.1 0.1]\n",
      " [5.8 4.  1.2 0.2]\n",
      " [5.7 4.4 1.5 0.4]\n",
      " [5.4 3.9 1.3 0.4]\n",
      " [5.1 3.5 1.4 0.3]\n",
      " [5.7 3.8 1.7 0.3]\n",
      " [5.1 3.8 1.5 0.3]\n",
      " [5.4 3.4 1.7 0.2]\n",
      " [5.1 3.7 1.5 0.4]\n",
      " [4.6 3.6 1.  0.2]\n",
      " [5.1 3.3 1.7 0.5]\n",
      " [4.8 3.4 1.9 0.2]\n",
      " [5.  3.  1.6 0.2]\n",
      " [5.  3.4 1.6 0.4]\n",
      " [5.2 3.5 1.5 0.2]\n",
      " [5.2 3.4 1.4 0.2]\n",
      " [4.7 3.2 1.6 0.2]\n",
      " [4.8 3.1 1.6 0.2]\n",
      " [5.4 3.4 1.5 0.4]\n",
      " [5.2 4.1 1.5 0.1]\n",
      " [5.5 4.2 1.4 0.2]\n",
      " [4.9 3.1 1.5 0.2]\n",
      " [5.  3.2 1.2 0.2]\n",
      " [5.5 3.5 1.3 0.2]\n",
      " [4.9 3.6 1.4 0.1]\n",
      " [4.4 3.  1.3 0.2]\n",
      " [5.1 3.4 1.5 0.2]\n",
      " [5.  3.5 1.3 0.3]\n",
      " [4.5 2.3 1.3 0.3]\n",
      " [4.4 3.2 1.3 0.2]\n",
      " [5.  3.5 1.6 0.6]\n",
      " [5.1 3.8 1.9 0.4]\n",
      " [4.8 3.  1.4 0.3]\n",
      " [5.1 3.8 1.6 0.2]\n",
      " [4.6 3.2 1.4 0.2]\n",
      " [5.3 3.7 1.5 0.2]\n",
      " [5.  3.3 1.4 0.2]\n",
      " [7.  3.2 4.7 1.4]\n",
      " [6.4 3.2 4.5 1.5]\n",
      " [6.9 3.1 4.9 1.5]\n",
      " [5.5 2.3 4.  1.3]\n",
      " [6.5 2.8 4.6 1.5]\n",
      " [5.7 2.8 4.5 1.3]\n",
      " [6.3 3.3 4.7 1.6]\n",
      " [4.9 2.4 3.3 1. ]\n",
      " [6.6 2.9 4.6 1.3]\n",
      " [5.2 2.7 3.9 1.4]\n",
      " [5.  2.  3.5 1. ]\n",
      " [5.9 3.  4.2 1.5]\n",
      " [6.  2.2 4.  1. ]\n",
      " [6.1 2.9 4.7 1.4]\n",
      " [5.6 2.9 3.6 1.3]\n",
      " [6.7 3.1 4.4 1.4]\n",
      " [5.6 3.  4.5 1.5]\n",
      " [5.8 2.7 4.1 1. ]\n",
      " [6.2 2.2 4.5 1.5]\n",
      " [5.6 2.5 3.9 1.1]\n",
      " [5.9 3.2 4.8 1.8]\n",
      " [6.1 2.8 4.  1.3]\n",
      " [6.3 2.5 4.9 1.5]\n",
      " [6.1 2.8 4.7 1.2]\n",
      " [6.4 2.9 4.3 1.3]\n",
      " [6.6 3.  4.4 1.4]\n",
      " [6.8 2.8 4.8 1.4]\n",
      " [6.7 3.  5.  1.7]\n",
      " [6.  2.9 4.5 1.5]\n",
      " [5.7 2.6 3.5 1. ]\n",
      " [5.5 2.4 3.8 1.1]\n",
      " [5.5 2.4 3.7 1. ]\n",
      " [5.8 2.7 3.9 1.2]\n",
      " [6.  2.7 5.1 1.6]\n",
      " [5.4 3.  4.5 1.5]\n",
      " [6.  3.4 4.5 1.6]\n",
      " [6.7 3.1 4.7 1.5]\n",
      " [6.3 2.3 4.4 1.3]\n",
      " [5.6 3.  4.1 1.3]\n",
      " [5.5 2.5 4.  1.3]\n",
      " [5.5 2.6 4.4 1.2]\n",
      " [6.1 3.  4.6 1.4]\n",
      " [5.8 2.6 4.  1.2]\n",
      " [5.  2.3 3.3 1. ]\n",
      " [5.6 2.7 4.2 1.3]\n",
      " [5.7 3.  4.2 1.2]\n",
      " [5.7 2.9 4.2 1.3]\n",
      " [6.2 2.9 4.3 1.3]\n",
      " [5.1 2.5 3.  1.1]\n",
      " [5.7 2.8 4.1 1.3]\n",
      " [6.3 3.3 6.  2.5]\n",
      " [5.8 2.7 5.1 1.9]\n",
      " [7.1 3.  5.9 2.1]\n",
      " [6.3 2.9 5.6 1.8]\n",
      " [6.5 3.  5.8 2.2]\n",
      " [7.6 3.  6.6 2.1]\n",
      " [4.9 2.5 4.5 1.7]\n",
      " [7.3 2.9 6.3 1.8]\n",
      " [6.7 2.5 5.8 1.8]\n",
      " [7.2 3.6 6.1 2.5]\n",
      " [6.5 3.2 5.1 2. ]\n",
      " [6.4 2.7 5.3 1.9]\n",
      " [6.8 3.  5.5 2.1]\n",
      " [5.7 2.5 5.  2. ]\n",
      " [5.8 2.8 5.1 2.4]\n",
      " [6.4 3.2 5.3 2.3]\n",
      " [6.5 3.  5.5 1.8]\n",
      " [7.7 3.8 6.7 2.2]\n",
      " [7.7 2.6 6.9 2.3]\n",
      " [6.  2.2 5.  1.5]\n",
      " [6.9 3.2 5.7 2.3]\n",
      " [5.6 2.8 4.9 2. ]\n",
      " [7.7 2.8 6.7 2. ]\n",
      " [6.3 2.7 4.9 1.8]\n",
      " [6.7 3.3 5.7 2.1]\n",
      " [7.2 3.2 6.  1.8]\n",
      " [6.2 2.8 4.8 1.8]\n",
      " [6.1 3.  4.9 1.8]\n",
      " [6.4 2.8 5.6 2.1]\n",
      " [7.2 3.  5.8 1.6]\n",
      " [7.4 2.8 6.1 1.9]\n",
      " [7.9 3.8 6.4 2. ]\n",
      " [6.4 2.8 5.6 2.2]\n",
      " [6.3 2.8 5.1 1.5]\n",
      " [6.1 2.6 5.6 1.4]\n",
      " [7.7 3.  6.1 2.3]\n",
      " [6.3 3.4 5.6 2.4]\n",
      " [6.4 3.1 5.5 1.8]\n",
      " [6.  3.  4.8 1.8]\n",
      " [6.9 3.1 5.4 2.1]\n",
      " [6.7 3.1 5.6 2.4]\n",
      " [6.9 3.1 5.1 2.3]\n",
      " [5.8 2.7 5.1 1.9]\n",
      " [6.8 3.2 5.9 2.3]\n",
      " [6.7 3.3 5.7 2.5]\n",
      " [6.7 3.  5.2 2.3]\n",
      " [6.3 2.5 5.  1.9]\n",
      " [6.5 3.  5.2 2. ]\n",
      " [6.2 3.4 5.4 2.3]\n",
      " [5.9 3.  5.1 1.8]] \n",
      "\n",
      "[0 0 0 0 0 0 0 0 0 0 0 0 0 0 0 0 0 0 0 0 0 0 0 0 0 0 0 0 0 0 0 0 0 0 0 0 0\n",
      " 0 0 0 0 0 0 0 0 0 0 0 0 0 1 1 1 1 1 1 1 1 1 1 1 1 1 1 1 1 1 1 1 1 1 1 1 1\n",
      " 1 1 1 1 1 1 1 1 1 1 1 1 1 1 1 1 1 1 1 1 1 1 1 1 1 1 2 2 2 2 2 2 2 2 2 2 2\n",
      " 2 2 2 2 2 2 2 2 2 2 2 2 2 2 2 2 2 2 2 2 2 2 2 2 2 2 2 2 2 2 2 2 2 2 2 2 2\n",
      " 2 2]\n"
     ]
    }
   ],
   "source": [
    "##############################\n",
    "### iris : class0 ~ class3\n",
    "##############################\n",
    "# - 다항분류기(multi class) : softmax function\n",
    "\n",
    "# 1. dataset load \n",
    "X, y = load_iris(return_X_y=True)\n",
    "print(X,\"\\n\")\n",
    "print(y)"
   ]
  },
  {
   "cell_type": "code",
   "execution_count": 9,
   "metadata": {},
   "outputs": [
    {
     "name": "stderr",
     "output_type": "stream",
     "text": [
      "C:\\Users\\hyebin\\anaconda3\\lib\\site-packages\\sklearn\\linear_model\\_logistic.py:762: ConvergenceWarning: lbfgs failed to converge (status=1):\n",
      "STOP: TOTAL NO. of ITERATIONS REACHED LIMIT.\n",
      "\n",
      "Increase the number of iterations (max_iter) or scale the data as shown in:\n",
      "    https://scikit-learn.org/stable/modules/preprocessing.html\n",
      "Please also refer to the documentation for alternative solver options:\n",
      "    https://scikit-learn.org/stable/modules/linear_model.html#logistic-regression\n",
      "  n_iter_i = _check_optimize_result(\n"
     ]
    }
   ],
   "source": [
    "# 2. model 생성 \n",
    "lr_model = LogisticRegression(random_state = 0,\n",
    "                   solver='lbfgs',\n",
    "                   multi_class='multinomial')\n",
    "\n",
    "model = lr_model.fit(X, y)"
   ]
  },
  {
   "cell_type": "code",
   "execution_count": 18,
   "metadata": {},
   "outputs": [
    {
     "name": "stdout",
     "output_type": "stream",
     "text": [
      "predict= [0 0 0 0 0 0 0 0 0 0 0 0 0 0 0 0 0 0 0 0 0 0 0 0 0 0 0 0 0 0 0 0 0 0 0 0 0\n",
      " 0 0 0 0 0 0 0 0 0 0 0 0 0 1 1 1 1 1 1 1 1 1 1 1 1 1 1 1 1 1 1 1 1 2 1 1 1\n",
      " 1 1 1 2 1 1 1 1 1 2 1 1 1 1 1 1 1 1 1 1 1 1 1 1 1 1 2 2 2 2 2 2 1 2 2 2 2\n",
      " 2 2 2 2 2 2 2 2 2 2 2 2 2 2 2 2 2 2 2 2 2 2 2 2 2 2 2 2 2 2 2 2 2 2 2 2 2\n",
      " 2 2]\n"
     ]
    }
   ],
   "source": [
    "# 3. model 예측치/평가 \n",
    "# 예측치\n",
    "pred = lr_model.predict(X) # Y label 예측 \n",
    "print('predict=', pred)"
   ]
  },
  {
   "cell_type": "code",
   "execution_count": 19,
   "metadata": {},
   "outputs": [
    {
     "name": "stdout",
     "output_type": "stream",
     "text": [
      "predict_proba= [[9.81798885e-01 1.82011004e-02 1.43499227e-08]\n",
      " [9.71721788e-01 2.82781823e-02 3.00194617e-08]\n",
      " [9.85449423e-01 1.45505647e-02 1.22616229e-08]\n",
      " [9.76296778e-01 2.37031826e-02 3.95217425e-08]\n",
      " [9.85386872e-01 1.46131162e-02 1.18792868e-08]\n",
      " [9.70466976e-01 2.95329508e-02 7.31355450e-08]\n",
      " [9.86890591e-01 1.31093893e-02 1.98716082e-08]\n",
      " [9.76400810e-01 2.35991622e-02 2.74875030e-08]\n",
      " [9.79843687e-01 2.01562825e-02 3.05344325e-08]\n",
      " [9.69131799e-01 3.08681693e-02 3.14925519e-08]\n",
      " [9.76504394e-01 2.34955873e-02 1.91176405e-08]\n",
      " [9.75412640e-01 2.45873167e-02 4.36246785e-08]\n",
      " [9.74557642e-01 2.54423370e-02 2.13792130e-08]\n",
      " [9.91972830e-01 8.02716625e-03 3.87385241e-09]\n",
      " [9.88201051e-01 1.17989458e-02 2.79175236e-09]\n",
      " [9.86774747e-01 1.32252408e-02 1.27151873e-08]\n",
      " [9.88115246e-01 1.18847450e-02 9.14773174e-09]\n",
      " [9.81554758e-01 1.84452224e-02 1.95932485e-08]\n",
      " [9.56586246e-01 4.34136855e-02 6.80415498e-08]\n",
      " [9.84122383e-01 1.58775968e-02 2.04130019e-08]\n",
      " [9.46770883e-01 5.32290308e-02 8.59647831e-08]\n",
      " [9.81748269e-01 1.82516982e-02 3.27004961e-08]\n",
      " [9.96007987e-01 3.99201138e-03 1.30483902e-09]\n",
      " [9.52329307e-01 4.76704572e-02 2.36239963e-07]\n",
      " [9.51865333e-01 4.81344622e-02 2.05163836e-07]\n",
      " [9.51562112e-01 4.84378015e-02 8.64830409e-08]\n",
      " [9.69629634e-01 3.03702800e-02 8.60009593e-08]\n",
      " [9.74933015e-01 2.50669599e-02 2.48184225e-08]\n",
      " [9.77350184e-01 2.26497990e-02 1.73189141e-08]\n",
      " [9.71230870e-01 2.87690714e-02 5.82394860e-08]\n",
      " [9.64293086e-01 3.57068438e-02 7.01047655e-08]\n",
      " [9.64954846e-01 3.50450964e-02 5.72784802e-08]\n",
      " [9.88382343e-01 1.16176503e-02 6.97220631e-09]\n",
      " [9.89069180e-01 1.09308152e-02 5.25993594e-09]\n",
      " [9.68723181e-01 3.12767758e-02 4.29921922e-08]\n",
      " [9.84669798e-01 1.53301940e-02 7.95205586e-09]\n",
      " [9.78956591e-01 2.10433993e-02 9.57585453e-09]\n",
      " [9.86870851e-01 1.31291408e-02 8.44825740e-09]\n",
      " [9.85854838e-01 1.41451461e-02 1.54687067e-08]\n",
      " [9.74109378e-01 2.58905935e-02 2.82765730e-08]\n",
      " [9.86631796e-01 1.33681925e-02 1.13077097e-08]\n",
      " [9.62246755e-01 3.77531794e-02 6.60579457e-08]\n",
      " [9.89018719e-01 1.09812693e-02 1.12248994e-08]\n",
      " [9.72468128e-01 2.75317351e-02 1.36826754e-07]\n",
      " [9.60265525e-01 3.97342540e-02 2.21439918e-07]\n",
      " [9.73875846e-01 2.61241142e-02 3.98490116e-08]\n",
      " [9.80321302e-01 1.96786726e-02 2.51490624e-08]\n",
      " [9.83347736e-01 1.66522437e-02 2.00433047e-08]\n",
      " [9.78588516e-01 2.14114654e-02 1.85801115e-08]\n",
      " [9.78679538e-01 2.13204432e-02 1.91786808e-08]\n",
      " [2.11773017e-03 8.74346512e-01 1.23535757e-01]\n",
      " [5.77997964e-03 8.59937045e-01 1.34282975e-01]\n",
      " [1.05446197e-03 7.25633677e-01 2.73311861e-01]\n",
      " [1.53572530e-02 9.39295295e-01 4.53474516e-02]\n",
      " [2.36454678e-03 8.14766029e-01 1.82869424e-01]\n",
      " [6.91843185e-03 8.60184475e-01 1.32897093e-01]\n",
      " [3.73740794e-03 7.17196182e-01 2.79066410e-01]\n",
      " [1.47584383e-01 8.49329881e-01 3.08573655e-03]\n",
      " [2.76420376e-03 8.96724746e-01 1.00511050e-01]\n",
      " [4.11932995e-02 9.11870439e-01 4.69362615e-02]\n",
      " [5.57801575e-02 9.37662057e-01 6.55778538e-03]\n",
      " [1.50803940e-02 8.98695335e-01 8.62242714e-02]\n",
      " [9.09585422e-03 9.76453769e-01 1.44503766e-02]\n",
      " [3.02245892e-03 7.79472120e-01 2.17505421e-01]\n",
      " [7.42917997e-02 9.15191949e-01 1.05162509e-02]\n",
      " [5.26570274e-03 9.26375749e-01 6.83585480e-02]\n",
      " [8.61815185e-03 7.74772719e-01 2.16609129e-01]\n",
      " [1.63660887e-02 9.65253317e-01 1.83805948e-02]\n",
      " [1.80278409e-03 7.99253598e-01 1.98943618e-01]\n",
      " [2.38876039e-02 9.59414164e-01 1.66982318e-02]\n",
      " [2.27792443e-03 4.40343058e-01 5.57379018e-01]\n",
      " [1.67901850e-02 9.56693788e-01 2.65160271e-02]\n",
      " [7.08946740e-04 5.95311777e-01 4.03979276e-01]\n",
      " [3.01496147e-03 8.60214294e-01 1.36770745e-01]\n",
      " [7.05132094e-03 9.42909633e-01 5.00390460e-02]\n",
      " [5.05909898e-03 9.20049954e-01 7.48909467e-02]\n",
      " [1.11460504e-03 8.01458675e-01 1.97426720e-01]\n",
      " [5.73926106e-04 4.81125658e-01 5.18300416e-01]\n",
      " [5.43899206e-03 8.12858827e-01 1.81702181e-01]\n",
      " [6.17120755e-02 9.34885084e-01 3.40284046e-03]\n",
      " [2.90769183e-02 9.57201460e-01 1.37216218e-02]\n",
      " [3.70996681e-02 9.55311032e-01 7.58930008e-03]\n",
      " [2.51047084e-02 9.56463029e-01 1.84322630e-02]\n",
      " [4.43685188e-04 3.49565079e-01 6.49991236e-01]\n",
      " [1.01029948e-02 7.51066958e-01 2.38830048e-01]\n",
      " [9.89056017e-03 7.89306633e-01 2.00802807e-01]\n",
      " [2.25125353e-03 8.05392087e-01 1.92356659e-01]\n",
      " [2.75737115e-03 9.12544930e-01 8.46976993e-02]\n",
      " [2.68560321e-02 9.28687724e-01 4.44562438e-02]\n",
      " [1.98151269e-02 9.37862197e-01 4.23226762e-02]\n",
      " [8.63916145e-03 8.97821705e-01 9.35391334e-02]\n",
      " [4.60588927e-03 8.28503791e-01 1.66890320e-01]\n",
      " [1.75190347e-02 9.56934803e-01 2.55461627e-02]\n",
      " [1.21663005e-01 8.75252952e-01 3.08404292e-03]\n",
      " [1.43653412e-02 9.20342358e-01 6.52923005e-02]\n",
      " [1.98315969e-02 9.38302922e-01 4.18654811e-02]\n",
      " [1.69751658e-02 9.25479667e-01 5.75451673e-02]\n",
      " [8.45649963e-03 9.35101111e-01 5.64423898e-02]\n",
      " [2.43978579e-01 7.54714210e-01 1.30721139e-03]\n",
      " [1.90475060e-02 9.36005152e-01 4.49473417e-02]\n",
      " [8.85697115e-07 3.92300058e-03 9.96076114e-01]\n",
      " [2.38688814e-04 1.61970636e-01 8.37790675e-01]\n",
      " [2.45105547e-06 2.56135382e-02 9.74384011e-01]\n",
      " [3.08128455e-05 8.19132638e-02 9.18055923e-01]\n",
      " [3.67403554e-06 1.74491041e-02 9.82547222e-01]\n",
      " [5.47528936e-08 4.67040252e-03 9.95329543e-01]\n",
      " [5.67608697e-03 5.11803248e-01 4.82520665e-01]\n",
      " [6.16141461e-07 2.15012045e-02 9.78498179e-01]\n",
      " [5.15477701e-06 5.32304810e-02 9.46764364e-01]\n",
      " [6.45661016e-07 5.77426138e-03 9.94225093e-01]\n",
      " [2.98572480e-04 2.10398646e-01 7.89302781e-01]\n",
      " [7.17040017e-05 1.36871957e-01 8.63056339e-01]\n",
      " [2.09855403e-05 6.51771401e-02 9.34801874e-01]\n",
      " [2.24873594e-04 1.44122436e-01 8.55652690e-01]\n",
      " [6.74591883e-05 4.30966373e-02 9.56835904e-01]\n",
      " [5.07709908e-05 5.39011022e-02 9.46048127e-01]\n",
      " [5.49643389e-05 1.23246874e-01 8.76698161e-01]\n",
      " [8.41744536e-08 3.61982710e-03 9.96380089e-01]\n",
      " [3.10209920e-09 1.00163153e-03 9.98998365e-01]\n",
      " [3.84910243e-04 4.50296389e-01 5.49318701e-01]\n",
      " [5.52097243e-06 2.38490194e-02 9.76145460e-01]\n",
      " [6.02572668e-04 1.89553203e-01 8.09844224e-01]\n",
      " [3.10549440e-08 4.68362320e-03 9.95316346e-01]\n",
      " [5.78777036e-04 3.91722468e-01 6.07698755e-01]\n",
      " [1.26767742e-05 3.87677257e-02 9.61219597e-01]\n",
      " [4.82223383e-06 5.19262883e-02 9.48068889e-01]\n",
      " [1.06045312e-03 4.55232929e-01 5.43706617e-01]\n",
      " [1.01060190e-03 3.85031263e-01 6.13958135e-01]\n",
      " [1.04732990e-05 3.62516463e-02 9.63737880e-01]\n",
      " [1.67815323e-05 1.42875134e-01 8.57108085e-01]\n",
      " [1.05323815e-06 2.92799499e-02 9.70718997e-01]\n",
      " [7.01594908e-07 1.77002432e-02 9.82299055e-01]\n",
      " [7.74100728e-06 2.71603875e-02 9.72831872e-01]\n",
      " [5.23446489e-04 4.75943507e-01 5.23533046e-01]\n",
      " [6.19081553e-05 1.89356960e-01 8.10581132e-01]\n",
      " [3.88662150e-07 1.17393501e-02 9.88260261e-01]\n",
      " [1.14215237e-05 1.73518547e-02 9.82636724e-01]\n",
      " [6.68861459e-05 1.19975352e-01 8.79957762e-01]\n",
      " [1.60125201e-03 4.39869442e-01 5.58529306e-01]\n",
      " [3.91999772e-05 9.33829555e-02 9.06577845e-01]\n",
      " [6.19743376e-06 2.02263124e-02 9.79767490e-01]\n",
      " [9.83084388e-05 1.19950828e-01 8.79950864e-01]\n",
      " [2.38688814e-04 1.61970636e-01 8.37790675e-01]\n",
      " [2.01827101e-06 1.26107382e-02 9.87387244e-01]\n",
      " [3.74491238e-06 1.20915019e-02 9.87904753e-01]\n",
      " [5.50431768e-05 7.96239028e-02 9.20321054e-01]\n",
      " [2.23826251e-04 2.50267731e-01 7.49508443e-01]\n",
      " [1.36560044e-04 1.56837244e-01 8.43026196e-01]\n",
      " [4.49024305e-05 3.84733249e-02 9.61481773e-01]\n",
      " [4.68956774e-04 2.35011411e-01 7.64519632e-01]]\n",
      "[0.981, 0.0181, 1.43e-08]\n",
      "0.9991000143\n"
     ]
    }
   ],
   "source": [
    "pred2 = lr_model.predict_proba(X) # Y label별 예측확률값 제공(다항분류:softmax) \n",
    "print('predict_proba=', pred2) # [9.81803450e-01 1.81965361e-02 1.43441128e-08]\n",
    "print([9.81e-01, 1.81e-02, 1.43e-08]) # [0.981, 0.0181, 1.43e-08] \n",
    "print(sum([9.81e-01, 1.81e-02, 1.43e-08])) # 0.9991000143 = 전체 합 1"
   ]
  },
  {
   "cell_type": "code",
   "execution_count": 20,
   "metadata": {},
   "outputs": [
    {
     "name": "stdout",
     "output_type": "stream",
     "text": [
      "accuracy = 0.9733333333333334\n"
     ]
    }
   ],
   "source": [
    "# 분류정확도\n",
    "score =  lr_model.score(X, y)\n",
    "print('accuracy =', score)"
   ]
  },
  {
   "cell_type": "code",
   "execution_count": 25,
   "metadata": {},
   "outputs": [
    {
     "data": {
      "text/html": [
       "<div>\n",
       "<style scoped>\n",
       "    .dataframe tbody tr th:only-of-type {\n",
       "        vertical-align: middle;\n",
       "    }\n",
       "\n",
       "    .dataframe tbody tr th {\n",
       "        vertical-align: top;\n",
       "    }\n",
       "\n",
       "    .dataframe thead th {\n",
       "        text-align: right;\n",
       "    }\n",
       "</style>\n",
       "<table border=\"1\" class=\"dataframe\">\n",
       "  <thead>\n",
       "    <tr style=\"text-align: right;\">\n",
       "      <th>col_0</th>\n",
       "      <th>0</th>\n",
       "      <th>1</th>\n",
       "      <th>2</th>\n",
       "    </tr>\n",
       "    <tr>\n",
       "      <th>row_0</th>\n",
       "      <th></th>\n",
       "      <th></th>\n",
       "      <th></th>\n",
       "    </tr>\n",
       "  </thead>\n",
       "  <tbody>\n",
       "    <tr>\n",
       "      <th>0</th>\n",
       "      <td>50</td>\n",
       "      <td>0</td>\n",
       "      <td>0</td>\n",
       "    </tr>\n",
       "    <tr>\n",
       "      <th>1</th>\n",
       "      <td>0</td>\n",
       "      <td>47</td>\n",
       "      <td>3</td>\n",
       "    </tr>\n",
       "    <tr>\n",
       "      <th>2</th>\n",
       "      <td>0</td>\n",
       "      <td>1</td>\n",
       "      <td>49</td>\n",
       "    </tr>\n",
       "  </tbody>\n",
       "</table>\n",
       "</div>"
      ],
      "text/plain": [
       "col_0   0   1   2\n",
       "row_0            \n",
       "0      50   0   0\n",
       "1       0  47   3\n",
       "2       0   1  49"
      ]
     },
     "execution_count": 25,
     "metadata": {},
     "output_type": "execute_result"
    }
   ],
   "source": [
    "tab = pd.crosstab(y, pred)\n",
    "tab"
   ]
  },
  {
   "cell_type": "code",
   "execution_count": 24,
   "metadata": {},
   "outputs": [
    {
     "data": {
      "text/plain": [
       "array([[50,  0,  0],\n",
       "       [ 0, 47,  3],\n",
       "       [ 0,  1, 49]], dtype=int64)"
      ]
     },
     "execution_count": 24,
     "metadata": {},
     "output_type": "execute_result"
    }
   ],
   "source": [
    "con_mat = metrics.confusion_matrix(y, pred)\n",
    "con_mat"
   ]
  },
  {
   "cell_type": "code",
   "execution_count": 27,
   "metadata": {},
   "outputs": [
    {
     "data": {
      "image/png": "[encoded data removed]",
      "text/plain": [
       "<Figure size 432x432 with 2 Axes>"
      ]
     },
     "metadata": {
      "needs_background": "light"
     },
     "output_type": "display_data"
    }
   ],
   "source": [
    "import seaborn as sn # 파일 제공 ; heatmap - Accuracy Score\n",
    "import matplotlib.pyplot as plt\n",
    "# confusion matrix heatmap \n",
    "plt.figure(figsize=(6,6)) # chart size\n",
    "sn.heatmap(con_mat, annot=True, fmt=\".3f\", linewidths=.5, square = True);# , cmap = 'Blues_r' : map 색상 \n",
    "plt.ylabel('Actual label');\n",
    "plt.xlabel('Predicted label');\n",
    "all_sample_title = 'Accuracy Score: {0}'.format(score)\n",
    "plt.title(all_sample_title, size = 18)\n",
    "plt.show()"
   ]
  },
  {
   "cell_type": "code",
   "execution_count": 28,
   "metadata": {},
   "outputs": [],
   "source": [
    "#exam02_LogisticRegress\n",
    "\n",
    "\n",
    "###########################\n",
    "### digits multi class\n",
    "###########################\n",
    "\n",
    "from sklearn.datasets import load_digits\n",
    "import numpy as np\n",
    "\n",
    "digits = load_digits()"
   ]
  },
  {
   "cell_type": "code",
   "execution_count": 29,
   "metadata": {},
   "outputs": [
    {
     "name": "stdout",
     "output_type": "stream",
     "text": [
      "Image Data Shape (1797, 64)\n",
      "Label Data Shape (1797,)\n"
     ]
    }
   ],
   "source": [
    "# Print to show there are 1797 images (8 by 8 images for a dimensionality of 64)\n",
    "print(\"Image Data Shape\" , digits.data.shape)\n",
    "# Print to show there are 1797 labels (integers from 0–9)\n",
    "print(\"Label Data Shape\", digits.target.shape)"
   ]
  },
  {
   "cell_type": "code",
   "execution_count": 30,
   "metadata": {},
   "outputs": [
    {
     "data": {
      "image/png": "[encoded data removed]",
      "text/plain": [
       "<Figure size 720x288 with 5 Axes>"
      ]
     },
     "metadata": {
      "needs_background": "light"
     },
     "output_type": "display_data"
    }
   ],
   "source": [
    "# 0~4까지 숫자 이미지 출력 \n",
    "plt.figure(figsize=(10,4)) # 10x4 픽셀\n",
    "for index, (image, label) in enumerate(zip(digits.data[0:5], digits.target[0:5])):\n",
    "    plt.subplot(1, 5, index + 1) # 1행5열 plot 공간 \n",
    "    plt.imshow(np.reshape(image, (8,8)), cmap='gray') # map color:회색 \n",
    "    plt.title('Training: %i\\n' % label, fontsize = 20)\n",
    " \n",
    "plt.show() "
   ]
  },
  {
   "cell_type": "code",
   "execution_count": 31,
   "metadata": {},
   "outputs": [],
   "source": [
    "\n",
    "# 75 : 25 비율 \n",
    "from sklearn.model_selection import train_test_split\n",
    "x_train, x_test, y_train, y_test = train_test_split(\n",
    "    digits.data, digits.target, test_size=0.25, random_state=0)\n"
   ]
  },
  {
   "cell_type": "code",
   "execution_count": 34,
   "metadata": {},
   "outputs": [
    {
     "name": "stderr",
     "output_type": "stream",
     "text": [
      "C:\\Users\\hyebin\\anaconda3\\lib\\site-packages\\sklearn\\linear_model\\_logistic.py:762: ConvergenceWarning: lbfgs failed to converge (status=1):\n",
      "STOP: TOTAL NO. of ITERATIONS REACHED LIMIT.\n",
      "\n",
      "Increase the number of iterations (max_iter) or scale the data as shown in:\n",
      "    https://scikit-learn.org/stable/modules/preprocessing.html\n",
      "Please also refer to the documentation for alternative solver options:\n",
      "    https://scikit-learn.org/stable/modules/linear_model.html#logistic-regression\n",
      "  n_iter_i = _check_optimize_result(\n"
     ]
    },
    {
     "data": {
      "text/plain": [
       "LogisticRegression()"
      ]
     },
     "execution_count": 34,
     "metadata": {},
     "output_type": "execute_result"
    }
   ],
   "source": [
    "# model 생성 \n",
    "lr_model = LogisticRegression()\n",
    "'''\n",
    "solver : 최적화(optimization)에 사용되는 알고리듬 \n",
    " - {'newton-cg', 'lbfgs', 'liblinear', 'sag'}, default: 'liblinear'\n",
    "multi_class : 이항 or 다항분류\n",
    " - {'ovr', 'multinomial'}, default: 'ovr'\n",
    "'''\n",
    "lr_model.fit(x_train, y_train)"
   ]
  },
  {
   "cell_type": "code",
   "execution_count": 35,
   "metadata": {},
   "outputs": [],
   "source": [
    "# 에측치 \n",
    "pred = lr_model.predict(x_test)"
   ]
  },
  {
   "cell_type": "code",
   "execution_count": 36,
   "metadata": {},
   "outputs": [
    {
     "name": "stdout",
     "output_type": "stream",
     "text": [
      "0.9511111111111111\n"
     ]
    }
   ],
   "source": [
    "# 분류정확도 \n",
    "score = lr_model.score(x_test, y_test)\n",
    "print(score)"
   ]
  },
  {
   "cell_type": "code",
   "execution_count": 38,
   "metadata": {},
   "outputs": [
    {
     "data": {
      "text/plain": [
       "array([[37,  0,  0,  0,  0,  0,  0,  0,  0,  0],\n",
       "       [ 0, 40,  0,  0,  0,  0,  0,  0,  2,  1],\n",
       "       [ 0,  1, 40,  3,  0,  0,  0,  0,  0,  0],\n",
       "       [ 0,  0,  0, 43,  0,  0,  0,  0,  1,  1],\n",
       "       [ 0,  0,  0,  0, 37,  0,  0,  1,  0,  0],\n",
       "       [ 0,  0,  0,  0,  0, 46,  0,  0,  0,  2],\n",
       "       [ 0,  1,  0,  0,  0,  0, 51,  0,  0,  0],\n",
       "       [ 0,  0,  0,  1,  1,  0,  0, 46,  0,  0],\n",
       "       [ 0,  3,  1,  0,  0,  0,  0,  0, 43,  1],\n",
       "       [ 0,  0,  0,  0,  0,  1,  0,  0,  1, 45]], dtype=int64)"
      ]
     },
     "execution_count": 38,
     "metadata": {},
     "output_type": "execute_result"
    }
   ],
   "source": [
    "# 교차분할표 \n",
    "con_mat = metrics.confusion_matrix(y_test, pred)\n",
    "con_mat"
   ]
  },
  {
   "cell_type": "code",
   "execution_count": 39,
   "metadata": {},
   "outputs": [
    {
     "data": {
      "image/png": "[encoded data removed]",
      "text/plain": [
       "<Figure size 720x720 with 2 Axes>"
      ]
     },
     "metadata": {
      "needs_background": "light"
     },
     "output_type": "display_data"
    }
   ],
   "source": [
    "# confusion matrix heatmap - Accuracy Score: = 0.95\n",
    "plt.figure(figsize=(10, 10)) # chart size\n",
    "sn.heatmap(con_mat, annot=True, fmt=\".3f\", linewidths=.5, square = True , cmap ='Blues_r');# 'Blues' != 'Blues_r' \n",
    "plt.ylabel('Actual label');\n",
    "plt.xlabel('Predicted label');\n",
    "all_sample_title = 'Accuracy Score: {0}'.format(score)\n",
    "plt.title(all_sample_title, size = 18)\n",
    "plt.show()\n"
   ]
  },
  {
   "cell_type": "code",
   "execution_count": null,
   "metadata": {},
   "outputs": [],
   "source": []
  }
 ],
 "metadata": {
  "kernelspec": {
   "display_name": "Python 3",
   "language": "python",
   "name": "python3"
  },
  "language_info": {
   "codemirror_mode": {
    "name": "ipython",
    "version": 3
   },
   "file_extension": ".py",
   "mimetype": "text/x-python",
   "name": "python",
   "nbconvert_exporter": "python",
   "pygments_lexer": "ipython3",
   "version": "3.8.5"
  }
 },
 "nbformat": 4,
 "nbformat_minor": 4
}
