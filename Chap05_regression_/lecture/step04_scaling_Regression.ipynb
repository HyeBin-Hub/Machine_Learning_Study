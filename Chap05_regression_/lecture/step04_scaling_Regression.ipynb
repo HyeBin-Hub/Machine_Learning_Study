{
 "cells": [
  {
   "cell_type": "code",
   "execution_count": 1,
   "metadata": {},
   "outputs": [],
   "source": [
    "\"\"\"\n",
    "dataset 스케일링(scaling) : 정규화, 표준화\n",
    " - 특징변수의 값에 따라서 model에 영향을 미치는 경우 적용 \n",
    "   ex) 범죄율(-0.1~0.99), 주택가격(99~999)\n",
    " - 정규화: 변수의 값을 일정한 범위(0~1, -1~1) 조정(n개 x변수)\n",
    " - 표준화: 표준화공식(z)에 의해서 mean=0, sd=1 조정(1개 y변수) \n",
    "   z = (x - mu) / sd \n",
    "\"\"\"\n",
    "from sklearn.datasets import load_boston\n",
    "from sklearn.model_selection import train_test_split\n",
    "from sklearn.linear_model import LinearRegression\n",
    "from sklearn.metrics import mean_squared_error, r2_score\n",
    "import numpy as np\n",
    "\n",
    "#######################\n",
    "## data 정규화(0~1 조정)\n",
    "#######################\n",
    "\n",
    "# 정규화 사용자 함수 \n",
    "def normal(x): # 0~1 정규화 \n",
    "    n = ( x - np.min(x) ) / (np.max(x) - np.min(x))\n",
    "    return n"
   ]
  },
  {
   "cell_type": "code",
   "execution_count": 2,
   "metadata": {},
   "outputs": [
    {
     "data": {
      "text/plain": [
       "array([[94, 14,  4, 68, 46],\n",
       "       [50, 33, 10, 46, 76],\n",
       "       [17, 92, 44, 80, 17],\n",
       "       [52, 76, 77, 27, 59]])"
      ]
     },
     "execution_count": 2,
     "metadata": {},
     "output_type": "execute_result"
    }
   ],
   "source": [
    "x = np.random.randint(100, size=(4, 5)) #0~100개중 20개의 난수 정수 생성\n",
    "x "
   ]
  },
  {
   "cell_type": "code",
   "execution_count": 3,
   "metadata": {},
   "outputs": [
    {
     "name": "stdout",
     "output_type": "stream",
     "text": [
      "[[1.         0.11111111 0.         0.71111111 0.46666667]\n",
      " [0.51111111 0.32222222 0.06666667 0.46666667 0.8       ]\n",
      " [0.14444444 0.97777778 0.44444444 0.84444444 0.14444444]\n",
      " [0.53333333 0.8        0.81111111 0.25555556 0.61111111]]\n"
     ]
    }
   ],
   "source": [
    "# 함수 호출 (정규화 해준다)\n",
    "x_nor = normal(x)\n",
    "print(x_nor)"
   ]
  },
  {
   "cell_type": "code",
   "execution_count": 4,
   "metadata": {},
   "outputs": [
    {
     "name": "stdout",
     "output_type": "stream",
     "text": [
      "0.0\n",
      "1.0\n"
     ]
    }
   ],
   "source": [
    "print(x_nor.min()) # 0\n",
    "print(x_nor.max()) # 1"
   ]
  },
  {
   "cell_type": "code",
   "execution_count": 5,
   "metadata": {},
   "outputs": [
    {
     "name": "stdout",
     "output_type": "stream",
     "text": [
      "(506, 13)\n",
      "0.0\n",
      "711.0\n"
     ]
    }
   ],
   "source": [
    "# 1. dataset load\n",
    "X, y = load_boston(return_X_y=True)\n",
    "\n",
    "print(X.shape) # 표준화 \n",
    "print(X.min())\n",
    "print(X.max())"
   ]
  },
  {
   "cell_type": "code",
   "execution_count": 8,
   "metadata": {},
   "outputs": [
    {
     "data": {
      "text/plain": [
       "array([0.42222222, 0.36888889, 0.66      , 0.63111111, 0.69333333,\n",
       "       0.52666667, 0.39777778, 0.49111111, 0.25555556, 0.30888889])"
      ]
     },
     "execution_count": 8,
     "metadata": {},
     "output_type": "execute_result"
    }
   ],
   "source": [
    "# 2. 변수 \n",
    "y_nor = normal(y)\n",
    "y_nor[:10]\n"
   ]
  },
  {
   "cell_type": "code",
   "execution_count": 9,
   "metadata": {},
   "outputs": [
    {
     "name": "stdout",
     "output_type": "stream",
     "text": [
      "(354, 13)\n",
      "(354,)\n"
     ]
    }
   ],
   "source": [
    "# 3. train/test split\n",
    "x_train, x_test, y_train, y_test = train_test_split(\n",
    "        X, y_nor, test_size=0.3)\n",
    "print(x_train.shape)\n",
    "print(y_train.shape)"
   ]
  },
  {
   "cell_type": "code",
   "execution_count": 11,
   "metadata": {},
   "outputs": [
    {
     "name": "stdout",
     "output_type": "stream",
     "text": [
      "회귀계수\n",
      "기울기 : [-2.60206437e-03  1.15435331e-03 -1.70021744e-03  8.02626766e-02\n",
      " -3.37411551e-01  7.18077223e-02 -2.26911462e-04 -3.18693513e-02\n",
      "  7.60366293e-03 -3.05854106e-04 -1.95552072e-02  1.31154447e-04\n",
      " -1.09620098e-02]\n",
      "절편 : 0.7769409474050379\n"
     ]
    }
   ],
   "source": [
    "# 4. 회귀모델 생성 : train set\n",
    "boston_model = LinearRegression().fit(x_train, y_train)\n",
    "print('회귀계수')\n",
    "print(\"기울기 :\", boston_model.coef_)\n",
    "print('절편 :', boston_model.intercept_)"
   ]
  },
  {
   "cell_type": "code",
   "execution_count": 12,
   "metadata": {},
   "outputs": [
    {
     "name": "stdout",
     "output_type": "stream",
     "text": [
      "MSE = 0.011475417940081228\n"
     ]
    }
   ],
   "source": [
    "# 5. 모델 평가 : test set\n",
    "pred = boston_model.predict(x_test)\n",
    "Y = y_test\n",
    "mse = mean_squared_error(Y, pred)\n",
    "'''\n",
    "MSE = (Y-pred)^2 / n\n",
    "'''\n",
    "print('MSE =', mse)"
   ]
  },
  {
   "cell_type": "code",
   "execution_count": 13,
   "metadata": {},
   "outputs": [
    {
     "name": "stdout",
     "output_type": "stream",
     "text": [
      "결정계수 : 0.74\n"
     ]
    }
   ],
   "source": [
    "# 2) 결정계수 : target 변수 표준화 안된 경우 : \n",
    "print('결정계수 : %.2f' % r2_score(Y, pred)) # 결정계수 : 0.75"
   ]
  },
  {
   "cell_type": "code",
   "execution_count": 14,
   "metadata": {},
   "outputs": [
    {
     "name": "stdout",
     "output_type": "stream",
     "text": [
      "-5.195668225913776e-16\n",
      "0.9999999999999999\n"
     ]
    }
   ],
   "source": [
    "###############################\n",
    "### data 표준화(mean=0, sd=1) \n",
    "###############################\n",
    "\n",
    "from scipy import stats\n",
    "\n",
    "# 1. dataset load\n",
    "X, y = load_boston(return_X_y=True)\n",
    "\n",
    "# y 표준화 \n",
    "y_st = stats.zscore(y) # z = (x - mu) / sd\n",
    "print(y_st.mean()) # -5.195668225913776e-16 -> 0에 수렴한 형태\n",
    "print(y_st.std()) # 0.9999999999999999 -> 1에 수렴한 형태"
   ]
  },
  {
   "cell_type": "code",
   "execution_count": 16,
   "metadata": {},
   "outputs": [
    {
     "name": "stdout",
     "output_type": "stream",
     "text": [
      "(354, 13)\n",
      "(354,)\n"
     ]
    }
   ],
   "source": [
    "# 3. train/test split\n",
    "x_train, x_test, y_train, y_test = train_test_split(X, y_st, test_size=0.3)\n",
    "print(x_train.shape)\n",
    "print(y_train.shape)"
   ]
  },
  {
   "cell_type": "code",
   "execution_count": 17,
   "metadata": {},
   "outputs": [
    {
     "name": "stdout",
     "output_type": "stream",
     "text": [
      "회귀계수\n",
      "기울기 : [-1.41042315e-02  4.57970671e-03 -2.36092357e-03  4.86328453e-01\n",
      " -1.75757937e+00  3.96930210e-01  1.50997925e-04 -1.51334348e-01\n",
      "  3.60578009e-02 -1.19095722e-03 -1.13065770e-01  9.73368804e-04\n",
      " -5.93254533e-02]\n",
      "절편 : 1.6705867390449949\n"
     ]
    }
   ],
   "source": [
    "# 4. 회귀모델 생성 : train set\n",
    "boston_model = LinearRegression().fit(x_train, y_train)\n",
    "print('회귀계수')\n",
    "print(\"기울기 :\", boston_model.coef_)\n",
    "print('절편 :', boston_model.intercept_)"
   ]
  },
  {
   "cell_type": "code",
   "execution_count": 18,
   "metadata": {},
   "outputs": [
    {
     "name": "stdout",
     "output_type": "stream",
     "text": [
      "MSE = 0.29458408028621663\n"
     ]
    }
   ],
   "source": [
    "# 5. 모델 평가 : test set\n",
    "pred = boston_model.predict(x_test)\n",
    "Y = y_test\n",
    "mse = mean_squared_error(Y, pred)\n",
    "'''\n",
    "MSE = (Y-pred)^2 / n\n",
    "'''\n",
    "print('MSE =', mse)"
   ]
  },
  {
   "cell_type": "code",
   "execution_count": 19,
   "metadata": {},
   "outputs": [
    {
     "name": "stdout",
     "output_type": "stream",
     "text": [
      "결정계수 : 0.68\n"
     ]
    }
   ],
   "source": [
    "# 2) 결정계수 : target 변수 표준화 안된 경우 : \n",
    "print('결정계수 : %.2f' % r2_score(Y, pred)) # 결정계수 : 0.69"
   ]
  },
  {
   "cell_type": "code",
   "execution_count": null,
   "metadata": {},
   "outputs": [],
   "source": []
  }
 ],
 "metadata": {
  "kernelspec": {
   "display_name": "Python 3",
   "language": "python",
   "name": "python3"
  },
  "language_info": {
   "codemirror_mode": {
    "name": "ipython",
    "version": 3
   },
   "file_extension": ".py",
   "mimetype": "text/x-python",
   "name": "python",
   "nbconvert_exporter": "python",
   "pygments_lexer": "ipython3",
   "version": "3.8.5"
  }
 },
 "nbformat": 4,
 "nbformat_minor": 4
}
