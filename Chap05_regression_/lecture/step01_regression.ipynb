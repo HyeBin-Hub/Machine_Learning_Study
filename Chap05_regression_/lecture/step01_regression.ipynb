{
 "cells": [
  {
   "cell_type": "code",
   "execution_count": 1,
   "metadata": {},
   "outputs": [],
   "source": [
    "\"\"\"\n",
    "scipy 패키지 이용 \n",
    " - 통계적 방법 선형회귀모델\n",
    " - 회귀분석 :  유전학자 갈톤에 의해서 제안 \n",
    "\"\"\"\n",
    "\n",
    "from scipy import stats\n",
    "import pandas as pd\n",
    "import numpy as np\n"
   ]
  },
  {
   "cell_type": "code",
   "execution_count": 2,
   "metadata": {},
   "outputs": [
    {
     "name": "stdout",
     "output_type": "stream",
     "text": [
      "<class 'pandas.core.frame.DataFrame'>\n",
      "RangeIndex: 928 entries, 0 to 927\n",
      "Data columns (total 2 columns):\n",
      " #   Column  Non-Null Count  Dtype  \n",
      "---  ------  --------------  -----  \n",
      " 0   child   928 non-null    float64\n",
      " 1   parent  928 non-null    float64\n",
      "dtypes: float64(2)\n",
      "memory usage: 14.6 KB\n"
     ]
    }
   ],
   "source": [
    "###############################\n",
    "## 1. 단순선형회귀모델 \n",
    "###############################\n",
    "# 독립변수 1개 -> 종속변수 : 등간/비율척도 \n",
    "\n",
    "# (1) galton dataset\n",
    "galton = pd.read_csv(\"C:/Users/hyebin/Desktop/study/python_ML/data/galton.csv\")\n",
    "galton.info()"
   ]
  },
  {
   "cell_type": "code",
   "execution_count": 3,
   "metadata": {},
   "outputs": [
    {
     "data": {
      "text/html": [
       "<div>\n",
       "<style scoped>\n",
       "    .dataframe tbody tr th:only-of-type {\n",
       "        vertical-align: middle;\n",
       "    }\n",
       "\n",
       "    .dataframe tbody tr th {\n",
       "        vertical-align: top;\n",
       "    }\n",
       "\n",
       "    .dataframe thead th {\n",
       "        text-align: right;\n",
       "    }\n",
       "</style>\n",
       "<table border=\"1\" class=\"dataframe\">\n",
       "  <thead>\n",
       "    <tr style=\"text-align: right;\">\n",
       "      <th></th>\n",
       "      <th>child</th>\n",
       "      <th>parent</th>\n",
       "    </tr>\n",
       "  </thead>\n",
       "  <tbody>\n",
       "    <tr>\n",
       "      <th>0</th>\n",
       "      <td>61.7</td>\n",
       "      <td>70.5</td>\n",
       "    </tr>\n",
       "    <tr>\n",
       "      <th>1</th>\n",
       "      <td>61.7</td>\n",
       "      <td>68.5</td>\n",
       "    </tr>\n",
       "    <tr>\n",
       "      <th>2</th>\n",
       "      <td>61.7</td>\n",
       "      <td>65.5</td>\n",
       "    </tr>\n",
       "    <tr>\n",
       "      <th>3</th>\n",
       "      <td>61.7</td>\n",
       "      <td>64.5</td>\n",
       "    </tr>\n",
       "    <tr>\n",
       "      <th>4</th>\n",
       "      <td>61.7</td>\n",
       "      <td>64.0</td>\n",
       "    </tr>\n",
       "  </tbody>\n",
       "</table>\n",
       "</div>"
      ],
      "text/plain": [
       "   child  parent\n",
       "0   61.7    70.5\n",
       "1   61.7    68.5\n",
       "2   61.7    65.5\n",
       "3   61.7    64.5\n",
       "4   61.7    64.0"
      ]
     },
     "execution_count": 3,
     "metadata": {},
     "output_type": "execute_result"
    }
   ],
   "source": [
    "galton.head()"
   ]
  },
  {
   "cell_type": "code",
   "execution_count": 4,
   "metadata": {},
   "outputs": [
    {
     "name": "stdout",
     "output_type": "stream",
     "text": [
      "928\n",
      "928\n"
     ]
    }
   ],
   "source": [
    "x = galton.parent\n",
    "y = galton.child\n",
    "\n",
    "print(len(x)) # 928\n",
    "print(len(y)) # 928\n",
    "# 같은 길이여야한다"
   ]
  },
  {
   "cell_type": "code",
   "execution_count": 5,
   "metadata": {},
   "outputs": [
    {
     "name": "stdout",
     "output_type": "stream",
     "text": [
      "LinregressResult(slope=0.646290581993639, intercept=23.941530180412975, rvalue=0.45876236829282113, pvalue=1.7325092920168095e-49, stderr=0.04113588223793343)\n"
     ]
    }
   ],
   "source": [
    "# 단순선형회귀모델 \n",
    "\n",
    "'''\n",
    "LinregressResult(\n",
    "slope=0.6462905819936423,  -> x 기울기 \n",
    "intercept=23.941530180412748,  -> y 절편 \n",
    "rvalue=0.4587623682928238, -> 설명력(예측력)\n",
    "pvalue=1.7325092920142867e-49, -> 1. 유의확률(p < 0.05) \n",
    "stderr=0.04113588223793335) -> 표준오차 \n",
    "'''\n",
    "\n",
    "model = stats.linregress(x, y)\n",
    "print(model)\n"
   ]
  },
  {
   "cell_type": "code",
   "execution_count": 6,
   "metadata": {},
   "outputs": [
    {
     "name": "stdout",
     "output_type": "stream",
     "text": [
      "x 기울기 :  0.646290581993639\n",
      "y 절편 : 23.941530180412975\n",
      "model 설명력 : 0.45876236829282113\n"
     ]
    }
   ],
   "source": [
    "print('x 기울기 : ', model.slope)\n",
    "print('y 절편 :', model.intercept)\n",
    "print('model 설명력 :', model.rvalue)"
   ]
  },
  {
   "cell_type": "code",
   "execution_count": 7,
   "metadata": {},
   "outputs": [
    {
     "name": "stdout",
     "output_type": "stream",
     "text": [
      "68.30818965517241 68.08846982758512\n"
     ]
    }
   ],
   "source": [
    "# a = Cov(x,y) / Sxx\n",
    "\n",
    "# x,y 산술평균 \n",
    "x_mu = x.mean()\n",
    "y_mu = y.mean()\n",
    "print(x_mu,y_mu)"
   ]
  },
  {
   "cell_type": "code",
   "execution_count": 8,
   "metadata": {},
   "outputs": [
    {
     "data": {
      "text/plain": [
       "1913.8976293103447"
      ]
     },
     "execution_count": 8,
     "metadata": {},
     "output_type": "execute_result"
    }
   ],
   "source": [
    "# 공분산\n",
    "COVxy = np.sum((x- x_mu) * (y - y_mu))\n",
    "COVxy"
   ]
  },
  {
   "cell_type": "code",
   "execution_count": 9,
   "metadata": {},
   "outputs": [
    {
     "data": {
      "text/plain": [
       "2961.35775862069"
      ]
     },
     "execution_count": 9,
     "metadata": {},
     "output_type": "execute_result"
    }
   ],
   "source": [
    "# 편차제곱 평균\n",
    "Sxx = np.sum((x - x_mu)**2) \n",
    "Sxx"
   ]
  },
  {
   "cell_type": "code",
   "execution_count": 10,
   "metadata": {},
   "outputs": [
    {
     "data": {
      "text/plain": [
       "0.6462905819936392"
      ]
     },
     "execution_count": 10,
     "metadata": {},
     "output_type": "execute_result"
    }
   ],
   "source": [
    "a = COVxy / Sxx\n",
    "a # 0.6462905819936392\n",
    "# x기울기와 같다"
   ]
  },
  {
   "cell_type": "code",
   "execution_count": 11,
   "metadata": {},
   "outputs": [
    {
     "data": {
      "text/plain": [
       "23.941530180411853"
      ]
     },
     "execution_count": 11,
     "metadata": {},
     "output_type": "execute_result"
    }
   ],
   "source": [
    "# b = y_mu - (a * x_mu)\n",
    "b = y_mu - (a * x_mu)\n",
    "b # 23.941530180411853\n",
    "# y절편과 같다"
   ]
  },
  {
   "cell_type": "code",
   "execution_count": 12,
   "metadata": {},
   "outputs": [
    {
     "data": {
      "text/plain": [
       "69.50501621096453"
      ]
     },
     "execution_count": 12,
     "metadata": {},
     "output_type": "execute_result"
    }
   ],
   "source": [
    "# 회귀방정식(y = a*X + b) : a-기울기, b-절편 \n",
    "#    child(Y)  parent(X)\n",
    "# 0   61.7    70.5\n",
    "X = 70.5\n",
    "Y = 61.7\n",
    "\n",
    "y = (model.slope * X) + model.intercept # Y의 예측치 \n",
    "y # 69.50501621096453\n"
   ]
  },
  {
   "cell_type": "code",
   "execution_count": 13,
   "metadata": {},
   "outputs": [
    {
     "name": "stdout",
     "output_type": "stream",
     "text": [
      "error = -7.805016210964524\n"
     ]
    }
   ],
   "source": [
    "err = Y - y\n",
    "print('error =', err) # -7.805016210964524\n",
    "# 설명력이 낮기 때문에 오차가 크다."
   ]
  },
  {
   "cell_type": "code",
   "execution_count": 17,
   "metadata": {},
   "outputs": [
    {
     "name": "stdout",
     "output_type": "stream",
     "text": [
      "<class 'pandas.core.frame.DataFrame'>\n",
      "RangeIndex: 150 entries, 0 to 149\n",
      "Data columns (total 6 columns):\n",
      " #   Column   Non-Null Count  Dtype\n",
      "---  ------   --------------  -----\n",
      " 0   sid      150 non-null    int64\n",
      " 1   score    150 non-null    int64\n",
      " 2   iq       150 non-null    int64\n",
      " 3   academy  150 non-null    int64\n",
      " 4   game     150 non-null    int64\n",
      " 5   tv       150 non-null    int64\n",
      "dtypes: int64(6)\n",
      "memory usage: 7.2 KB\n"
     ]
    }
   ],
   "source": [
    "# 2) 설명력이 높은 경우\n",
    "score_iq = pd.read_csv(\"C:/Users/hyebin/Desktop/Python_ML/data/score_iq.csv\")\n",
    "score_iq.info()\n"
   ]
  },
  {
   "cell_type": "code",
   "execution_count": 18,
   "metadata": {},
   "outputs": [],
   "source": [
    "# x(iq) -> y(score) 벡터화 \n",
    "x = score_iq.iq # 독립변수1 \n",
    "y = score_iq.score # 종속변수1 "
   ]
  },
  {
   "cell_type": "code",
   "execution_count": 19,
   "metadata": {},
   "outputs": [
    {
     "data": {
      "text/html": [
       "<div>\n",
       "<style scoped>\n",
       "    .dataframe tbody tr th:only-of-type {\n",
       "        vertical-align: middle;\n",
       "    }\n",
       "\n",
       "    .dataframe tbody tr th {\n",
       "        vertical-align: top;\n",
       "    }\n",
       "\n",
       "    .dataframe thead th {\n",
       "        text-align: right;\n",
       "    }\n",
       "</style>\n",
       "<table border=\"1\" class=\"dataframe\">\n",
       "  <thead>\n",
       "    <tr style=\"text-align: right;\">\n",
       "      <th></th>\n",
       "      <th>sid</th>\n",
       "      <th>score</th>\n",
       "      <th>iq</th>\n",
       "      <th>academy</th>\n",
       "      <th>game</th>\n",
       "      <th>tv</th>\n",
       "    </tr>\n",
       "  </thead>\n",
       "  <tbody>\n",
       "    <tr>\n",
       "      <th>0</th>\n",
       "      <td>10001</td>\n",
       "      <td>90</td>\n",
       "      <td>140</td>\n",
       "      <td>2</td>\n",
       "      <td>1</td>\n",
       "      <td>0</td>\n",
       "    </tr>\n",
       "    <tr>\n",
       "      <th>1</th>\n",
       "      <td>10002</td>\n",
       "      <td>75</td>\n",
       "      <td>125</td>\n",
       "      <td>1</td>\n",
       "      <td>3</td>\n",
       "      <td>3</td>\n",
       "    </tr>\n",
       "    <tr>\n",
       "      <th>2</th>\n",
       "      <td>10003</td>\n",
       "      <td>77</td>\n",
       "      <td>120</td>\n",
       "      <td>1</td>\n",
       "      <td>0</td>\n",
       "      <td>4</td>\n",
       "    </tr>\n",
       "    <tr>\n",
       "      <th>3</th>\n",
       "      <td>10004</td>\n",
       "      <td>83</td>\n",
       "      <td>135</td>\n",
       "      <td>2</td>\n",
       "      <td>3</td>\n",
       "      <td>2</td>\n",
       "    </tr>\n",
       "    <tr>\n",
       "      <th>4</th>\n",
       "      <td>10005</td>\n",
       "      <td>65</td>\n",
       "      <td>105</td>\n",
       "      <td>0</td>\n",
       "      <td>4</td>\n",
       "      <td>4</td>\n",
       "    </tr>\n",
       "  </tbody>\n",
       "</table>\n",
       "</div>"
      ],
      "text/plain": [
       "     sid  score   iq  academy  game  tv\n",
       "0  10001     90  140        2     1   0\n",
       "1  10002     75  125        1     3   3\n",
       "2  10003     77  120        1     0   4\n",
       "3  10004     83  135        2     3   2\n",
       "4  10005     65  105        0     4   4"
      ]
     },
     "execution_count": 19,
     "metadata": {},
     "output_type": "execute_result"
    }
   ],
   "source": [
    "score_iq.head()"
   ]
  },
  {
   "cell_type": "code",
   "execution_count": 20,
   "metadata": {},
   "outputs": [
    {
     "name": "stdout",
     "output_type": "stream",
     "text": [
      "<class 'pandas.core.frame.DataFrame'>\n"
     ]
    },
    {
     "data": {
      "text/plain": [
       "sid       -0.014399\n",
       "score      1.000000\n",
       "iq         0.882220\n",
       "academy    0.896265\n",
       "game      -0.298193\n",
       "tv        -0.819752\n",
       "Name: score, dtype: float64"
      ]
     },
     "execution_count": 20,
     "metadata": {},
     "output_type": "execute_result"
    }
   ],
   "source": [
    "# 변수 선택 : score <- y(?)\n",
    "cor = score_iq.corr()\n",
    "print(type(cor))\n",
    "cor.loc['score', :]"
   ]
  },
  {
   "cell_type": "code",
   "execution_count": 21,
   "metadata": {},
   "outputs": [
    {
     "name": "stdout",
     "output_type": "stream",
     "text": [
      "LinregressResult(slope=1.1947739559991004, intercept=30.851780195429967, rvalue=0.8822203446134705, pvalue=2.8476895206672287e-50, stderr=0.05241410713684221)\n",
      "x 기울기 : 1.1947739559991004\n",
      "y 절편 : 30.851780195429967\n",
      "설명력 : 0.8822203446134705\n"
     ]
    }
   ],
   "source": [
    "x = score_iq.score # 독립변수 \n",
    "y = score_iq.iq # 종속변수 \n",
    "\n",
    "# 단순선형회귀모형 \n",
    "model = stats.linregress(x, y)\n",
    "print(model)\n",
    "print('x 기울기 :', model.slope)\n",
    "print('y 절편 :', model.intercept)\n",
    "print('설명력 :', model.rvalue)"
   ]
  },
  {
   "cell_type": "code",
   "execution_count": 22,
   "metadata": {},
   "outputs": [
    {
     "name": "stdout",
     "output_type": "stream",
     "text": [
      "y 예측치 = 138.38143623534899\n"
     ]
    },
    {
     "data": {
      "text/plain": [
       "-1.6185637646510145"
      ]
     },
     "execution_count": 22,
     "metadata": {},
     "output_type": "execute_result"
    }
   ],
   "source": [
    "# 90  140 \n",
    "X = 90\n",
    "Y = 140\n",
    "\n",
    "y = (model.slope * X) + model.intercept\n",
    "print('y 예측치 =', y) # y 예측치 = 138.38143623534899\n",
    "\n",
    "err = y - Y\n",
    "err # [-1.6185637646510145]"
   ]
  },
  {
   "cell_type": "code",
   "execution_count": 23,
   "metadata": {},
   "outputs": [
    {
     "name": "stdout",
     "output_type": "stream",
     "text": [
      "<class 'pandas.core.frame.DataFrame'>\n",
      "RangeIndex: 150 entries, 0 to 149\n",
      "Data columns (total 6 columns):\n",
      " #   Column   Non-Null Count  Dtype\n",
      "---  ------   --------------  -----\n",
      " 0   sid      150 non-null    int64\n",
      " 1   score    150 non-null    int64\n",
      " 2   iq       150 non-null    int64\n",
      " 3   academy  150 non-null    int64\n",
      " 4   game     150 non-null    int64\n",
      " 5   tv       150 non-null    int64\n",
      "dtypes: int64(6)\n",
      "memory usage: 7.2 KB\n"
     ]
    }
   ],
   "source": [
    "###############################\n",
    "## 2. 다중선형회귀모델 \n",
    "###############################\n",
    "# - 독립변수(2개 이상) -> 종속변수\n",
    "\n",
    "import statsmodels.formula.api as sm\n",
    "score_iq = pd.read_csv(\"C:/Users/hyebin/Desktop/Python_ML/data/score_iq.csv\")\n",
    "score_iq.info()"
   ]
  },
  {
   "cell_type": "code",
   "execution_count": 24,
   "metadata": {},
   "outputs": [
    {
     "data": {
      "text/html": [
       "<div>\n",
       "<style scoped>\n",
       "    .dataframe tbody tr th:only-of-type {\n",
       "        vertical-align: middle;\n",
       "    }\n",
       "\n",
       "    .dataframe tbody tr th {\n",
       "        vertical-align: top;\n",
       "    }\n",
       "\n",
       "    .dataframe thead th {\n",
       "        text-align: right;\n",
       "    }\n",
       "</style>\n",
       "<table border=\"1\" class=\"dataframe\">\n",
       "  <thead>\n",
       "    <tr style=\"text-align: right;\">\n",
       "      <th></th>\n",
       "      <th>sid</th>\n",
       "      <th>score</th>\n",
       "      <th>iq</th>\n",
       "      <th>academy</th>\n",
       "      <th>game</th>\n",
       "      <th>tv</th>\n",
       "    </tr>\n",
       "  </thead>\n",
       "  <tbody>\n",
       "    <tr>\n",
       "      <th>0</th>\n",
       "      <td>10001</td>\n",
       "      <td>90</td>\n",
       "      <td>140</td>\n",
       "      <td>2</td>\n",
       "      <td>1</td>\n",
       "      <td>0</td>\n",
       "    </tr>\n",
       "    <tr>\n",
       "      <th>1</th>\n",
       "      <td>10002</td>\n",
       "      <td>75</td>\n",
       "      <td>125</td>\n",
       "      <td>1</td>\n",
       "      <td>3</td>\n",
       "      <td>3</td>\n",
       "    </tr>\n",
       "    <tr>\n",
       "      <th>2</th>\n",
       "      <td>10003</td>\n",
       "      <td>77</td>\n",
       "      <td>120</td>\n",
       "      <td>1</td>\n",
       "      <td>0</td>\n",
       "      <td>4</td>\n",
       "    </tr>\n",
       "    <tr>\n",
       "      <th>3</th>\n",
       "      <td>10004</td>\n",
       "      <td>83</td>\n",
       "      <td>135</td>\n",
       "      <td>2</td>\n",
       "      <td>3</td>\n",
       "      <td>2</td>\n",
       "    </tr>\n",
       "    <tr>\n",
       "      <th>4</th>\n",
       "      <td>10005</td>\n",
       "      <td>65</td>\n",
       "      <td>105</td>\n",
       "      <td>0</td>\n",
       "      <td>4</td>\n",
       "      <td>4</td>\n",
       "    </tr>\n",
       "  </tbody>\n",
       "</table>\n",
       "</div>"
      ],
      "text/plain": [
       "     sid  score   iq  academy  game  tv\n",
       "0  10001     90  140        2     1   0\n",
       "1  10002     75  125        1     3   3\n",
       "2  10003     77  120        1     0   4\n",
       "3  10004     83  135        2     3   2\n",
       "4  10005     65  105        0     4   4"
      ]
     },
     "execution_count": 24,
     "metadata": {},
     "output_type": "execute_result"
    }
   ],
   "source": [
    "score_iq.head()"
   ]
  },
  {
   "cell_type": "code",
   "execution_count": 25,
   "metadata": {},
   "outputs": [
    {
     "data": {
      "text/html": [
       "<div>\n",
       "<style scoped>\n",
       "    .dataframe tbody tr th:only-of-type {\n",
       "        vertical-align: middle;\n",
       "    }\n",
       "\n",
       "    .dataframe tbody tr th {\n",
       "        vertical-align: top;\n",
       "    }\n",
       "\n",
       "    .dataframe thead th {\n",
       "        text-align: right;\n",
       "    }\n",
       "</style>\n",
       "<table border=\"1\" class=\"dataframe\">\n",
       "  <thead>\n",
       "    <tr style=\"text-align: right;\">\n",
       "      <th></th>\n",
       "      <th>sid</th>\n",
       "      <th>score</th>\n",
       "      <th>iq</th>\n",
       "      <th>academy</th>\n",
       "      <th>game</th>\n",
       "      <th>tv</th>\n",
       "    </tr>\n",
       "  </thead>\n",
       "  <tbody>\n",
       "    <tr>\n",
       "      <th>sid</th>\n",
       "      <td>1.000000</td>\n",
       "      <td>-0.014399</td>\n",
       "      <td>-0.007048</td>\n",
       "      <td>-0.004398</td>\n",
       "      <td>0.018806</td>\n",
       "      <td>0.024565</td>\n",
       "    </tr>\n",
       "    <tr>\n",
       "      <th>score</th>\n",
       "      <td>-0.014399</td>\n",
       "      <td>1.000000</td>\n",
       "      <td>0.882220</td>\n",
       "      <td>0.896265</td>\n",
       "      <td>-0.298193</td>\n",
       "      <td>-0.819752</td>\n",
       "    </tr>\n",
       "    <tr>\n",
       "      <th>iq</th>\n",
       "      <td>-0.007048</td>\n",
       "      <td>0.882220</td>\n",
       "      <td>1.000000</td>\n",
       "      <td>0.671783</td>\n",
       "      <td>-0.031516</td>\n",
       "      <td>-0.585033</td>\n",
       "    </tr>\n",
       "    <tr>\n",
       "      <th>academy</th>\n",
       "      <td>-0.004398</td>\n",
       "      <td>0.896265</td>\n",
       "      <td>0.671783</td>\n",
       "      <td>1.000000</td>\n",
       "      <td>-0.351315</td>\n",
       "      <td>-0.948551</td>\n",
       "    </tr>\n",
       "    <tr>\n",
       "      <th>game</th>\n",
       "      <td>0.018806</td>\n",
       "      <td>-0.298193</td>\n",
       "      <td>-0.031516</td>\n",
       "      <td>-0.351315</td>\n",
       "      <td>1.000000</td>\n",
       "      <td>0.239217</td>\n",
       "    </tr>\n",
       "    <tr>\n",
       "      <th>tv</th>\n",
       "      <td>0.024565</td>\n",
       "      <td>-0.819752</td>\n",
       "      <td>-0.585033</td>\n",
       "      <td>-0.948551</td>\n",
       "      <td>0.239217</td>\n",
       "      <td>1.000000</td>\n",
       "    </tr>\n",
       "  </tbody>\n",
       "</table>\n",
       "</div>"
      ],
      "text/plain": [
       "              sid     score        iq   academy      game        tv\n",
       "sid      1.000000 -0.014399 -0.007048 -0.004398  0.018806  0.024565\n",
       "score   -0.014399  1.000000  0.882220  0.896265 -0.298193 -0.819752\n",
       "iq      -0.007048  0.882220  1.000000  0.671783 -0.031516 -0.585033\n",
       "academy -0.004398  0.896265  0.671783  1.000000 -0.351315 -0.948551\n",
       "game     0.018806 -0.298193 -0.031516 -0.351315  1.000000  0.239217\n",
       "tv       0.024565 -0.819752 -0.585033 -0.948551  0.239217  1.000000"
      ]
     },
     "execution_count": 25,
     "metadata": {},
     "output_type": "execute_result"
    }
   ],
   "source": [
    "# 상관분석\n",
    "cor = score_iq.corr()\n",
    "cor # score랑 상관이 가장 높은 변수를 y로둔다"
   ]
  },
  {
   "cell_type": "code",
   "execution_count": 26,
   "metadata": {},
   "outputs": [
    {
     "name": "stdout",
     "output_type": "stream",
     "text": [
      "<statsmodels.regression.linear_model.RegressionResultsWrapper object at 0x000001D98DF77A00> \n",
      "\n",
      "Intercept    25.229141\n",
      "x1            0.376966\n",
      "x2            2.992800\n",
      "dtype: float64\n"
     ]
    }
   ],
   "source": [
    "y = score_iq.score \n",
    "x1 = score_iq.iq\n",
    "x2 = score_iq.academy\n",
    "\n",
    "df = pd.DataFrame({'y':y, 'x1':x1, 'x2':x2})\n",
    "model = sm.ols(\"y ~ x1 + x2\", data = df).fit()\n",
    "print(model,\"\\n\") # objec info \n",
    "print(model.params) # 회귀계수"
   ]
  },
  {
   "cell_type": "code",
   "execution_count": 27,
   "metadata": {},
   "outputs": [
    {
     "data": {
      "text/plain": [
       "82.10768255983939"
      ]
     },
     "execution_count": 27,
     "metadata": {},
     "output_type": "execute_result"
    }
   ],
   "source": [
    "# 회귀방정식 : y = (a1*X1 + a2*X2) + b\n",
    "y = np.dot(a, X) + b\n",
    "y"
   ]
  },
  {
   "cell_type": "code",
   "execution_count": 28,
   "metadata": {},
   "outputs": [
    {
     "name": "stdout",
     "output_type": "stream",
     "text": [
      "                            OLS Regression Results                            \n",
      "==============================================================================\n",
      "Dep. Variable:                      y   R-squared:                       0.946\n",
      "Model:                            OLS   Adj. R-squared:                  0.946\n",
      "Method:                 Least Squares   F-statistic:                     1295.\n",
      "Date:                Tue, 06 Jul 2021   Prob (F-statistic):           4.50e-94\n",
      "Time:                        21:54:08   Log-Likelihood:                -275.05\n",
      "No. Observations:                 150   AIC:                             556.1\n",
      "Df Residuals:                     147   BIC:                             565.1\n",
      "Df Model:                           2                                         \n",
      "Covariance Type:            nonrobust                                         \n",
      "==============================================================================\n",
      "                 coef    std err          t      P>|t|      [0.025      0.975]\n",
      "------------------------------------------------------------------------------\n",
      "Intercept     25.2291      2.187     11.537      0.000      20.907      29.551\n",
      "x1             0.3770      0.019     19.786      0.000       0.339       0.415\n",
      "x2             2.9928      0.140     21.444      0.000       2.717       3.269\n",
      "==============================================================================\n",
      "Omnibus:                       36.342   Durbin-Watson:                   1.913\n",
      "Prob(Omnibus):                  0.000   Jarque-Bera (JB):               54.697\n",
      "Skew:                           1.286   Prob(JB):                     1.33e-12\n",
      "Kurtosis:                       4.461   Cond. No.                     2.18e+03\n",
      "==============================================================================\n",
      "\n",
      "Notes:\n",
      "[1] Standard Errors assume that the covariance matrix of the errors is correctly specified.\n",
      "[2] The condition number is large, 2.18e+03. This might indicate that there are\n",
      "strong multicollinearity or other numerical problems.\n"
     ]
    }
   ],
   "source": [
    "# 모델 결과 확인 \n",
    "print(model.summary())\n",
    "# 검정 통계량(t) 이 크면 클수록 y에 더 많은 영향을 미친다"
   ]
  },
  {
   "cell_type": "code",
   "execution_count": 29,
   "metadata": {},
   "outputs": [
    {
     "data": {
      "text/plain": [
       "82.10768255983939"
      ]
     },
     "execution_count": 29,
     "metadata": {},
     "output_type": "execute_result"
    }
   ],
   "source": [
    "'''\n",
    "모델 해석\n",
    "1. F 검정 통계량(Prob (F-statistic) ) : 모델의 유의성 검증\n",
    "2.Adj. R-squared : 모델의 설명력(1에 가까우면좋음, 1이 가장 높은 경우)\n",
    "3.iq , academy  : x변수 유의성 검정 (p-value < 0.05일경우 엑스가 영향을 미친다고 말함, t검정 통계량 : 강도)\n",
    "예측력이 높아도 피벨유가 0.05이하이면 의미가 없다.\n",
    "'''\n",
    "# model 적합값(fittedvalues) : 훈련셋의 y값 예측치   \n",
    "y_fit = model.fittedvalues\n",
    "y_fit.mean() # 77.77333333333341 : 예측치 평균 \n",
    "y.mean() # 77.77333333333333 : 정답 평균 "
   ]
  },
  {
   "cell_type": "code",
   "execution_count": 30,
   "metadata": {},
   "outputs": [
    {
     "data": {
      "text/plain": [
       "75"
      ]
     },
     "execution_count": 30,
     "metadata": {},
     "output_type": "execute_result"
    }
   ],
   "source": [
    "# model 평가 : 검정셋(new date)\n",
    "# 검정셋(new data)의 y값 예측치\n",
    "from numpy import random\n",
    "\n",
    "idx = random.choice(a=len(df), size=int(len(df)*0.5), replace=False)\n",
    "\n",
    "len(idx) #  75"
   ]
  },
  {
   "cell_type": "code",
   "execution_count": 31,
   "metadata": {},
   "outputs": [
    {
     "name": "stdout",
     "output_type": "stream",
     "text": [
      "29     82.105166\n",
      "45     80.597302\n",
      "148    64.810583\n",
      "139    83.967068\n",
      "27     75.342705\n",
      "         ...    \n",
      "8      85.452004\n",
      "106    85.452004\n",
      "126    75.342705\n",
      "87     80.574373\n",
      "49     73.457874\n",
      "Length: 75, dtype: float64\n",
      "77.23751550841709\n"
     ]
    }
   ],
   "source": [
    "new_data = df.loc[idx, :] # 75 관측치 샘플링\n",
    "# new data -> y 예측치  \n",
    "y_pred = model.predict(new_data[['x1', 'x2']])\n",
    "print(y_pred)\n",
    "\n",
    "len(y_pred) # 75\n",
    "print(y_pred.mean()) # 77.94407177782675"
   ]
  },
  {
   "cell_type": "code",
   "execution_count": 32,
   "metadata": {},
   "outputs": [
    {
     "name": "stdout",
     "output_type": "stream",
     "text": [
      "77.77333333333333\n"
     ]
    }
   ],
   "source": [
    "y = df.y # 정답 \n",
    "print(y.mean()) # 77.77333333333333"
   ]
  },
  {
   "cell_type": "code",
   "execution_count": 33,
   "metadata": {},
   "outputs": [
    {
     "name": "stdout",
     "output_type": "stream",
     "text": [
      "29     82.105166\n",
      "45     80.597302\n",
      "148    64.810583\n",
      "139    83.967068\n",
      "27     75.342705\n",
      "55     85.452004\n",
      "104    83.967068\n",
      "146    64.810583\n",
      "138    80.574373\n",
      "92     75.342705\n",
      "48     82.105166\n",
      "76     64.810583\n",
      "149    82.105166\n",
      "129    71.573044\n",
      "66     85.452004\n",
      "33     80.574373\n",
      "14     80.574373\n",
      "117    80.574373\n",
      "5      80.574373\n",
      "59     82.105166\n",
      "dtype: float64\n"
     ]
    },
    {
     "data": {
      "text/plain": [
       "0     90\n",
       "1     75\n",
       "2     77\n",
       "3     83\n",
       "4     65\n",
       "5     80\n",
       "6     83\n",
       "7     70\n",
       "8     87\n",
       "9     79\n",
       "10    75\n",
       "11    77\n",
       "12    83\n",
       "13    65\n",
       "14    80\n",
       "15    65\n",
       "16    80\n",
       "17    83\n",
       "18    70\n",
       "19    87\n",
       "Name: y, dtype: int64"
      ]
     },
     "execution_count": 33,
     "metadata": {},
     "output_type": "execute_result"
    }
   ],
   "source": [
    "print(y_pred[:20]) #75\n",
    "y[:20] # 75"
   ]
  },
  {
   "cell_type": "code",
   "execution_count": 34,
   "metadata": {},
   "outputs": [
    {
     "data": {
      "text/plain": [
       "77.23751550841709"
      ]
     },
     "execution_count": 34,
     "metadata": {},
     "output_type": "execute_result"
    }
   ],
   "source": [
    "# 예측치 평균 \n",
    "y.mean()\n",
    "y_pred.mean()"
   ]
  },
  {
   "cell_type": "code",
   "execution_count": 35,
   "metadata": {},
   "outputs": [
    {
     "name": "stdout",
     "output_type": "stream",
     "text": [
      "Help on function plot in module matplotlib.pyplot:\n",
      "\n",
      "plot(*args, scalex=True, scaley=True, data=None, **kwargs)\n",
      "    Plot y versus x as lines and/or markers.\n",
      "    \n",
      "    Call signatures::\n",
      "    \n",
      "        plot([x], y, [fmt], *, data=None, **kwargs)\n",
      "        plot([x], y, [fmt], [x2], y2, [fmt2], ..., **kwargs)\n",
      "    \n",
      "    The coordinates of the points or line nodes are given by *x*, *y*.\n",
      "    \n",
      "    The optional parameter *fmt* is a convenient way for defining basic\n",
      "    formatting like color, marker and linestyle. It's a shortcut string\n",
      "    notation described in the *Notes* section below.\n",
      "    \n",
      "    >>> plot(x, y)        # plot x and y using default line style and color\n",
      "    >>> plot(x, y, 'bo')  # plot x and y using blue circle markers\n",
      "    >>> plot(y)           # plot y using x as index array 0..N-1\n",
      "    >>> plot(y, 'r+')     # ditto, but with red plusses\n",
      "    \n",
      "    You can use `.Line2D` properties as keyword arguments for more\n",
      "    control on the appearance. Line properties and *fmt* can be mixed.\n",
      "    The following two calls yield identical results:\n",
      "    \n",
      "    >>> plot(x, y, 'go--', linewidth=2, markersize=12)\n",
      "    >>> plot(x, y, color='green', marker='o', linestyle='dashed',\n",
      "    ...      linewidth=2, markersize=12)\n",
      "    \n",
      "    When conflicting with *fmt*, keyword arguments take precedence.\n",
      "    \n",
      "    \n",
      "    **Plotting labelled data**\n",
      "    \n",
      "    There's a convenient way for plotting objects with labelled data (i.e.\n",
      "    data that can be accessed by index ``obj['y']``). Instead of giving\n",
      "    the data in *x* and *y*, you can provide the object in the *data*\n",
      "    parameter and just give the labels for *x* and *y*::\n",
      "    \n",
      "    >>> plot('xlabel', 'ylabel', data=obj)\n",
      "    \n",
      "    All indexable objects are supported. This could e.g. be a `dict`, a\n",
      "    `pandas.DataFrame` or a structured numpy array.\n",
      "    \n",
      "    \n",
      "    **Plotting multiple sets of data**\n",
      "    \n",
      "    There are various ways to plot multiple sets of data.\n",
      "    \n",
      "    - The most straight forward way is just to call `plot` multiple times.\n",
      "      Example:\n",
      "    \n",
      "      >>> plot(x1, y1, 'bo')\n",
      "      >>> plot(x2, y2, 'go')\n",
      "    \n",
      "    - Alternatively, if your data is already a 2d array, you can pass it\n",
      "      directly to *x*, *y*. A separate data set will be drawn for every\n",
      "      column.\n",
      "    \n",
      "      Example: an array ``a`` where the first column represents the *x*\n",
      "      values and the other columns are the *y* columns::\n",
      "    \n",
      "      >>> plot(a[0], a[1:])\n",
      "    \n",
      "    - The third way is to specify multiple sets of *[x]*, *y*, *[fmt]*\n",
      "      groups::\n",
      "    \n",
      "      >>> plot(x1, y1, 'g^', x2, y2, 'g-')\n",
      "    \n",
      "      In this case, any additional keyword argument applies to all\n",
      "      datasets. Also this syntax cannot be combined with the *data*\n",
      "      parameter.\n",
      "    \n",
      "    By default, each line is assigned a different style specified by a\n",
      "    'style cycle'. The *fmt* and line property parameters are only\n",
      "    necessary if you want explicit deviations from these defaults.\n",
      "    Alternatively, you can also change the style cycle using\n",
      "    :rc:`axes.prop_cycle`.\n",
      "    \n",
      "    \n",
      "    Parameters\n",
      "    ----------\n",
      "    x, y : array-like or scalar\n",
      "        The horizontal / vertical coordinates of the data points.\n",
      "        *x* values are optional and default to ``range(len(y))``.\n",
      "    \n",
      "        Commonly, these parameters are 1D arrays.\n",
      "    \n",
      "        They can also be scalars, or two-dimensional (in that case, the\n",
      "        columns represent separate data sets).\n",
      "    \n",
      "        These arguments cannot be passed as keywords.\n",
      "    \n",
      "    fmt : str, optional\n",
      "        A format string, e.g. 'ro' for red circles. See the *Notes*\n",
      "        section for a full description of the format strings.\n",
      "    \n",
      "        Format strings are just an abbreviation for quickly setting\n",
      "        basic line properties. All of these and more can also be\n",
      "        controlled by keyword arguments.\n",
      "    \n",
      "        This argument cannot be passed as keyword.\n",
      "    \n",
      "    data : indexable object, optional\n",
      "        An object with labelled data. If given, provide the label names to\n",
      "        plot in *x* and *y*.\n",
      "    \n",
      "        .. note::\n",
      "            Technically there's a slight ambiguity in calls where the\n",
      "            second label is a valid *fmt*. ``plot('n', 'o', data=obj)``\n",
      "            could be ``plt(x, y)`` or ``plt(y, fmt)``. In such cases,\n",
      "            the former interpretation is chosen, but a warning is issued.\n",
      "            You may suppress the warning by adding an empty format string\n",
      "            ``plot('n', 'o', '', data=obj)``.\n",
      "    \n",
      "    Returns\n",
      "    -------\n",
      "    list of `.Line2D`\n",
      "        A list of lines representing the plotted data.\n",
      "    \n",
      "    Other Parameters\n",
      "    ----------------\n",
      "    scalex, scaley : bool, default: True\n",
      "        These parameters determine if the view limits are adapted to the\n",
      "        data limits. The values are passed on to `autoscale_view`.\n",
      "    \n",
      "    **kwargs : `.Line2D` properties, optional\n",
      "        *kwargs* are used to specify properties like a line label (for\n",
      "        auto legends), linewidth, antialiasing, marker face color.\n",
      "        Example::\n",
      "    \n",
      "        >>> plot([1, 2, 3], [1, 2, 3], 'go-', label='line 1', linewidth=2)\n",
      "        >>> plot([1, 2, 3], [1, 4, 9], 'rs', label='line 2')\n",
      "    \n",
      "        If you make multiple lines with one plot call, the kwargs\n",
      "        apply to all those lines.\n",
      "    \n",
      "        Here is a list of available `.Line2D` properties:\n",
      "    \n",
      "        Properties:\n",
      "        agg_filter: a filter function, which takes a (m, n, 3) float array and a dpi value, and returns a (m, n, 3) array\n",
      "        alpha: float or None\n",
      "        animated: bool\n",
      "        antialiased or aa: bool\n",
      "        clip_box: `.Bbox`\n",
      "        clip_on: bool\n",
      "        clip_path: Patch or (Path, Transform) or None\n",
      "        color or c: color\n",
      "        contains: unknown\n",
      "        dash_capstyle: {'butt', 'round', 'projecting'}\n",
      "        dash_joinstyle: {'miter', 'round', 'bevel'}\n",
      "        dashes: sequence of floats (on/off ink in points) or (None, None)\n",
      "        data: (2, N) array or two 1D arrays\n",
      "        drawstyle or ds: {'default', 'steps', 'steps-pre', 'steps-mid', 'steps-post'}, default: 'default'\n",
      "        figure: `.Figure`\n",
      "        fillstyle: {'full', 'left', 'right', 'bottom', 'top', 'none'}\n",
      "        gid: str\n",
      "        in_layout: bool\n",
      "        label: object\n",
      "        linestyle or ls: {'-', '--', '-.', ':', '', (offset, on-off-seq), ...}\n",
      "        linewidth or lw: float\n",
      "        marker: marker style string, `~.path.Path` or `~.markers.MarkerStyle`\n",
      "        markeredgecolor or mec: color\n",
      "        markeredgewidth or mew: float\n",
      "        markerfacecolor or mfc: color\n",
      "        markerfacecoloralt or mfcalt: color\n",
      "        markersize or ms: float\n",
      "        markevery: None or int or (int, int) or slice or List[int] or float or (float, float) or List[bool]\n",
      "        path_effects: `.AbstractPathEffect`\n",
      "        picker: unknown\n",
      "        pickradius: float\n",
      "        rasterized: bool or None\n",
      "        sketch_params: (scale: float, length: float, randomness: float)\n",
      "        snap: bool or None\n",
      "        solid_capstyle: {'butt', 'round', 'projecting'}\n",
      "        solid_joinstyle: {'miter', 'round', 'bevel'}\n",
      "        transform: `matplotlib.transforms.Transform`\n",
      "        url: str\n",
      "        visible: bool\n",
      "        xdata: 1D array\n",
      "        ydata: 1D array\n",
      "        zorder: float\n",
      "    \n",
      "    See Also\n",
      "    --------\n",
      "    scatter : XY scatter plot with markers of varying size and/or color (\n",
      "        sometimes also called bubble chart).\n",
      "    \n",
      "    Notes\n",
      "    -----\n",
      "    **Format Strings**\n",
      "    \n",
      "    A format string consists of a part for color, marker and line::\n",
      "    \n",
      "        fmt = '[marker][line][color]'\n",
      "    \n",
      "    Each of them is optional. If not provided, the value from the style\n",
      "    cycle is used. Exception: If ``line`` is given, but no ``marker``,\n",
      "    the data will be a line without markers.\n",
      "    \n",
      "    Other combinations such as ``[color][marker][line]`` are also\n",
      "    supported, but note that their parsing may be ambiguous.\n",
      "    \n",
      "    **Markers**\n",
      "    \n",
      "    =============    ===============================\n",
      "    character        description\n",
      "    =============    ===============================\n",
      "    ``'.'``          point marker\n",
      "    ``','``          pixel marker\n",
      "    ``'o'``          circle marker\n",
      "    ``'v'``          triangle_down marker\n",
      "    ``'^'``          triangle_up marker\n",
      "    ``'<'``          triangle_left marker\n",
      "    ``'>'``          triangle_right marker\n",
      "    ``'1'``          tri_down marker\n",
      "    ``'2'``          tri_up marker\n",
      "    ``'3'``          tri_left marker\n",
      "    ``'4'``          tri_right marker\n",
      "    ``'s'``          square marker\n",
      "    ``'p'``          pentagon marker\n",
      "    ``'*'``          star marker\n",
      "    ``'h'``          hexagon1 marker\n",
      "    ``'H'``          hexagon2 marker\n",
      "    ``'+'``          plus marker\n",
      "    ``'x'``          x marker\n",
      "    ``'D'``          diamond marker\n",
      "    ``'d'``          thin_diamond marker\n",
      "    ``'|'``          vline marker\n",
      "    ``'_'``          hline marker\n",
      "    =============    ===============================\n",
      "    \n",
      "    **Line Styles**\n",
      "    \n",
      "    =============    ===============================\n",
      "    character        description\n",
      "    =============    ===============================\n",
      "    ``'-'``          solid line style\n",
      "    ``'--'``         dashed line style\n",
      "    ``'-.'``         dash-dot line style\n",
      "    ``':'``          dotted line style\n",
      "    =============    ===============================\n",
      "    \n",
      "    Example format strings::\n",
      "    \n",
      "        'b'    # blue markers with default shape\n",
      "        'or'   # red circles\n",
      "        '-g'   # green solid line\n",
      "        '--'   # dashed line with default color\n",
      "        '^k:'  # black triangle_up markers connected by a dotted line\n",
      "    \n",
      "    **Colors**\n",
      "    \n",
      "    The supported color abbreviations are the single letter codes\n",
      "    \n",
      "    =============    ===============================\n",
      "    character        color\n",
      "    =============    ===============================\n",
      "    ``'b'``          blue\n",
      "    ``'g'``          green\n",
      "    ``'r'``          red\n",
      "    ``'c'``          cyan\n",
      "    ``'m'``          magenta\n",
      "    ``'y'``          yellow\n",
      "    ``'k'``          black\n",
      "    ``'w'``          white\n",
      "    =============    ===============================\n",
      "    \n",
      "    and the ``'CN'`` colors that index into the default property cycle.\n",
      "    \n",
      "    If the color is the only part of the format string, you can\n",
      "    additionally use any  `matplotlib.colors` spec, e.g. full names\n",
      "    (``'green'``) or hex strings (``'#008000'``).\n",
      "\n"
     ]
    },
    {
     "data": {
      "image/png": "[encoded data removed]",
      "text/plain": [
       "<Figure size 432x288 with 1 Axes>"
      ]
     },
     "metadata": {
      "needs_background": "light"
     },
     "output_type": "display_data"
    }
   ],
   "source": [
    "# 그래프 평가 \n",
    "import matplotlib.pyplot as plt\n",
    "help(plt.plot)\n",
    "plt.plot(y_pred[:20], 'r-', label='pred')\n",
    "plt.plot(y[:20], 'b-', label='Y')\n",
    "plt.legend(loc='best')\n",
    "plt.show()"
   ]
  },
  {
   "cell_type": "code",
   "execution_count": null,
   "metadata": {},
   "outputs": [],
   "source": []
  }
 ],
 "metadata": {
  "kernelspec": {
   "display_name": "Python 3",
   "language": "python",
   "name": "python3"
  },
  "language_info": {
   "codemirror_mode": {
    "name": "ipython",
    "version": 3
   },
   "file_extension": ".py",
   "mimetype": "text/x-python",
   "name": "python",
   "nbconvert_exporter": "python",
   "pygments_lexer": "ipython3",
   "version": "3.8.5"
  }
 },
 "nbformat": 4,
 "nbformat_minor": 4
}
