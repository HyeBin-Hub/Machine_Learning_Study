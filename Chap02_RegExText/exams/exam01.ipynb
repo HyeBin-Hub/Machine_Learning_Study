{
 "cells": [
  {
   "cell_type": "code",
   "execution_count": 2,
   "metadata": {},
   "outputs": [
    {
     "name": "stdout",
     "output_type": "stream",
     "text": [
      "['hong', 'naver', 'kang', 'kimjs']\n"
     ]
    }
   ],
   "source": [
    "'''\n",
    "문1) 다음과 같은 여러 줄의 문자열을 대상으로 정규표현식을\n",
    "       적용하여 email 양식이 올바른 것만 출력되도록 하시오. \n",
    "       \n",
    "  <email 양식 조건> \n",
    "        아이디 : 첫자는 영문소문자, 단어길이 4자 이상\n",
    "        호스트이름 : 영문소문자 시작, 단어길이 3자 이상 \n",
    "        최상위 도메인 : 영문소문자 3자리 이하\n",
    "        \n",
    "  << 출력 결과 >>\n",
    "  you2@naver.com\n",
    "  kimjs@gmail.com\n",
    "'''\n",
    "\n",
    "email = \"\"\"hong@12.com\n",
    "you2@naver.com\n",
    "12kang@hanmail.net\n",
    "kimjs@gmail.com\n",
    "\"\"\"\n",
    "\n",
    "from re import findall, match\n",
    "\n",
    "# 정규표현식 기본 패턴 : '메타문자@메타문자.메타문자'\n",
    "\n",
    "# 줄단위 토큰 생성 :  구분자(줄바꿈)\n",
    "email_list = email.split(\"\\n\")\n",
    "a = []\n",
    "for line in email_list:\n",
    "    re = findall(\"[a-z]{4,}\",line)\n",
    "    if re :\n",
    "        a.append(re[0])\n",
    "print(a)"
   ]
  },
  {
   "cell_type": "code",
   "execution_count": 3,
   "metadata": {},
   "outputs": [
    {
     "name": "stdout",
     "output_type": "stream",
     "text": [
      "findall : you2@naver.com\n",
      "findall : kimjs@gmail.com\n"
     ]
    }
   ],
   "source": [
    "# 1. findall() 함수 \n",
    "for email in email_list :\n",
    "    email_re = findall('^[a-z]\\\\w{3,}@[a-z]\\\\w{2,}.[a-z]\\\\w{,2}', email)\n",
    "    \n",
    "    if email_re : # 패턴 일치 email\n",
    "        print('findall :', email_re[0]) # email string 출력"
   ]
  },
  {
   "cell_type": "code",
   "execution_count": 4,
   "metadata": {},
   "outputs": [
    {
     "name": "stdout",
     "output_type": "stream",
     "text": [
      "match : you2@naver.com\n",
      "match : kimjs@gmail.com\n"
     ]
    }
   ],
   "source": [
    "# 2. match() 함수 \n",
    "for email in email_list :        \n",
    "    email_re = match('^[a-z]\\\\w{3,}@[a-z]\\\\w{2,}.[a-z]\\\\w{,2}', email)\n",
    "    \n",
    "    if email_re : # 패턴 일치 email\n",
    "        print('match :', email) # email string 출력\n",
    "    "
   ]
  },
  {
   "cell_type": "code",
   "execution_count": null,
   "metadata": {},
   "outputs": [],
   "source": []
  }
 ],
 "metadata": {
  "kernelspec": {
   "display_name": "Python 3",
   "language": "python",
   "name": "python3"
  },
  "language_info": {
   "codemirror_mode": {
    "name": "ipython",
    "version": 3
   },
   "file_extension": ".py",
   "mimetype": "text/x-python",
   "name": "python",
   "nbconvert_exporter": "python",
   "pygments_lexer": "ipython3",
   "version": "3.8.5"
  }
 },
 "nbformat": 4,
 "nbformat_minor": 4
}
