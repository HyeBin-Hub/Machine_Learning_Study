{
 "cells": [
  {
   "cell_type": "code",
   "execution_count": 1,
   "metadata": {},
   "outputs": [
    {
     "name": "stdout",
     "output_type": "stream",
     "text": [
      "[1, 0, 1, 0, 0]\n"
     ]
    }
   ],
   "source": [
    "\"\"\"\n",
    "text 데이터 전처리 \n",
    "\"\"\"\n",
    "\n",
    "# label 분류 \n",
    "label = ['spam', 'ham', 'spam', 'ham', 'ham']\n",
    "# spam = 1, ham = 0\n",
    "target = [1 if x=='spam' else 0 for x in label]\n",
    "print(target) \n"
   ]
  },
  {
   "cell_type": "code",
   "execution_count": 3,
   "metadata": {},
   "outputs": [
    {
     "name": "stdout",
     "output_type": "stream",
     "text": [
      "3\n"
     ]
    }
   ],
   "source": [
    "# 텍스트 전처리 \n",
    "texts = ['AFAB54747,asabag?', 'abTTa $$;a12:2424.', 'uysfsfA,A124&***$?']\n",
    "print(len(texts)) # 3 -> 3문장 "
   ]
  },
  {
   "cell_type": "code",
   "execution_count": 4,
   "metadata": {},
   "outputs": [
    {
     "name": "stdout",
     "output_type": "stream",
     "text": [
      "['afab54747,asabag?', 'abtta $$;a12:2424.', 'uysfsfa,a124&***$?']\n"
     ]
    }
   ],
   "source": [
    "# 1. 소문자 변경 : list 내포([실행문 for문])\n",
    "texts_re = [st.lower() for st in texts]\n",
    "print(texts_re)"
   ]
  },
  {
   "cell_type": "code",
   "execution_count": 5,
   "metadata": {},
   "outputs": [
    {
     "name": "stdout",
     "output_type": "stream",
     "text": [
      "['afab,asabag?', 'abtta $$;a:.', 'uysfsfa,a&***$?']\n"
     ]
    }
   ],
   "source": [
    "# 2. 숫자 제거 : list 내포([실행문:join(for문) for문])\n",
    "from re import match, sub \n",
    "# 'afab54747,asabag?' -> 'a', 'f', '5' -> 'afab,asabag?'\n",
    "texts_re2 = [''.join(ch for ch in st if not match('[0-9]',ch)) for st in texts_re]\n",
    "print(texts_re2)"
   ]
  },
  {
   "cell_type": "code",
   "execution_count": 6,
   "metadata": {},
   "outputs": [
    {
     "name": "stdout",
     "output_type": "stream",
     "text": [
      "['afabasabag', 'abtta $$a', 'uysfsfaa&***$']\n"
     ]
    }
   ],
   "source": [
    "# 3. 문장부호 제거 : list 내포\n",
    "punc_str = '[,.?!:;]'\n",
    "texts_re3 = [sub(punc_str, '', st)  for st in texts_re2]\n",
    "print(texts_re3)"
   ]
  },
  {
   "cell_type": "code",
   "execution_count": 7,
   "metadata": {},
   "outputs": [
    {
     "name": "stdout",
     "output_type": "stream",
     "text": [
      "['afabasabag', 'abtta a', 'uysfsfaa']\n"
     ]
    }
   ],
   "source": [
    "# 4. 특수문자 제거 : list 내포 \n",
    "spec_str = '[@#$%^&*()]'\n",
    "texts_re4 = [sub(spec_str, '', st)  for st in texts_re3]\n",
    "print(texts_re4)"
   ]
  },
  {
   "cell_type": "code",
   "execution_count": 8,
   "metadata": {},
   "outputs": [
    {
     "name": "stdout",
     "output_type": "stream",
     "text": [
      "['afabasabag', 'abttaa', 'uysfsfaa']\n"
     ]
    }
   ],
   "source": [
    "# 5. 공백 제거 : 'abtta a' -> 'abtta', 'a' -> 'abttaa'\n",
    "texts_re5 = [''.join(st.split())  for st in texts_re4]\n",
    "print(texts_re5)"
   ]
  },
  {
   "cell_type": "code",
   "execution_count": null,
   "metadata": {},
   "outputs": [],
   "source": []
  }
 ],
 "metadata": {
  "kernelspec": {
   "display_name": "Python 3",
   "language": "python",
   "name": "python3"
  },
  "language_info": {
   "codemirror_mode": {
    "name": "ipython",
    "version": 3
   },
   "file_extension": ".py",
   "mimetype": "text/x-python",
   "name": "python",
   "nbconvert_exporter": "python",
   "pygments_lexer": "ipython3",
   "version": "3.8.5"
  }
 },
 "nbformat": 4,
 "nbformat_minor": 4
}
