{
 "cells": [
  {
   "cell_type": "code",
   "execution_count": 4,
   "metadata": {},
   "outputs": [],
   "source": [
    "'''\n",
    "정규 표현식\n",
    " \n",
    "[주요 메타문자]\n",
    ". : 임의의 한 문자 \n",
    ".x : 임의의 한 문자 뒤에 x가 오는 문자열(ex : abc, mbc -> .bc) \n",
    "^x : x로 시작하는 문자열(접두어 추출)\n",
    "x$ : x로 끝나는 문자열(접미어 추출)\n",
    "x. : x 다음에 임의의 한 문자가 오는 문자열(ex : t1, t2, ta -> t.) \n",
    "x* : x가 0번 이상 반복\n",
    "x+ : x가 1개 이상 반복\n",
    "x? : x가 0 또는 1개 존재\n",
    "x{m, n} : x가 m~n 사이 연속 \n",
    "x{m, } : x가 m 이상 연속\n",
    "x{,n} : x가 n 이하 연속\n",
    "[x] : x문자 한 개 일치   \n",
    "'''\n",
    "\n",
    "st1 = '1234 abc홍길동 ABC_555_6 이사도시'\n",
    "st2 = 'test1abcABC 123mbc 45test'\n",
    "st3 = 'test^홍길동 abc 대한*민국 123$tbc'\n",
    "\n",
    "# 정규표현식 관련 라이브러리 임포트 \n",
    "#import re # 정규 표현식 모듈 : 방법1 : re에 있는 모든 함수를 다 쓰겠다\n",
    "#re.findall()\n",
    "\n",
    "from re import findall, match, sub # 방법2 : re에 잇는 3가지를 쓰곘다"
   ]
  },
  {
   "cell_type": "code",
   "execution_count": 5,
   "metadata": {},
   "outputs": [
    {
     "name": "stdout",
     "output_type": "stream",
     "text": [
      "['1234']\n",
      "[]\n",
      "['1', '2', '3', '4', '5', '5', '5', '6']\n",
      "['123', '555']\n",
      "['1234']\n",
      "['1234', '555']\n",
      "['1234', '555']\n",
      "['1234', '555']\n"
     ]
    }
   ],
   "source": [
    "# 1. findall(pattern, string, flags=0)\n",
    "# 패턴과 일치된 문자열 list 반환\n",
    "\n",
    "# 1) 숫자 찾기 \n",
    "print(findall(\"1234\",st1))\n",
    "print(findall(\"0\",st1)) # 없는 패턴이 있으면 빈 리스트로 반환한다.\n",
    "print(findall(\"[0-9]\",st1))  # 숫자 한자리를 가리키는 패턴(st1에있는 0-9사이의 수를 하나씨 리스트로 출력)\n",
    "print(findall(\"[0-9]{3}\",st1))  # 연달아서 나오는 숫자를 앞에서부터 뽑아 리스트로 출력해준다 ['123', '555']\n",
    "print(findall(\"[0-9]{4}\",st1))  # ['1234']\n",
    "print(findall(\"[0-9]{3,4}\",st1)) # 3~4개 ['1234', '555']\n",
    "print(findall(\"[0-9]{3,}\",st1))   # 3개 이상 ['1234', '555']\n",
    "print(findall(\"\\\\d{3,}\",st1)) #\\\\d 연속해서 3개이상 나온 숫자문자열울 뽑아주겠다 ['1234', '555']"
   ]
  },
  {
   "cell_type": "code",
   "execution_count": 6,
   "metadata": {},
   "outputs": [
    {
     "name": "stdout",
     "output_type": "stream",
     "text": [
      "['홍길동', '이사도시']\n",
      "['abc']\n",
      "['ABC']\n",
      "['abc', 'ABC']\n"
     ]
    }
   ],
   "source": [
    "# 2) 문자열 찾기 \n",
    "print(findall('[가-힣]{3,}', st1)) # ['홍길동', '이사도시']\n",
    "print(findall('[a-z]{3,}', st1)) # ['abc']\n",
    "print(findall('[A-Z]{3,}', st1)) # ['ABC']\n",
    "print(findall('[a-z]{3}|[A-Z]{3}', st1)) # ['abc', 'ABC']\n"
   ]
  },
  {
   "cell_type": "code",
   "execution_count": 7,
   "metadata": {},
   "outputs": [
    {
     "name": "stdout",
     "output_type": "stream",
     "text": [
      "['1234', 'abc홍길동', 'ABC_555_6', '이사도시']\n",
      "<class 'list'>\n"
     ]
    }
   ],
   "source": [
    "# 한글 추출 \n",
    "st1_list = st1.split() # 공백을 기준으로 토큰(단어)을 만들어준다\n",
    "print(st1_list) \n",
    "print(type(st1_list)) \n"
   ]
  },
  {
   "cell_type": "code",
   "execution_count": 8,
   "metadata": {},
   "outputs": [
    {
     "name": "stdout",
     "output_type": "stream",
     "text": [
      "['홍길동', '이사도시']\n"
     ]
    }
   ],
   "source": [
    "names = [] # 한글 이름 저장\n",
    "\n",
    "for line in st1_list :\n",
    "     re = findall('[가-힣]{3,}', line) # list 로 반환\n",
    "     # ['홍길동']\n",
    "     if re : # 패턴 일치\n",
    "         names.append(re[0]) # ['홍길동', '이사도시']\n",
    "         #names.append(re) # [['홍길동'],['이사도시']]\n",
    "\n",
    "print(names) "
   ]
  },
  {
   "cell_type": "code",
   "execution_count": 9,
   "metadata": {},
   "outputs": [
    {
     "name": "stdout",
     "output_type": "stream",
     "text": [
      "['test']\n",
      "['test']\n"
     ]
    }
   ],
   "source": [
    "# 3) 접두어/접미어 문자열 찾기\n",
    "st2 = 'test1abcABC 123mbc 45test'\n",
    "\n",
    "print(findall('^test', st2)) # ['test']  ^는 첫번째를 출력(접두어)\n",
    "print(findall('test$', st2)) # ['test']  $는 마지막을 출력(접미어)\n"
   ]
  },
  {
   "cell_type": "code",
   "execution_count": 10,
   "metadata": {},
   "outputs": [
    {
     "name": "stdout",
     "output_type": "stream",
     "text": [
      "['abc', 'mbc']\n"
     ]
    }
   ],
   "source": [
    "# 종료문자 찾기\n",
    "print(findall('.bc', st2)) "
   ]
  },
  {
   "cell_type": "code",
   "execution_count": 9,
   "metadata": {},
   "outputs": [
    {
     "name": "stdout",
     "output_type": "stream",
     "text": [
      "['te', 't1', 'te']\n",
      "['test', 'test']\n"
     ]
    }
   ],
   "source": [
    "# 시작문자 찾기\n",
    "print(findall('t.', st2)) # t. 로 시작하는 단어 찾기 \n",
    "print(findall('t...', st2)) "
   ]
  },
  {
   "cell_type": "code",
   "execution_count": 11,
   "metadata": {},
   "outputs": [
    {
     "name": "stdout",
     "output_type": "stream",
     "text": [
      "['test', '홍길동', 'abc', '123', 'tbc']\n"
     ]
    }
   ],
   "source": [
    "# 4) 단어 찾기(\\\\w) : 영문,한글,숫자(특수문자,문장부호,공백 제외)\n",
    "st3 = 'test^홍길동 abc 대한*민국 123$tbc'\n",
    "\n",
    "words = findall('\\\\w{3,}', st3)# 영문, 한글, 숫자가 연속해서 세개 출력이됨\n",
    "print(words) # ['test', '홍길동', 'abc', '123', 'tbc'] 특수문자,공백,문장부호는 출력안됨"
   ]
  },
  {
   "cell_type": "code",
   "execution_count": 11,
   "metadata": {},
   "outputs": [
    {
     "name": "stdout",
     "output_type": "stream",
     "text": [
      "['test', '홍길동 abc 대한', '민국 123', 'tbc']\n",
      "['test', '홍길동 abc 대한', '민국 123', 'tbc']\n"
     ]
    }
   ],
   "source": [
    "# 5) 특정 문자 제외\n",
    "print(findall('[^^*$]+', st3))# ^는 제외를 뜻함\n",
    "# 특수문자 제외 \n",
    "print(findall('[^^*$]+', st3))"
   ]
  },
  {
   "cell_type": "code",
   "execution_count": 14,
   "metadata": {},
   "outputs": [
    {
     "name": "stdout",
     "output_type": "stream",
     "text": [
      "None\n"
     ]
    }
   ],
   "source": [
    "# 2. match(pattern, string, flags) : : object(객체)반환(yes) or NULL값으로 반환 없으면(no)\n",
    "# - 패턴 일치 여부 반환 \n",
    "\n",
    "jumin = '123456-5234567'\n",
    "print(match('[0-9]{6}-[1-4]\\\\d{6}',jumin))# [0-9] = \\\\d\n"
   ]
  },
  {
   "cell_type": "code",
   "execution_count": 16,
   "metadata": {},
   "outputs": [
    {
     "name": "stdout",
     "output_type": "stream",
     "text": [
      "잘못된 주민번호\n"
     ]
    }
   ],
   "source": [
    "if re : # object(YES) = True\n",
    "    print('정상 주민번호') # 정상 주민번호\n",
    "else : # NULL = False\n",
    "    print('잘못된 주민번호') # 잘못된 주민번호 "
   ]
  },
  {
   "cell_type": "code",
   "execution_count": 17,
   "metadata": {},
   "outputs": [
    {
     "name": "stdout",
     "output_type": "stream",
     "text": [
      "test홍길동 abc 대한민국 123tbc\n"
     ]
    }
   ],
   "source": [
    "# 3. sub(pattern, repl, string) \n",
    "st3 = 'test^홍길동 abc 대한*민국 123$tbc'\n",
    "\n",
    "# 특수문자 전처리 \n",
    "text_re = sub('[\\^*$]', '', st3) #[\\] \\는 메타문자가 아니라는 의미로 써준다\n",
    "print(text_re) # test홍길동 abc 대한민국 123tbc"
   ]
  },
  {
   "cell_type": "code",
   "execution_count": null,
   "metadata": {},
   "outputs": [],
   "source": []
  }
 ],
 "metadata": {
  "kernelspec": {
   "display_name": "Python 3",
   "language": "python",
   "name": "python3"
  },
  "language_info": {
   "codemirror_mode": {
    "name": "ipython",
    "version": 3
   },
   "file_extension": ".py",
   "mimetype": "text/x-python",
   "name": "python",
   "nbconvert_exporter": "python",
   "pygments_lexer": "ipython3",
   "version": "3.8.5"
  }
 },
 "nbformat": 4,
 "nbformat_minor": 4
}
