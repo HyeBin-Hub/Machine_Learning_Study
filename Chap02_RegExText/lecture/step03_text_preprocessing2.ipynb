{
 "cells": [
  {
   "cell_type": "code",
   "execution_count": 1,
   "metadata": {},
   "outputs": [
    {
     "name": "stdout",
     "output_type": "stream",
     "text": [
      "5\n"
     ]
    }
   ],
   "source": [
    "\"\"\"\n",
    "한글 텍스트 전처리 \n",
    "\"\"\"\n",
    "\n",
    "import string \n",
    "\n",
    "# 텍스트 전처리2\n",
    "texts = [' 우리나라    대한민국, 우리나라%$ 만세', '비아그&라 500GRAM 정력 최고!', '나는 대한민국 사람', '보험료 15000원에 평생 보장 마감 임박', '나는 홍길동']\n",
    "print(len(texts)) "
   ]
  },
  {
   "cell_type": "code",
   "execution_count": 2,
   "metadata": {},
   "outputs": [
    {
     "name": "stdout",
     "output_type": "stream",
     "text": [
      "[' 우리나라    대한민국, 우리나라%$ 만세', '비아그&라 500gram 정력 최고!', '나는 대한민국 사람', '보험료 15000원에 평생 보장 마감 임박', '나는 홍길동']\n"
     ]
    }
   ],
   "source": [
    "# 1. 소문자 변경 : list 내포([실행문 for문])\n",
    "texts_re = [st.lower() for st in texts]\n",
    "print(texts_re)"
   ]
  },
  {
   "cell_type": "code",
   "execution_count": 3,
   "metadata": {},
   "outputs": [
    {
     "name": "stdout",
     "output_type": "stream",
     "text": [
      "[' 우리나라    대한민국, 우리나라%$ 만세', '비아그&라 gram 정력 최고!', '나는 대한민국 사람', '보험료 원에 평생 보장 마감 임박', '나는 홍길동']\n"
     ]
    }
   ],
   "source": [
    "# 2. 숫자 제거 \n",
    "texts_re2 = [''.join(ch for ch in st if ch not in string.digits) for st in texts_re]\n",
    "print(texts_re2)"
   ]
  },
  {
   "cell_type": "code",
   "execution_count": 4,
   "metadata": {},
   "outputs": [
    {
     "name": "stdout",
     "output_type": "stream",
     "text": [
      "[' 우리나라    대한민국 우리나라 만세', '비아그라 gram 정력 최고', '나는 대한민국 사람', '보험료 원에 평생 보장 마감 임박', '나는 홍길동']\n"
     ]
    }
   ],
   "source": [
    "# 3. 문장부호 제거 \n",
    "texts_re3 = [''.join(ch for ch in st if ch not in string.punctuation) for st in texts_re2]\n",
    "print(texts_re3)"
   ]
  },
  {
   "cell_type": "code",
   "execution_count": 5,
   "metadata": {},
   "outputs": [
    {
     "name": "stdout",
     "output_type": "stream",
     "text": [
      "['우리나라 대한민국 우리나라 만세', '비아그라 gram 정력 최고', '나는 대한민국 사람', '보험료 원에 평생 보장 마감 임박', '나는 홍길동']\n"
     ]
    }
   ],
   "source": [
    "# 4. 공백 제거 : ' 우리나라    대한민국 우리나라 만세' -> '우리나라', '대한민국 우리나라', '만세'\n",
    "texts_re4 = [' '.join(st.split())  for st in texts_re3]\n",
    "print(texts_re4)"
   ]
  },
  {
   "cell_type": "code",
   "execution_count": 6,
   "metadata": {},
   "outputs": [
    {
     "name": "stdout",
     "output_type": "stream",
     "text": [
      "['우리나라 대한민국 우리나라 만세', '비아그라  정력 최고', '나는 대한민국 사람', '보험료 원에 평생 보장 마감 임박', '나는 홍길동']\n"
     ]
    }
   ],
   "source": [
    "# 5. 영문자 제거 : match() 함수 \n",
    "# string 모듈 이용 \n",
    "texts_re5 = [''.join(ch for ch in st if ch not in string.ascii_letters) for st in texts_re4]\n",
    "print(texts_re5)"
   ]
  },
  {
   "cell_type": "code",
   "execution_count": 8,
   "metadata": {},
   "outputs": [
    {
     "data": {
      "text/plain": [
       "['우리나라 대한민국 우리나라 만세',\n",
       " '비아그라  정력 최고',\n",
       " '나는 대한민국 사람',\n",
       " '보험료 원에 평생 보장 마감 임박',\n",
       " '나는 홍길동']"
      ]
     },
     "execution_count": 8,
     "metadata": {},
     "output_type": "execute_result"
    }
   ],
   "source": [
    "# re 모듈 이동 \n",
    "from re import match\n",
    "texts_re5 = [''.join(ch for ch in st if not match('[a-z]', ch)) for st in texts_re4]\n",
    "texts_re5"
   ]
  },
  {
   "cell_type": "code",
   "execution_count": null,
   "metadata": {},
   "outputs": [],
   "source": []
  }
 ],
 "metadata": {
  "kernelspec": {
   "display_name": "Python 3",
   "language": "python",
   "name": "python3"
  },
  "language_info": {
   "codemirror_mode": {
    "name": "ipython",
    "version": 3
   },
   "file_extension": ".py",
   "mimetype": "text/x-python",
   "name": "python",
   "nbconvert_exporter": "python",
   "pygments_lexer": "ipython3",
   "version": "3.8.5"
  }
 },
 "nbformat": 4,
 "nbformat_minor": 4
}
