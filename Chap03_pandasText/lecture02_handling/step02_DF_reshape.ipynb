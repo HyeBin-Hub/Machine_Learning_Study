{
 "cells": [
  {
   "cell_type": "code",
   "execution_count": 2,
   "metadata": {},
   "outputs": [
    {
     "name": "stdout",
     "output_type": "stream",
     "text": [
      "<class 'pandas.core.frame.DataFrame'>\n",
      "RangeIndex: 22 entries, 0 to 21\n",
      "Data columns (total 3 columns):\n",
      " #   Column       Non-Null Count  Dtype\n",
      "---  ------       --------------  -----\n",
      " 0   Date         22 non-null     int64\n",
      " 1   Customer_ID  22 non-null     int64\n",
      " 2   Buy          22 non-null     int64\n",
      "dtypes: int64(3)\n",
      "memory usage: 656.0 bytes\n",
      "None\n"
     ]
    }
   ],
   "source": [
    "'''\n",
    "Data Frame의 모양 변경\n",
    "'''\n",
    "import pandas as pd\n",
    "\n",
    "buy = pd.read_csv('./data/buy_data.csv')\n",
    "print(buy.info())"
   ]
  },
  {
   "cell_type": "code",
   "execution_count": 3,
   "metadata": {},
   "outputs": [
    {
     "data": {
      "text/html": [
       "<div>\n",
       "<style scoped>\n",
       "    .dataframe tbody tr th:only-of-type {\n",
       "        vertical-align: middle;\n",
       "    }\n",
       "\n",
       "    .dataframe tbody tr th {\n",
       "        vertical-align: top;\n",
       "    }\n",
       "\n",
       "    .dataframe thead th {\n",
       "        text-align: right;\n",
       "    }\n",
       "</style>\n",
       "<table border=\"1\" class=\"dataframe\">\n",
       "  <thead>\n",
       "    <tr style=\"text-align: right;\">\n",
       "      <th></th>\n",
       "      <th>Date</th>\n",
       "      <th>Customer_ID</th>\n",
       "      <th>Buy</th>\n",
       "    </tr>\n",
       "  </thead>\n",
       "  <tbody>\n",
       "    <tr>\n",
       "      <th>0</th>\n",
       "      <td>20150101</td>\n",
       "      <td>1</td>\n",
       "      <td>3</td>\n",
       "    </tr>\n",
       "    <tr>\n",
       "      <th>1</th>\n",
       "      <td>20150101</td>\n",
       "      <td>2</td>\n",
       "      <td>4</td>\n",
       "    </tr>\n",
       "    <tr>\n",
       "      <th>2</th>\n",
       "      <td>20150102</td>\n",
       "      <td>1</td>\n",
       "      <td>2</td>\n",
       "    </tr>\n",
       "    <tr>\n",
       "      <th>3</th>\n",
       "      <td>20150101</td>\n",
       "      <td>2</td>\n",
       "      <td>3</td>\n",
       "    </tr>\n",
       "    <tr>\n",
       "      <th>4</th>\n",
       "      <td>20150101</td>\n",
       "      <td>1</td>\n",
       "      <td>2</td>\n",
       "    </tr>\n",
       "  </tbody>\n",
       "</table>\n",
       "</div>"
      ],
      "text/plain": [
       "       Date  Customer_ID  Buy\n",
       "0  20150101            1    3\n",
       "1  20150101            2    4\n",
       "2  20150102            1    2\n",
       "3  20150101            2    3\n",
       "4  20150101            1    2"
      ]
     },
     "execution_count": 3,
     "metadata": {},
     "output_type": "execute_result"
    }
   ],
   "source": [
    "buy.head()"
   ]
  },
  {
   "cell_type": "code",
   "execution_count": 4,
   "metadata": {},
   "outputs": [
    {
     "name": "stdout",
     "output_type": "stream",
     "text": [
      "shape\n",
      "(22, 3)\n"
     ]
    }
   ],
   "source": [
    "print('shape')\n",
    "print(buy.shape) # (22, 3)"
   ]
  },
  {
   "cell_type": "code",
   "execution_count": 9,
   "metadata": {},
   "outputs": [
    {
     "name": "stdout",
     "output_type": "stream",
     "text": [
      "0   Date           20150101\n",
      "    Customer_ID           1\n",
      "    Buy                   3\n",
      "1   Date           20150101\n",
      "    Customer_ID           2\n",
      "                     ...   \n",
      "20  Customer_ID           1\n",
      "    Buy                   9\n",
      "21  Date           20150107\n",
      "    Customer_ID           5\n",
      "    Buy                   7\n",
      "Length: 66, dtype: int64\n",
      "(66,)\n"
     ]
    }
   ],
   "source": [
    "# 1. wide -> long\n",
    "buy_long = buy.stack() \n",
    "print(buy_long)\n",
    "print(buy_long.shape) # (66,)"
   ]
  },
  {
   "cell_type": "code",
   "execution_count": 10,
   "metadata": {},
   "outputs": [
    {
     "name": "stdout",
     "output_type": "stream",
     "text": [
      "        Date  Customer_ID  Buy\n",
      "0   20150101            1    3\n",
      "1   20150101            2    4\n",
      "2   20150102            1    2\n",
      "3   20150101            2    3\n",
      "4   20150101            1    2\n",
      "5   20150103            2    3\n",
      "6   20150102            4    6\n",
      "7   20150102            5    1\n",
      "8   20150103            1    5\n",
      "9   20150103            2    1\n",
      "10  20150103            1    5\n",
      "11  20150107            3    4\n",
      "12  20150107            5    3\n",
      "13  20150103            5    5\n",
      "14  20150104            1    5\n",
      "15  20150104            2    8\n",
      "16  20150104            1    5\n",
      "17  20150105            5    6\n",
      "18  20150106            2    6\n",
      "19  20150106            3    6\n",
      "20  20150107            1    9\n",
      "21  20150107            5    7\n",
      "(22, 3)\n"
     ]
    }
   ],
   "source": [
    "# 2. long -> wide\n",
    "buy_wide = buy_long.unstack() \n",
    "print(buy_wide)\n",
    "print(buy_wide.shape) # (22, 3)"
   ]
  },
  {
   "cell_type": "code",
   "execution_count": 11,
   "metadata": {},
   "outputs": [
    {
     "name": "stdout",
     "output_type": "stream",
     "text": [
      "                   0         1         2         3         4         5   \\\n",
      "Date         20150101  20150101  20150102  20150101  20150101  20150103   \n",
      "Customer_ID         1         2         1         2         1         2   \n",
      "Buy                 3         4         2         3         2         3   \n",
      "\n",
      "                   6         7         8         9   ...        12        13  \\\n",
      "Date         20150102  20150102  20150103  20150103  ...  20150107  20150103   \n",
      "Customer_ID         4         5         1         2  ...         5         5   \n",
      "Buy                 6         1         5         1  ...         3         5   \n",
      "\n",
      "                   14        15        16        17        18        19  \\\n",
      "Date         20150104  20150104  20150104  20150105  20150106  20150106   \n",
      "Customer_ID         1         2         1         5         2         3   \n",
      "Buy                 5         8         5         6         6         6   \n",
      "\n",
      "                   20        21  \n",
      "Date         20150107  20150107  \n",
      "Customer_ID         1         5  \n",
      "Buy                 9         7  \n",
      "\n",
      "[3 rows x 22 columns]\n",
      "(3, 22)\n"
     ]
    }
   ],
   "source": [
    "# 3. 전치행렬\n",
    "buy_tran = buy.T\n",
    "print(buy_tran)\n",
    "print(buy_tran.shape) # (3, 2)\n"
   ]
  },
  {
   "cell_type": "code",
   "execution_count": 12,
   "metadata": {},
   "outputs": [
    {
     "name": "stdout",
     "output_type": "stream",
     "text": [
      "        Date  Customer_ID  Buy\n",
      "0   20150101            1    3\n",
      "1   20150101            2    4\n",
      "2   20150102            1    2\n",
      "3   20150101            2    3\n",
      "4   20150101            1    2\n",
      "5   20150103            2    3\n",
      "6   20150102            4    6\n",
      "7   20150102            5    1\n",
      "8   20150103            1    5\n",
      "9   20150103            2    1\n",
      "11  20150107            3    4\n",
      "12  20150107            5    3\n",
      "13  20150103            5    5\n",
      "14  20150104            1    5\n",
      "15  20150104            2    8\n",
      "17  20150105            5    6\n",
      "18  20150106            2    6\n",
      "19  20150106            3    6\n",
      "20  20150107            1    9\n",
      "21  20150107            5    7\n",
      "(20, 3)\n"
     ]
    }
   ],
   "source": [
    "# 4. 중복데이터 제거 \n",
    "buy2 = buy.drop_duplicates()\n",
    "print(buy2)\n",
    "print(buy2.shape) # (20, 3)\n"
   ]
  },
  {
   "cell_type": "code",
   "execution_count": 13,
   "metadata": {},
   "outputs": [
    {
     "name": "stdout",
     "output_type": "stream",
     "text": [
      "          Customer_ID  Buy\n",
      "Date                      \n",
      "20150101            1    3\n",
      "20150101            2    4\n",
      "20150102            1    2\n",
      "20150101            2    3\n",
      "20150101            1    2\n",
      "20150103            2    3\n",
      "20150102            4    6\n",
      "20150102            5    1\n",
      "20150103            1    5\n",
      "20150103            2    1\n",
      "20150103            1    5\n",
      "20150107            3    4\n",
      "20150107            5    3\n",
      "20150103            5    5\n",
      "20150104            1    5\n",
      "20150104            2    8\n",
      "20150104            1    5\n",
      "20150105            5    6\n",
      "20150106            2    6\n",
      "20150106            3    6\n",
      "20150107            1    9\n",
      "20150107            5    7\n"
     ]
    }
   ],
   "source": [
    "# 5. 특정 칼럼으로 index 지정 \n",
    "# 시계열 데이터 생성 : 'Date'칼럼 index 지정 \n",
    "new_buy = buy.set_index('Date')\n",
    "print(new_buy)\n"
   ]
  }
 ],
 "metadata": {
  "kernelspec": {
   "display_name": "Python 3",
   "language": "python",
   "name": "python3"
  },
  "language_info": {
   "codemirror_mode": {
    "name": "ipython",
    "version": 3
   },
   "file_extension": ".py",
   "mimetype": "text/x-python",
   "name": "python",
   "nbconvert_exporter": "python",
   "pygments_lexer": "ipython3",
   "version": "3.8.5"
  }
 },
 "nbformat": 4,
 "nbformat_minor": 4
}
