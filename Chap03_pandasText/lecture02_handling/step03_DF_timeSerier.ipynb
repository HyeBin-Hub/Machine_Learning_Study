{
 "cells": [
  {
   "cell_type": "code",
   "execution_count": 21,
   "metadata": {},
   "outputs": [
    {
     "name": "stdout",
     "output_type": "stream",
     "text": [
      "<class 'pandas.core.frame.DataFrame'>\n",
      "RangeIndex: 247 entries, 0 to 246\n",
      "Data columns (total 6 columns):\n",
      " #   Column  Non-Null Count  Dtype \n",
      "---  ------  --------------  ----- \n",
      " 0   Date    247 non-null    object\n",
      " 1   Open    247 non-null    int64 \n",
      " 2   High    247 non-null    int64 \n",
      " 3   Low     247 non-null    int64 \n",
      " 4   Close   247 non-null    int64 \n",
      " 5   Volume  247 non-null    int64 \n",
      "dtypes: int64(5), object(1)\n",
      "memory usage: 11.7+ KB\n",
      "None\n"
     ]
    }
   ],
   "source": [
    "\"\"\"\n",
    "시계열 데이터 시각화 \n",
    " 1. 날짜형식 수정(다국어 -> 한국어)\n",
    " 2. 시계열 시각화 \n",
    " 3. 이동평균 기능 \n",
    "\"\"\"\n",
    "import pandas as pd\n",
    "from datetime import datetime # 날짜형식 수정 \n",
    "\n",
    "cospi = pd.read_csv(\"./data/cospi.csv\")\n",
    "print(cospi.info())"
   ]
  },
  {
   "cell_type": "code",
   "execution_count": 22,
   "metadata": {},
   "outputs": [
    {
     "data": {
      "text/html": [
       "<div>\n",
       "<style scoped>\n",
       "    .dataframe tbody tr th:only-of-type {\n",
       "        vertical-align: middle;\n",
       "    }\n",
       "\n",
       "    .dataframe tbody tr th {\n",
       "        vertical-align: top;\n",
       "    }\n",
       "\n",
       "    .dataframe thead th {\n",
       "        text-align: right;\n",
       "    }\n",
       "</style>\n",
       "<table border=\"1\" class=\"dataframe\">\n",
       "  <thead>\n",
       "    <tr style=\"text-align: right;\">\n",
       "      <th></th>\n",
       "      <th>Date</th>\n",
       "      <th>Open</th>\n",
       "      <th>High</th>\n",
       "      <th>Low</th>\n",
       "      <th>Close</th>\n",
       "      <th>Volume</th>\n",
       "    </tr>\n",
       "  </thead>\n",
       "  <tbody>\n",
       "    <tr>\n",
       "      <th>0</th>\n",
       "      <td>26-Feb-16</td>\n",
       "      <td>1180000</td>\n",
       "      <td>1187000</td>\n",
       "      <td>1172000</td>\n",
       "      <td>1172000</td>\n",
       "      <td>176906</td>\n",
       "    </tr>\n",
       "    <tr>\n",
       "      <th>1</th>\n",
       "      <td>25-Feb-16</td>\n",
       "      <td>1172000</td>\n",
       "      <td>1187000</td>\n",
       "      <td>1172000</td>\n",
       "      <td>1179000</td>\n",
       "      <td>128321</td>\n",
       "    </tr>\n",
       "    <tr>\n",
       "      <th>2</th>\n",
       "      <td>24-Feb-16</td>\n",
       "      <td>1178000</td>\n",
       "      <td>1179000</td>\n",
       "      <td>1161000</td>\n",
       "      <td>1172000</td>\n",
       "      <td>140407</td>\n",
       "    </tr>\n",
       "    <tr>\n",
       "      <th>3</th>\n",
       "      <td>23-Feb-16</td>\n",
       "      <td>1179000</td>\n",
       "      <td>1189000</td>\n",
       "      <td>1173000</td>\n",
       "      <td>1181000</td>\n",
       "      <td>147578</td>\n",
       "    </tr>\n",
       "    <tr>\n",
       "      <th>4</th>\n",
       "      <td>22-Feb-16</td>\n",
       "      <td>1190000</td>\n",
       "      <td>1192000</td>\n",
       "      <td>1166000</td>\n",
       "      <td>1175000</td>\n",
       "      <td>174075</td>\n",
       "    </tr>\n",
       "  </tbody>\n",
       "</table>\n",
       "</div>"
      ],
      "text/plain": [
       "        Date     Open     High      Low    Close  Volume\n",
       "0  26-Feb-16  1180000  1187000  1172000  1172000  176906\n",
       "1  25-Feb-16  1172000  1187000  1172000  1179000  128321\n",
       "2  24-Feb-16  1178000  1179000  1161000  1172000  140407\n",
       "3  23-Feb-16  1179000  1189000  1173000  1181000  147578\n",
       "4  22-Feb-16  1190000  1192000  1166000  1175000  174075"
      ]
     },
     "execution_count": 22,
     "metadata": {},
     "output_type": "execute_result"
    }
   ],
   "source": [
    "cospi.head()"
   ]
  },
  {
   "cell_type": "code",
   "execution_count": 23,
   "metadata": {},
   "outputs": [
    {
     "data": {
      "text/plain": [
       "0      26-Feb-16\n",
       "1      25-Feb-16\n",
       "2      24-Feb-16\n",
       "3      23-Feb-16\n",
       "4      22-Feb-16\n",
       "         ...    \n",
       "242    06-Mar-15\n",
       "243    05-Mar-15\n",
       "244    04-Mar-15\n",
       "245    03-Mar-15\n",
       "246    02-Mar-15\n",
       "Name: Date, Length: 247, dtype: object"
      ]
     },
     "execution_count": 23,
     "metadata": {},
     "output_type": "execute_result"
    }
   ],
   "source": [
    "# 1. 날짜형식 수정(다국어 -> 한국식)\n",
    "Date = cospi['Date'] # cospi.Date\n",
    "Date"
   ]
  },
  {
   "cell_type": "code",
   "execution_count": 24,
   "metadata": {},
   "outputs": [
    {
     "name": "stdout",
     "output_type": "stream",
     "text": [
      "[datetime.datetime(2016, 2, 26, 0, 0), datetime.datetime(2016, 2, 25, 0, 0), datetime.datetime(2016, 2, 24, 0, 0), datetime.datetime(2016, 2, 23, 0, 0), datetime.datetime(2016, 2, 22, 0, 0), datetime.datetime(2016, 2, 19, 0, 0), datetime.datetime(2016, 2, 18, 0, 0), datetime.datetime(2016, 2, 17, 0, 0), datetime.datetime(2016, 2, 16, 0, 0), datetime.datetime(2016, 2, 15, 0, 0)]\n",
      "\n",
      "        Date     Open     High      Low    Close  Volume\n",
      "0 2016-02-26  1180000  1187000  1172000  1172000  176906\n",
      "1 2016-02-25  1172000  1187000  1172000  1179000  128321\n",
      "2 2016-02-24  1178000  1179000  1161000  1172000  140407\n",
      "3 2016-02-23  1179000  1189000  1173000  1181000  147578\n",
      "4 2016-02-22  1190000  1192000  1166000  1175000  174075\n"
     ]
    }
   ],
   "source": [
    "kDate = [] # 빈list\n",
    "\n",
    "for d in Date :\n",
    "    kDate.append(datetime.strptime(d, \"%d-%b-%y\"))\n",
    "    \n",
    "print(kDate[:10])\n",
    "print()\n",
    "cospi['Date'] = kDate # (다국어 -> 한국식)\n",
    "print(cospi.head())"
   ]
  },
  {
   "cell_type": "code",
   "execution_count": 25,
   "metadata": {},
   "outputs": [
    {
     "data": {
      "image/png": "[encoded data removed]",
      "text/plain": [
       "<Figure size 432x288 with 1 Axes>"
      ]
     },
     "metadata": {
      "needs_background": "light"
     },
     "output_type": "display_data"
    }
   ],
   "source": [
    "# 2. 시계열 시각화\n",
    "import matplotlib.pyplot as plt\n",
    "\n",
    "# 1개 칼럼 추세그래프 \n",
    "cospi['High'].plot(title = \"Trend line of High column\")\n",
    "plt.show()"
   ]
  },
  {
   "cell_type": "code",
   "execution_count": 26,
   "metadata": {},
   "outputs": [
    {
     "data": {
      "image/png": "[encoded data removed]",
      "text/plain": [
       "<Figure size 432x288 with 1 Axes>"
      ]
     },
     "metadata": {
      "needs_background": "light"
     },
     "output_type": "display_data"
    }
   ],
   "source": [
    "# 2개 칼럼 추세그래프 \n",
    "cospi[['High', 'Low']].plot(title = \"Trend line of High vs Low\")\n",
    "plt.show()"
   ]
  },
  {
   "cell_type": "code",
   "execution_count": 27,
   "metadata": {},
   "outputs": [
    {
     "name": "stdout",
     "output_type": "stream",
     "text": [
      "RangeIndex(start=0, stop=247, step=1)\n"
     ]
    }
   ],
   "source": [
    "# 2. index 수정 \n",
    "print(cospi.index)"
   ]
  },
  {
   "cell_type": "code",
   "execution_count": 28,
   "metadata": {},
   "outputs": [
    {
     "data": {
      "text/html": [
       "<div>\n",
       "<style scoped>\n",
       "    .dataframe tbody tr th:only-of-type {\n",
       "        vertical-align: middle;\n",
       "    }\n",
       "\n",
       "    .dataframe tbody tr th {\n",
       "        vertical-align: top;\n",
       "    }\n",
       "\n",
       "    .dataframe thead th {\n",
       "        text-align: right;\n",
       "    }\n",
       "</style>\n",
       "<table border=\"1\" class=\"dataframe\">\n",
       "  <thead>\n",
       "    <tr style=\"text-align: right;\">\n",
       "      <th></th>\n",
       "      <th>Open</th>\n",
       "      <th>High</th>\n",
       "      <th>Low</th>\n",
       "      <th>Close</th>\n",
       "      <th>Volume</th>\n",
       "    </tr>\n",
       "    <tr>\n",
       "      <th>Date</th>\n",
       "      <th></th>\n",
       "      <th></th>\n",
       "      <th></th>\n",
       "      <th></th>\n",
       "      <th></th>\n",
       "    </tr>\n",
       "  </thead>\n",
       "  <tbody>\n",
       "    <tr>\n",
       "      <th>2016-02-26</th>\n",
       "      <td>1180000</td>\n",
       "      <td>1187000</td>\n",
       "      <td>1172000</td>\n",
       "      <td>1172000</td>\n",
       "      <td>176906</td>\n",
       "    </tr>\n",
       "    <tr>\n",
       "      <th>2016-02-25</th>\n",
       "      <td>1172000</td>\n",
       "      <td>1187000</td>\n",
       "      <td>1172000</td>\n",
       "      <td>1179000</td>\n",
       "      <td>128321</td>\n",
       "    </tr>\n",
       "    <tr>\n",
       "      <th>2016-02-24</th>\n",
       "      <td>1178000</td>\n",
       "      <td>1179000</td>\n",
       "      <td>1161000</td>\n",
       "      <td>1172000</td>\n",
       "      <td>140407</td>\n",
       "    </tr>\n",
       "    <tr>\n",
       "      <th>2016-02-23</th>\n",
       "      <td>1179000</td>\n",
       "      <td>1189000</td>\n",
       "      <td>1173000</td>\n",
       "      <td>1181000</td>\n",
       "      <td>147578</td>\n",
       "    </tr>\n",
       "    <tr>\n",
       "      <th>2016-02-22</th>\n",
       "      <td>1190000</td>\n",
       "      <td>1192000</td>\n",
       "      <td>1166000</td>\n",
       "      <td>1175000</td>\n",
       "      <td>174075</td>\n",
       "    </tr>\n",
       "  </tbody>\n",
       "</table>\n",
       "</div>"
      ],
      "text/plain": [
       "               Open     High      Low    Close  Volume\n",
       "Date                                                  \n",
       "2016-02-26  1180000  1187000  1172000  1172000  176906\n",
       "2016-02-25  1172000  1187000  1172000  1179000  128321\n",
       "2016-02-24  1178000  1179000  1161000  1172000  140407\n",
       "2016-02-23  1179000  1189000  1173000  1181000  147578\n",
       "2016-02-22  1190000  1192000  1166000  1175000  174075"
      ]
     },
     "execution_count": 28,
     "metadata": {},
     "output_type": "execute_result"
    }
   ],
   "source": [
    "# index 수정 -> Date 칼럼 \n",
    "new_cospi = cospi.set_index('Date')\n",
    "new_cospi.head()"
   ]
  },
  {
   "cell_type": "code",
   "execution_count": 41,
   "metadata": {},
   "outputs": [
    {
     "data": {
      "text/html": [
       "<div>\n",
       "<style scoped>\n",
       "    .dataframe tbody tr th:only-of-type {\n",
       "        vertical-align: middle;\n",
       "    }\n",
       "\n",
       "    .dataframe tbody tr th {\n",
       "        vertical-align: top;\n",
       "    }\n",
       "\n",
       "    .dataframe thead th {\n",
       "        text-align: right;\n",
       "    }\n",
       "</style>\n",
       "<table border=\"1\" class=\"dataframe\">\n",
       "  <thead>\n",
       "    <tr style=\"text-align: right;\">\n",
       "      <th></th>\n",
       "      <th>Open</th>\n",
       "      <th>High</th>\n",
       "      <th>Low</th>\n",
       "      <th>Close</th>\n",
       "      <th>Volume</th>\n",
       "    </tr>\n",
       "    <tr>\n",
       "      <th>Date</th>\n",
       "      <th></th>\n",
       "      <th></th>\n",
       "      <th></th>\n",
       "      <th></th>\n",
       "      <th></th>\n",
       "    </tr>\n",
       "  </thead>\n",
       "  <tbody>\n",
       "    <tr>\n",
       "      <th>2016-02-26</th>\n",
       "      <td>1180000</td>\n",
       "      <td>1187000</td>\n",
       "      <td>1172000</td>\n",
       "      <td>1172000</td>\n",
       "      <td>176906</td>\n",
       "    </tr>\n",
       "    <tr>\n",
       "      <th>2016-02-25</th>\n",
       "      <td>1172000</td>\n",
       "      <td>1187000</td>\n",
       "      <td>1172000</td>\n",
       "      <td>1179000</td>\n",
       "      <td>128321</td>\n",
       "    </tr>\n",
       "    <tr>\n",
       "      <th>2016-02-24</th>\n",
       "      <td>1178000</td>\n",
       "      <td>1179000</td>\n",
       "      <td>1161000</td>\n",
       "      <td>1172000</td>\n",
       "      <td>140407</td>\n",
       "    </tr>\n",
       "    <tr>\n",
       "      <th>2016-02-23</th>\n",
       "      <td>1179000</td>\n",
       "      <td>1189000</td>\n",
       "      <td>1173000</td>\n",
       "      <td>1181000</td>\n",
       "      <td>147578</td>\n",
       "    </tr>\n",
       "    <tr>\n",
       "      <th>2016-02-22</th>\n",
       "      <td>1190000</td>\n",
       "      <td>1192000</td>\n",
       "      <td>1166000</td>\n",
       "      <td>1175000</td>\n",
       "      <td>174075</td>\n",
       "    </tr>\n",
       "  </tbody>\n",
       "</table>\n",
       "</div>"
      ],
      "text/plain": [
       "               Open     High      Low    Close  Volume\n",
       "Date                                                  \n",
       "2016-02-26  1180000  1187000  1172000  1172000  176906\n",
       "2016-02-25  1172000  1187000  1172000  1179000  128321\n",
       "2016-02-24  1178000  1179000  1161000  1172000  140407\n",
       "2016-02-23  1179000  1189000  1173000  1181000  147578\n",
       "2016-02-22  1190000  1192000  1166000  1175000  174075"
      ]
     },
     "execution_count": 41,
     "metadata": {},
     "output_type": "execute_result"
    }
   ],
   "source": [
    "# 년도별 검색 \n",
    "new_cospi.loc['2016'].head()\n"
   ]
  },
  {
   "cell_type": "code",
   "execution_count": 42,
   "metadata": {},
   "outputs": [
    {
     "data": {
      "text/html": [
       "<div>\n",
       "<style scoped>\n",
       "    .dataframe tbody tr th:only-of-type {\n",
       "        vertical-align: middle;\n",
       "    }\n",
       "\n",
       "    .dataframe tbody tr th {\n",
       "        vertical-align: top;\n",
       "    }\n",
       "\n",
       "    .dataframe thead th {\n",
       "        text-align: right;\n",
       "    }\n",
       "</style>\n",
       "<table border=\"1\" class=\"dataframe\">\n",
       "  <thead>\n",
       "    <tr style=\"text-align: right;\">\n",
       "      <th></th>\n",
       "      <th>Open</th>\n",
       "      <th>High</th>\n",
       "      <th>Low</th>\n",
       "      <th>Close</th>\n",
       "      <th>Volume</th>\n",
       "    </tr>\n",
       "    <tr>\n",
       "      <th>Date</th>\n",
       "      <th></th>\n",
       "      <th></th>\n",
       "      <th></th>\n",
       "      <th></th>\n",
       "      <th></th>\n",
       "    </tr>\n",
       "  </thead>\n",
       "  <tbody>\n",
       "    <tr>\n",
       "      <th>2015-12-30</th>\n",
       "      <td>1260000</td>\n",
       "      <td>1272000</td>\n",
       "      <td>1254000</td>\n",
       "      <td>1260000</td>\n",
       "      <td>203349</td>\n",
       "    </tr>\n",
       "    <tr>\n",
       "      <th>2015-12-29</th>\n",
       "      <td>1265000</td>\n",
       "      <td>1266000</td>\n",
       "      <td>1241000</td>\n",
       "      <td>1254000</td>\n",
       "      <td>231802</td>\n",
       "    </tr>\n",
       "    <tr>\n",
       "      <th>2015-12-28</th>\n",
       "      <td>1285000</td>\n",
       "      <td>1289000</td>\n",
       "      <td>1266000</td>\n",
       "      <td>1266000</td>\n",
       "      <td>225997</td>\n",
       "    </tr>\n",
       "    <tr>\n",
       "      <th>2015-12-24</th>\n",
       "      <td>1295000</td>\n",
       "      <td>1300000</td>\n",
       "      <td>1285000</td>\n",
       "      <td>1285000</td>\n",
       "      <td>151322</td>\n",
       "    </tr>\n",
       "    <tr>\n",
       "      <th>2015-12-23</th>\n",
       "      <td>1292000</td>\n",
       "      <td>1299000</td>\n",
       "      <td>1282000</td>\n",
       "      <td>1295000</td>\n",
       "      <td>162043</td>\n",
       "    </tr>\n",
       "  </tbody>\n",
       "</table>\n",
       "</div>"
      ],
      "text/plain": [
       "               Open     High      Low    Close  Volume\n",
       "Date                                                  \n",
       "2015-12-30  1260000  1272000  1254000  1260000  203349\n",
       "2015-12-29  1265000  1266000  1241000  1254000  231802\n",
       "2015-12-28  1285000  1289000  1266000  1266000  225997\n",
       "2015-12-24  1295000  1300000  1285000  1285000  151322\n",
       "2015-12-23  1292000  1299000  1282000  1295000  162043"
      ]
     },
     "execution_count": 42,
     "metadata": {},
     "output_type": "execute_result"
    }
   ],
   "source": [
    "new_cospi.loc['2015'].head()"
   ]
  },
  {
   "cell_type": "code",
   "execution_count": 43,
   "metadata": {},
   "outputs": [
    {
     "data": {
      "text/html": [
       "<div>\n",
       "<style scoped>\n",
       "    .dataframe tbody tr th:only-of-type {\n",
       "        vertical-align: middle;\n",
       "    }\n",
       "\n",
       "    .dataframe tbody tr th {\n",
       "        vertical-align: top;\n",
       "    }\n",
       "\n",
       "    .dataframe thead th {\n",
       "        text-align: right;\n",
       "    }\n",
       "</style>\n",
       "<table border=\"1\" class=\"dataframe\">\n",
       "  <thead>\n",
       "    <tr style=\"text-align: right;\">\n",
       "      <th></th>\n",
       "      <th>Open</th>\n",
       "      <th>High</th>\n",
       "      <th>Low</th>\n",
       "      <th>Close</th>\n",
       "      <th>Volume</th>\n",
       "    </tr>\n",
       "    <tr>\n",
       "      <th>Date</th>\n",
       "      <th></th>\n",
       "      <th></th>\n",
       "      <th></th>\n",
       "      <th></th>\n",
       "      <th></th>\n",
       "    </tr>\n",
       "  </thead>\n",
       "  <tbody>\n",
       "    <tr>\n",
       "      <th>2016-02-26</th>\n",
       "      <td>1180000</td>\n",
       "      <td>1187000</td>\n",
       "      <td>1172000</td>\n",
       "      <td>1172000</td>\n",
       "      <td>176906</td>\n",
       "    </tr>\n",
       "    <tr>\n",
       "      <th>2016-02-25</th>\n",
       "      <td>1172000</td>\n",
       "      <td>1187000</td>\n",
       "      <td>1172000</td>\n",
       "      <td>1179000</td>\n",
       "      <td>128321</td>\n",
       "    </tr>\n",
       "    <tr>\n",
       "      <th>2016-02-24</th>\n",
       "      <td>1178000</td>\n",
       "      <td>1179000</td>\n",
       "      <td>1161000</td>\n",
       "      <td>1172000</td>\n",
       "      <td>140407</td>\n",
       "    </tr>\n",
       "    <tr>\n",
       "      <th>2016-02-23</th>\n",
       "      <td>1179000</td>\n",
       "      <td>1189000</td>\n",
       "      <td>1173000</td>\n",
       "      <td>1181000</td>\n",
       "      <td>147578</td>\n",
       "    </tr>\n",
       "    <tr>\n",
       "      <th>2016-02-22</th>\n",
       "      <td>1190000</td>\n",
       "      <td>1192000</td>\n",
       "      <td>1166000</td>\n",
       "      <td>1175000</td>\n",
       "      <td>174075</td>\n",
       "    </tr>\n",
       "  </tbody>\n",
       "</table>\n",
       "</div>"
      ],
      "text/plain": [
       "               Open     High      Low    Close  Volume\n",
       "Date                                                  \n",
       "2016-02-26  1180000  1187000  1172000  1172000  176906\n",
       "2016-02-25  1172000  1187000  1172000  1179000  128321\n",
       "2016-02-24  1178000  1179000  1161000  1172000  140407\n",
       "2016-02-23  1179000  1189000  1173000  1181000  147578\n",
       "2016-02-22  1190000  1192000  1166000  1175000  174075"
      ]
     },
     "execution_count": 43,
     "metadata": {},
     "output_type": "execute_result"
    }
   ],
   "source": [
    "# 월별 검색 \n",
    "new_cospi.loc['2016-02'].head()"
   ]
  },
  {
   "cell_type": "code",
   "execution_count": 45,
   "metadata": {},
   "outputs": [
    {
     "data": {
      "text/html": [
       "<div>\n",
       "<style scoped>\n",
       "    .dataframe tbody tr th:only-of-type {\n",
       "        vertical-align: middle;\n",
       "    }\n",
       "\n",
       "    .dataframe tbody tr th {\n",
       "        vertical-align: top;\n",
       "    }\n",
       "\n",
       "    .dataframe thead th {\n",
       "        text-align: right;\n",
       "    }\n",
       "</style>\n",
       "<table border=\"1\" class=\"dataframe\">\n",
       "  <thead>\n",
       "    <tr style=\"text-align: right;\">\n",
       "      <th></th>\n",
       "      <th>Open</th>\n",
       "      <th>High</th>\n",
       "      <th>Low</th>\n",
       "      <th>Close</th>\n",
       "      <th>Volume</th>\n",
       "    </tr>\n",
       "    <tr>\n",
       "      <th>Date</th>\n",
       "      <th></th>\n",
       "      <th></th>\n",
       "      <th></th>\n",
       "      <th></th>\n",
       "      <th></th>\n",
       "    </tr>\n",
       "  </thead>\n",
       "  <tbody>\n",
       "    <tr>\n",
       "      <th>2016-02-26</th>\n",
       "      <td>1180000</td>\n",
       "      <td>1187000</td>\n",
       "      <td>1172000</td>\n",
       "      <td>1172000</td>\n",
       "      <td>176906</td>\n",
       "    </tr>\n",
       "    <tr>\n",
       "      <th>2016-02-25</th>\n",
       "      <td>1172000</td>\n",
       "      <td>1187000</td>\n",
       "      <td>1172000</td>\n",
       "      <td>1179000</td>\n",
       "      <td>128321</td>\n",
       "    </tr>\n",
       "    <tr>\n",
       "      <th>2016-02-24</th>\n",
       "      <td>1178000</td>\n",
       "      <td>1179000</td>\n",
       "      <td>1161000</td>\n",
       "      <td>1172000</td>\n",
       "      <td>140407</td>\n",
       "    </tr>\n",
       "    <tr>\n",
       "      <th>2016-02-23</th>\n",
       "      <td>1179000</td>\n",
       "      <td>1189000</td>\n",
       "      <td>1173000</td>\n",
       "      <td>1181000</td>\n",
       "      <td>147578</td>\n",
       "    </tr>\n",
       "    <tr>\n",
       "      <th>2016-02-22</th>\n",
       "      <td>1190000</td>\n",
       "      <td>1192000</td>\n",
       "      <td>1166000</td>\n",
       "      <td>1175000</td>\n",
       "      <td>174075</td>\n",
       "    </tr>\n",
       "  </tbody>\n",
       "</table>\n",
       "</div>"
      ],
      "text/plain": [
       "               Open     High      Low    Close  Volume\n",
       "Date                                                  \n",
       "2016-02-26  1180000  1187000  1172000  1172000  176906\n",
       "2016-02-25  1172000  1187000  1172000  1179000  128321\n",
       "2016-02-24  1178000  1179000  1161000  1172000  140407\n",
       "2016-02-23  1179000  1189000  1173000  1181000  147578\n",
       "2016-02-22  1190000  1192000  1166000  1175000  174075"
      ]
     },
     "execution_count": 45,
     "metadata": {},
     "output_type": "execute_result"
    }
   ],
   "source": [
    "# 범위 검색 \n",
    "new_cospi.loc['2016-02':'2016-01'].head()"
   ]
  },
  {
   "cell_type": "code",
   "execution_count": 47,
   "metadata": {},
   "outputs": [
    {
     "data": {
      "image/png": "[encoded data removed]",
      "text/plain": [
       "<Figure size 432x288 with 1 Axes>"
      ]
     },
     "metadata": {
      "needs_background": "light"
     },
     "output_type": "display_data"
    }
   ],
   "source": [
    "new_cospi_HL = new_cospi[['High', 'Low']]\n",
    "new_cospi_HL.loc['2016'].plot(title=\"title\")\n",
    "plt.show()"
   ]
  },
  {
   "cell_type": "code",
   "execution_count": 48,
   "metadata": {},
   "outputs": [
    {
     "data": {
      "image/png": "[encoded data removed]",
      "text/plain": [
       "<Figure size 432x288 with 1 Axes>"
      ]
     },
     "metadata": {
      "needs_background": "light"
     },
     "output_type": "display_data"
    }
   ],
   "source": [
    "new_cospi_HL.loc['2016-02'].plot(title=\"title\")\n",
    "plt.show()"
   ]
  },
  {
   "cell_type": "code",
   "execution_count": 50,
   "metadata": {},
   "outputs": [
    {
     "data": {
      "text/plain": [
       "Date\n",
       "2016-02-26          NaN\n",
       "2016-02-25          NaN\n",
       "2016-02-24          NaN\n",
       "2016-02-23          NaN\n",
       "2016-02-22    1186800.0\n",
       "                ...    \n",
       "2015-03-06    1456800.0\n",
       "2015-03-05    1450800.0\n",
       "2015-03-04    1443000.0\n",
       "2015-03-03    1441800.0\n",
       "2015-03-02    1438400.0\n",
       "Name: High, Length: 247, dtype: float64"
      ]
     },
     "execution_count": 50,
     "metadata": {},
     "output_type": "execute_result"
    }
   ],
   "source": [
    "# 3. 이동평균 기능 \n",
    "\n",
    "# 5일, 10일, 20일 \n",
    "roll_mean5 = pd.Series.rolling(new_cospi.High,\n",
    "                  window=5, center=False).mean()\n",
    "roll_mean5"
   ]
  },
  {
   "cell_type": "code",
   "execution_count": 53,
   "metadata": {},
   "outputs": [
    {
     "data": {
      "text/plain": [
       "Date\n",
       "2016-02-26          NaN\n",
       "2016-02-25          NaN\n",
       "2016-02-24          NaN\n",
       "2016-02-23          NaN\n",
       "2016-02-22          NaN\n",
       "                ...    \n",
       "2015-03-06    1476600.0\n",
       "2015-03-05    1469900.0\n",
       "2015-03-04    1463300.0\n",
       "2015-03-03    1457000.0\n",
       "2015-03-02    1450600.0\n",
       "Name: High, Length: 247, dtype: float64"
      ]
     },
     "execution_count": 53,
     "metadata": {},
     "output_type": "execute_result"
    }
   ],
   "source": [
    "roll_mean10 = pd.Series.rolling(new_cospi.High,window=10, center=False).mean()\n",
    "roll_mean10"
   ]
  },
  {
   "cell_type": "code",
   "execution_count": 54,
   "metadata": {},
   "outputs": [
    {
     "data": {
      "text/plain": [
       "Date\n",
       "2016-02-26          NaN\n",
       "2016-02-25          NaN\n",
       "2016-02-24          NaN\n",
       "2016-02-23          NaN\n",
       "2016-02-22          NaN\n",
       "                ...    \n",
       "2015-03-06    1467650.0\n",
       "2015-03-05    1467800.0\n",
       "2015-03-04    1467950.0\n",
       "2015-03-03    1467200.0\n",
       "2015-03-02    1466650.0\n",
       "Name: High, Length: 247, dtype: float64"
      ]
     },
     "execution_count": 54,
     "metadata": {},
     "output_type": "execute_result"
    }
   ],
   "source": [
    "roll_mean20 = pd.Series.rolling(new_cospi.High,window=20, center=False).mean()\n",
    "roll_mean20"
   ]
  },
  {
   "cell_type": "code",
   "execution_count": 55,
   "metadata": {},
   "outputs": [
    {
     "data": {
      "image/png": "[encoded data removed]",
      "text/plain": [
       "<Figure size 432x288 with 1 Axes>"
      ]
     },
     "metadata": {
      "needs_background": "light"
     },
     "output_type": "display_data"
    }
   ],
   "source": [
    "# roll mean 시각화 \n",
    "new_cospi.High.plot(color='orange', label='High column')\n",
    "roll_mean5.plot(color='red', label='5day rolling mean')\n",
    "roll_mean10.plot(color='green', label='10day rolling mean')\n",
    "roll_mean20.plot(color='blue', label='20day rolling mean')\n",
    "plt.legend(loc='best')\n",
    "plt.show()"
   ]
  },
  {
   "cell_type": "code",
   "execution_count": null,
   "metadata": {},
   "outputs": [],
   "source": [
    "\n"
   ]
  }
 ],
 "metadata": {
  "kernelspec": {
   "display_name": "Python 3",
   "language": "python",
   "name": "python3"
  },
  "language_info": {
   "codemirror_mode": {
    "name": "ipython",
    "version": 3
   },
   "file_extension": ".py",
   "mimetype": "text/x-python",
   "name": "python",
   "nbconvert_exporter": "python",
   "pygments_lexer": "ipython3",
   "version": "3.8.5"
  }
 },
 "nbformat": 4,
 "nbformat_minor": 4
}
