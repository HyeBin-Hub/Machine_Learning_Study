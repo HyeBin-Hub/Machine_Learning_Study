{
 "cells": [
  {
   "cell_type": "code",
   "execution_count": 2,
   "metadata": {},
   "outputs": [
    {
     "name": "stdout",
     "output_type": "stream",
     "text": [
      "<class 'pandas.core.frame.DataFrame'>\n",
      "RangeIndex: 264 entries, 0 to 263\n",
      "Data columns (total 3 columns):\n",
      " #   Column  Non-Null Count  Dtype\n",
      "---  ------  --------------  -----\n",
      " 0   a       264 non-null    int64\n",
      " 1   b       264 non-null    int64\n",
      " 2   c       264 non-null    int64\n",
      "dtypes: int64(3)\n",
      "memory usage: 6.3 KB\n",
      "None\n",
      "   a  b  c\n",
      "0  3  4  3\n",
      "1  3  3  2\n",
      "2  4  4  4\n",
      "3  2  2  2\n",
      "4  2  2  2\n",
      "     a  b  c\n",
      "259  3  4  4\n",
      "260  3  4  3\n",
      "261  4  4  4\n",
      "262  4  4  4\n",
      "263  2  3  3\n"
     ]
    }
   ],
   "source": [
    "'''\n",
    "1. DataFrame 요약통계량 \n",
    "2. 변수 간의 상관성 분석 \n",
    "'''\n",
    "import pandas as pd\n",
    "\n",
    "# 내용보기 : head(), tail()\n",
    "product = pd.read_csv('./data/product.csv')\n",
    "print(product.info()) # 상세정보 보여줌 행, 열 수를 볼수있고, 각 열의 자료형도 볼수있다.\n",
    "print(product.head())# 제목+5개 행 보여줌\n",
    "print(product.tail())"
   ]
  },
  {
   "cell_type": "code",
   "execution_count": 3,
   "metadata": {},
   "outputs": [
    {
     "name": "stdout",
     "output_type": "stream",
     "text": [
      "                a           b           c\n",
      "count  264.000000  264.000000  264.000000\n",
      "mean     2.928030    3.132576    3.094697\n",
      "std      0.970345    0.859657    0.828744\n",
      "min      1.000000    1.000000    1.000000\n",
      "25%      2.000000    3.000000    3.000000\n",
      "50%      3.000000    3.000000    3.000000\n",
      "75%      4.000000    4.000000    4.000000\n",
      "max      5.000000    5.000000    5.000000\n"
     ]
    }
   ],
   "source": [
    "# 기술통계량 구하기 \n",
    "summary = product.describe()# 각각의 컬럼 단위로\n",
    "print(summary)\n"
   ]
  },
  {
   "cell_type": "code",
   "execution_count": 4,
   "metadata": {},
   "outputs": [
    {
     "name": "stdout",
     "output_type": "stream",
     "text": [
      "a    773\n",
      "b    827\n",
      "c    817\n",
      "dtype: int64\n",
      "0      10\n",
      "1       8\n",
      "2      12\n",
      "3       6\n",
      "4       6\n",
      "       ..\n",
      "259    11\n",
      "260    10\n",
      "261    12\n",
      "262    12\n",
      "263     8\n",
      "Length: 264, dtype: int64\n"
     ]
    }
   ],
   "source": [
    "# 행/열 통계량 \n",
    "row_sum = product.sum(axis = 0) # 열단위 합계(행 축)\n",
    "col_sum = product.sum(axis = 1)# 행단위 합계(열 축)\n",
    "print(row_sum)\n",
    "print(col_sum)"
   ]
  },
  {
   "cell_type": "code",
   "execution_count": 5,
   "metadata": {},
   "outputs": [
    {
     "name": "stdout",
     "output_type": "stream",
     "text": [
      "a    0.941569\n",
      "b    0.739011\n",
      "c    0.686816\n",
      "dtype: float64\n",
      "a    0.970345\n",
      "b    0.859657\n",
      "c    0.828744\n",
      "dtype: float64\n"
     ]
    }
   ],
   "source": [
    "# 산포도 \n",
    "print(product.var()) # axis = 0 : default\n",
    "print(product.std())"
   ]
  },
  {
   "cell_type": "code",
   "execution_count": 6,
   "metadata": {},
   "outputs": [
    {
     "name": "stdout",
     "output_type": "stream",
     "text": [
      "3    126\n",
      "4     64\n",
      "2     37\n",
      "1     30\n",
      "5      7\n",
      "Name: a, dtype: int64\n"
     ]
    }
   ],
   "source": [
    "# 빈도수 \n",
    "a_count = product['a'].value_counts() # a라는 특정 컬럼 뽑을때\n",
    "print(a_count)"
   ]
  },
  {
   "cell_type": "code",
   "execution_count": 7,
   "metadata": {},
   "outputs": [
    {
     "name": "stdout",
     "output_type": "stream",
     "text": [
      "[4 3 2 5 1]\n"
     ]
    }
   ],
   "source": [
    "# unique\n",
    "b_unique = product['b'].unique()# c가 가지는 유일한 값 출력\n",
    "print(b_unique) "
   ]
  },
  {
   "cell_type": "code",
   "execution_count": 9,
   "metadata": {},
   "outputs": [
    {
     "name": "stdout",
     "output_type": "stream",
     "text": [
      "<class 'pandas.core.frame.DataFrame'>\n",
      "RangeIndex: 150 entries, 0 to 149\n",
      "Data columns (total 5 columns):\n",
      " #   Column        Non-Null Count  Dtype  \n",
      "---  ------        --------------  -----  \n",
      " 0   Sepal.Length  150 non-null    float64\n",
      " 1   Sepal.Width   150 non-null    float64\n",
      " 2   Petal.Length  150 non-null    float64\n",
      " 3   Petal.Width   150 non-null    float64\n",
      " 4   Species       150 non-null    object \n",
      "dtypes: float64(4), object(1)\n",
      "memory usage: 6.0+ KB\n"
     ]
    }
   ],
   "source": [
    "# iris datset 적용\n",
    "iris = pd.read_csv(\"./data/iris.csv\")\n",
    "#iris = pd.read_csv(\"./data/iris.csv\") # 상대경로\n",
    "iris.info()"
   ]
  },
  {
   "cell_type": "code",
   "execution_count": 10,
   "metadata": {},
   "outputs": [
    {
     "name": "stdout",
     "output_type": "stream",
     "text": [
      "['Sepal.Length', 'Sepal.Width', 'Petal.Length', 'Petal.Width', 'Species']\n"
     ]
    }
   ],
   "source": [
    "# 전체 컬럼명 => list\n",
    "col = list(iris.columns)\n",
    "print(col)"
   ]
  },
  {
   "cell_type": "code",
   "execution_count": 11,
   "metadata": {},
   "outputs": [
    {
     "name": "stdout",
     "output_type": "stream",
     "text": [
      "              Sepal.Length  Sepal.Width  Petal.Length  Petal.Width\n",
      "Sepal.Length      1.000000    -0.117570      0.871754     0.817941\n",
      "Sepal.Width      -0.117570     1.000000     -0.428440    -0.366126\n",
      "Petal.Length      0.871754    -0.428440      1.000000     0.962865\n",
      "Petal.Width       0.817941    -0.366126      0.962865     1.000000\n"
     ]
    }
   ],
   "source": [
    "iris_cor = iris[col[:4]].corr()\n",
    "print(iris_cor)"
   ]
  },
  {
   "cell_type": "code",
   "execution_count": 12,
   "metadata": {},
   "outputs": [
    {
     "data": {
      "text/plain": [
       "Sepal.Length    5.843333\n",
       "Sepal.Width     3.057333\n",
       "Petal.Length    3.758000\n",
       "Petal.Width     1.199333\n",
       "dtype: float64"
      ]
     },
     "execution_count": 12,
     "metadata": {},
     "output_type": "execute_result"
    }
   ],
   "source": [
    "# 각 컬럼(변수) 평균계산\n",
    "iris[col[:4]].mean(axis=0)"
   ]
  },
  {
   "cell_type": "code",
   "execution_count": 13,
   "metadata": {},
   "outputs": [
    {
     "data": {
      "text/plain": [
       "setosa        50\n",
       "versicolor    50\n",
       "virginica     50\n",
       "Name: Species, dtype: int64"
      ]
     },
     "execution_count": 13,
     "metadata": {},
     "output_type": "execute_result"
    }
   ],
   "source": [
    "#Species 범주형\n",
    "# 붗꽃의 종 빈도수\n",
    "iris[\"Species\"].value_counts()"
   ]
  },
  {
   "cell_type": "code",
   "execution_count": 14,
   "metadata": {},
   "outputs": [
    {
     "data": {
      "text/plain": [
       "array(['setosa', 'versicolor', 'virginica'], dtype=object)"
      ]
     },
     "execution_count": 14,
     "metadata": {},
     "output_type": "execute_result"
    }
   ],
   "source": [
    "iris[\"Species\"].unique()"
   ]
  }
 ],
 "metadata": {
  "kernelspec": {
   "display_name": "Python 3",
   "language": "python",
   "name": "python3"
  },
  "language_info": {
   "codemirror_mode": {
    "name": "ipython",
    "version": 3
   },
   "file_extension": ".py",
   "mimetype": "text/x-python",
   "name": "python",
   "nbconvert_exporter": "python",
   "pygments_lexer": "ipython3",
   "version": "3.8.5"
  }
 },
 "nbformat": 4,
 "nbformat_minor": 4
}
