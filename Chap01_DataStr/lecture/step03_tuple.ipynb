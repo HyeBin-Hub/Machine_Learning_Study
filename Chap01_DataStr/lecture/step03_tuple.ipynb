{
 "cells": [
  {
   "cell_type": "code",
   "execution_count": 1,
   "metadata": {},
   "outputs": [
    {
     "name": "stdout",
     "output_type": "stream",
     "text": [
      "10 (10,)\n"
     ]
    }
   ],
   "source": [
    "'''\n",
    "tuple 특징 \n",
    " - 순서존재(index 사용 가능)\n",
    " - 수정 불가\n",
    " - 문자열 원소 표현 \n",
    " - list 속도 빠름 \n",
    " - 제공 함수 없음 \n",
    " 형식) (원소1, 원소2, ...n) : () 생략 \n",
    "'''\n",
    "t = 10 ; t1 = (10, )\n",
    "print(t, t1) "
   ]
  },
  {
   "cell_type": "code",
   "execution_count": 2,
   "metadata": {},
   "outputs": [
    {
     "name": "stdout",
     "output_type": "stream",
     "text": [
      "(1, 2, 3, 4, 5) 5 <class 'tuple'>\n"
     ]
    }
   ],
   "source": [
    "t = (1,2,3,4,5)\n",
    "print(t, len(t), type(t))"
   ]
  },
  {
   "cell_type": "code",
   "execution_count": 3,
   "metadata": {},
   "outputs": [
    {
     "name": "stdout",
     "output_type": "stream",
     "text": [
      "1 (2, 3, 4) 5\n"
     ]
    }
   ],
   "source": [
    "# index \n",
    "print(t[0], t[1:4], t[-1])"
   ]
  },
  {
   "cell_type": "code",
   "execution_count": 4,
   "metadata": {},
   "outputs": [
    {
     "name": "stdout",
     "output_type": "stream",
     "text": [
      "1\n",
      "2\n",
      "3\n",
      "4\n",
      "5\n"
     ]
    }
   ],
   "source": [
    "#  수정 불가 \n",
    "# t[0] = 10 # error \n",
    "\n",
    "for i in t :\n",
    "    print(i)"
   ]
  },
  {
   "cell_type": "code",
   "execution_count": 5,
   "metadata": {},
   "outputs": [],
   "source": [
    "# 여러 값 반환 : list or tuple\n",
    "import urllib.parse # package.module - 방법1\n",
    "from urllib.parse import urlparse, urlunparse \n",
    "# form package.module import function or class - 방법2"
   ]
  },
  {
   "cell_type": "code",
   "execution_count": 7,
   "metadata": {},
   "outputs": [
    {
     "name": "stdout",
     "output_type": "stream",
     "text": [
      "ParseResult(scheme='http', netloc='www.naver.com:8080', path='/index.html', params='', query='', fragment='')\n"
     ]
    }
   ],
   "source": [
    "url = \"http://www.naver.com:8080/index.html\"\n",
    "url_prs = urlparse(url) # new object \n",
    "print(url_prs)\n",
    "# ParseResult(scheme='http', netloc='www.naver.com:8080', path='/index.html', params='', query='', fragment='')"
   ]
  },
  {
   "cell_type": "code",
   "execution_count": 8,
   "metadata": {},
   "outputs": [
    {
     "name": "stdout",
     "output_type": "stream",
     "text": [
      "www.naver.com:8080\n"
     ]
    }
   ],
   "source": [
    "# object.member\n",
    "print(url_prs.netloc) # www.naver.com:8080"
   ]
  },
  {
   "cell_type": "code",
   "execution_count": 9,
   "metadata": {},
   "outputs": [
    {
     "name": "stdout",
     "output_type": "stream",
     "text": [
      "http://www.naver.com:8080/index.html\n"
     ]
    }
   ],
   "source": [
    "# parse -> unparse\n",
    "url2 = urlunparse(url_prs)\n",
    "print(url2) # http://www.naver.com:8080/index.html"
   ]
  },
  {
   "cell_type": "code",
   "execution_count": null,
   "metadata": {},
   "outputs": [],
   "source": []
  }
 ],
 "metadata": {
  "kernelspec": {
   "display_name": "Python 3",
   "language": "python",
   "name": "python3"
  },
  "language_info": {
   "codemirror_mode": {
    "name": "ipython",
    "version": 3
   },
   "file_extension": ".py",
   "mimetype": "text/x-python",
   "name": "python",
   "nbconvert_exporter": "python",
   "pygments_lexer": "ipython3",
   "version": "3.8.5"
  }
 },
 "nbformat": 4,
 "nbformat_minor": 4
}
