{
 "cells": [
  {
   "cell_type": "code",
   "execution_count": 1,
   "metadata": {},
   "outputs": [
    {
     "name": "stdout",
     "output_type": "stream",
     "text": [
      "[4, 1, 16, 49, 25]\n"
     ]
    }
   ],
   "source": [
    "\"\"\"\"\n",
    "list 내포 \n",
    " - list에 for문 포함된 형식 \n",
    " 형식1) 변수 = [실행문 for 변수 in 열거형]\n",
    "   -> 실행순서 : 1.for문 > 2.실행문 > 3.변수 저장\n",
    " 형식2) 변수 = [실행문 for 변수 in 열거형 if 조건식] \n",
    "   -> 실행순서 : 1.for문 > 2.if문 > [3. 실행문 > 4. 변수 저장]\n",
    "\"\"\"\n",
    "\n",
    "# 1. 형식1) 변수 = [실행문 for 변수 in 열거형]\n",
    "x = [2, 1, 4, 7, 5]\n",
    "# print(x ** 2) # 각 변량에 제곱 계산(제곱은 리스트에서 사용할수 없음) - error\n",
    "\n",
    "lst = [] # 빈 list \n",
    "for i in x :\n",
    "    lst.append(i**2)\n",
    "    \n",
    "print(lst)"
   ]
  },
  {
   "cell_type": "code",
   "execution_count": 2,
   "metadata": {},
   "outputs": [
    {
     "name": "stdout",
     "output_type": "stream",
     "text": [
      "[4, 1, 16, 49, 25]\n"
     ]
    }
   ],
   "source": [
    "# list 내포 적용 \n",
    "lst2 = [i**2 for i in x]\n",
    "print(lst2) "
   ]
  },
  {
   "cell_type": "code",
   "execution_count": 5,
   "metadata": {},
   "outputs": [
    {
     "name": "stdout",
     "output_type": "stream",
     "text": [
      "[1, 2, 3, 4, 5, 6, 7, 8, 9, 10, 11, 12, 13, 14, 15, 16, 17, 18, 19, 20, 21, 22, 23, 24, 25, 26, 27, 28, 29, 30, 31, 32, 33, 34, 35, 36, 37, 38, 39, 40, 41, 42, 43, 44, 45, 46, 47, 48, 49, 50, 51, 52, 53, 54, 55, 56, 57, 58, 59, 60, 61, 62, 63, 64, 65, 66, 67, 68, 69, 70, 71, 72, 73, 74, 75, 76, 77, 78, 79, 80, 81, 82, 83, 84, 85, 86, 87, 88, 89, 90, 91, 92, 93, 94, 95, 96, 97, 98, 99, 100] \n",
      "\n",
      "<class 'list'> \n",
      "\n",
      "100\n"
     ]
    }
   ],
   "source": [
    "# 2. 형식2) 변수 = [실행문 for 변수 in 열거형 if 조건식] \n",
    "num = list(range(1,101))\n",
    "print(num,\"\\n\")\n",
    "print(type(num),\"\\n\") # <class 'list'>\n",
    "print(len(num))"
   ]
  },
  {
   "cell_type": "code",
   "execution_count": 4,
   "metadata": {},
   "outputs": [
    {
     "name": "stdout",
     "output_type": "stream",
     "text": [
      "[3, 6, 9, 12, 15, 18, 21, 24, 27, 30, 33, 36, 39, 42, 45, 48, 51, 54, 57, 60, 63, 66, 69, 72, 75, 78, 81, 84, 87, 90, 93, 96, 99]\n"
     ]
    }
   ],
   "source": [
    "lst3 = [i for i in num if i % 3 == 0 ]\n",
    "print(lst3)"
   ]
  },
  {
   "cell_type": "code",
   "execution_count": null,
   "metadata": {},
   "outputs": [],
   "source": []
  }
 ],
 "metadata": {
  "kernelspec": {
   "display_name": "Python 3",
   "language": "python",
   "name": "python3"
  },
  "language_info": {
   "codemirror_mode": {
    "name": "ipython",
    "version": 3
   },
   "file_extension": ".py",
   "mimetype": "text/x-python",
   "name": "python",
   "nbconvert_exporter": "python",
   "pygments_lexer": "ipython3",
   "version": "3.8.5"
  }
 },
 "nbformat": 4,
 "nbformat_minor": 4
}
