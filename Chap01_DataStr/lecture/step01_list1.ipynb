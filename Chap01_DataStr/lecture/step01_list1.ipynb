{
 "cells": [
  {
   "cell_type": "code",
   "execution_count": 1,
   "metadata": {},
   "outputs": [
    {
     "name": "stdout",
     "output_type": "stream",
     "text": [
      "[1, 2, 3, 4, 5]\n"
     ]
    }
   ],
   "source": [
    "\"\"\"\n",
    "list 특징 \n",
    " - 1차원 배열 구조 \n",
    " - 순서 존재 = 색인(index)\n",
    " - 수정 가능(추가, 삭제, 변경)\n",
    " 형식1) 변수 = list(원소1, 원소2, ...)\n",
    " 형식2) 변수 = [원소1, 원소2, ...]\n",
    "\"\"\"\n",
    "\n",
    "# 1. 단일 list\n",
    "lst = [1,2,3,4,5]\n",
    "\n",
    "print(lst) "
   ]
  },
  {
   "cell_type": "code",
   "execution_count": 2,
   "metadata": {},
   "outputs": [
    {
     "name": "stdout",
     "output_type": "stream",
     "text": [
      "1\n",
      "5\n",
      "5\n"
     ]
    }
   ],
   "source": [
    "# index : object[n]\n",
    "print(lst[0]) # 1\n",
    "print(lst[4]) # 5\n",
    "print(lst[-1]) # 오른쪽 끝 : 5\n"
   ]
  },
  {
   "cell_type": "code",
   "execution_count": 3,
   "metadata": {},
   "outputs": [
    {
     "name": "stdout",
     "output_type": "stream",
     "text": [
      "[1, 2, 3]\n",
      "[2, 3]\n",
      "[3, 4, 5]\n"
     ]
    }
   ],
   "source": [
    "# 범위 선택 (start:end-1)\n",
    "print(lst[:3]) \n",
    "print(lst[1:3]) \n",
    "print(lst[2:]) "
   ]
  },
  {
   "cell_type": "code",
   "execution_count": 4,
   "metadata": {},
   "outputs": [
    {
     "name": "stdout",
     "output_type": "stream",
     "text": [
      "[3, 4, 5]\n",
      "[1, 3, 5]\n"
     ]
    }
   ],
   "source": [
    "# -속성 : [3, 4, 5]\n",
    "print(lst[-3:]) \n",
    "# object[start:end:step]\n",
    "print(lst[::2]) "
   ]
  },
  {
   "cell_type": "code",
   "execution_count": 5,
   "metadata": {},
   "outputs": [
    {
     "name": "stdout",
     "output_type": "stream",
     "text": [
      "[1, 3, 'abc', True, 4]\n",
      "5\n"
     ]
    }
   ],
   "source": [
    "# 2. 중첩 list : [[], [], []]\n",
    "lst2 = [1,3,'abc',True, 4] # 다양한 자료형 삽입 \n",
    "print(lst2) \n",
    "print(len(lst2)) "
   ]
  },
  {
   "cell_type": "code",
   "execution_count": 6,
   "metadata": {},
   "outputs": [
    {
     "name": "stdout",
     "output_type": "stream",
     "text": [
      "[10, 20, 30, [1, 3, 'abc', True, 4], 40, 50]\n",
      "6\n",
      "abc\n"
     ]
    }
   ],
   "source": [
    "# [[]]\n",
    "lst3 = [10, 20, 30, lst2, 40, 50] # 중첩 list\n",
    "print(lst3) \n",
    "print(len(lst3)) \n",
    "# object[첫번째list][두번째list]\n",
    "print(lst3[3][2]) #"
   ]
  },
  {
   "cell_type": "code",
   "execution_count": 7,
   "metadata": {},
   "outputs": [
    {
     "name": "stdout",
     "output_type": "stream",
     "text": [
      "[1, 2, 3, 4, 5]\n"
     ]
    }
   ],
   "source": [
    "# 3. 수정(삽입,삭제,추가,수정)\n",
    "lst4 = list(range(1,6)) # 1~n-1 : 1~5 -> list 객체 \n",
    "print(lst4) "
   ]
  },
  {
   "cell_type": "code",
   "execution_count": 8,
   "metadata": {},
   "outputs": [
    {
     "name": "stdout",
     "output_type": "stream",
     "text": [
      "[1, 2, 3, 4, 5, 6]\n",
      "[1, 2, 3, 4, 5]\n"
     ]
    }
   ],
   "source": [
    "# 1) 추가 : 끝에 원소 추가 \n",
    "lst4.append(6) \n",
    "print(lst4) # [1, 2, 3, 4, 5, 6]\n",
    "# 2) 삭제 \n",
    "lst4.remove(6)\n",
    "print(lst4) "
   ]
  },
  {
   "cell_type": "code",
   "execution_count": 9,
   "metadata": {},
   "outputs": [
    {
     "name": "stdout",
     "output_type": "stream",
     "text": [
      "y= 1\n",
      "x= [2, 3, 4, 5]\n"
     ]
    }
   ],
   "source": [
    "# 추출/삭제 : x,y변수 생성 \n",
    "y = lst4.pop(0) \n",
    "x = lst4\n",
    "print('y=', y) \n",
    "print('x=', x) "
   ]
  },
  {
   "cell_type": "code",
   "execution_count": 10,
   "metadata": {},
   "outputs": [
    {
     "name": "stdout",
     "output_type": "stream",
     "text": [
      "[1, 2, 3, 4, 5]\n"
     ]
    }
   ],
   "source": [
    "# 3) 삽입 : 끼워넣기 \n",
    "lst4.insert(0, 1)\n",
    "print(lst4) "
   ]
  },
  {
   "cell_type": "code",
   "execution_count": 12,
   "metadata": {},
   "outputs": [
    {
     "name": "stdout",
     "output_type": "stream",
     "text": [
      "[1, 2, 3, 4, 50]\n"
     ]
    }
   ],
   "source": [
    "# 4) 수정 : 내용 수정 \n",
    "lst4[-1] = 50\n",
    "print(lst4) "
   ]
  },
  {
   "cell_type": "code",
   "execution_count": 13,
   "metadata": {},
   "outputs": [
    {
     "name": "stdout",
     "output_type": "stream",
     "text": [
      "z= [1, 2, 3, 4, 5, 6]\n"
     ]
    }
   ],
   "source": [
    "# 4. list 연산 \n",
    "\n",
    "# 1) list 결합(+) \n",
    "x = [1,2,3]\n",
    "y = [4,5,6]\n",
    "z = x + y # new object\n",
    "print('z=', z) "
   ]
  },
  {
   "cell_type": "code",
   "execution_count": 14,
   "metadata": {},
   "outputs": [
    {
     "name": "stdout",
     "output_type": "stream",
     "text": [
      "z= [1, 2, 3, 4, 5, 6, [1, 2, 3]]\n"
     ]
    }
   ],
   "source": [
    "# 2) append vs extend\n",
    "z.append(x)\n",
    "print('z=', z)"
   ]
  },
  {
   "cell_type": "code",
   "execution_count": 15,
   "metadata": {},
   "outputs": [
    {
     "name": "stdout",
     "output_type": "stream",
     "text": [
      "z= [1, 2, 3, 4, 5, 6, [1, 2, 3], 4, 5, 6]\n"
     ]
    }
   ],
   "source": [
    "z.extend(y)\n",
    "print('z=', z)"
   ]
  },
  {
   "cell_type": "code",
   "execution_count": 16,
   "metadata": {},
   "outputs": [
    {
     "name": "stdout",
     "output_type": "stream",
     "text": [
      "[1, 2, 3, 1, 2, 3]\n"
     ]
    }
   ],
   "source": [
    "# 3) list 반복(*)\n",
    "result = x*2\n",
    "print(result)"
   ]
  },
  {
   "cell_type": "code",
   "execution_count": 17,
   "metadata": {},
   "outputs": [
    {
     "name": "stdout",
     "output_type": "stream",
     "text": [
      "[1, 3, 1, 1, 4]\n"
     ]
    }
   ],
   "source": [
    "# 5. list에서 원소 찾기\n",
    "'''\n",
    "if '원소' in list :\n",
    "    해당 원소가 있는 경우 \n",
    "else :\n",
    "    해당 원소가 없는 경우\n",
    "'''\n",
    "\n",
    "import random # module 포함 \n",
    "\n",
    "r = [] # 빈 list\n",
    "\n",
    "for i in range(5) : # 5회 반복 \n",
    "    r.append(random.randint(1,5)) # 1~5 사이 난수 정수 \n",
    "\n",
    "print(r) # [2, 4, 5, 1, 2]"
   ]
  },
  {
   "cell_type": "code",
   "execution_count": 18,
   "metadata": {},
   "outputs": [
    {
     "name": "stdout",
     "output_type": "stream",
     "text": [
      "원소 4가 있음\n"
     ]
    }
   ],
   "source": [
    "\n",
    "if 4 in r :\n",
    "    print('원소 4가 있음')\n",
    "else :\n",
    "    print('원소 4가 없음')"
   ]
  },
  {
   "cell_type": "code",
   "execution_count": null,
   "metadata": {},
   "outputs": [],
   "source": []
  }
 ],
 "metadata": {
  "kernelspec": {
   "display_name": "Python 3",
   "language": "python",
   "name": "python3"
  },
  "language_info": {
   "codemirror_mode": {
    "name": "ipython",
    "version": 3
   },
   "file_extension": ".py",
   "mimetype": "text/x-python",
   "name": "python",
   "nbconvert_exporter": "python",
   "pygments_lexer": "ipython3",
   "version": "3.8.5"
  }
 },
 "nbformat": 4,
 "nbformat_minor": 4
}
