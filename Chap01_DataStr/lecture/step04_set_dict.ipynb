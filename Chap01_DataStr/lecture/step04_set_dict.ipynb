{
 "cells": [
  {
   "cell_type": "code",
   "execution_count": 1,
   "metadata": {},
   "outputs": [
    {
     "name": "stdout",
     "output_type": "stream",
     "text": [
      "{1, 2, 3, 4}\n",
      "4\n"
     ]
    }
   ],
   "source": [
    "\"\"\"\n",
    "1. set 특징 \n",
    " - 순서 없음(index 사용 불가), 중복 불가 \n",
    " - 형식) 변수 = {원소1, 원소2,...} \n",
    " - 집합 개념 \n",
    " \n",
    "2. dict 특징 \n",
    "  - set 유사함 : 순서 없음(index 사용 불가)\n",
    "  형식) 변수 = {key:value, key:value, }\n",
    "  - key -> value 참조 \n",
    "  - key 중복 불가, value 중복 가능 \n",
    "\"\"\"\n",
    "\n",
    "# 1. set 특징\n",
    "\n",
    "s = {1,2,3,4, 2}\n",
    "print(s) # {1, 2, 3, 4}\n",
    "print(len(s)) # 4"
   ]
  },
  {
   "cell_type": "code",
   "execution_count": 2,
   "metadata": {},
   "outputs": [
    {
     "name": "stdout",
     "output_type": "stream",
     "text": [
      "{1, 3, 5, 6}\n",
      "{1, 5}\n",
      "{3}\n"
     ]
    }
   ],
   "source": [
    "s = {1,3,5,3,1}\n",
    "s2 = {3, 6}\n",
    "print(s.union(s2)) # 합집합 : s + s2 = {1, 3, 5, 6}\n",
    "print(s.difference(s2)) # 차집합 : s - s2 = {1, 5}\n",
    "print(s.intersection(s2)) # 교집합 : {3}"
   ]
  },
  {
   "cell_type": "code",
   "execution_count": 2,
   "metadata": {},
   "outputs": [
    {
     "name": "stdout",
     "output_type": "stream",
     "text": [
      "{'여', '남'}\n"
     ]
    }
   ],
   "source": [
    "# 중복 데이터 제거 \n",
    "gender = ['남', '여', '남', '여'] # 범주형 변수 \n",
    "\n",
    "# list -> set\n",
    "temp = set(gender) # 중복 제거 \n",
    "print(temp) # {'남', '여'} \n",
    "#print(temp[0]) # error - index 사용 불가 "
   ]
  },
  {
   "cell_type": "code",
   "execution_count": 3,
   "metadata": {},
   "outputs": [
    {
     "name": "stdout",
     "output_type": "stream",
     "text": [
      "['여', '남']\n",
      "여\n"
     ]
    }
   ],
   "source": [
    "# set -> list \n",
    "gender2 = list(temp)\n",
    "print(gender2) # ['남', '여']\n",
    "print(gender2[0]) # 남\n",
    "# 리스트로 형변환후 index사용 가능"
   ]
  },
  {
   "cell_type": "code",
   "execution_count": 3,
   "metadata": {},
   "outputs": [
    {
     "name": "stdout",
     "output_type": "stream",
     "text": [
      "{1, 3, 5}\n",
      "{1, 3, 5, 7}\n",
      "{1, 5, 7}\n"
     ]
    }
   ],
   "source": [
    "# 원소 추가, 삭제\n",
    "s3 = {1, 3, 5}\n",
    "print(s3)\n",
    "\n",
    "s3.add(7) # 원소 추가 \n",
    "print(s3) # {1, 3, 5, 7}\n",
    "\n",
    "s3.discard(3) # 원소 삭제\n",
    "print(s3) # {1, 5, 7}"
   ]
  },
  {
   "cell_type": "code",
   "execution_count": 4,
   "metadata": {},
   "outputs": [
    {
     "name": "stdout",
     "output_type": "stream",
     "text": [
      "{'key1': 100, 'key2': 200, 'key3': 300}\n",
      "200\n"
     ]
    }
   ],
   "source": [
    "# 2. dict 특징\n",
    "\n",
    "# 형식1)\n",
    "dic = dict(key1=100, key2=200, key3=300)\n",
    "print(dic) # {'key1': 100, 'key2': 200, 'key3': 300}\n",
    "print(dic['key2']) # 200 : key -> value 참조 "
   ]
  },
  {
   "cell_type": "code",
   "execution_count": 7,
   "metadata": {
    "scrolled": true
   },
   "outputs": [
    {
     "name": "stdout",
     "output_type": "stream",
     "text": [
      "{'name': '홍길동', 'age': 35, 'addr': '서울시'}\n"
     ]
    }
   ],
   "source": [
    "# 형식2)\n",
    "dic2 = {'name':'홍길동', 'age':35, 'addr':'서울시'}\n",
    "print(dic2)"
   ]
  },
  {
   "cell_type": "code",
   "execution_count": 8,
   "metadata": {},
   "outputs": [
    {
     "name": "stdout",
     "output_type": "stream",
     "text": [
      "{'name': '홍길동', 'age': 35, 'address': '서울시'}\n",
      "홍길동\n"
     ]
    }
   ],
   "source": [
    "person = {'name':'홍길동', 'age': 35, 'address' : '서울시'}\n",
    "print(person)\n",
    "print( person['name']) # index : key"
   ]
  },
  {
   "cell_type": "code",
   "execution_count": 9,
   "metadata": {},
   "outputs": [
    {
     "name": "stdout",
     "output_type": "stream",
     "text": [
      "<class 'dict'> <class 'dict'>\n"
     ]
    }
   ],
   "source": [
    "print(type(dic2), type(person))"
   ]
  },
  {
   "cell_type": "code",
   "execution_count": 10,
   "metadata": {},
   "outputs": [
    {
     "name": "stdout",
     "output_type": "stream",
     "text": [
      "35\n",
      "True\n"
     ]
    }
   ],
   "source": [
    "# 딕셔너리에 해당 키가 있는지 검사하기 : in\n",
    "print(person['age']) # 35\n",
    "print('age' in person) # True"
   ]
  },
  {
   "cell_type": "code",
   "execution_count": 11,
   "metadata": {},
   "outputs": [
    {
     "name": "stdout",
     "output_type": "stream",
     "text": [
      "{'name': '홍길동', 'age': 45, 'address': '서울시'}\n",
      "{'name': '홍길동', 'age': 45}\n",
      "{'name': '홍길동', 'age': 45, 'pay': 350}\n"
     ]
    }
   ],
   "source": [
    "# dict 원소 수정 \n",
    "person['age'] = 45\n",
    "print(person)\n",
    "\n",
    "# dict 원소 제거 \n",
    "del person['address']\n",
    "print(person) # {'name': '홍길동', 'age': 45}\n",
    "\n",
    "# dict 원소 추가 \n",
    "person['pay'] = 350\n",
    "print(person) # {'name': '홍길동', 'pay': 350, 'age': 45}"
   ]
  },
  {
   "cell_type": "code",
   "execution_count": 9,
   "metadata": {},
   "outputs": [
    {
     "name": "stdout",
     "output_type": "stream",
     "text": [
      "key = name\n",
      "key = age\n",
      "key = addr\n",
      "\n",
      "value = 홍길동\n",
      "value = 35\n",
      "value = 서울시\n",
      "\n",
      "item = ('name', '홍길동')\n",
      "item = ('age', 35)\n",
      "item = ('addr', '서울시')\n",
      "\n",
      "key = name\n",
      "value = 홍길동\n",
      "key = age\n",
      "value = 35\n",
      "key = addr\n",
      "value = 서울시\n"
     ]
    }
   ],
   "source": [
    "for key in dic2.keys() : # key 넘김 \n",
    "    print('key =', key)\n",
    "print()\n",
    "for val in dic2.values() :  # value 넘김 \n",
    "    print('value =', val)\n",
    "print()\n",
    "for item in dic2.items() :  # (key,value) 넘김 \n",
    "    print('item =', item)\n",
    "# ('name', '홍길동') -> tuple 반환 \n",
    "print()\n",
    "for key, val in dic2.items() :  # (key,value) 넘김 \n",
    "    print('key =', key)\n",
    "    print('value =', val)"
   ]
  },
  {
   "cell_type": "code",
   "execution_count": 10,
   "metadata": {},
   "outputs": [
    {
     "name": "stdout",
     "output_type": "stream",
     "text": [
      "{'name': '홍길동', 'age': 45, 'addr': '서울시', 'gender': '남'}\n"
     ]
    }
   ],
   "source": [
    "# dict 원소 수정, 삭제, 추가 \n",
    "\n",
    "# 1) 원소 수정 \n",
    "dic2['age'] = 45\n",
    "\n",
    "# 2) 원소 추가 \n",
    "dic2['gender'] = '남'\n",
    "\n",
    "print(dic2)"
   ]
  },
  {
   "cell_type": "code",
   "execution_count": 11,
   "metadata": {},
   "outputs": [
    {
     "name": "stdout",
     "output_type": "stream",
     "text": [
      "{'name': '홍길동', 'age': 45, 'addr': '서울시'}\n"
     ]
    }
   ],
   "source": [
    "# 3) 원소 삭제 \n",
    "del dic2['gender']    \n",
    "print(dic2)"
   ]
  },
  {
   "cell_type": "code",
   "execution_count": 12,
   "metadata": {},
   "outputs": [
    {
     "name": "stdout",
     "output_type": "stream",
     "text": [
      "{'광해': [9.5, 1200], '공작': [7.5, 500], '관상': [8.5, 900]}\n"
     ]
    }
   ],
   "source": [
    "# {key=title : [value1=평점, value2=관객수]}\n",
    "movie = {'광해' : [9.5, 1200], '공작':[7.5, 500], '관상':[8.5, 900]}\n",
    "print(movie)"
   ]
  },
  {
   "cell_type": "code",
   "execution_count": 13,
   "metadata": {},
   "outputs": [
    {
     "name": "stdout",
     "output_type": "stream",
     "text": [
      "('광해', [9.5, 1200])\n",
      "('공작', [7.5, 500])\n",
      "('관상', [8.5, 900])\n"
     ]
    }
   ],
   "source": [
    "for m in movie.items() : #(key,value)\n",
    "    print(m)"
   ]
  },
  {
   "cell_type": "code",
   "execution_count": 14,
   "metadata": {},
   "outputs": [
    {
     "name": "stdout",
     "output_type": "stream",
     "text": [
      "title = 광해\n",
      "value = [9.5, 1200]\n",
      "title = 공작\n",
      "value = [7.5, 500]\n",
      "title = 관상\n",
      "value = [8.5, 900]\n"
     ]
    }
   ],
   "source": [
    "for k, v in movie.items() :\n",
    "    print('title =', k)\n",
    "    print('value =', v)"
   ]
  },
  {
   "cell_type": "code",
   "execution_count": 15,
   "metadata": {},
   "outputs": [
    {
     "name": "stdout",
     "output_type": "stream",
     "text": [
      "광해\n",
      "관상\n",
      "누적 관객수 = 2,600\n"
     ]
    }
   ],
   "source": [
    "# 문) 평점이 8.0이상인 영화 제목과 누적관객수 출력하기 \n",
    "tot = 0 # 누적관객수 \n",
    "\n",
    "for k, v in movie.items() :    \n",
    "    if v[0] >= 8.0 :\n",
    "        print(k) # 제목 출력\n",
    "    tot += v[1] # 관객수 누적 \n",
    "        \n",
    "print('누적 관객수 =', format(tot, '3,d'))   "
   ]
  },
  {
   "cell_type": "code",
   "execution_count": 13,
   "metadata": {},
   "outputs": [
    {
     "name": "stdout",
     "output_type": "stream",
     "text": [
      "{'color': 1, 'word': 2, 'text': 2}\n"
     ]
    }
   ],
   "source": [
    "# 단어 빈도수 구하기 \n",
    "charset = ['color', 'word', 'text', 'word', 'text']\n",
    "\n",
    "wc = {} # 빈 set\n",
    "\n",
    "for char in charset :\n",
    "    wc[char] = wc.get(char, 0) + 1 # wwc[\"color\":1]->{\"color\":1}  get은 특정한 키의 값을 받는다\n",
    "                                   # +1은 1부터 시작해서 갯수를 출력한다\n",
    "print(wc)\n",
    "'''\n",
    "get(key, 0) + 1 \n",
    " - 해당 key의 값이 없으면 0, 있으면 기존 값에 +1 \n",
    "'''"
   ]
  },
  {
   "cell_type": "code",
   "execution_count": 14,
   "metadata": {},
   "outputs": [
    {
     "name": "stdout",
     "output_type": "stream",
     "text": [
      "max =  word\n"
     ]
    }
   ],
   "source": [
    "# 최고 출현 단어\n",
    "print('max = ', max(wc, key=wc.get)) # max =  a\n"
   ]
  },
  {
   "cell_type": "code",
   "execution_count": 15,
   "metadata": {},
   "outputs": [
    {
     "name": "stdout",
     "output_type": "stream",
     "text": [
      "['word', 'text', 'color']\n",
      "['color', 'word', 'text']\n"
     ]
    }
   ],
   "source": [
    "# 출현 빈도수 단어 정렬\n",
    "print(sorted(wc, key=wc.get, reverse=True)) \n",
    "print(sorted(wc, key=wc.get))"
   ]
  },
  {
   "cell_type": "code",
   "execution_count": null,
   "metadata": {},
   "outputs": [],
   "source": []
  }
 ],
 "metadata": {
  "kernelspec": {
   "display_name": "Python 3",
   "language": "python",
   "name": "python3"
  },
  "language_info": {
   "codemirror_mode": {
    "name": "ipython",
    "version": 3
   },
   "file_extension": ".py",
   "mimetype": "text/x-python",
   "name": "python",
   "nbconvert_exporter": "python",
   "pygments_lexer": "ipython3",
   "version": "3.8.5"
  }
 },
 "nbformat": 4,
 "nbformat_minor": 4
}
