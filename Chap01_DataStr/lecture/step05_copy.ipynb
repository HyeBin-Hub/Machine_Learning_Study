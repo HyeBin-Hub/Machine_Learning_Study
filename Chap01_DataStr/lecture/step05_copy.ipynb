{
 "cells": [
  {
   "cell_type": "code",
   "execution_count": 1,
   "metadata": {},
   "outputs": [
    {
     "name": "stdout",
     "output_type": "stream",
     "text": [
      "['홍길동', '이순신', '강감찬'] ['홍길동', '이순신', '강감찬']\n",
      "1984615585408 1984615585408\n"
     ]
    }
   ],
   "source": [
    "'''\n",
    " - 얕은 복사, 깊은 복사\n",
    "'''\n",
    " \n",
    "name = ['홍길동','이순신','강감찬']\n",
    "\n",
    "# 1. 얕은 복사 : 주소 복사 \n",
    "name2 = name # 주소 복사 \n",
    "print(name2, name) # 내용 출력 \n",
    "print(id(name2), id(name))"
   ]
  },
  {
   "cell_type": "code",
   "execution_count": 2,
   "metadata": {},
   "outputs": [
    {
     "name": "stdout",
     "output_type": "stream",
     "text": [
      "['홍길동', 'leess', '강감찬'] ['홍길동', 'leess', '강감찬']\n"
     ]
    }
   ],
   "source": [
    "name[1] = 'leess' # 원본 수정 \n",
    "print(name2, name) # 사본/원본 수정됨 "
   ]
  },
  {
   "cell_type": "code",
   "execution_count": 3,
   "metadata": {},
   "outputs": [],
   "source": [
    "# 2. 깊은 복사 : 내용 복사 \n",
    "import copy # 모듈 추가 "
   ]
  },
  {
   "cell_type": "code",
   "execution_count": 4,
   "metadata": {},
   "outputs": [
    {
     "name": "stdout",
     "output_type": "stream",
     "text": [
      "['홍길동', 'leess', '강감찬'] ['홍길동', 'leess', '강감찬']\n",
      "1984615560000 1984615585408\n"
     ]
    }
   ],
   "source": [
    "name3 = copy.deepcopy(name) # 내용(object) 복사 \n",
    "print(name3, name) # 내용 동일 \n",
    "print(id(name3), id(name)) # 주소 다름 : 36249416 36308232"
   ]
  },
  {
   "cell_type": "code",
   "execution_count": 5,
   "metadata": {},
   "outputs": [
    {
     "name": "stdout",
     "output_type": "stream",
     "text": [
      "['hongkildong', 'leess', '강감찬'] ['홍길동', 'leess', '강감찬']\n"
     ]
    }
   ],
   "source": [
    "name[0] = 'hongkildong' # 원본 수정 \n",
    "print(name, name3)"
   ]
  },
  {
   "cell_type": "code",
   "execution_count": null,
   "metadata": {},
   "outputs": [],
   "source": []
  }
 ],
 "metadata": {
  "kernelspec": {
   "display_name": "Python 3",
   "language": "python",
   "name": "python3"
  },
  "language_info": {
   "codemirror_mode": {
    "name": "ipython",
    "version": 3
   },
   "file_extension": ".py",
   "mimetype": "text/x-python",
   "name": "python",
   "nbconvert_exporter": "python",
   "pygments_lexer": "ipython3",
   "version": "3.8.5"
  }
 },
 "nbformat": 4,
 "nbformat_minor": 4
}
