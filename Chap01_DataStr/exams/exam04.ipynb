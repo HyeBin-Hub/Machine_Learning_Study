{
 "cells": [
  {
   "cell_type": "code",
   "execution_count": 2,
   "metadata": {},
   "outputs": [
    {
     "name": "stdout",
     "output_type": "stream",
     "text": [
      "중복되지 않은 직위 : ['사장', '대리', '부장', '과장']\n"
     ]
    }
   ],
   "source": [
    "'''\n",
    "step04, 05 문제 \n",
    "\n",
    " 문) 중복 되지 않은 직위와 각 직위별 빈도수를 출력하시오.\n",
    " \n",
    " <<출력 결과 >>\n",
    " 중복되지 않은 직위 : ['사장', '과장', '대리', '부장'] : list -> set -> list\n",
    " 각 직위별 빈도수 : {'과장': 2, '부장': 1, '대리': 2, '사장': 1} -> dict  \n",
    "'''\n",
    "\n",
    "position = ['과장', '부장', '대리', '사장', '대리', '과장']\n",
    "uni_position = list(set(position)) # random\n",
    "print('중복되지 않은 직위 :', uni_position)  "
   ]
  },
  {
   "cell_type": "code",
   "execution_count": 5,
   "metadata": {},
   "outputs": [
    {
     "name": "stdout",
     "output_type": "stream",
     "text": [
      "각 직위별 빈도수 : [1, 2, 1, 2]\n"
     ]
    }
   ],
   "source": [
    "re_position = []\n",
    "for p1 in uni_position :\n",
    "    cnt = 0\n",
    "    for p2 in position :\n",
    "        if p1 == p2 :\n",
    "            cnt += 1\n",
    "    re_position.append(cnt)\n",
    "    \n",
    "print('각 직위별 빈도수 :', re_position) "
   ]
  },
  {
   "cell_type": "code",
   "execution_count": 4,
   "metadata": {},
   "outputs": [
    {
     "name": "stdout",
     "output_type": "stream",
     "text": [
      "각 직위별 빈도수 : {'과장': 2, '부장': 1, '대리': 2, '사장': 1}\n"
     ]
    }
   ],
   "source": [
    "position = ['과장', '부장', '대리', '사장', '대리', '과장']\n",
    "position_cnt = {}\n",
    "for p in position :\n",
    "    position_cnt[p] = position_cnt.get(p, 0) + 1\n",
    "\n",
    "print('각 직위별 빈도수 :', position_cnt)   \n",
    "\n",
    "\n",
    "# Key로 Value얻기(get)\n",
    "#get(x) 함수는 x라는 Key에 대응되는 Value를 돌려준다.\n",
    "# 딕셔너리.get(key,[,default값])"
   ]
  },
  {
   "cell_type": "code",
   "execution_count": null,
   "metadata": {},
   "outputs": [],
   "source": []
  }
 ],
 "metadata": {
  "kernelspec": {
   "display_name": "Python 3",
   "language": "python",
   "name": "python3"
  },
  "language_info": {
   "codemirror_mode": {
    "name": "ipython",
    "version": 3
   },
   "file_extension": ".py",
   "mimetype": "text/x-python",
   "name": "python",
   "nbconvert_exporter": "python",
   "pygments_lexer": "ipython3",
   "version": "3.8.5"
  }
 },
 "nbformat": 4,
 "nbformat_minor": 4
}
