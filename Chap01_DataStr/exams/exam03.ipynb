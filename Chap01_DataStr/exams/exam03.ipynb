{
 "cells": [
  {
   "cell_type": "code",
   "execution_count": 2,
   "metadata": {},
   "outputs": [],
   "source": [
    "'''\n",
    "step03 문제 \n",
    "\n",
    " 문) dataset의 전체 원소를 대상으로 최댓값/최솟값을 출력하시오.\n",
    " \n",
    "     << 출력 결과 >>\n",
    "     max = 45, min = 2\n",
    "'''\n",
    "\n",
    "dataset = (10, 5, 6, 2, 45, 3)\n",
    "\n",
    "# 변수 초기화 \n",
    "vmax = vmin = dataset[0]"
   ]
  },
  {
   "cell_type": "code",
   "execution_count": 3,
   "metadata": {},
   "outputs": [
    {
     "name": "stdout",
     "output_type": "stream",
     "text": [
      "max = 45\n",
      "min = 2\n"
     ]
    }
   ],
   "source": [
    "for i in dataset : \n",
    "    if vmax < i :\n",
    "        vmax = i\n",
    "    if vmin > i  :\n",
    "        vmin = i\n",
    "\n",
    "print('max =', vmax)\n",
    "print('min =', vmin)"
   ]
  },
  {
   "cell_type": "code",
   "execution_count": 5,
   "metadata": {},
   "outputs": [
    {
     "name": "stdout",
     "output_type": "stream",
     "text": [
      "max = 45, min = 2\n"
     ]
    }
   ],
   "source": [
    "max_v = min_v = dataset[0]\n",
    "size = len(dataset) # data 길이 \n",
    "idx = 0\n",
    "\n",
    "while idx < size : # data 길이 반복 \n",
    "    if dataset[idx] > max_v :  \n",
    "        max_v = dataset[idx]\n",
    "    if dataset[idx] < min_v :\n",
    "        min_v = dataset[idx]\n",
    "            \n",
    "    idx += 1 # 카운터\n",
    "\n",
    "print('max = %d, min = %d'%(max_v, min_v)) # max = 45, min = 2"
   ]
  },
  {
   "cell_type": "code",
   "execution_count": null,
   "metadata": {},
   "outputs": [],
   "source": []
  }
 ],
 "metadata": {
  "kernelspec": {
   "display_name": "Python 3",
   "language": "python",
   "name": "python3"
  },
  "language_info": {
   "codemirror_mode": {
    "name": "ipython",
    "version": 3
   },
   "file_extension": ".py",
   "mimetype": "text/x-python",
   "name": "python",
   "nbconvert_exporter": "python",
   "pygments_lexer": "ipython3",
   "version": "3.8.5"
  }
 },
 "nbformat": 4,
 "nbformat_minor": 4
}
