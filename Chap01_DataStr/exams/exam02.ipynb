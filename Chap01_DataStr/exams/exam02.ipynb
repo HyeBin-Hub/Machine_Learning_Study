{
 "cells": [
  {
   "cell_type": "code",
   "execution_count": 1,
   "metadata": {},
   "outputs": [
    {
     "name": "stdout",
     "output_type": "stream",
     "text": [
      "['spam', 'spam', 'spam']\n"
     ]
    }
   ],
   "source": [
    "\"\"\"\n",
    "step02 문제\n",
    "\n",
    "문1) message에서 'spam' 원소만 추출하여 spam_list에 추가하시오.\n",
    "      <조건> list + for + if 형식2) 적용   \n",
    "      \n",
    "  <출력결과>      \n",
    "['spam', 'spam', 'spam']   \n",
    "\"\"\"\n",
    "message = ['spam', 'ham', 'spam', 'ham', 'spam']\n",
    "spam_list = [i for i in message if i == \"spam\" ]\n",
    "print(spam_list)"
   ]
  },
  {
   "cell_type": "code",
   "execution_count": 2,
   "metadata": {},
   "outputs": [
    {
     "name": "stdout",
     "output_type": "stream",
     "text": [
      "[1, 0, 1, 0, 1]\n"
     ]
    }
   ],
   "source": [
    "\"\"\"\n",
    "문2) message에서 'spam' 원소는 1 'ham' 원소는 0으로 dummy 변수를 생성하시오.\n",
    "      [실행문(True if 조건문 else False)for 문]\n",
    "      3항연상자 : Trueif 조건식 else False\n",
    "      \n",
    "  <출력결과>      \n",
    "[1, 0, 1, 0, 1]   \n",
    "\n",
    "\"\"\"\n",
    "\n",
    "dummy = [1 if msg == \"spam\" else 0 for msg in message]\n",
    "print(dummy)"
   ]
  },
  {
   "cell_type": "code",
   "execution_count": null,
   "metadata": {},
   "outputs": [],
   "source": []
  }
 ],
 "metadata": {
  "kernelspec": {
   "display_name": "Python 3",
   "language": "python",
   "name": "python3"
  },
  "language_info": {
   "codemirror_mode": {
    "name": "ipython",
    "version": 3
   },
   "file_extension": ".py",
   "mimetype": "text/x-python",
   "name": "python",
   "nbconvert_exporter": "python",
   "pygments_lexer": "ipython3",
   "version": "3.8.5"
  }
 },
 "nbformat": 4,
 "nbformat_minor": 4
}
