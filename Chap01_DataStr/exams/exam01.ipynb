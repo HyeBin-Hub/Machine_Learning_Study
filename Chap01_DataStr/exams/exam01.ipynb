{
 "cells": [
  {
   "cell_type": "code",
   "execution_count": null,
   "metadata": {},
   "outputs": [],
   "source": [
    "'''\n",
    "step01 문제 \n",
    "\n",
    "문) 다음 lst 변수를 대상으로 각 단계별로 list를 연산하시오.\n",
    "\n",
    " << 출력 결과 >>\n",
    "단계1 :  [10, 1, 5, 2, 10, 1, 5, 2]\n",
    "단계2 : [10, 1, 5, 2, 10, 1, 5, 2, 20]\n",
    "단계3 : [1, 2, 1, 2]\n",
    "'''"
   ]
  },
  {
   "cell_type": "code",
   "execution_count": 2,
   "metadata": {},
   "outputs": [
    {
     "name": "stdout",
     "output_type": "stream",
     "text": [
      "[10, 1, 5, 2, 10, 1, 5, 2]\n"
     ]
    }
   ],
   "source": [
    "lst = [10, 1, 5, 2] # list 생성\n",
    "\n",
    "# 단계1 : lst 원소를 2개 생성하여 result 변수에 저장하기 \n",
    "result = lst * 2\n",
    "print(result)"
   ]
  },
  {
   "cell_type": "code",
   "execution_count": 3,
   "metadata": {},
   "outputs": [
    {
     "name": "stdout",
     "output_type": "stream",
     "text": [
      "[10, 1, 5, 2, 10, 1, 5, 2, 20]\n"
     ]
    }
   ],
   "source": [
    "# 단계2 : lst의 첫번째 원소에 2를 곱하여 result 변수에 추가하기\n",
    "result.append(result[0]*2)\n",
    "print(result)"
   ]
  },
  {
   "cell_type": "code",
   "execution_count": 4,
   "metadata": {},
   "outputs": [
    {
     "name": "stdout",
     "output_type": "stream",
     "text": [
      "[1, 2, 1, 2]\n"
     ]
    }
   ],
   "source": [
    "# 단계3 : result의 홀수 번째 원소만 result2 변수에 추가하기\n",
    "esult1 = lst*2\n",
    "result2 = result[1::2]\n",
    "print(result2)"
   ]
  },
  {
   "cell_type": "code",
   "execution_count": null,
   "metadata": {},
   "outputs": [],
   "source": []
  }
 ],
 "metadata": {
  "kernelspec": {
   "display_name": "Python 3",
   "language": "python",
   "name": "python3"
  },
  "language_info": {
   "codemirror_mode": {
    "name": "ipython",
    "version": 3
   },
   "file_extension": ".py",
   "mimetype": "text/x-python",
   "name": "python",
   "nbconvert_exporter": "python",
   "pygments_lexer": "ipython3",
   "version": "3.8.5"
  }
 },
 "nbformat": 4,
 "nbformat_minor": 4
}
