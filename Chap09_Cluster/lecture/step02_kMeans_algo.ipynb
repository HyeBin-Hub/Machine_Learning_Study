{
 "cells": [
  {
   "cell_type": "code",
   "execution_count": 1,
   "metadata": {},
   "outputs": [],
   "source": [
    "from numpy import *\n",
    "import matplotlib.pyplot as plt\n",
    "\n",
    "# data set 생성 함수\n",
    "def loadDataSet(fileName):      \n",
    "    dataMat = []                \n",
    "    fr = open(fileName)\n",
    "    for line in fr.readlines():\n",
    "        curLine = line.strip().split('\\t')        \n",
    "        \n",
    "        blankList = [] # 빈 list\n",
    "        for data in curLine :        \n",
    "            # float casting -> list append      \n",
    "            fltCasting = float(data)\n",
    "            blankList.append(fltCasting)      \n",
    "            \n",
    "        dataMat.append(blankList) \n",
    "    return dataMat"
   ]
  },
  {
   "cell_type": "code",
   "execution_count": 2,
   "metadata": {},
   "outputs": [
    {
     "name": "stdout",
     "output_type": "stream",
     "text": [
      "[[ 1.658985  4.285136]\n",
      " [-3.453687  3.424321]\n",
      " [ 4.838138 -1.151539]\n",
      " [-5.379713 -3.362104]\n",
      " [ 0.972564  2.924086]\n",
      " [-3.567919  1.531611]\n",
      " [ 0.450614 -3.302219]\n",
      " [-3.487105 -1.724432]\n",
      " [ 2.668759  1.594842]\n",
      " [-3.156485  3.191137]\n",
      " [ 3.165506 -3.999838]\n",
      " [-2.786837 -3.099354]\n",
      " [ 4.208187  2.984927]\n",
      " [-2.123337  2.943366]\n",
      " [ 0.704199 -0.479481]\n",
      " [-0.39237  -3.963704]\n",
      " [ 2.831667  1.574018]\n",
      " [-0.790153  3.343144]\n",
      " [ 2.943496 -3.357075]\n",
      " [-3.195883 -2.283926]\n",
      " [ 2.336445  2.875106]\n",
      " [-1.786345  2.554248]\n",
      " [ 2.190101 -1.90602 ]\n",
      " [-3.403367 -2.778288]\n",
      " [ 1.778124  3.880832]\n",
      " [-1.688346  2.230267]\n",
      " [ 2.592976 -2.054368]\n",
      " [-4.007257 -3.207066]\n",
      " [ 2.257734  3.387564]\n",
      " [-2.679011  0.785119]\n",
      " [ 0.939512 -4.023563]\n",
      " [-3.674424 -2.261084]\n",
      " [ 2.046259  2.735279]\n",
      " [-3.18947   1.780269]\n",
      " [ 4.372646 -0.822248]\n",
      " [-2.579316 -3.497576]\n",
      " [ 1.889034  5.1904  ]\n",
      " [-0.798747  2.185588]\n",
      " [ 2.83652  -2.658556]\n",
      " [-3.837877 -3.253815]\n",
      " [ 2.096701  3.886007]\n",
      " [-2.709034  2.923887]\n",
      " [ 3.367037 -3.184789]\n",
      " [-2.121479 -4.232586]\n",
      " [ 2.329546  3.179764]\n",
      " [-3.284816  3.273099]\n",
      " [ 3.091414 -3.815232]\n",
      " [-3.762093 -2.432191]\n",
      " [ 3.542056  2.778832]\n",
      " [-1.736822  4.241041]\n",
      " [ 2.127073 -2.98368 ]\n",
      " [-4.323818 -3.938116]\n",
      " [ 3.792121  5.135768]\n",
      " [-4.786473  3.358547]\n",
      " [ 2.624081 -3.260715]\n",
      " [-4.009299 -2.978115]\n",
      " [ 2.493525  1.96371 ]\n",
      " [-2.513661  2.642162]\n",
      " [ 1.864375 -3.176309]\n",
      " [-3.171184 -3.572452]\n",
      " [ 2.89422   2.489128]\n",
      " [-2.562539  2.884438]\n",
      " [ 3.491078 -3.947487]\n",
      " [-2.565729 -2.012114]\n",
      " [ 3.332948  3.983102]\n",
      " [-1.616805  3.573188]\n",
      " [ 2.280615 -2.559444]\n",
      " [-2.651229 -3.103198]\n",
      " [ 2.321395  3.154987]\n",
      " [-1.685703  2.939697]\n",
      " [ 3.031012 -3.620252]\n",
      " [-4.599622 -2.185829]\n",
      " [ 4.196223  1.126677]\n",
      " [-2.133863  3.093686]\n",
      " [ 4.668892 -2.562705]\n",
      " [-2.793241 -2.149706]\n",
      " [ 2.884105  3.043438]\n",
      " [-2.967647  2.848696]\n",
      " [ 4.479332 -1.764772]\n",
      " [-4.905566 -2.91107 ]]\n",
      "<class 'numpy.matrix'>\n"
     ]
    }
   ],
   "source": [
    "dataSet = mat(loadDataSet('C:/Users/hyebin/Desktop/Python_ML/chap09_Cluster/data/testSet.txt'))\n",
    "print(dataSet); print(type(dataSet))"
   ]
  },
  {
   "cell_type": "code",
   "execution_count": 3,
   "metadata": {},
   "outputs": [],
   "source": [
    "# 유클리드안 거리 계산 함수 \n",
    "def distEclud(vecA, vecB):\n",
    "    return sqrt(sum(power(vecA - vecB, 2))) \n",
    "\n",
    "# # cluster 중심 생성 함수 \n",
    "def randCent(dataSet, k):\n",
    "    n = shape(dataSet)[1] # data set column 수 \n",
    "    centroids = mat(zeros((k,n)))#create centroid mat->(2,2)\n",
    "     \n",
    "    # cluster 중심 생성 : random으로 군집의 중심 생성 \n",
    "    for j in range(n):\n",
    "        minJ = min(dataSet[:,j]) \n",
    "        rangeJ = float(max(dataSet[:,j]) - minJ)\n",
    "        r = random.rand(k,1) \n",
    "        centroids[:,j] = mat(minJ + rangeJ * r)\n",
    "         \n",
    "    return centroids"
   ]
  },
  {
   "cell_type": "code",
   "execution_count": 4,
   "metadata": {},
   "outputs": [],
   "source": [
    "# k 평균 군집화 알고리즘 \n",
    "def kMeans(dataSet, k):    \n",
    "    m = shape(dataSet)[0] # 80    \n",
    "    # data point의 centroid를 저장을 위한 mat 생성 \n",
    "    clusterAssment = mat(zeros((m, 2))) # (80, 2)\n",
    "    centroids = randCent(dataSet, k) # cluster 중심 생성(0~3)\n",
    "    clusterChanged = True\n",
    "    \n",
    "    while clusterChanged:\n",
    "        clusterChanged = False\n",
    "        # 각 점을 가장 가까운 중심에 assign \n",
    "        for i in range(m):\n",
    "            minDist = inf; minIndex = -1\n",
    "            for j in range(k):\n",
    "                # cluster 중심과 모든 point와 거리 계산 \n",
    "                distJI = distEclud(centroids[j,:], dataSet[i,:])\n",
    "                # 가장 거리가 가까운 값으로 minDist, minIndex 수정     \n",
    "                if distJI < minDist:\n",
    "                    minDist = distJI\n",
    "                    minIndex = j\n",
    "\n",
    "            # i번째행의 첫번째 칼럼과 minIndex가 다르면 반복              \n",
    "            if clusterAssment[i,0] != minIndex : \n",
    "                clusterChanged = True \n",
    "                \n",
    "            # cluster의 centroid 저장 : [minIndex, 최소거리제곱]    \n",
    "            clusterAssment[i, :] = minIndex, minDist**2\n",
    "        \n",
    "        # cluster 중심 다시 계산         \n",
    "        for center in range(k): # 0 ~ 3\n",
    "            # 현재 cluster의 모든 point data 가져오기\n",
    "            ptsInClust = dataSet[nonzero(clusterAssment[:,0]==center)[0]]\n",
    "    \n",
    "            centroids[center,:] = mean(ptsInClust, axis=0) \n",
    "    return centroids, clusterAssment\n",
    "\n",
    "centroids, clusterAssment = kMeans(dataSet, 4) # k=4 : k 중심 생성  "
   ]
  },
  {
   "cell_type": "code",
   "execution_count": 5,
   "metadata": {},
   "outputs": [
    {
     "data": {
      "image/png": "[encoded data removed]",
      "text/plain": [
       "<Figure size 432x288 with 1 Axes>"
      ]
     },
     "metadata": {
      "needs_background": "light"
     },
     "output_type": "display_data"
    }
   ],
   "source": [
    "# k 평균 군집화 cluster 산점도 그리기\n",
    "flg = plt.figure() # 차트 플롯 생성 \n",
    "chart = flg.add_subplot(1,1,1) # 행,열,위치 \n",
    " \n",
    "x_data = [x[:,0] for x in dataSet] # 첫번째 칼럼 전체 \n",
    "y_data = [x[:,1] for x in dataSet] # 두번째 칼럼 전체 \n",
    "chart.scatter(x_data, y_data, c='b')\n",
    "\n",
    "x_cent = [x[:,0] for x in centroids] # 첫번째 칼럼 전체 \n",
    "y_cent = [x[:,1] for x in centroids] # 두번째 칼럼 전체 \n",
    "chart.scatter(x_cent, y_cent, c='r')    \n",
    "plt.show()"
   ]
  },
  {
   "cell_type": "code",
   "execution_count": 6,
   "metadata": {},
   "outputs": [
    {
     "data": {
      "image/png": "[encoded data removed]",
      "text/plain": [
       "<Figure size 432x288 with 1 Axes>"
      ]
     },
     "metadata": {
      "needs_background": "light"
     },
     "output_type": "display_data"
    }
   ],
   "source": [
    "####################################\n",
    "# k=4인 경우 dataSet 4개 영역 구분 \n",
    "####################################\n",
    "# clusterAssment의 첫번째 칼럼 이용 \n",
    "\n",
    "k = 4\n",
    "flg = plt.figure() # 차트 플롯 생성 \n",
    "chart = flg.add_subplot(1,1,1) # 행,열,위치\n",
    "colors = ['r', 'g', 'b', 'purple']\n",
    "\n",
    "for idx in range(k) :\n",
    "    temp = dataSet[nonzero(clusterAssment[:,0]== idx)[0]]\n",
    "    \n",
    "    x_cent = [x[:,0] for x in temp] # 첫번째 칼럼 전체 \n",
    "    y_cent = [x[:,1] for x in temp] # 두번째 칼럼 전체 \n",
    "    chart.scatter(x_cent, y_cent, c=colors[idx])    \n",
    "\n",
    "plt.show() "
   ]
  },
  {
   "cell_type": "code",
   "execution_count": null,
   "metadata": {},
   "outputs": [],
   "source": []
  }
 ],
 "metadata": {
  "kernelspec": {
   "display_name": "Python 3",
   "language": "python",
   "name": "python3"
  },
  "language_info": {
   "codemirror_mode": {
    "name": "ipython",
    "version": 3
   },
   "file_extension": ".py",
   "mimetype": "text/x-python",
   "name": "python",
   "nbconvert_exporter": "python",
   "pygments_lexer": "ipython3",
   "version": "3.8.5"
  }
 },
 "nbformat": 4,
 "nbformat_minor": 4
}
